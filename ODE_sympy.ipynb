{
 "cells": [
  {
   "cell_type": "code",
   "execution_count": 2,
   "metadata": {},
   "outputs": [
    {
     "name": "stdout",
     "output_type": "stream",
     "text": [
      "1.7.1\n",
      "1.5.2\n",
      "1.19.2\n"
     ]
    }
   ],
   "source": [
    "import sympy\n",
    "from sympy import *\n",
    "import matplotlib.pyplot as plt\n",
    "import scipy.integrate\n",
    "import numpy\n",
    "print(sympy.__version__)\n",
    "\n",
    "print(scipy.__version__)\n",
    "print(numpy.__version__)"
   ]
  },
  {
   "cell_type": "code",
   "execution_count": 2,
   "metadata": {},
   "outputs": [],
   "source": [
    "n, k = symbols(\"n, k\", integer=True, positive=True)\n",
    "\n",
    "Uu, Psi_theta_theta = symbols('Uu, Psi_theta_theta', real=True, positive=True)\n",
    "\n",
    "h, hT, Rk = symbols('h, hT, Rk', real=True, positive=True)\n",
    "\n",
    "#s,t=var('s, t')\n",
    "#f = t^5*exp(t)*sin(t)\n",
    "cr,ps,mR,omega,dr,Ir,Texte,msT,d,cUo,Vo,Omega= symbols('cr, ps, mR, omega, dr, Ir, Texte, msT, d, cUo, Vo, Omega', \n",
    "                                                       real=True, positive=True)\n",
    "\n",
    "Omega = omega\n",
    "\n",
    "theta, tau = symbols('theta, tau')\n",
    "\n",
    "#qk = symbols('qk', cls=Function)\n",
    "qk = Function('qk')(tau)\n",
    "pk = Function('pk')(tau)\n",
    "\n",
    "#f = (x^2 + sin(a*w)).function(a,x,w); f\n",
    "\n",
    "u = (cos(n* theta) * qk + pk *sin(n *theta))* Uu\n",
    "#u = ((cos(n* theta) * qk + pk *sin(n *theta))* Uu).function(theta)\n",
    "ak = Function('ak')(tau)\n",
    "\n",
    "zr = u .subs(theta, ak) \n",
    "#zr = u(ak)\n",
    "du = diff(u,tau)    # D[u, τ];\n",
    "\n",
    "dzr = du.subs(theta, ak)   # /. {θ -> αk[τ]};\n",
    "#dzr = du(ak,qk,pk)\n",
    "ddzr = diff(dzr,tau)   #D[dzr, τ]\n",
    "\n",
    "v = - (h/2 + hT)* Psi_theta_theta * (cos(n*theta)*pk + sin(n*theta)*qk) \n",
    "dv = diff(v, tau)   ##dv = D[%, τ];\n",
    "\n",
    "#aft= dv.coefficient(diff(qk(tau),tau))\n",
    "\n",
    "#f.coefficient(sin(y))"
   ]
  },
  {
   "cell_type": "code",
   "execution_count": 3,
   "metadata": {},
   "outputs": [
    {
     "data": {
      "text/plain": [
       "sympy.core.symbol.Symbol"
      ]
     },
     "execution_count": 3,
     "metadata": {},
     "output_type": "execute_result"
    }
   ],
   "source": [
    "type(d)"
   ]
  },
  {
   "cell_type": "code",
   "execution_count": 4,
   "metadata": {},
   "outputs": [
    {
     "data": {
      "text/latex": [
       "$\\displaystyle 0$"
      ],
      "text/plain": [
       "0"
      ]
     },
     "execution_count": 4,
     "metadata": {},
     "output_type": "execute_result"
    }
   ],
   "source": [
    "dv.coeff(Derivative(qk,tau)) "
   ]
  },
  {
   "cell_type": "code",
   "execution_count": 5,
   "metadata": {},
   "outputs": [
    {
     "name": "stdout",
     "output_type": "stream",
     "text": [
      "Psi_theta_theta*(-h/2 - hT)*(sin(n*theta)*Derivative(qk(tau), tau) + cos(n*theta)*Derivative(pk(tau), tau))\n",
      "Psi_theta_theta*(-h/2 - hT)*sin(n*ak(tau))\n",
      "Psi_theta_theta*(-h/2 - hT)*cos(n*ak(tau))\n",
      "Uu*cos(n*ak(tau))\n",
      "Uu*sin(n*ak(tau))\n"
     ]
    }
   ],
   "source": [
    "#qk = symbols('qk', cls=Function)\n",
    "qk = Function('qk')(tau)\n",
    "pk = Function('pk')(tau)\n",
    "\n",
    "#f = (x^2 + sin(a*w)).function(a,x,w); f\n",
    "\n",
    "u = (cos(n* theta) * qk + pk *sin(n *theta))* Uu\n",
    "#u = ((cos(n* theta) * qk + pk *sin(n *theta))* Uu).function(theta)\n",
    "ak = Function('ak')(tau)\n",
    "\n",
    "zr = u .subs(theta, ak) \n",
    "#zr = u(ak)\n",
    "du = diff(u,tau)    # D[u, τ];\n",
    "\n",
    "dzr = du.subs(theta, ak)   # /. {θ -> αk[τ]};\n",
    "#dzr = du(ak,qk,pk)\n",
    "ddzr = diff(dzr,tau)   #D[dzr, τ]\n",
    "\n",
    "v = - (h/2 + hT)* Psi_theta_theta * (cos(n*theta)*pk + sin(n*theta)*qk) \n",
    "dv = diff(v, tau)   ##dv = D[%, τ];\n",
    "print(dv)\n",
    "\n",
    "dvqk = diff(dv, Derivative(Function('qk')(tau), tau)).subs(theta, ak)\n",
    "#dvqk = diff(dv, Derivative(Function('qk')(Symbol('tau')), Symbol('tau'))).subs(theta, ak)  #D[dv, qk '[τ]] /. {θ -> αk[τ]}\n",
    "print(dvqk)\n",
    "dvpk = diff(dv, Derivative(Function('pk')(tau), tau)).subs(theta, ak)   #D[dv, pk '[τ]] /. {θ -> αk[τ]}\n",
    "print(dvpk)\n",
    "duqk = diff(du, Derivative(Function('qk')(tau), tau)).subs(theta, ak)   #D[du, qk '[τ]] /. {θ -> αk[τ]}\n",
    "print(duqk)\n",
    "dupk = diff(du, Derivative(Function('pk')(tau), tau)).subs(theta, ak)   ###D[du, pk '[τ]] /. {θ -> αk[τ]}\n",
    "print(dupk)"
   ]
  },
  {
   "cell_type": "code",
   "execution_count": 6,
   "metadata": {},
   "outputs": [],
   "source": [
    "dphir = (dv/Rk).subs(theta, ak)\n",
    "\n",
    "ddv = diff(dv, tau) ###D[dv, τ];\n",
    "\n",
    "ddphir = diff(dphir, tau)"
   ]
  },
  {
   "cell_type": "code",
   "execution_count": 7,
   "metadata": {},
   "outputs": [
    {
     "name": "stdout",
     "output_type": "stream",
     "text": [
      "Psi_theta_theta*(-h/2 - hT)*(-n*pk(tau)*Derivative(ak(tau), tau)*Derivative(pk(tau), tau)/sqrt(pk(tau)**2 + qk(tau)**2) + n*qk(tau)*Derivative(ak(tau), tau)*Derivative(qk(tau), tau)/sqrt(pk(tau)**2 + qk(tau)**2) + pk(tau)*Derivative(qk(tau), (tau, 2))/sqrt(pk(tau)**2 + qk(tau)**2) + qk(tau)*Derivative(pk(tau), (tau, 2))/sqrt(pk(tau)**2 + qk(tau)**2))/Rk\n"
     ]
    }
   ],
   "source": [
    "zr = zr.subs({sin(n*Function('ak')(tau)): Function('pk')(tau)/sqrt(Function('pk')(tau)**2 + Function('qk')(tau)**2),cos(n*Function('ak')(tau)): Function('qk')(tau)/sqrt(Function('pk')(tau)**2 + Function('qk')(tau)**2)})\n",
    "dzr=dzr.subs({sin(n*Function('ak')(tau)): Function('pk')(tau)/sqrt(Function('pk')(tau)**2 + Function('qk')(tau)**2),cos(n*Function('ak')(tau)): Function('qk')(tau)/sqrt(Function('pk')(tau)**2 + Function('qk')(tau)**2)})\n",
    "ddzr=ddzr.subs({sin(n*Function('ak')(tau)): Function('pk')(tau)/sqrt(Function('pk')(tau)**2 + Function('qk')(tau)**2),cos(n*Function('ak')(tau)): Function('qk')(tau)/sqrt(Function('pk')(tau)**2 + Function('qk')(tau)**2)})\n",
    "dvqk=dvqk.subs({sin(n*Function('ak')(tau)): Function('pk')(tau)/sqrt(Function('pk')(tau)**2 + Function('qk')(tau)**2),cos(n*Function('ak')(tau)): Function('qk')(tau)/sqrt(Function('pk')(tau)**2 + Function('qk')(tau)**2)})\n",
    "dvpk=dvpk.subs({sin(n*Function('ak')(tau)): Function('pk')(tau)/sqrt(Function('pk')(tau)**2 + Function('qk')(tau)**2),cos(n*Function('ak')(tau)): Function('qk')(tau)/sqrt(Function('pk')(tau)**2 + Function('qk')(tau)**2)})\n",
    "duqk=duqk.subs({sin(n*Function('ak')(tau)): Function('pk')(tau)/sqrt(Function('pk')(tau)**2 + Function('qk')(tau)**2),cos(n*Function('ak')(tau)): Function('qk')(tau)/sqrt(Function('pk')(tau)**2 + Function('qk')(tau)**2)})\n",
    "dupk=dupk.subs({sin(n*Function('ak')(tau)): Function('pk')(tau)/sqrt(Function('pk')(tau)**2 + Function('qk')(tau)**2),cos(n*Function('ak')(tau)): Function('qk')(tau)/sqrt(Function('pk')(tau)**2 + Function('qk')(tau)**2)})\n",
    "dphir=dphir.subs({sin(n*Function('ak')(tau)): Function('pk')(tau)/sqrt(Function('pk')(tau)**2 + Function('qk')(tau)**2),cos(n*Function('ak')(tau)): Function('qk')(tau)/sqrt(Function('pk')(tau)**2 + Function('qk')(tau)**2)})\n",
    "ddphir=ddphir.subs({sin(n*Function('ak')(tau)): Function('pk')(tau)/sqrt(Function('pk')(tau)**2 + Function('qk')(tau)**2),cos(n*Function('ak')(tau)): Function('qk')(tau)/sqrt(Function('pk')(tau)**2 + Function('qk')(tau)**2)})\n",
    "print(ddphir)"
   ]
  },
  {
   "cell_type": "code",
   "execution_count": 8,
   "metadata": {},
   "outputs": [
    {
     "name": "stdout",
     "output_type": "stream",
     "text": [
      "Uu*(pk(tau)**2/sqrt(pk(tau)**2 + qk(tau)**2) + qk(tau)**2/sqrt(pk(tau)**2 + qk(tau)**2))\n",
      "Psi_theta_theta*(-h/2 - hT)*(-n*pk(tau)*Derivative(ak(tau), tau)*Derivative(pk(tau), tau)/sqrt(pk(tau)**2 + qk(tau)**2) + n*qk(tau)*Derivative(ak(tau), tau)*Derivative(qk(tau), tau)/sqrt(pk(tau)**2 + qk(tau)**2) + pk(tau)*Derivative(qk(tau), (tau, 2))/sqrt(pk(tau)**2 + qk(tau)**2) + qk(tau)*Derivative(pk(tau), (tau, 2))/sqrt(pk(tau)**2 + qk(tau)**2))/Rk\n",
      "Psi_theta_theta*(h + 2*hT)*(n*pk(tau)*Derivative(ak(tau), tau)*Derivative(pk(tau), tau) - n*qk(tau)*Derivative(ak(tau), tau)*Derivative(qk(tau), tau) - pk(tau)*Derivative(qk(tau), (tau, 2)) - qk(tau)*Derivative(pk(tau), (tau, 2)))/(2*Rk*sqrt(pk(tau)**2 + qk(tau)**2))\n"
     ]
    }
   ],
   "source": [
    "print(zr)\n",
    "zr=zr.factor()\n",
    "dzr=dzr.factor()\n",
    "ddzr=ddzr.factor()\n",
    "dvqk=dvqk.factor()\n",
    "dvpk=dvpk.factor()\n",
    "duqk=duqk.factor()\n",
    "dupk=dupk.factor()\n",
    "dphir=dphir.factor()\n",
    "print(ddphir)\n",
    "ddphir=ddphir.factor()\n",
    "print(ddphir)"
   ]
  },
  {
   "cell_type": "code",
   "execution_count": 9,
   "metadata": {},
   "outputs": [],
   "source": [
    "ddzr=ddzr.subs(Derivative(Function('ak')(tau),tau), (Function('qk')(tau)*Derivative(Function('pk')(tau),tau)-Function('pk')(tau)*Derivative(Function('qk')(tau),tau))/(n*(Function('pk')(tau)**2+Function('qk')(tau)**2  )) )\n",
    "\n",
    "ddphir=ddphir.subs(Derivative(Function('ak')(tau),tau), (Function('qk')(tau)*Derivative(Function('pk')(tau),tau)-Function('pk')(tau)*Derivative(Function('qk')(tau),tau))/(n*(Function('pk')(tau)**2+Function('qk')(tau)**2  )) )"
   ]
  },
  {
   "cell_type": "code",
   "execution_count": 10,
   "metadata": {},
   "outputs": [
    {
     "name": "stdout",
     "output_type": "stream",
     "text": [
      "Psi_theta_theta*(h + 2*hT)*((-pk(tau)*Derivative(qk(tau), tau) + qk(tau)*Derivative(pk(tau), tau))*pk(tau)*Derivative(pk(tau), tau)/(pk(tau)**2 + qk(tau)**2) - (-pk(tau)*Derivative(qk(tau), tau) + qk(tau)*Derivative(pk(tau), tau))*qk(tau)*Derivative(qk(tau), tau)/(pk(tau)**2 + qk(tau)**2) - pk(tau)*Derivative(qk(tau), (tau, 2)) - qk(tau)*Derivative(pk(tau), (tau, 2)))/(2*Rk*sqrt(pk(tau)**2 + qk(tau)**2))\n"
     ]
    }
   ],
   "source": [
    "print(ddphir)"
   ]
  },
  {
   "cell_type": "code",
   "execution_count": 11,
   "metadata": {},
   "outputs": [
    {
     "data": {
      "text/latex": [
       "$\\displaystyle - \\frac{\\Psi_{\\theta \\theta} \\left(h + 2 hT\\right) \\left(\\operatorname{pk}^{3}{\\left(\\tau \\right)} \\frac{d^{2}}{d \\tau^{2}} \\operatorname{qk}{\\left(\\tau \\right)} + \\operatorname{pk}^{2}{\\left(\\tau \\right)} \\operatorname{qk}{\\left(\\tau \\right)} \\frac{d^{2}}{d \\tau^{2}} \\operatorname{pk}{\\left(\\tau \\right)} + \\operatorname{pk}^{2}{\\left(\\tau \\right)} \\frac{d}{d \\tau} \\operatorname{pk}{\\left(\\tau \\right)} \\frac{d}{d \\tau} \\operatorname{qk}{\\left(\\tau \\right)} + \\operatorname{pk}{\\left(\\tau \\right)} \\operatorname{qk}^{2}{\\left(\\tau \\right)} \\frac{d^{2}}{d \\tau^{2}} \\operatorname{qk}{\\left(\\tau \\right)} - \\operatorname{pk}{\\left(\\tau \\right)} \\operatorname{qk}{\\left(\\tau \\right)} \\left(\\frac{d}{d \\tau} \\operatorname{pk}{\\left(\\tau \\right)}\\right)^{2} - \\operatorname{pk}{\\left(\\tau \\right)} \\operatorname{qk}{\\left(\\tau \\right)} \\left(\\frac{d}{d \\tau} \\operatorname{qk}{\\left(\\tau \\right)}\\right)^{2} + \\operatorname{qk}^{3}{\\left(\\tau \\right)} \\frac{d^{2}}{d \\tau^{2}} \\operatorname{pk}{\\left(\\tau \\right)} + \\operatorname{qk}^{2}{\\left(\\tau \\right)} \\frac{d}{d \\tau} \\operatorname{pk}{\\left(\\tau \\right)} \\frac{d}{d \\tau} \\operatorname{qk}{\\left(\\tau \\right)}\\right)}{2 Rk \\left(\\operatorname{pk}^{2}{\\left(\\tau \\right)} + \\operatorname{qk}^{2}{\\left(\\tau \\right)}\\right)^{\\frac{3}{2}}}$"
      ],
      "text/plain": [
       "-Psi_theta_theta*(h + 2*hT)*(pk(tau)**3*Derivative(qk(tau), (tau, 2)) + pk(tau)**2*qk(tau)*Derivative(pk(tau), (tau, 2)) + pk(tau)**2*Derivative(pk(tau), tau)*Derivative(qk(tau), tau) + pk(tau)*qk(tau)**2*Derivative(qk(tau), (tau, 2)) - pk(tau)*qk(tau)*Derivative(pk(tau), tau)**2 - pk(tau)*qk(tau)*Derivative(qk(tau), tau)**2 + qk(tau)**3*Derivative(pk(tau), (tau, 2)) + qk(tau)**2*Derivative(pk(tau), tau)*Derivative(qk(tau), tau))/(2*Rk*(pk(tau)**2 + qk(tau)**2)**(3/2))"
      ]
     },
     "execution_count": 11,
     "metadata": {},
     "output_type": "execute_result"
    }
   ],
   "source": [
    "ddphir.factor()"
   ]
  },
  {
   "cell_type": "code",
   "execution_count": 12,
   "metadata": {},
   "outputs": [
    {
     "data": {
      "text/latex": [
       "$\\displaystyle - \\frac{\\Psi_{\\theta \\theta} \\left(h + 2 hT\\right) \\left(\\operatorname{pk}{\\left(\\tau \\right)} \\frac{d}{d \\tau} \\operatorname{qk}{\\left(\\tau \\right)} + \\operatorname{qk}{\\left(\\tau \\right)} \\frac{d}{d \\tau} \\operatorname{pk}{\\left(\\tau \\right)}\\right)}{2 Rk \\sqrt{\\operatorname{pk}^{2}{\\left(\\tau \\right)} + \\operatorname{qk}^{2}{\\left(\\tau \\right)}}}$"
      ],
      "text/plain": [
       "-Psi_theta_theta*(h + 2*hT)*(pk(tau)*Derivative(qk(tau), tau) + qk(tau)*Derivative(pk(tau), tau))/(2*Rk*sqrt(pk(tau)**2 + qk(tau)**2))"
      ]
     },
     "execution_count": 12,
     "metadata": {},
     "output_type": "execute_result"
    }
   ],
   "source": [
    "dphir"
   ]
  },
  {
   "cell_type": "code",
   "execution_count": 13,
   "metadata": {},
   "outputs": [],
   "source": [
    "Fv = cr*ps\n",
    "#FN = (1/n)*(mR*omega**2*ddzr + omega*dr*dzr + cr*zr + Fv)\n",
    "FN = (1/n)*(mR*omega**2*ddzr + cr*zr + Fv)       #dr = 0\n",
    "#FC = (1/n)*(Ir*omega**2*ddphir + drot*omega*dphir  + Texte)/Rk\n",
    "FC = (1/n)*(Ir*omega**2*ddphir + Texte)/Rk\n",
    "eq1 = -diff(pk,tau,2)-(1/(msT*omega))*d*diff(pk,tau)-pk-(1/(msT*omega**2))*cUo*Vo*sin(Omega*tau/omega)+(n/(msT*omega**2))*(-FN*dupk-FC*dvpk)\n",
    "eq2 = -diff(qk,tau,2)-(1/(msT*omega))*d*diff(qk,tau)-qk-(1/(msT*omega**2))*cUo*Vo*cos(Omega*tau/omega)+(n/(msT*omega**2))*(-FN*duqk-FC*dvqk)"
   ]
  },
  {
   "cell_type": "code",
   "execution_count": 14,
   "metadata": {},
   "outputs": [
    {
     "name": "stdout",
     "output_type": "stream",
     "text": [
      "-Vo*cUo*sin(tau)/(msT*omega**2) - d*Derivative(pk(tau), tau)/(msT*omega) - pk(tau) - Derivative(pk(tau), (tau, 2)) + n*(Psi_theta_theta*(h + 2*hT)*(Ir*Psi_theta_theta*omega**2*(h + 2*hT)*((-pk(tau)*Derivative(qk(tau), tau) + qk(tau)*Derivative(pk(tau), tau))*pk(tau)*Derivative(pk(tau), tau)/(pk(tau)**2 + qk(tau)**2) - (-pk(tau)*Derivative(qk(tau), tau) + qk(tau)*Derivative(pk(tau), tau))*qk(tau)*Derivative(qk(tau), tau)/(pk(tau)**2 + qk(tau)**2) - pk(tau)*Derivative(qk(tau), (tau, 2)) - qk(tau)*Derivative(pk(tau), (tau, 2)))/(2*Rk*sqrt(pk(tau)**2 + qk(tau)**2)) + Texte)*qk(tau)/(2*Rk*n*sqrt(pk(tau)**2 + qk(tau)**2)) - Uu*(Uu*cr*sqrt(pk(tau)**2 + qk(tau)**2) + Uu*mR*omega**2*(-(-pk(tau)*Derivative(qk(tau), tau) + qk(tau)*Derivative(pk(tau), tau))*pk(tau)*Derivative(qk(tau), tau)/(pk(tau)**2 + qk(tau)**2) + (-pk(tau)*Derivative(qk(tau), tau) + qk(tau)*Derivative(pk(tau), tau))*qk(tau)*Derivative(pk(tau), tau)/(pk(tau)**2 + qk(tau)**2) + pk(tau)*Derivative(pk(tau), (tau, 2)) + qk(tau)*Derivative(qk(tau), (tau, 2)))/sqrt(pk(tau)**2 + qk(tau)**2) + cr*ps)*pk(tau)/(n*sqrt(pk(tau)**2 + qk(tau)**2)))/(msT*omega**2)\n"
     ]
    }
   ],
   "source": [
    "print(eq1)\n",
    "#print(eq1.factor())"
   ]
  },
  {
   "cell_type": "code",
   "execution_count": 15,
   "metadata": {},
   "outputs": [
    {
     "data": {
      "text/latex": [
       "$\\displaystyle - \\frac{Vo cUo \\cos{\\left(\\tau \\right)}}{msT \\omega^{2}} - \\frac{d \\frac{d}{d \\tau} \\operatorname{qk}{\\left(\\tau \\right)}}{msT \\omega} - \\operatorname{qk}{\\left(\\tau \\right)} - \\frac{d^{2}}{d \\tau^{2}} \\operatorname{qk}{\\left(\\tau \\right)} + \\frac{n \\left(\\frac{\\Psi_{\\theta \\theta} \\left(h + 2 hT\\right) \\left(\\frac{Ir \\Psi_{\\theta \\theta} \\omega^{2} \\left(h + 2 hT\\right) \\left(\\frac{\\left(- \\operatorname{pk}{\\left(\\tau \\right)} \\frac{d}{d \\tau} \\operatorname{qk}{\\left(\\tau \\right)} + \\operatorname{qk}{\\left(\\tau \\right)} \\frac{d}{d \\tau} \\operatorname{pk}{\\left(\\tau \\right)}\\right) \\operatorname{pk}{\\left(\\tau \\right)} \\frac{d}{d \\tau} \\operatorname{pk}{\\left(\\tau \\right)}}{\\operatorname{pk}^{2}{\\left(\\tau \\right)} + \\operatorname{qk}^{2}{\\left(\\tau \\right)}} - \\frac{\\left(- \\operatorname{pk}{\\left(\\tau \\right)} \\frac{d}{d \\tau} \\operatorname{qk}{\\left(\\tau \\right)} + \\operatorname{qk}{\\left(\\tau \\right)} \\frac{d}{d \\tau} \\operatorname{pk}{\\left(\\tau \\right)}\\right) \\operatorname{qk}{\\left(\\tau \\right)} \\frac{d}{d \\tau} \\operatorname{qk}{\\left(\\tau \\right)}}{\\operatorname{pk}^{2}{\\left(\\tau \\right)} + \\operatorname{qk}^{2}{\\left(\\tau \\right)}} - \\operatorname{pk}{\\left(\\tau \\right)} \\frac{d^{2}}{d \\tau^{2}} \\operatorname{qk}{\\left(\\tau \\right)} - \\operatorname{qk}{\\left(\\tau \\right)} \\frac{d^{2}}{d \\tau^{2}} \\operatorname{pk}{\\left(\\tau \\right)}\\right)}{2 Rk \\sqrt{\\operatorname{pk}^{2}{\\left(\\tau \\right)} + \\operatorname{qk}^{2}{\\left(\\tau \\right)}}} + Texte\\right) \\operatorname{pk}{\\left(\\tau \\right)}}{2 Rk n \\sqrt{\\operatorname{pk}^{2}{\\left(\\tau \\right)} + \\operatorname{qk}^{2}{\\left(\\tau \\right)}}} - \\frac{Uu \\left(Uu cr \\sqrt{\\operatorname{pk}^{2}{\\left(\\tau \\right)} + \\operatorname{qk}^{2}{\\left(\\tau \\right)}} + \\frac{Uu mR \\omega^{2} \\left(- \\frac{\\left(- \\operatorname{pk}{\\left(\\tau \\right)} \\frac{d}{d \\tau} \\operatorname{qk}{\\left(\\tau \\right)} + \\operatorname{qk}{\\left(\\tau \\right)} \\frac{d}{d \\tau} \\operatorname{pk}{\\left(\\tau \\right)}\\right) \\operatorname{pk}{\\left(\\tau \\right)} \\frac{d}{d \\tau} \\operatorname{qk}{\\left(\\tau \\right)}}{\\operatorname{pk}^{2}{\\left(\\tau \\right)} + \\operatorname{qk}^{2}{\\left(\\tau \\right)}} + \\frac{\\left(- \\operatorname{pk}{\\left(\\tau \\right)} \\frac{d}{d \\tau} \\operatorname{qk}{\\left(\\tau \\right)} + \\operatorname{qk}{\\left(\\tau \\right)} \\frac{d}{d \\tau} \\operatorname{pk}{\\left(\\tau \\right)}\\right) \\operatorname{qk}{\\left(\\tau \\right)} \\frac{d}{d \\tau} \\operatorname{pk}{\\left(\\tau \\right)}}{\\operatorname{pk}^{2}{\\left(\\tau \\right)} + \\operatorname{qk}^{2}{\\left(\\tau \\right)}} + \\operatorname{pk}{\\left(\\tau \\right)} \\frac{d^{2}}{d \\tau^{2}} \\operatorname{pk}{\\left(\\tau \\right)} + \\operatorname{qk}{\\left(\\tau \\right)} \\frac{d^{2}}{d \\tau^{2}} \\operatorname{qk}{\\left(\\tau \\right)}\\right)}{\\sqrt{\\operatorname{pk}^{2}{\\left(\\tau \\right)} + \\operatorname{qk}^{2}{\\left(\\tau \\right)}}} + cr ps\\right) \\operatorname{qk}{\\left(\\tau \\right)}}{n \\sqrt{\\operatorname{pk}^{2}{\\left(\\tau \\right)} + \\operatorname{qk}^{2}{\\left(\\tau \\right)}}}\\right)}{msT \\omega^{2}}$"
      ],
      "text/plain": [
       "-Vo*cUo*cos(tau)/(msT*omega**2) - d*Derivative(qk(tau), tau)/(msT*omega) - qk(tau) - Derivative(qk(tau), (tau, 2)) + n*(Psi_theta_theta*(h + 2*hT)*(Ir*Psi_theta_theta*omega**2*(h + 2*hT)*((-pk(tau)*Derivative(qk(tau), tau) + qk(tau)*Derivative(pk(tau), tau))*pk(tau)*Derivative(pk(tau), tau)/(pk(tau)**2 + qk(tau)**2) - (-pk(tau)*Derivative(qk(tau), tau) + qk(tau)*Derivative(pk(tau), tau))*qk(tau)*Derivative(qk(tau), tau)/(pk(tau)**2 + qk(tau)**2) - pk(tau)*Derivative(qk(tau), (tau, 2)) - qk(tau)*Derivative(pk(tau), (tau, 2)))/(2*Rk*sqrt(pk(tau)**2 + qk(tau)**2)) + Texte)*pk(tau)/(2*Rk*n*sqrt(pk(tau)**2 + qk(tau)**2)) - Uu*(Uu*cr*sqrt(pk(tau)**2 + qk(tau)**2) + Uu*mR*omega**2*(-(-pk(tau)*Derivative(qk(tau), tau) + qk(tau)*Derivative(pk(tau), tau))*pk(tau)*Derivative(qk(tau), tau)/(pk(tau)**2 + qk(tau)**2) + (-pk(tau)*Derivative(qk(tau), tau) + qk(tau)*Derivative(pk(tau), tau))*qk(tau)*Derivative(pk(tau), tau)/(pk(tau)**2 + qk(tau)**2) + pk(tau)*Derivative(pk(tau), (tau, 2)) + qk(tau)*Derivative(qk(tau), (tau, 2)))/sqrt(pk(tau)**2 + qk(tau)**2) + cr*ps)*qk(tau)/(n*sqrt(pk(tau)**2 + qk(tau)**2)))/(msT*omega**2)"
      ]
     },
     "execution_count": 15,
     "metadata": {},
     "output_type": "execute_result"
    }
   ],
   "source": [
    "eq2"
   ]
  },
  {
   "cell_type": "code",
   "execution_count": 16,
   "metadata": {},
   "outputs": [],
   "source": [
    "DIFF2Q , DIFF2P= symbols('DIFF2Q, DIFF2P')\n",
    "eq1sss = eq1.subs({Derivative(qk,tau,tau) : DIFF2Q, Derivative(pk,tau,tau):DIFF2P})\n",
    "eq2sss = eq2.subs({Derivative(qk,tau,tau) : DIFF2Q, Derivative(pk,tau,tau):DIFF2P})"
   ]
  },
  {
   "cell_type": "code",
   "execution_count": null,
   "metadata": {},
   "outputs": [],
   "source": [
    "solution= solve([eq1sss , eq2sss],[DIFF2Q , DIFF2P])"
   ]
  },
  {
   "cell_type": "code",
   "execution_count": 3,
   "metadata": {},
   "outputs": [
    {
     "name": "stdout",
     "output_type": "stream",
     "text": [
      "Help on function solve in module sympy.solvers.solvers:\n",
      "\n",
      "solve(f, *symbols, **flags)\n",
      "    Algebraically solves equations and systems of equations.\n",
      "    \n",
      "    Explanation\n",
      "    ===========\n",
      "    \n",
      "    Currently supported:\n",
      "        - polynomial\n",
      "        - transcendental\n",
      "        - piecewise combinations of the above\n",
      "        - systems of linear and polynomial equations\n",
      "        - systems containing relational expressions\n",
      "    \n",
      "    Examples\n",
      "    ========\n",
      "    \n",
      "    The output varies according to the input and can be seen by example:\n",
      "    \n",
      "        >>> from sympy import solve, Poly, Eq, Function, exp\n",
      "        >>> from sympy.abc import x, y, z, a, b\n",
      "        >>> f = Function('f')\n",
      "    \n",
      "    Boolean or univariate Relational:\n",
      "    \n",
      "        >>> solve(x < 3)\n",
      "        (-oo < x) & (x < 3)\n",
      "    \n",
      "    \n",
      "    To always get a list of solution mappings, use flag dict=True:\n",
      "    \n",
      "        >>> solve(x - 3, dict=True)\n",
      "        [{x: 3}]\n",
      "        >>> sol = solve([x - 3, y - 1], dict=True)\n",
      "        >>> sol\n",
      "        [{x: 3, y: 1}]\n",
      "        >>> sol[0][x]\n",
      "        3\n",
      "        >>> sol[0][y]\n",
      "        1\n",
      "    \n",
      "    \n",
      "    To get a list of *symbols* and set of solution(s) use flag set=True:\n",
      "    \n",
      "        >>> solve([x**2 - 3, y - 1], set=True)\n",
      "        ([x, y], {(-sqrt(3), 1), (sqrt(3), 1)})\n",
      "    \n",
      "    \n",
      "    Single expression and single symbol that is in the expression:\n",
      "    \n",
      "        >>> solve(x - y, x)\n",
      "        [y]\n",
      "        >>> solve(x - 3, x)\n",
      "        [3]\n",
      "        >>> solve(Eq(x, 3), x)\n",
      "        [3]\n",
      "        >>> solve(Poly(x - 3), x)\n",
      "        [3]\n",
      "        >>> solve(x**2 - y**2, x, set=True)\n",
      "        ([x], {(-y,), (y,)})\n",
      "        >>> solve(x**4 - 1, x, set=True)\n",
      "        ([x], {(-1,), (1,), (-I,), (I,)})\n",
      "    \n",
      "    Single expression with no symbol that is in the expression:\n",
      "    \n",
      "        >>> solve(3, x)\n",
      "        []\n",
      "        >>> solve(x - 3, y)\n",
      "        []\n",
      "    \n",
      "    Single expression with no symbol given. In this case, all free *symbols*\n",
      "    will be selected as potential *symbols* to solve for. If the equation is\n",
      "    univariate then a list of solutions is returned; otherwise - as is the case\n",
      "    when *symbols* are given as an iterable of length greater than 1 - a list of\n",
      "    mappings will be returned:\n",
      "    \n",
      "        >>> solve(x - 3)\n",
      "        [3]\n",
      "        >>> solve(x**2 - y**2)\n",
      "        [{x: -y}, {x: y}]\n",
      "        >>> solve(z**2*x**2 - z**2*y**2)\n",
      "        [{x: -y}, {x: y}, {z: 0}]\n",
      "        >>> solve(z**2*x - z**2*y**2)\n",
      "        [{x: y**2}, {z: 0}]\n",
      "    \n",
      "    When an object other than a Symbol is given as a symbol, it is\n",
      "    isolated algebraically and an implicit solution may be obtained.\n",
      "    This is mostly provided as a convenience to save you from replacing\n",
      "    the object with a Symbol and solving for that Symbol. It will only\n",
      "    work if the specified object can be replaced with a Symbol using the\n",
      "    subs method:\n",
      "    \n",
      "    >>> solve(f(x) - x, f(x))\n",
      "    [x]\n",
      "    >>> solve(f(x).diff(x) - f(x) - x, f(x).diff(x))\n",
      "    [x + f(x)]\n",
      "    >>> solve(f(x).diff(x) - f(x) - x, f(x))\n",
      "    [-x + Derivative(f(x), x)]\n",
      "    >>> solve(x + exp(x)**2, exp(x), set=True)\n",
      "    ([exp(x)], {(-sqrt(-x),), (sqrt(-x),)})\n",
      "    \n",
      "    >>> from sympy import Indexed, IndexedBase, Tuple, sqrt\n",
      "    >>> A = IndexedBase('A')\n",
      "    >>> eqs = Tuple(A[1] + A[2] - 3, A[1] - A[2] + 1)\n",
      "    >>> solve(eqs, eqs.atoms(Indexed))\n",
      "    {A[1]: 1, A[2]: 2}\n",
      "    \n",
      "        * To solve for a symbol implicitly, use implicit=True:\n",
      "    \n",
      "            >>> solve(x + exp(x), x)\n",
      "            [-LambertW(1)]\n",
      "            >>> solve(x + exp(x), x, implicit=True)\n",
      "            [-exp(x)]\n",
      "    \n",
      "        * It is possible to solve for anything that can be targeted with\n",
      "          subs:\n",
      "    \n",
      "            >>> solve(x + 2 + sqrt(3), x + 2)\n",
      "            [-sqrt(3)]\n",
      "            >>> solve((x + 2 + sqrt(3), x + 4 + y), y, x + 2)\n",
      "            {y: -2 + sqrt(3), x + 2: -sqrt(3)}\n",
      "    \n",
      "        * Nothing heroic is done in this implicit solving so you may end up\n",
      "          with a symbol still in the solution:\n",
      "    \n",
      "            >>> eqs = (x*y + 3*y + sqrt(3), x + 4 + y)\n",
      "            >>> solve(eqs, y, x + 2)\n",
      "            {y: -sqrt(3)/(x + 3), x + 2: -2*x/(x + 3) - 6/(x + 3) + sqrt(3)/(x + 3)}\n",
      "            >>> solve(eqs, y*x, x)\n",
      "            {x: -y - 4, x*y: -3*y - sqrt(3)}\n",
      "    \n",
      "        * If you attempt to solve for a number remember that the number\n",
      "          you have obtained does not necessarily mean that the value is\n",
      "          equivalent to the expression obtained:\n",
      "    \n",
      "            >>> solve(sqrt(2) - 1, 1)\n",
      "            [sqrt(2)]\n",
      "            >>> solve(x - y + 1, 1)  # /!\\ -1 is targeted, too\n",
      "            [x/(y - 1)]\n",
      "            >>> [_.subs(z, -1) for _ in solve((x - y + 1).subs(-1, z), 1)]\n",
      "            [-x + y]\n",
      "    \n",
      "        * To solve for a function within a derivative, use ``dsolve``.\n",
      "    \n",
      "    Single expression and more than one symbol:\n",
      "    \n",
      "        * When there is a linear solution:\n",
      "    \n",
      "            >>> solve(x - y**2, x, y)\n",
      "            [(y**2, y)]\n",
      "            >>> solve(x**2 - y, x, y)\n",
      "            [(x, x**2)]\n",
      "            >>> solve(x**2 - y, x, y, dict=True)\n",
      "            [{y: x**2}]\n",
      "    \n",
      "        * When undetermined coefficients are identified:\n",
      "    \n",
      "            * That are linear:\n",
      "    \n",
      "                >>> solve((a + b)*x - b + 2, a, b)\n",
      "                {a: -2, b: 2}\n",
      "    \n",
      "            * That are nonlinear:\n",
      "    \n",
      "                >>> solve((a + b)*x - b**2 + 2, a, b, set=True)\n",
      "                ([a, b], {(-sqrt(2), sqrt(2)), (sqrt(2), -sqrt(2))})\n",
      "    \n",
      "        * If there is no linear solution, then the first successful\n",
      "          attempt for a nonlinear solution will be returned:\n",
      "    \n",
      "            >>> solve(x**2 - y**2, x, y, dict=True)\n",
      "            [{x: -y}, {x: y}]\n",
      "            >>> solve(x**2 - y**2/exp(x), x, y, dict=True)\n",
      "            [{x: 2*LambertW(-y/2)}, {x: 2*LambertW(y/2)}]\n",
      "            >>> solve(x**2 - y**2/exp(x), y, x)\n",
      "            [(-x*sqrt(exp(x)), x), (x*sqrt(exp(x)), x)]\n",
      "    \n",
      "    Iterable of one or more of the above:\n",
      "    \n",
      "        * Involving relationals or bools:\n",
      "    \n",
      "            >>> solve([x < 3, x - 2])\n",
      "            Eq(x, 2)\n",
      "            >>> solve([x > 3, x - 2])\n",
      "            False\n",
      "    \n",
      "        * When the system is linear:\n",
      "    \n",
      "            * With a solution:\n",
      "    \n",
      "                >>> solve([x - 3], x)\n",
      "                {x: 3}\n",
      "                >>> solve((x + 5*y - 2, -3*x + 6*y - 15), x, y)\n",
      "                {x: -3, y: 1}\n",
      "                >>> solve((x + 5*y - 2, -3*x + 6*y - 15), x, y, z)\n",
      "                {x: -3, y: 1}\n",
      "                >>> solve((x + 5*y - 2, -3*x + 6*y - z), z, x, y)\n",
      "                {x: 2 - 5*y, z: 21*y - 6}\n",
      "    \n",
      "            * Without a solution:\n",
      "    \n",
      "                >>> solve([x + 3, x - 3])\n",
      "                []\n",
      "    \n",
      "        * When the system is not linear:\n",
      "    \n",
      "            >>> solve([x**2 + y -2, y**2 - 4], x, y, set=True)\n",
      "            ([x, y], {(-2, -2), (0, 2), (2, -2)})\n",
      "    \n",
      "        * If no *symbols* are given, all free *symbols* will be selected and a\n",
      "          list of mappings returned:\n",
      "    \n",
      "            >>> solve([x - 2, x**2 + y])\n",
      "            [{x: 2, y: -4}]\n",
      "            >>> solve([x - 2, x**2 + f(x)], {f(x), x})\n",
      "            [{x: 2, f(x): -4}]\n",
      "    \n",
      "        * If any equation does not depend on the symbol(s) given, it will be\n",
      "          eliminated from the equation set and an answer may be given\n",
      "          implicitly in terms of variables that were not of interest:\n",
      "    \n",
      "            >>> solve([x - y, y - 3], x)\n",
      "            {x: y}\n",
      "    \n",
      "    **Additional Examples**\n",
      "    \n",
      "    ``solve()`` with check=True (default) will run through the symbol tags to\n",
      "    elimate unwanted solutions. If no assumptions are included, all possible\n",
      "    solutions will be returned:\n",
      "    \n",
      "        >>> from sympy import Symbol, solve\n",
      "        >>> x = Symbol(\"x\")\n",
      "        >>> solve(x**2 - 1)\n",
      "        [-1, 1]\n",
      "    \n",
      "    By using the positive tag, only one solution will be returned:\n",
      "    \n",
      "        >>> pos = Symbol(\"pos\", positive=True)\n",
      "        >>> solve(pos**2 - 1)\n",
      "        [1]\n",
      "    \n",
      "    Assumptions are not checked when ``solve()`` input involves\n",
      "    relationals or bools.\n",
      "    \n",
      "    When the solutions are checked, those that make any denominator zero\n",
      "    are automatically excluded. If you do not want to exclude such solutions,\n",
      "    then use the check=False option:\n",
      "    \n",
      "        >>> from sympy import sin, limit\n",
      "        >>> solve(sin(x)/x)  # 0 is excluded\n",
      "        [pi]\n",
      "    \n",
      "    If check=False, then a solution to the numerator being zero is found: x = 0.\n",
      "    In this case, this is a spurious solution since $\\sin(x)/x$ has the well\n",
      "    known limit (without dicontinuity) of 1 at x = 0:\n",
      "    \n",
      "        >>> solve(sin(x)/x, check=False)\n",
      "        [0, pi]\n",
      "    \n",
      "    In the following case, however, the limit exists and is equal to the\n",
      "    value of x = 0 that is excluded when check=True:\n",
      "    \n",
      "        >>> eq = x**2*(1/x - z**2/x)\n",
      "        >>> solve(eq, x)\n",
      "        []\n",
      "        >>> solve(eq, x, check=False)\n",
      "        [0]\n",
      "        >>> limit(eq, x, 0, '-')\n",
      "        0\n",
      "        >>> limit(eq, x, 0, '+')\n",
      "        0\n",
      "    \n",
      "    **Disabling High-Order Explicit Solutions**\n",
      "    \n",
      "    When solving polynomial expressions, you might not want explicit solutions\n",
      "    (which can be quite long). If the expression is univariate, ``CRootOf``\n",
      "    instances will be returned instead:\n",
      "    \n",
      "        >>> solve(x**3 - x + 1)\n",
      "        [-1/((-1/2 - sqrt(3)*I/2)*(3*sqrt(69)/2 + 27/2)**(1/3)) - (-1/2 -\n",
      "        sqrt(3)*I/2)*(3*sqrt(69)/2 + 27/2)**(1/3)/3, -(-1/2 +\n",
      "        sqrt(3)*I/2)*(3*sqrt(69)/2 + 27/2)**(1/3)/3 - 1/((-1/2 +\n",
      "        sqrt(3)*I/2)*(3*sqrt(69)/2 + 27/2)**(1/3)), -(3*sqrt(69)/2 +\n",
      "        27/2)**(1/3)/3 - 1/(3*sqrt(69)/2 + 27/2)**(1/3)]\n",
      "        >>> solve(x**3 - x + 1, cubics=False)\n",
      "        [CRootOf(x**3 - x + 1, 0),\n",
      "         CRootOf(x**3 - x + 1, 1),\n",
      "         CRootOf(x**3 - x + 1, 2)]\n",
      "    \n",
      "    If the expression is multivariate, no solution might be returned:\n",
      "    \n",
      "        >>> solve(x**3 - x + a, x, cubics=False)\n",
      "        []\n",
      "    \n",
      "    Sometimes solutions will be obtained even when a flag is False because the\n",
      "    expression could be factored. In the following example, the equation can\n",
      "    be factored as the product of a linear and a quadratic factor so explicit\n",
      "    solutions (which did not require solving a cubic expression) are obtained:\n",
      "    \n",
      "        >>> eq = x**3 + 3*x**2 + x - 1\n",
      "        >>> solve(eq, cubics=False)\n",
      "        [-1, -1 + sqrt(2), -sqrt(2) - 1]\n",
      "    \n",
      "    **Solving Equations Involving Radicals**\n",
      "    \n",
      "    Because of SymPy's use of the principle root, some solutions\n",
      "    to radical equations will be missed unless check=False:\n",
      "    \n",
      "        >>> from sympy import root\n",
      "        >>> eq = root(x**3 - 3*x**2, 3) + 1 - x\n",
      "        >>> solve(eq)\n",
      "        []\n",
      "        >>> solve(eq, check=False)\n",
      "        [1/3]\n",
      "    \n",
      "    In the above example, there is only a single solution to the\n",
      "    equation. Other expressions will yield spurious roots which\n",
      "    must be checked manually; roots which give a negative argument\n",
      "    to odd-powered radicals will also need special checking:\n",
      "    \n",
      "        >>> from sympy import real_root, S\n",
      "        >>> eq = root(x, 3) - root(x, 5) + S(1)/7\n",
      "        >>> solve(eq)  # this gives 2 solutions but misses a 3rd\n",
      "        [CRootOf(7*x**5 - 7*x**3 + 1, 1)**15,\n",
      "        CRootOf(7*x**5 - 7*x**3 + 1, 2)**15]\n",
      "        >>> sol = solve(eq, check=False)\n",
      "        >>> [abs(eq.subs(x,i).n(2)) for i in sol]\n",
      "        [0.48, 0.e-110, 0.e-110, 0.052, 0.052]\n",
      "    \n",
      "    The first solution is negative so ``real_root`` must be used to see that it\n",
      "    satisfies the expression:\n",
      "    \n",
      "        >>> abs(real_root(eq.subs(x, sol[0])).n(2))\n",
      "        0.e-110\n",
      "    \n",
      "    If the roots of the equation are not real then more care will be\n",
      "    necessary to find the roots, especially for higher order equations.\n",
      "    Consider the following expression:\n",
      "    \n",
      "        >>> expr = root(x, 3) - root(x, 5)\n",
      "    \n",
      "    We will construct a known value for this expression at x = 3 by selecting\n",
      "    the 1-th root for each radical:\n",
      "    \n",
      "        >>> expr1 = root(x, 3, 1) - root(x, 5, 1)\n",
      "        >>> v = expr1.subs(x, -3)\n",
      "    \n",
      "    The ``solve`` function is unable to find any exact roots to this equation:\n",
      "    \n",
      "        >>> eq = Eq(expr, v); eq1 = Eq(expr1, v)\n",
      "        >>> solve(eq, check=False), solve(eq1, check=False)\n",
      "        ([], [])\n",
      "    \n",
      "    The function ``unrad``, however, can be used to get a form of the equation\n",
      "    for which numerical roots can be found:\n",
      "    \n",
      "        >>> from sympy.solvers.solvers import unrad\n",
      "        >>> from sympy import nroots\n",
      "        >>> e, (p, cov) = unrad(eq)\n",
      "        >>> pvals = nroots(e)\n",
      "        >>> inversion = solve(cov, x)[0]\n",
      "        >>> xvals = [inversion.subs(p, i) for i in pvals]\n",
      "    \n",
      "    Although ``eq`` or ``eq1`` could have been used to find ``xvals``, the\n",
      "    solution can only be verified with ``expr1``:\n",
      "    \n",
      "        >>> z = expr - v\n",
      "        >>> [xi.n(chop=1e-9) for xi in xvals if abs(z.subs(x, xi).n()) < 1e-9]\n",
      "        []\n",
      "        >>> z1 = expr1 - v\n",
      "        >>> [xi.n(chop=1e-9) for xi in xvals if abs(z1.subs(x, xi).n()) < 1e-9]\n",
      "        [-3.0]\n",
      "    \n",
      "    Parameters\n",
      "    ==========\n",
      "    \n",
      "    f :\n",
      "        - a single Expr or Poly that must be zero\n",
      "        - an Equality\n",
      "        - a Relational expression\n",
      "        - a Boolean\n",
      "        - iterable of one or more of the above\n",
      "    \n",
      "    symbols : (object(s) to solve for) specified as\n",
      "        - none given (other non-numeric objects will be used)\n",
      "        - single symbol\n",
      "        - denested list of symbols\n",
      "          (e.g., ``solve(f, x, y)``)\n",
      "        - ordered iterable of symbols\n",
      "          (e.g., ``solve(f, [x, y])``)\n",
      "    \n",
      "    flags :\n",
      "        dict=True (default is False)\n",
      "            Return list (perhaps empty) of solution mappings.\n",
      "        set=True (default is False)\n",
      "            Return list of symbols and set of tuple(s) of solution(s).\n",
      "        exclude=[] (default)\n",
      "            Do not try to solve for any of the free symbols in exclude;\n",
      "            if expressions are given, the free symbols in them will\n",
      "            be extracted automatically.\n",
      "        check=True (default)\n",
      "            If False, do not do any testing of solutions. This can be\n",
      "            useful if you want to include solutions that make any\n",
      "            denominator zero.\n",
      "        numerical=True (default)\n",
      "            Do a fast numerical check if *f* has only one symbol.\n",
      "        minimal=True (default is False)\n",
      "            A very fast, minimal testing.\n",
      "        warn=True (default is False)\n",
      "            Show a warning if ``checksol()`` could not conclude.\n",
      "        simplify=True (default)\n",
      "            Simplify all but polynomials of order 3 or greater before\n",
      "            returning them and (if check is not False) use the\n",
      "            general simplify function on the solutions and the\n",
      "            expression obtained when they are substituted into the\n",
      "            function which should be zero.\n",
      "        force=True (default is False)\n",
      "            Make positive all symbols without assumptions regarding sign.\n",
      "        rational=True (default)\n",
      "            Recast Floats as Rational; if this option is not used, the\n",
      "            system containing Floats may fail to solve because of issues\n",
      "            with polys. If rational=None, Floats will be recast as\n",
      "            rationals but the answer will be recast as Floats. If the\n",
      "            flag is False then nothing will be done to the Floats.\n",
      "        manual=True (default is False)\n",
      "            Do not use the polys/matrix method to solve a system of\n",
      "            equations, solve them one at a time as you might \"manually.\"\n",
      "        implicit=True (default is False)\n",
      "            Allows ``solve`` to return a solution for a pattern in terms of\n",
      "            other functions that contain that pattern; this is only\n",
      "            needed if the pattern is inside of some invertible function\n",
      "            like cos, exp, ect.\n",
      "        particular=True (default is False)\n",
      "            Instructs ``solve`` to try to find a particular solution to a linear\n",
      "            system with as many zeros as possible; this is very expensive.\n",
      "        quick=True (default is False)\n",
      "            When using particular=True, use a fast heuristic to find a\n",
      "            solution with many zeros (instead of using the very slow method\n",
      "            guaranteed to find the largest number of zeros possible).\n",
      "        cubics=True (default)\n",
      "            Return explicit solutions when cubic expressions are encountered.\n",
      "        quartics=True (default)\n",
      "            Return explicit solutions when quartic expressions are encountered.\n",
      "        quintics=True (default)\n",
      "            Return explicit solutions (if possible) when quintic expressions\n",
      "            are encountered.\n",
      "    \n",
      "    See Also\n",
      "    ========\n",
      "    \n",
      "    rsolve: For solving recurrence relationships\n",
      "    dsolve: For solving differential equations\n",
      "\n"
     ]
    }
   ],
   "source": [
    "help(solve)"
   ]
  },
  {
   "cell_type": "code",
   "execution_count": null,
   "metadata": {},
   "outputs": [],
   "source": [
    "solution"
   ]
  },
  {
   "cell_type": "code",
   "execution_count": null,
   "metadata": {},
   "outputs": [],
   "source": [
    "len(solution)"
   ]
  },
  {
   "cell_type": "code",
   "execution_count": null,
   "metadata": {},
   "outputs": [],
   "source": [
    "type(solution)"
   ]
  },
  {
   "cell_type": "code",
   "execution_count": null,
   "metadata": {},
   "outputs": [],
   "source": [
    "solution[DIFF2Q]"
   ]
  },
  {
   "cell_type": "code",
   "execution_count": null,
   "metadata": {},
   "outputs": [],
   "source": [
    "solution[DIFF2P]"
   ]
  },
  {
   "cell_type": "code",
   "execution_count": null,
   "metadata": {},
   "outputs": [],
   "source": [
    "soluEqP = solution[DIFF2P].subs({Derivative(qk,tau):0, Derivative(pk,tau):0})\n",
    "soluEqQ = solution[DIFF2Q].subs({Derivative(qk,tau):0, Derivative(pk,tau):0})"
   ]
  },
  {
   "cell_type": "code",
   "execution_count": null,
   "metadata": {},
   "outputs": [],
   "source": [
    "soluEqP"
   ]
  },
  {
   "cell_type": "code",
   "execution_count": null,
   "metadata": {},
   "outputs": [],
   "source": []
  },
  {
   "cell_type": "code",
   "execution_count": null,
   "metadata": {},
   "outputs": [],
   "source": []
  },
  {
   "cell_type": "code",
   "execution_count": null,
   "metadata": {},
   "outputs": [],
   "source": [
    "solution[DIFF2P]"
   ]
  },
  {
   "cell_type": "code",
   "execution_count": null,
   "metadata": {},
   "outputs": [],
   "source": []
  },
  {
   "cell_type": "code",
   "execution_count": null,
   "metadata": {},
   "outputs": [],
   "source": []
  },
  {
   "cell_type": "code",
   "execution_count": null,
   "metadata": {},
   "outputs": [],
   "source": []
  },
  {
   "cell_type": "code",
   "execution_count": null,
   "metadata": {},
   "outputs": [],
   "source": [
    "eq1.expand()"
   ]
  },
  {
   "cell_type": "code",
   "execution_count": null,
   "metadata": {},
   "outputs": [],
   "source": [
    "DerivPK, DerivQK, PK, QK = symbols('DerivPK, DerivQK, PK, QK')\n",
    "\n",
    "soluDIFF2PP = solution[DIFF2P].subs({Derivative(pk,tau): DerivPK, Derivative(qk,tau): DerivQK, \n",
    "                       Function('pk')(tau): PK, Function('qk')(tau):QK})\n",
    "soluDIFF2QQ = solution[DIFF2Q].subs({Derivative(pk,tau): DerivPK, Derivative(qk,tau): DerivQK, \n",
    "                       Function('pk')(tau): PK, Function('qk')(tau):QK})"
   ]
  },
  {
   "cell_type": "code",
   "execution_count": null,
   "metadata": {},
   "outputs": [],
   "source": [
    "ms=0.0000261725  \n",
    "mT = 5.0750952130962986 *10**(-6) \n",
    "cs=1.94991*10**8\n",
    "Ds = 0.05###; (*0.005 damping stator*)\n",
    "#d = 2 *sqrt(msT* cs *Ds) = 38.2402923781611\n",
    "rhor = 2700 ###(*Al*)\n",
    "####(*leaf spring*)\n",
    "EE = 206000###; (*Nmm^2*)\n",
    "EE = EE*10**6\n",
    "B = 0.003 ##;(*width*)\n",
    "t = 0.0005  ###; (*thickness*)\n",
    "l = 0.02   ###; (*length*)\n",
    "Ib = (B*t**3)/12\n",
    "#cr ####(*0;4000;*) (**)\n",
    "rout = 0.003124764129949177\n",
    "rin = 0.002224764129949177\n",
    "Rr = rout\n",
    "Hr = 0.001 ###(*0.003*)\n",
    "\n",
    "r1 = 0.001\n",
    "mr = float(pi) * rhor *Rr**2 *Hr - float(pi) * rhor *r1**2 *Hr ### (*6.4 10 -4 ;*)\n",
    "Ha = 0.0005\n",
    "ma = float(pi) *rhor * Ha*(rout**2 - rin**2)\n",
    "\n",
    "\n",
    "solucdiff2pp =(soluDIFF2PP.subs({Ir: mr*(Rr**2 + r1**2)/2 + ma*(rout**2+ rin**2)/2, \n",
    "                                 Psi_theta_theta: 226.536, Uu: -0.377673, \n",
    "                  h: 0.0012, Rk: 0.0027, msT: ms + mT, hT: 0.0015,\n",
    "                  Vo: 100, cUo: 0.0174596, d: 38.2402923781611, ps: 0.5*10**(-3), mR: mr + ma, \n",
    "                  cr: (3 *EE *Ib)/l**3, omega: 2.72951*10**6, Texte: 0.1*10**(-3), n: 4, k: 2}) ).expand()\n",
    "\n",
    "solucdiff2qq = (soluDIFF2QQ.subs({Ir: mr*(Rr**2 + r1**2)/2 + ma*(rout**2+ rin**2)/2, \n",
    "                                  Psi_theta_theta: 226.536, Uu: -0.377673, \n",
    "                  h: 0.0012, Rk: 0.0027, msT: ms + mT, hT: 0.0015,\n",
    "                  Vo: 100, cUo: 0.0174596, d: 38.2402923781611, ps: 0.5*10**(-3), mR: mr + ma, \n",
    "                  cr: (3 *EE *Ib)/l**3, omega: 2.72951*10**6, Texte: 0.1*10**(-3), n: 4, k: 2}) ).expand()\n"
   ]
  },
  {
   "cell_type": "code",
   "execution_count": null,
   "metadata": {},
   "outputs": [],
   "source": [
    "solucdiff2qq"
   ]
  },
  {
   "cell_type": "code",
   "execution_count": null,
   "metadata": {},
   "outputs": [],
   "source": []
  },
  {
   "cell_type": "code",
   "execution_count": null,
   "metadata": {},
   "outputs": [],
   "source": [
    "help(sympy.lambdify)"
   ]
  },
  {
   "cell_type": "code",
   "execution_count": null,
   "metadata": {},
   "outputs": [],
   "source": []
  },
  {
   "cell_type": "code",
   "execution_count": null,
   "metadata": {},
   "outputs": [],
   "source": [
    "help(scipy.integrate.solve_ivp)"
   ]
  },
  {
   "cell_type": "code",
   "execution_count": null,
   "metadata": {},
   "outputs": [],
   "source": []
  },
  {
   "cell_type": "code",
   "execution_count": null,
   "metadata": {},
   "outputs": [],
   "source": [
    "from sympy import symbols, lambdify\n",
    "from sympy.parsing.sympy_parser import parse_expr\n",
    "import numpy as np\n",
    "\n",
    "xs = symbols('x1 x2')\n",
    "ks = symbols('k1 k2')\n",
    "strs = ['-k1 * x1**2 + k2 * x2', 'k1 * x1**2 - k2 * x2']\n",
    "syms = [parse_expr(item) for item in strs]\n",
    "\n",
    "\n",
    "# Convert each expression in syms to a function with signature f(x1, x2, k1, k2):\n",
    "funcs = [lambdify(xs + ks, f) for f in syms]\n",
    "print(type(funcs[0]))\n",
    "\n",
    "# This is not exactly the same as the `my_odes` in the question.\n",
    "# `t` is included so this can be used with `scipy.integrate.odeint`.\n",
    "# The value returned by `sym.subs` is wrapped in a call to `float`\n",
    "# to ensure that the function returns python floats and not sympy Floats.\n",
    "def my_odes(x, t, k):\n",
    "    all_dict = dict(zip(xs, x))\n",
    "    all_dict.update(dict(zip(ks, k)))\n",
    "    return np.array([float(sym.subs(all_dict)) for sym in syms])\n",
    "\n",
    "def lambdified_odes(x, t, k):\n",
    "    x1, x2 = x\n",
    "    k1, k2 = k\n",
    "    xdot = [f(x1, x2, k1, k2) for f in funcs]\n",
    "    return xdot\n",
    "\n",
    "\n",
    "if __name__ == \"__main__\":\n",
    "    from scipy.integrate import odeint\n",
    "\n",
    "    k1 = 0.5\n",
    "    k2 = 1.0\n",
    "    init = [1.0, 0.0]\n",
    "    t = np.linspace(0, 1, 6)\n",
    "    sola = odeint(lambdified_odes, init, t, args=((k1, k2),))\n",
    "    solb = odeint(my_odes, init, t, args=((k1, k2),))\n",
    "    print(np.allclose(sola, solb))\n",
    "    "
   ]
  },
  {
   "cell_type": "code",
   "execution_count": null,
   "metadata": {},
   "outputs": [],
   "source": [
    "funcs=[sympy.lambdify((tau,PK,QK,DerivPK,DerivQK),DerivPK),sympy.lambdify((tau,PK,QK,DerivPK,DerivQK),DerivQK),sympy.lambdify((tau,PK,QK,DerivPK,DerivQK),solucdiff2pp,\"numpy\"),sympy.lambdify((tau,PK,QK,DerivPK,DerivQK),solucdiff2qq,\"numpy\")]\n",
    "# print(funcs[0](0,0,0))\n",
    "def fun(tau,z):\n",
    "    PK,QK,DerivPK,DerivQK=z\n",
    "    xdot=[f(tau,PK,QK,DerivPK,DerivQK) for f in funcs]\n",
    "    return xdot\n",
    "y0 = [0,0.0000001,0.0000001, 0]\n",
    "print(type(sympy.lambdify((PK,QK,DerivPK,DerivQK),DerivPK)))\n",
    "print(type(sympy.lambdify((PK,QK,DerivPK,DerivQK),solucdiff2pp)))"
   ]
  },
  {
   "cell_type": "code",
   "execution_count": null,
   "metadata": {},
   "outputs": [],
   "source": []
  },
  {
   "cell_type": "code",
   "execution_count": null,
   "metadata": {},
   "outputs": [],
   "source": [
    "funcs=[sympy.lambdify((tau,PK,QK,DerivPK,DerivQK),DerivPK),sympy.lambdify((tau,PK,QK,DerivPK,DerivQK),DerivQK),sympy.lambdify((tau,PK,QK,DerivPK,DerivQK),solucdiff2pp),sympy.lambdify((tau,PK,QK,DerivPK,DerivQK),solucdiff2qq)]\n",
    "\n",
    "def fun(tau,z):\n",
    "    PK,QK,DerivPK,DerivQK=z\n",
    "    xdot=[f(tau,PK,QK,DerivPK,DerivQK) for f in funcs]\n",
    "    return xdot\n",
    "y0 = [0.000000001,0.000000001,0, 0]  #initial conditions for pk, qk, Derivative(pk(tau),tau), Derivative(qk(tau),tau)\n",
    "#tau = numpy.linspace(0,10,101) #a solution 101 evenly spaced samples in the interval 0 <= t <= 10\n",
    "sol=scipy.integrate.solve_ivp(fun,[0,301],y0,dense_output=True)"
   ]
  },
  {
   "cell_type": "code",
   "execution_count": null,
   "metadata": {},
   "outputs": [],
   "source": [
    "sol"
   ]
  },
  {
   "cell_type": "code",
   "execution_count": null,
   "metadata": {},
   "outputs": [],
   "source": [
    "taut = numpy.linspace(0,10,301) #a solution 101 evenly spaced samples in the interval 0 <= t <= 10\n",
    "#print(sol.y)\n",
    "#print(sol.t)\n",
    "#\n",
    "soly=sol.y\n",
    "plt.plot(sol.t,soly.T)\n",
    "plt.xlabel(\"tau\")\n",
    "plt.legend([\"Pk\",\"Qk\",\"derivPk\",\"derivQk\"],shadow=True)\n",
    "plt.title(\"Run-up\")\n",
    "plt.show()"
   ]
  },
  {
   "cell_type": "code",
   "execution_count": null,
   "metadata": {},
   "outputs": [],
   "source": [
    "plt.plot(sol.t,soly[0:2].T)\n",
    "plt.xlabel(\"tau\")\n",
    "plt.legend([\"Pk\",\"Qk\"],shadow=True)\n",
    "plt.title(\"Run-up\")\n",
    "plt.show()"
   ]
  },
  {
   "cell_type": "code",
   "execution_count": null,
   "metadata": {},
   "outputs": [],
   "source": [
    "# T = tau/tauC, Pkk = PK/pkkC, Qkk = QK/qkkC\n",
    "# Derivative(qk(tau),tau) = Derivative(qk,T)*Derivative(T,tau) = Derivative(qk,T)*(1/tauC)\n",
    "# DerivPK = derivPK / tauC\n",
    "# derivPK = Derivative(pk(T),T)\n",
    "\n",
    "# dydt = [PK, QK, solucdiff2pp, solucdiff2qq]\n",
    "\n",
    "tau = symbols('tau') \n",
    "T, tauC, derivPK, derivQK, Pkk, Qkk = symbols('T, tauC, derivPK, derivQK, Pkk, Qkk')\n",
    "dydt = [PK.subs({DerivPK: derivPK/tauC, DerivQK: derivQK, tau: tauC*T}), \n",
    "        QK.subs({DerivPK: derivPK/tauC, DerivQK: derivQK, tau: tauC*T}),\n",
    "        solucdiff2pp.subs({DerivPK: derivPK/tauC, DerivQK: derivQK, tau: tauC*T, Pkk: PK/pkkC, Qkk: QK/qkkC}), \n",
    "        solucdiff2qq.subs({DerivPK: derivPK/tauC, DerivQK: derivQK, tau: tauC*T, Pkk: PK/pkkC, Qkk: QK/qkkC})]\n"
   ]
  },
  {
   "cell_type": "code",
   "execution_count": null,
   "metadata": {},
   "outputs": [],
   "source": [
    "dydt"
   ]
  },
  {
   "cell_type": "markdown",
   "metadata": {
    "collapsed": true
   },
   "source": [
    "constantes\n",
    "n, k : nondimensional\n",
    "tau : [s]\n",
    "\n",
    "\n",
    "ms=0.0000261725 # []\n",
    "mT = 5.0750952130962986 *10**(-6) # []\n",
    "cs=1.94991*10**8\n",
    "Ds = 0.06###; (*0.005 Dämpfungsmaß des Stators*)\n",
    "#d = 2 *sqrt(msT* cs *Ds) = 38.2402923781611\n",
    "rhor = 2700  # [N/m²] ###(*Aluminum*)\n",
    "####(*viga mola*\n",
    "EE = 206000###; (*Nmm^2*)\n",
    "EE = EE*10**6\n",
    "B = 0.0025 ##;(*largura*)\n",
    "t = 0.0005  ###; (*espessura*)\n",
    "l = 0.02   ###; (*comprimento*)\n",
    "Ib = (B*t**3)/12\n",
    "#cr ####(*0;4000;*) (*elasticidade da viga mola*)\n",
    "rout = 0.003124764129949177\n",
    "rin = 0.002224764129949177\n",
    "Rr = rout\n",
    "Hr = 0.001 ###(*0.003*)\n",
    "\n",
    "r1 = 0.001\n",
    "mr = float(pi) * rhor *Rr**2 *Hr - float(pi) * rhor *r1**2 *Hr ### (*6.4 10 -4 ;*)\n",
    "Ha = 0.0005\n",
    "ma = float(pi) *rhor * Ha*(rout**2 - rin**2)\n",
    "\n",
    "\n",
    "solucdiff2pp =(soluDIFF2PP.subs({Ir: mr*(Rr**2 + r1**2)/2 + ma*(rout**2+ rin**2)/2, \n",
    "                                 Psi_theta_theta: 226.536, Uu: -0.377673, \n",
    "                  h: 0.0012, Rk: 0.0027, msT: ms + mT, hT: 0.0015,\n",
    "                  Vo: 100, cUo: 0.0174596, d: 38.2402923781611, ps: 0.5*10**(-3), mR: mr + ma, \n",
    "                  cr: (3 *EE *Ib)/l**3, omega: 2.72951*10**6, Texte: 0.1*10**(-3), n: 4, k: 2}) ).expand()\n",
    "\n",
    "Ir = [kg m²]\n",
    "Psi_theta_theta =\n",
    "Uu = \n",
    "h = [m]   #stator thickness\n",
    "Rk = [m] #contact point/radius (2,4)\n",
    "msT = [kg]\n",
    "hT = [m]\n",
    "Vo = [V]\n",
    "cUo = [\n",
    "d = \n",
    "ps = [m]\n",
    "mR = [kg]\n",
    "cr = [N/m²]*[m⁴]/[m³]=[N/m]\n",
    "omega = [1/s]\n",
    "Texte = [Nm]\n",
    "\n",
    "PI teorem\n"
   ]
  }
 ],
 "metadata": {
  "kernelspec": {
   "display_name": "Python 3",
   "language": "python",
   "name": "python3"
  },
  "language_info": {
   "codemirror_mode": {
    "name": "ipython",
    "version": 3
   },
   "file_extension": ".py",
   "mimetype": "text/x-python",
   "name": "python",
   "nbconvert_exporter": "python",
   "pygments_lexer": "ipython3",
   "version": "3.8.5"
  }
 },
 "nbformat": 4,
 "nbformat_minor": 2
}
