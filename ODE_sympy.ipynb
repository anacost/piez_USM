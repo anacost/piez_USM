{
 "cells": [
  {
   "cell_type": "code",
   "execution_count": 43,
   "metadata": {},
   "outputs": [],
   "source": [
    "import sympy\n",
    "from sympy import *\n",
    "import matplotlib.pyplot as plt\n",
    "import scipy.integrate\n",
    "import numpy"
   ]
  },
  {
   "cell_type": "code",
   "execution_count": 4,
   "metadata": {},
   "outputs": [],
   "source": [
    "n, k = symbols(\"n, k\", integer=True, positive=True)\n",
    "\n",
    "Uu, Psi_theta_theta = symbols('Uu, Psi_theta_theta', real=True, positive=True)\n",
    "\n",
    "h, hT, Rk = symbols('h, hT, Rk', real=True, positive=True)\n",
    "\n",
    "#s,t=var('s, t')\n",
    "#f = t^5*exp(t)*sin(t)\n",
    "cr,ps,mR,omega,dr,Ir,Texte,msT,d,cUo,Vo,Omega= symbols('cr, ps, mR, omega, dr, Ir, Texte, msT, d, cUo, Vo, Omega', \n",
    "                                                       real=True, positive=True)\n",
    "\n",
    "Omega = omega\n",
    "\n",
    "theta, tau = symbols('theta, tau')\n",
    "\n",
    "#qk = symbols('qk', cls=Function)\n",
    "qk = Function('qk')(tau)\n",
    "pk = Function('pk')(tau)\n",
    "\n",
    "#f = (x^2 + sin(a*w)).function(a,x,w); f\n",
    "\n",
    "u = (cos(n* theta) * qk + pk *sin(n *theta))* Uu\n",
    "#u = ((cos(n* theta) * qk + pk *sin(n *theta))* Uu).function(theta)\n",
    "ak = Function('ak')(tau)\n",
    "\n",
    "zr = u .subs(theta, ak) \n",
    "#zr = u(ak)\n",
    "du = diff(u,tau)    # D[u, τ];\n",
    "\n",
    "dzr = du.subs(theta, ak)   # /. {θ -> αk[τ]};\n",
    "#dzr = du(ak,qk,pk)\n",
    "ddzr = diff(dzr,tau)   #D[dzr, τ]\n",
    "\n",
    "v = - (h/2 + hT)* Psi_theta_theta * (cos(n*theta)*pk + sin(n*theta)*qk) \n",
    "dv = diff(v, tau)   ##dv = D[%, τ];\n",
    "\n",
    "#aft= dv.coefficient(diff(qk(tau),tau))\n",
    "\n",
    "#f.coefficient(sin(y))\n",
    "\n",
    "\n"
   ]
  },
  {
   "cell_type": "code",
   "execution_count": 3,
   "metadata": {},
   "outputs": [
    {
     "data": {
      "text/plain": [
       "sympy.core.symbol.Symbol"
      ]
     },
     "execution_count": 3,
     "metadata": {},
     "output_type": "execute_result"
    }
   ],
   "source": [
    "type(d)"
   ]
  },
  {
   "cell_type": "code",
   "execution_count": 4,
   "metadata": {},
   "outputs": [
    {
     "data": {
      "text/plain": [
       "0"
      ]
     },
     "execution_count": 4,
     "metadata": {},
     "output_type": "execute_result"
    }
   ],
   "source": [
    "dv.coeff(Derivative(qk,tau)) "
   ]
  },
  {
   "cell_type": "code",
   "execution_count": 5,
   "metadata": {},
   "outputs": [
    {
     "name": "stdout",
     "output_type": "stream",
     "text": [
      "Psi_theta_theta*(-h/2 - hT)*(sin(n*theta)*Derivative(qk(tau), tau) + cos(n*theta)*Derivative(pk(tau), tau))\n",
      "Psi_theta_theta*(-h/2 - hT)*sin(n*ak(tau))\n",
      "Psi_theta_theta*(-h/2 - hT)*cos(n*ak(tau))\n",
      "Uu*cos(n*ak(tau))\n",
      "Uu*sin(n*ak(tau))\n"
     ]
    }
   ],
   "source": [
    "#qk = symbols('qk', cls=Function)\n",
    "qk = Function('qk')(tau)\n",
    "pk = Function('pk')(tau)\n",
    "\n",
    "#f = (x^2 + sin(a*w)).function(a,x,w); f\n",
    "\n",
    "u = (cos(n* theta) * qk + pk *sin(n *theta))* Uu\n",
    "#u = ((cos(n* theta) * qk + pk *sin(n *theta))* Uu).function(theta)\n",
    "ak = Function('ak')(tau)\n",
    "\n",
    "zr = u .subs(theta, ak) \n",
    "#zr = u(ak)\n",
    "du = diff(u,tau)    # D[u, τ];\n",
    "\n",
    "dzr = du.subs(theta, ak)   # /. {θ -> αk[τ]};\n",
    "#dzr = du(ak,qk,pk)\n",
    "ddzr = diff(dzr,tau)   #D[dzr, τ]\n",
    "\n",
    "v = - (h/2 + hT)* Psi_theta_theta * (cos(n*theta)*pk + sin(n*theta)*qk) \n",
    "dv = diff(v, tau)   ##dv = D[%, τ];\n",
    "print(dv)\n",
    "\n",
    "dvqk = diff(dv, Derivative(Function('qk')(tau), tau)).subs(theta, ak)\n",
    "#dvqk = diff(dv, Derivative(Function('qk')(Symbol('tau')), Symbol('tau'))).subs(theta, ak)  #D[dv, qk '[τ]] /. {θ -> αk[τ]}\n",
    "print(dvqk)\n",
    "dvpk = diff(dv, Derivative(Function('pk')(tau), tau)).subs(theta, ak)   #D[dv, pk '[τ]] /. {θ -> αk[τ]}\n",
    "print(dvpk)\n",
    "duqk = diff(du, Derivative(Function('qk')(tau), tau)).subs(theta, ak)   #D[du, qk '[τ]] /. {θ -> αk[τ]}\n",
    "print(duqk)\n",
    "dupk = diff(du, Derivative(Function('pk')(tau), tau)).subs(theta, ak)   ###D[du, pk '[τ]] /. {θ -> αk[τ]}\n",
    "print(dupk)"
   ]
  },
  {
   "cell_type": "code",
   "execution_count": 6,
   "metadata": {},
   "outputs": [],
   "source": [
    "dphir = (dv/Rk).subs(theta, ak)\n",
    "\n",
    "ddv = diff(dv, tau) ###D[dv, τ];\n",
    "\n",
    "ddphir = diff(dphir, tau)"
   ]
  },
  {
   "cell_type": "code",
   "execution_count": 7,
   "metadata": {},
   "outputs": [
    {
     "name": "stdout",
     "output_type": "stream",
     "text": [
      "Psi_theta_theta*(-h/2 - hT)*(-n*pk(tau)*Derivative(ak(tau), tau)*Derivative(pk(tau), tau)/sqrt(pk(tau)**2 + qk(tau)**2) + n*qk(tau)*Derivative(ak(tau), tau)*Derivative(qk(tau), tau)/sqrt(pk(tau)**2 + qk(tau)**2) + pk(tau)*Derivative(qk(tau), (tau, 2))/sqrt(pk(tau)**2 + qk(tau)**2) + qk(tau)*Derivative(pk(tau), (tau, 2))/sqrt(pk(tau)**2 + qk(tau)**2))/Rk\n"
     ]
    }
   ],
   "source": [
    "zr = zr.subs({sin(n*Function('ak')(tau)): Function('pk')(tau)/sqrt(Function('pk')(tau)**2 + Function('qk')(tau)**2),cos(n*Function('ak')(tau)): Function('qk')(tau)/sqrt(Function('pk')(tau)**2 + Function('qk')(tau)**2)})\n",
    "dzr=dzr.subs({sin(n*Function('ak')(tau)): Function('pk')(tau)/sqrt(Function('pk')(tau)**2 + Function('qk')(tau)**2),cos(n*Function('ak')(tau)): Function('qk')(tau)/sqrt(Function('pk')(tau)**2 + Function('qk')(tau)**2)})\n",
    "ddzr=ddzr.subs({sin(n*Function('ak')(tau)): Function('pk')(tau)/sqrt(Function('pk')(tau)**2 + Function('qk')(tau)**2),cos(n*Function('ak')(tau)): Function('qk')(tau)/sqrt(Function('pk')(tau)**2 + Function('qk')(tau)**2)})\n",
    "dvqk=dvqk.subs({sin(n*Function('ak')(tau)): Function('pk')(tau)/sqrt(Function('pk')(tau)**2 + Function('qk')(tau)**2),cos(n*Function('ak')(tau)): Function('qk')(tau)/sqrt(Function('pk')(tau)**2 + Function('qk')(tau)**2)})\n",
    "dvpk=dvpk.subs({sin(n*Function('ak')(tau)): Function('pk')(tau)/sqrt(Function('pk')(tau)**2 + Function('qk')(tau)**2),cos(n*Function('ak')(tau)): Function('qk')(tau)/sqrt(Function('pk')(tau)**2 + Function('qk')(tau)**2)})\n",
    "duqk=duqk.subs({sin(n*Function('ak')(tau)): Function('pk')(tau)/sqrt(Function('pk')(tau)**2 + Function('qk')(tau)**2),cos(n*Function('ak')(tau)): Function('qk')(tau)/sqrt(Function('pk')(tau)**2 + Function('qk')(tau)**2)})\n",
    "dupk=dupk.subs({sin(n*Function('ak')(tau)): Function('pk')(tau)/sqrt(Function('pk')(tau)**2 + Function('qk')(tau)**2),cos(n*Function('ak')(tau)): Function('qk')(tau)/sqrt(Function('pk')(tau)**2 + Function('qk')(tau)**2)})\n",
    "dphir=dphir.subs({sin(n*Function('ak')(tau)): Function('pk')(tau)/sqrt(Function('pk')(tau)**2 + Function('qk')(tau)**2),cos(n*Function('ak')(tau)): Function('qk')(tau)/sqrt(Function('pk')(tau)**2 + Function('qk')(tau)**2)})\n",
    "ddphir=ddphir.subs({sin(n*Function('ak')(tau)): Function('pk')(tau)/sqrt(Function('pk')(tau)**2 + Function('qk')(tau)**2),cos(n*Function('ak')(tau)): Function('qk')(tau)/sqrt(Function('pk')(tau)**2 + Function('qk')(tau)**2)})\n",
    "print(ddphir)"
   ]
  },
  {
   "cell_type": "code",
   "execution_count": 8,
   "metadata": {},
   "outputs": [
    {
     "name": "stdout",
     "output_type": "stream",
     "text": [
      "Uu*(pk(tau)**2/sqrt(pk(tau)**2 + qk(tau)**2) + qk(tau)**2/sqrt(pk(tau)**2 + qk(tau)**2))\n",
      "Psi_theta_theta*(-h/2 - hT)*(-n*pk(tau)*Derivative(ak(tau), tau)*Derivative(pk(tau), tau)/sqrt(pk(tau)**2 + qk(tau)**2) + n*qk(tau)*Derivative(ak(tau), tau)*Derivative(qk(tau), tau)/sqrt(pk(tau)**2 + qk(tau)**2) + pk(tau)*Derivative(qk(tau), (tau, 2))/sqrt(pk(tau)**2 + qk(tau)**2) + qk(tau)*Derivative(pk(tau), (tau, 2))/sqrt(pk(tau)**2 + qk(tau)**2))/Rk\n",
      "Psi_theta_theta*(h + 2*hT)*(n*pk(tau)*Derivative(ak(tau), tau)*Derivative(pk(tau), tau) - n*qk(tau)*Derivative(ak(tau), tau)*Derivative(qk(tau), tau) - pk(tau)*Derivative(qk(tau), (tau, 2)) - qk(tau)*Derivative(pk(tau), (tau, 2)))/(2*Rk*sqrt(pk(tau)**2 + qk(tau)**2))\n"
     ]
    }
   ],
   "source": [
    "print(zr)\n",
    "zr=zr.factor()\n",
    "dzr=dzr.factor()\n",
    "ddzr=ddzr.factor()\n",
    "dvqk=dvqk.factor()\n",
    "dvpk=dvpk.factor()\n",
    "duqk=duqk.factor()\n",
    "dupk=dupk.factor()\n",
    "dphir=dphir.factor()\n",
    "print(ddphir)\n",
    "ddphir=ddphir.factor()\n",
    "print(ddphir)"
   ]
  },
  {
   "cell_type": "code",
   "execution_count": 9,
   "metadata": {},
   "outputs": [],
   "source": [
    "ddzr=ddzr.subs(Derivative(Function('ak')(tau),tau), (Function('qk')(tau)*Derivative(Function('pk')(tau),tau)-Function('pk')(tau)*Derivative(Function('qk')(tau),tau))/(n*(Function('pk')(tau)**2+Function('qk')(tau)**2  )) )\n",
    "\n",
    "ddphir=ddphir.subs(Derivative(Function('ak')(tau),tau), (Function('qk')(tau)*Derivative(Function('pk')(tau),tau)-Function('pk')(tau)*Derivative(Function('qk')(tau),tau))/(n*(Function('pk')(tau)**2+Function('qk')(tau)**2  )) )"
   ]
  },
  {
   "cell_type": "code",
   "execution_count": 9,
   "metadata": {},
   "outputs": [
    {
     "name": "stdout",
     "output_type": "stream",
     "text": [
      "Psi_theta_theta*(h + 2*hT)*((-pk(tau)*Derivative(qk(tau), tau) + qk(tau)*Derivative(pk(tau), tau))*pk(tau)*Derivative(pk(tau), tau)/(pk(tau)**2 + qk(tau)**2) - (-pk(tau)*Derivative(qk(tau), tau) + qk(tau)*Derivative(pk(tau), tau))*qk(tau)*Derivative(qk(tau), tau)/(pk(tau)**2 + qk(tau)**2) - pk(tau)*Derivative(qk(tau), (tau, 2)) - qk(tau)*Derivative(pk(tau), (tau, 2)))/(2*Rk*sqrt(pk(tau)**2 + qk(tau)**2))\n"
     ]
    }
   ],
   "source": [
    "print(ddphir)"
   ]
  },
  {
   "cell_type": "code",
   "execution_count": 10,
   "metadata": {},
   "outputs": [
    {
     "data": {
      "text/latex": [
       "$\\displaystyle - \\frac{\\Psi_{\\theta \\theta} \\left(h + 2 hT\\right) \\left(\\operatorname{pk}^{3}{\\left(\\tau \\right)} \\frac{d^{2}}{d \\tau^{2}} \\operatorname{qk}{\\left(\\tau \\right)} + \\operatorname{pk}^{2}{\\left(\\tau \\right)} \\operatorname{qk}{\\left(\\tau \\right)} \\frac{d^{2}}{d \\tau^{2}} \\operatorname{pk}{\\left(\\tau \\right)} + \\operatorname{pk}^{2}{\\left(\\tau \\right)} \\frac{d}{d \\tau} \\operatorname{pk}{\\left(\\tau \\right)} \\frac{d}{d \\tau} \\operatorname{qk}{\\left(\\tau \\right)} + \\operatorname{pk}{\\left(\\tau \\right)} \\operatorname{qk}^{2}{\\left(\\tau \\right)} \\frac{d^{2}}{d \\tau^{2}} \\operatorname{qk}{\\left(\\tau \\right)} - \\operatorname{pk}{\\left(\\tau \\right)} \\operatorname{qk}{\\left(\\tau \\right)} \\left(\\frac{d}{d \\tau} \\operatorname{pk}{\\left(\\tau \\right)}\\right)^{2} - \\operatorname{pk}{\\left(\\tau \\right)} \\operatorname{qk}{\\left(\\tau \\right)} \\left(\\frac{d}{d \\tau} \\operatorname{qk}{\\left(\\tau \\right)}\\right)^{2} + \\operatorname{qk}^{3}{\\left(\\tau \\right)} \\frac{d^{2}}{d \\tau^{2}} \\operatorname{pk}{\\left(\\tau \\right)} + \\operatorname{qk}^{2}{\\left(\\tau \\right)} \\frac{d}{d \\tau} \\operatorname{pk}{\\left(\\tau \\right)} \\frac{d}{d \\tau} \\operatorname{qk}{\\left(\\tau \\right)}\\right)}{2 Rk \\left(\\operatorname{pk}^{2}{\\left(\\tau \\right)} + \\operatorname{qk}^{2}{\\left(\\tau \\right)}\\right)^{\\frac{3}{2}}}$"
      ],
      "text/plain": [
       "-Psi_theta_theta*(h + 2*hT)*(pk(tau)**3*Derivative(qk(tau), (tau, 2)) + pk(tau)**2*qk(tau)*Derivative(pk(tau), (tau, 2)) + pk(tau)**2*Derivative(pk(tau), tau)*Derivative(qk(tau), tau) + pk(tau)*qk(tau)**2*Derivative(qk(tau), (tau, 2)) - pk(tau)*qk(tau)*Derivative(pk(tau), tau)**2 - pk(tau)*qk(tau)*Derivative(qk(tau), tau)**2 + qk(tau)**3*Derivative(pk(tau), (tau, 2)) + qk(tau)**2*Derivative(pk(tau), tau)*Derivative(qk(tau), tau))/(2*Rk*(pk(tau)**2 + qk(tau)**2)**(3/2))"
      ]
     },
     "execution_count": 10,
     "metadata": {},
     "output_type": "execute_result"
    }
   ],
   "source": [
    "ddphir.factor()"
   ]
  },
  {
   "cell_type": "code",
   "execution_count": 11,
   "metadata": {},
   "outputs": [
    {
     "data": {
      "text/latex": [
       "$\\displaystyle - \\frac{\\Psi_{\\theta \\theta} \\left(h + 2 hT\\right) \\left(\\operatorname{pk}{\\left(\\tau \\right)} \\frac{d}{d \\tau} \\operatorname{qk}{\\left(\\tau \\right)} + \\operatorname{qk}{\\left(\\tau \\right)} \\frac{d}{d \\tau} \\operatorname{pk}{\\left(\\tau \\right)}\\right)}{2 Rk \\sqrt{\\operatorname{pk}^{2}{\\left(\\tau \\right)} + \\operatorname{qk}^{2}{\\left(\\tau \\right)}}}$"
      ],
      "text/plain": [
       "-Psi_theta_theta*(h + 2*hT)*(pk(tau)*Derivative(qk(tau), tau) + qk(tau)*Derivative(pk(tau), tau))/(2*Rk*sqrt(pk(tau)**2 + qk(tau)**2))"
      ]
     },
     "execution_count": 11,
     "metadata": {},
     "output_type": "execute_result"
    }
   ],
   "source": [
    "dphir"
   ]
  },
  {
   "cell_type": "code",
   "execution_count": 12,
   "metadata": {},
   "outputs": [],
   "source": [
    "Fv = cr*ps\n",
    "#FN = (1/n)*(mR*omega**2*ddzr + omega*dr*dzr + cr*zr + Fv)\n",
    "FN = (1/n)*(mR*omega**2*ddzr + cr*zr + Fv)       #dr = 0\n",
    "#FC = (1/n)*(Ir*omega**2*ddphir + drot*omega*dphir  + Texte)/Rk\n",
    "FC = (1/n)*(Ir*omega**2*ddphir + Texte)/Rk\n",
    "eq1 = -diff(pk,tau,2)-(1/(msT*omega))*d*diff(pk,tau)-pk-(1/(msT*omega**2))*cUo*Vo*sin(Omega*tau/omega)+(n/(msT*omega**2))*(-FN*dupk-FC*dvpk)\n",
    "eq2 = -diff(qk,tau,2)-(1/(msT*omega))*d*diff(qk,tau)-qk-(1/(msT*omega**2))*cUo*Vo*cos(Omega*tau/omega)+(n/(msT*omega**2))*(-FN*duqk-FC*dvqk)"
   ]
  },
  {
   "cell_type": "code",
   "execution_count": 14,
   "metadata": {},
   "outputs": [
    {
     "name": "stdout",
     "output_type": "stream",
     "text": [
      "-Vo*cUo*sin(tau)/(msT*omega**2) - d*Derivative(pk(tau), tau)/(msT*omega) - pk(tau) - Derivative(pk(tau), (tau, 2)) + n*(Psi_theta_theta*(h + 2*hT)*(Ir*Psi_theta_theta*omega**2*(h + 2*hT)*((-pk(tau)*Derivative(qk(tau), tau) + qk(tau)*Derivative(pk(tau), tau))*pk(tau)*Derivative(pk(tau), tau)/(pk(tau)**2 + qk(tau)**2) - (-pk(tau)*Derivative(qk(tau), tau) + qk(tau)*Derivative(pk(tau), tau))*qk(tau)*Derivative(qk(tau), tau)/(pk(tau)**2 + qk(tau)**2) - pk(tau)*Derivative(qk(tau), (tau, 2)) - qk(tau)*Derivative(pk(tau), (tau, 2)))/(2*Rk*sqrt(pk(tau)**2 + qk(tau)**2)) + Texte)*qk(tau)/(2*Rk*n*sqrt(pk(tau)**2 + qk(tau)**2)) - Uu*(Uu*cr*sqrt(pk(tau)**2 + qk(tau)**2) + Uu*mR*omega**2*(-(-pk(tau)*Derivative(qk(tau), tau) + qk(tau)*Derivative(pk(tau), tau))*pk(tau)*Derivative(qk(tau), tau)/(pk(tau)**2 + qk(tau)**2) + (-pk(tau)*Derivative(qk(tau), tau) + qk(tau)*Derivative(pk(tau), tau))*qk(tau)*Derivative(pk(tau), tau)/(pk(tau)**2 + qk(tau)**2) + pk(tau)*Derivative(pk(tau), (tau, 2)) + qk(tau)*Derivative(qk(tau), (tau, 2)))/sqrt(pk(tau)**2 + qk(tau)**2) + cr*ps)*pk(tau)/(n*sqrt(pk(tau)**2 + qk(tau)**2)))/(msT*omega**2)\n"
     ]
    }
   ],
   "source": [
    "print(eq1)\n",
    "#print(eq1.factor())"
   ]
  },
  {
   "cell_type": "code",
   "execution_count": 13,
   "metadata": {},
   "outputs": [
    {
     "data": {
      "text/latex": [
       "$\\displaystyle - \\frac{Vo cUo \\cos{\\left(\\tau \\right)}}{msT \\omega^{2}} - \\frac{d \\frac{d}{d \\tau} \\operatorname{qk}{\\left(\\tau \\right)}}{msT \\omega} - \\operatorname{qk}{\\left(\\tau \\right)} - \\frac{d^{2}}{d \\tau^{2}} \\operatorname{qk}{\\left(\\tau \\right)} + \\frac{n \\left(\\frac{\\Psi_{\\theta \\theta} \\left(h + 2 hT\\right) \\left(\\frac{Ir \\Psi_{\\theta \\theta} \\omega^{2} \\left(h + 2 hT\\right) \\left(\\frac{\\left(- \\operatorname{pk}{\\left(\\tau \\right)} \\frac{d}{d \\tau} \\operatorname{qk}{\\left(\\tau \\right)} + \\operatorname{qk}{\\left(\\tau \\right)} \\frac{d}{d \\tau} \\operatorname{pk}{\\left(\\tau \\right)}\\right) \\operatorname{pk}{\\left(\\tau \\right)} \\frac{d}{d \\tau} \\operatorname{pk}{\\left(\\tau \\right)}}{\\operatorname{pk}^{2}{\\left(\\tau \\right)} + \\operatorname{qk}^{2}{\\left(\\tau \\right)}} - \\frac{\\left(- \\operatorname{pk}{\\left(\\tau \\right)} \\frac{d}{d \\tau} \\operatorname{qk}{\\left(\\tau \\right)} + \\operatorname{qk}{\\left(\\tau \\right)} \\frac{d}{d \\tau} \\operatorname{pk}{\\left(\\tau \\right)}\\right) \\operatorname{qk}{\\left(\\tau \\right)} \\frac{d}{d \\tau} \\operatorname{qk}{\\left(\\tau \\right)}}{\\operatorname{pk}^{2}{\\left(\\tau \\right)} + \\operatorname{qk}^{2}{\\left(\\tau \\right)}} - \\operatorname{pk}{\\left(\\tau \\right)} \\frac{d^{2}}{d \\tau^{2}} \\operatorname{qk}{\\left(\\tau \\right)} - \\operatorname{qk}{\\left(\\tau \\right)} \\frac{d^{2}}{d \\tau^{2}} \\operatorname{pk}{\\left(\\tau \\right)}\\right)}{2 Rk \\sqrt{\\operatorname{pk}^{2}{\\left(\\tau \\right)} + \\operatorname{qk}^{2}{\\left(\\tau \\right)}}} + Texte\\right) \\operatorname{pk}{\\left(\\tau \\right)}}{2 Rk n \\sqrt{\\operatorname{pk}^{2}{\\left(\\tau \\right)} + \\operatorname{qk}^{2}{\\left(\\tau \\right)}}} - \\frac{Uu \\left(Uu cr \\sqrt{\\operatorname{pk}^{2}{\\left(\\tau \\right)} + \\operatorname{qk}^{2}{\\left(\\tau \\right)}} + \\frac{Uu mR \\omega^{2} \\left(- \\frac{\\left(- \\operatorname{pk}{\\left(\\tau \\right)} \\frac{d}{d \\tau} \\operatorname{qk}{\\left(\\tau \\right)} + \\operatorname{qk}{\\left(\\tau \\right)} \\frac{d}{d \\tau} \\operatorname{pk}{\\left(\\tau \\right)}\\right) \\operatorname{pk}{\\left(\\tau \\right)} \\frac{d}{d \\tau} \\operatorname{qk}{\\left(\\tau \\right)}}{\\operatorname{pk}^{2}{\\left(\\tau \\right)} + \\operatorname{qk}^{2}{\\left(\\tau \\right)}} + \\frac{\\left(- \\operatorname{pk}{\\left(\\tau \\right)} \\frac{d}{d \\tau} \\operatorname{qk}{\\left(\\tau \\right)} + \\operatorname{qk}{\\left(\\tau \\right)} \\frac{d}{d \\tau} \\operatorname{pk}{\\left(\\tau \\right)}\\right) \\operatorname{qk}{\\left(\\tau \\right)} \\frac{d}{d \\tau} \\operatorname{pk}{\\left(\\tau \\right)}}{\\operatorname{pk}^{2}{\\left(\\tau \\right)} + \\operatorname{qk}^{2}{\\left(\\tau \\right)}} + \\operatorname{pk}{\\left(\\tau \\right)} \\frac{d^{2}}{d \\tau^{2}} \\operatorname{pk}{\\left(\\tau \\right)} + \\operatorname{qk}{\\left(\\tau \\right)} \\frac{d^{2}}{d \\tau^{2}} \\operatorname{qk}{\\left(\\tau \\right)}\\right)}{\\sqrt{\\operatorname{pk}^{2}{\\left(\\tau \\right)} + \\operatorname{qk}^{2}{\\left(\\tau \\right)}}} + cr ps\\right) \\operatorname{qk}{\\left(\\tau \\right)}}{n \\sqrt{\\operatorname{pk}^{2}{\\left(\\tau \\right)} + \\operatorname{qk}^{2}{\\left(\\tau \\right)}}}\\right)}{msT \\omega^{2}}$"
      ],
      "text/plain": [
       "-Vo*cUo*cos(tau)/(msT*omega**2) - d*Derivative(qk(tau), tau)/(msT*omega) - qk(tau) - Derivative(qk(tau), (tau, 2)) + n*(Psi_theta_theta*(h + 2*hT)*(Ir*Psi_theta_theta*omega**2*(h + 2*hT)*((-pk(tau)*Derivative(qk(tau), tau) + qk(tau)*Derivative(pk(tau), tau))*pk(tau)*Derivative(pk(tau), tau)/(pk(tau)**2 + qk(tau)**2) - (-pk(tau)*Derivative(qk(tau), tau) + qk(tau)*Derivative(pk(tau), tau))*qk(tau)*Derivative(qk(tau), tau)/(pk(tau)**2 + qk(tau)**2) - pk(tau)*Derivative(qk(tau), (tau, 2)) - qk(tau)*Derivative(pk(tau), (tau, 2)))/(2*Rk*sqrt(pk(tau)**2 + qk(tau)**2)) + Texte)*pk(tau)/(2*Rk*n*sqrt(pk(tau)**2 + qk(tau)**2)) - Uu*(Uu*cr*sqrt(pk(tau)**2 + qk(tau)**2) + Uu*mR*omega**2*(-(-pk(tau)*Derivative(qk(tau), tau) + qk(tau)*Derivative(pk(tau), tau))*pk(tau)*Derivative(qk(tau), tau)/(pk(tau)**2 + qk(tau)**2) + (-pk(tau)*Derivative(qk(tau), tau) + qk(tau)*Derivative(pk(tau), tau))*qk(tau)*Derivative(pk(tau), tau)/(pk(tau)**2 + qk(tau)**2) + pk(tau)*Derivative(pk(tau), (tau, 2)) + qk(tau)*Derivative(qk(tau), (tau, 2)))/sqrt(pk(tau)**2 + qk(tau)**2) + cr*ps)*qk(tau)/(n*sqrt(pk(tau)**2 + qk(tau)**2)))/(msT*omega**2)"
      ]
     },
     "execution_count": 13,
     "metadata": {},
     "output_type": "execute_result"
    }
   ],
   "source": [
    "eq2"
   ]
  },
  {
   "cell_type": "code",
   "execution_count": 14,
   "metadata": {},
   "outputs": [],
   "source": [
    "DIFF2Q , DIFF2P= symbols('DIFF2Q, DIFF2P')\n",
    "eq1sss = eq1.subs({Derivative(qk,tau,tau) : DIFF2Q, Derivative(pk,tau,tau):DIFF2P})\n",
    "eq2sss = eq2.subs({Derivative(qk,tau,tau) : DIFF2Q, Derivative(pk,tau,tau):DIFF2P})"
   ]
  },
  {
   "cell_type": "code",
   "execution_count": 15,
   "metadata": {},
   "outputs": [],
   "source": [
    "solution= solve([eq1sss , eq2sss],[DIFF2Q , DIFF2P])"
   ]
  },
  {
   "cell_type": "code",
   "execution_count": 18,
   "metadata": {},
   "outputs": [
    {
     "data": {
      "text/plain": [
       "{DIFF2Q: (Ir*Psi_theta_theta**2*Uu**2*cr*h**2*pk(tau)**6*qk(tau) + Ir*Psi_theta_theta**2*Uu**2*cr*h**2*pk(tau)**4*qk(tau)**3 - Ir*Psi_theta_theta**2*Uu**2*cr*h**2*pk(tau)**2*qk(tau)**5 - Ir*Psi_theta_theta**2*Uu**2*cr*h**2*qk(tau)**7 + 4*Ir*Psi_theta_theta**2*Uu**2*cr*h*hT*pk(tau)**6*qk(tau) + 4*Ir*Psi_theta_theta**2*Uu**2*cr*h*hT*pk(tau)**4*qk(tau)**3 - 4*Ir*Psi_theta_theta**2*Uu**2*cr*h*hT*pk(tau)**2*qk(tau)**5 - 4*Ir*Psi_theta_theta**2*Uu**2*cr*h*hT*qk(tau)**7 + 4*Ir*Psi_theta_theta**2*Uu**2*cr*hT**2*pk(tau)**6*qk(tau) + 4*Ir*Psi_theta_theta**2*Uu**2*cr*hT**2*pk(tau)**4*qk(tau)**3 - 4*Ir*Psi_theta_theta**2*Uu**2*cr*hT**2*pk(tau)**2*qk(tau)**5 - 4*Ir*Psi_theta_theta**2*Uu**2*cr*hT**2*qk(tau)**7 - Ir*Psi_theta_theta**2*Uu**2*h**2*mR*omega**2*pk(tau)**5*Derivative(pk(tau), tau)*Derivative(qk(tau), tau) + Ir*Psi_theta_theta**2*Uu**2*h**2*mR*omega**2*pk(tau)**4*qk(tau)*Derivative(pk(tau), tau)**2 + 2*Ir*Psi_theta_theta**2*Uu**2*h**2*mR*omega**2*pk(tau)**4*qk(tau)*Derivative(qk(tau), tau)**2 - 2*Ir*Psi_theta_theta**2*Uu**2*h**2*mR*omega**2*pk(tau)**3*qk(tau)**2*Derivative(pk(tau), tau)*Derivative(qk(tau), tau) - 2*Ir*Psi_theta_theta**2*Uu**2*h**2*mR*omega**2*pk(tau)**2*qk(tau)**3*Derivative(qk(tau), tau)**2 + 3*Ir*Psi_theta_theta**2*Uu**2*h**2*mR*omega**2*pk(tau)*qk(tau)**4*Derivative(pk(tau), tau)*Derivative(qk(tau), tau) - Ir*Psi_theta_theta**2*Uu**2*h**2*mR*omega**2*qk(tau)**5*Derivative(pk(tau), tau)**2 - 4*Ir*Psi_theta_theta**2*Uu**2*h*hT*mR*omega**2*pk(tau)**5*Derivative(pk(tau), tau)*Derivative(qk(tau), tau) + 4*Ir*Psi_theta_theta**2*Uu**2*h*hT*mR*omega**2*pk(tau)**4*qk(tau)*Derivative(pk(tau), tau)**2 + 8*Ir*Psi_theta_theta**2*Uu**2*h*hT*mR*omega**2*pk(tau)**4*qk(tau)*Derivative(qk(tau), tau)**2 - 8*Ir*Psi_theta_theta**2*Uu**2*h*hT*mR*omega**2*pk(tau)**3*qk(tau)**2*Derivative(pk(tau), tau)*Derivative(qk(tau), tau) - 8*Ir*Psi_theta_theta**2*Uu**2*h*hT*mR*omega**2*pk(tau)**2*qk(tau)**3*Derivative(qk(tau), tau)**2 + 12*Ir*Psi_theta_theta**2*Uu**2*h*hT*mR*omega**2*pk(tau)*qk(tau)**4*Derivative(pk(tau), tau)*Derivative(qk(tau), tau) - 4*Ir*Psi_theta_theta**2*Uu**2*h*hT*mR*omega**2*qk(tau)**5*Derivative(pk(tau), tau)**2 - 4*Ir*Psi_theta_theta**2*Uu**2*hT**2*mR*omega**2*pk(tau)**5*Derivative(pk(tau), tau)*Derivative(qk(tau), tau) + 4*Ir*Psi_theta_theta**2*Uu**2*hT**2*mR*omega**2*pk(tau)**4*qk(tau)*Derivative(pk(tau), tau)**2 + 8*Ir*Psi_theta_theta**2*Uu**2*hT**2*mR*omega**2*pk(tau)**4*qk(tau)*Derivative(qk(tau), tau)**2 - 8*Ir*Psi_theta_theta**2*Uu**2*hT**2*mR*omega**2*pk(tau)**3*qk(tau)**2*Derivative(pk(tau), tau)*Derivative(qk(tau), tau) - 8*Ir*Psi_theta_theta**2*Uu**2*hT**2*mR*omega**2*pk(tau)**2*qk(tau)**3*Derivative(qk(tau), tau)**2 + 12*Ir*Psi_theta_theta**2*Uu**2*hT**2*mR*omega**2*pk(tau)*qk(tau)**4*Derivative(pk(tau), tau)*Derivative(qk(tau), tau) - 4*Ir*Psi_theta_theta**2*Uu**2*hT**2*mR*omega**2*qk(tau)**5*Derivative(pk(tau), tau)**2 + Ir*Psi_theta_theta**2*Uu*cr*h**2*ps*sqrt(pk(tau)**2 + qk(tau)**2)*pk(tau)**4*qk(tau) - Ir*Psi_theta_theta**2*Uu*cr*h**2*ps*sqrt(pk(tau)**2 + qk(tau)**2)*qk(tau)**5 + 4*Ir*Psi_theta_theta**2*Uu*cr*h*hT*ps*sqrt(pk(tau)**2 + qk(tau)**2)*pk(tau)**4*qk(tau) - 4*Ir*Psi_theta_theta**2*Uu*cr*h*hT*ps*sqrt(pk(tau)**2 + qk(tau)**2)*qk(tau)**5 + 4*Ir*Psi_theta_theta**2*Uu*cr*hT**2*ps*sqrt(pk(tau)**2 + qk(tau)**2)*pk(tau)**4*qk(tau) - 4*Ir*Psi_theta_theta**2*Uu*cr*hT**2*ps*sqrt(pk(tau)**2 + qk(tau)**2)*qk(tau)**5 + Ir*Psi_theta_theta**2*Vo*cUo*h**2*pk(tau)**5*qk(tau)*sin(tau) - Ir*Psi_theta_theta**2*Vo*cUo*h**2*pk(tau)**4*qk(tau)**2*cos(tau) + 2*Ir*Psi_theta_theta**2*Vo*cUo*h**2*pk(tau)**3*qk(tau)**3*sin(tau) - 2*Ir*Psi_theta_theta**2*Vo*cUo*h**2*pk(tau)**2*qk(tau)**4*cos(tau) + Ir*Psi_theta_theta**2*Vo*cUo*h**2*pk(tau)*qk(tau)**5*sin(tau) - Ir*Psi_theta_theta**2*Vo*cUo*h**2*qk(tau)**6*cos(tau) + 4*Ir*Psi_theta_theta**2*Vo*cUo*h*hT*pk(tau)**5*qk(tau)*sin(tau) - 4*Ir*Psi_theta_theta**2*Vo*cUo*h*hT*pk(tau)**4*qk(tau)**2*cos(tau) + 8*Ir*Psi_theta_theta**2*Vo*cUo*h*hT*pk(tau)**3*qk(tau)**3*sin(tau) - 8*Ir*Psi_theta_theta**2*Vo*cUo*h*hT*pk(tau)**2*qk(tau)**4*cos(tau) + 4*Ir*Psi_theta_theta**2*Vo*cUo*h*hT*pk(tau)*qk(tau)**5*sin(tau) - 4*Ir*Psi_theta_theta**2*Vo*cUo*h*hT*qk(tau)**6*cos(tau) + 4*Ir*Psi_theta_theta**2*Vo*cUo*hT**2*pk(tau)**5*qk(tau)*sin(tau) - 4*Ir*Psi_theta_theta**2*Vo*cUo*hT**2*pk(tau)**4*qk(tau)**2*cos(tau) + 8*Ir*Psi_theta_theta**2*Vo*cUo*hT**2*pk(tau)**3*qk(tau)**3*sin(tau) - 8*Ir*Psi_theta_theta**2*Vo*cUo*hT**2*pk(tau)**2*qk(tau)**4*cos(tau) + 4*Ir*Psi_theta_theta**2*Vo*cUo*hT**2*pk(tau)*qk(tau)**5*sin(tau) - 4*Ir*Psi_theta_theta**2*Vo*cUo*hT**2*qk(tau)**6*cos(tau) + Ir*Psi_theta_theta**2*d*h**2*omega*pk(tau)**5*qk(tau)*Derivative(pk(tau), tau) - Ir*Psi_theta_theta**2*d*h**2*omega*pk(tau)**4*qk(tau)**2*Derivative(qk(tau), tau) + 2*Ir*Psi_theta_theta**2*d*h**2*omega*pk(tau)**3*qk(tau)**3*Derivative(pk(tau), tau) - 2*Ir*Psi_theta_theta**2*d*h**2*omega*pk(tau)**2*qk(tau)**4*Derivative(qk(tau), tau) + Ir*Psi_theta_theta**2*d*h**2*omega*pk(tau)*qk(tau)**5*Derivative(pk(tau), tau) - Ir*Psi_theta_theta**2*d*h**2*omega*qk(tau)**6*Derivative(qk(tau), tau) + 4*Ir*Psi_theta_theta**2*d*h*hT*omega*pk(tau)**5*qk(tau)*Derivative(pk(tau), tau) - 4*Ir*Psi_theta_theta**2*d*h*hT*omega*pk(tau)**4*qk(tau)**2*Derivative(qk(tau), tau) + 8*Ir*Psi_theta_theta**2*d*h*hT*omega*pk(tau)**3*qk(tau)**3*Derivative(pk(tau), tau) - 8*Ir*Psi_theta_theta**2*d*h*hT*omega*pk(tau)**2*qk(tau)**4*Derivative(qk(tau), tau) + 4*Ir*Psi_theta_theta**2*d*h*hT*omega*pk(tau)*qk(tau)**5*Derivative(pk(tau), tau) - 4*Ir*Psi_theta_theta**2*d*h*hT*omega*qk(tau)**6*Derivative(qk(tau), tau) + 4*Ir*Psi_theta_theta**2*d*hT**2*omega*pk(tau)**5*qk(tau)*Derivative(pk(tau), tau) - 4*Ir*Psi_theta_theta**2*d*hT**2*omega*pk(tau)**4*qk(tau)**2*Derivative(qk(tau), tau) + 8*Ir*Psi_theta_theta**2*d*hT**2*omega*pk(tau)**3*qk(tau)**3*Derivative(pk(tau), tau) - 8*Ir*Psi_theta_theta**2*d*hT**2*omega*pk(tau)**2*qk(tau)**4*Derivative(qk(tau), tau) + 4*Ir*Psi_theta_theta**2*d*hT**2*omega*pk(tau)*qk(tau)**5*Derivative(pk(tau), tau) - 4*Ir*Psi_theta_theta**2*d*hT**2*omega*qk(tau)**6*Derivative(qk(tau), tau) + Ir*Psi_theta_theta**2*h**2*msT*omega**2*pk(tau)**6*qk(tau) - Ir*Psi_theta_theta**2*h**2*msT*omega**2*pk(tau)**5*Derivative(pk(tau), tau)*Derivative(qk(tau), tau) + Ir*Psi_theta_theta**2*h**2*msT*omega**2*pk(tau)**4*qk(tau)**3 + Ir*Psi_theta_theta**2*h**2*msT*omega**2*pk(tau)**4*qk(tau)*Derivative(pk(tau), tau)**2 + Ir*Psi_theta_theta**2*h**2*msT*omega**2*pk(tau)**4*qk(tau)*Derivative(qk(tau), tau)**2 - 2*Ir*Psi_theta_theta**2*h**2*msT*omega**2*pk(tau)**3*qk(tau)**2*Derivative(pk(tau), tau)*Derivative(qk(tau), tau) - Ir*Psi_theta_theta**2*h**2*msT*omega**2*pk(tau)**2*qk(tau)**5 + Ir*Psi_theta_theta**2*h**2*msT*omega**2*pk(tau)**2*qk(tau)**3*Derivative(pk(tau), tau)**2 + Ir*Psi_theta_theta**2*h**2*msT*omega**2*pk(tau)**2*qk(tau)**3*Derivative(qk(tau), tau)**2 - Ir*Psi_theta_theta**2*h**2*msT*omega**2*pk(tau)*qk(tau)**4*Derivative(pk(tau), tau)*Derivative(qk(tau), tau) - Ir*Psi_theta_theta**2*h**2*msT*omega**2*qk(tau)**7 + 4*Ir*Psi_theta_theta**2*h*hT*msT*omega**2*pk(tau)**6*qk(tau) - 4*Ir*Psi_theta_theta**2*h*hT*msT*omega**2*pk(tau)**5*Derivative(pk(tau), tau)*Derivative(qk(tau), tau) + 4*Ir*Psi_theta_theta**2*h*hT*msT*omega**2*pk(tau)**4*qk(tau)**3 + 4*Ir*Psi_theta_theta**2*h*hT*msT*omega**2*pk(tau)**4*qk(tau)*Derivative(pk(tau), tau)**2 + 4*Ir*Psi_theta_theta**2*h*hT*msT*omega**2*pk(tau)**4*qk(tau)*Derivative(qk(tau), tau)**2 - 8*Ir*Psi_theta_theta**2*h*hT*msT*omega**2*pk(tau)**3*qk(tau)**2*Derivative(pk(tau), tau)*Derivative(qk(tau), tau) - 4*Ir*Psi_theta_theta**2*h*hT*msT*omega**2*pk(tau)**2*qk(tau)**5 + 4*Ir*Psi_theta_theta**2*h*hT*msT*omega**2*pk(tau)**2*qk(tau)**3*Derivative(pk(tau), tau)**2 + 4*Ir*Psi_theta_theta**2*h*hT*msT*omega**2*pk(tau)**2*qk(tau)**3*Derivative(qk(tau), tau)**2 - 4*Ir*Psi_theta_theta**2*h*hT*msT*omega**2*pk(tau)*qk(tau)**4*Derivative(pk(tau), tau)*Derivative(qk(tau), tau) - 4*Ir*Psi_theta_theta**2*h*hT*msT*omega**2*qk(tau)**7 + 4*Ir*Psi_theta_theta**2*hT**2*msT*omega**2*pk(tau)**6*qk(tau) - 4*Ir*Psi_theta_theta**2*hT**2*msT*omega**2*pk(tau)**5*Derivative(pk(tau), tau)*Derivative(qk(tau), tau) + 4*Ir*Psi_theta_theta**2*hT**2*msT*omega**2*pk(tau)**4*qk(tau)**3 + 4*Ir*Psi_theta_theta**2*hT**2*msT*omega**2*pk(tau)**4*qk(tau)*Derivative(pk(tau), tau)**2 + 4*Ir*Psi_theta_theta**2*hT**2*msT*omega**2*pk(tau)**4*qk(tau)*Derivative(qk(tau), tau)**2 - 8*Ir*Psi_theta_theta**2*hT**2*msT*omega**2*pk(tau)**3*qk(tau)**2*Derivative(pk(tau), tau)*Derivative(qk(tau), tau) - 4*Ir*Psi_theta_theta**2*hT**2*msT*omega**2*pk(tau)**2*qk(tau)**5 + 4*Ir*Psi_theta_theta**2*hT**2*msT*omega**2*pk(tau)**2*qk(tau)**3*Derivative(pk(tau), tau)**2 + 4*Ir*Psi_theta_theta**2*hT**2*msT*omega**2*pk(tau)**2*qk(tau)**3*Derivative(qk(tau), tau)**2 - 4*Ir*Psi_theta_theta**2*hT**2*msT*omega**2*pk(tau)*qk(tau)**4*Derivative(pk(tau), tau)*Derivative(qk(tau), tau) - 4*Ir*Psi_theta_theta**2*hT**2*msT*omega**2*qk(tau)**7 + 2*Psi_theta_theta*Rk*Texte*Uu**2*h*mR*sqrt(pk(tau)**2 + qk(tau)**2)*pk(tau)**5 - 2*Psi_theta_theta*Rk*Texte*Uu**2*h*mR*sqrt(pk(tau)**2 + qk(tau)**2)*pk(tau)*qk(tau)**4 + 4*Psi_theta_theta*Rk*Texte*Uu**2*hT*mR*sqrt(pk(tau)**2 + qk(tau)**2)*pk(tau)**5 - 4*Psi_theta_theta*Rk*Texte*Uu**2*hT*mR*sqrt(pk(tau)**2 + qk(tau)**2)*pk(tau)*qk(tau)**4 + 2*Psi_theta_theta*Rk*Texte*h*msT*sqrt(pk(tau)**2 + qk(tau)**2)*pk(tau)**5 + 4*Psi_theta_theta*Rk*Texte*h*msT*sqrt(pk(tau)**2 + qk(tau)**2)*pk(tau)**3*qk(tau)**2 + 2*Psi_theta_theta*Rk*Texte*h*msT*sqrt(pk(tau)**2 + qk(tau)**2)*pk(tau)*qk(tau)**4 + 4*Psi_theta_theta*Rk*Texte*hT*msT*sqrt(pk(tau)**2 + qk(tau)**2)*pk(tau)**5 + 8*Psi_theta_theta*Rk*Texte*hT*msT*sqrt(pk(tau)**2 + qk(tau)**2)*pk(tau)**3*qk(tau)**2 + 4*Psi_theta_theta*Rk*Texte*hT*msT*sqrt(pk(tau)**2 + qk(tau)**2)*pk(tau)*qk(tau)**4 - 4*Rk**2*Uu**2*Vo*cUo*mR*pk(tau)**6*cos(tau) + 4*Rk**2*Uu**2*Vo*cUo*mR*pk(tau)**5*qk(tau)*sin(tau) - 8*Rk**2*Uu**2*Vo*cUo*mR*pk(tau)**4*qk(tau)**2*cos(tau) + 8*Rk**2*Uu**2*Vo*cUo*mR*pk(tau)**3*qk(tau)**3*sin(tau) - 4*Rk**2*Uu**2*Vo*cUo*mR*pk(tau)**2*qk(tau)**4*cos(tau) + 4*Rk**2*Uu**2*Vo*cUo*mR*pk(tau)*qk(tau)**5*sin(tau) - 4*Rk**2*Uu**2*cr*msT*pk(tau)**6*qk(tau) - 12*Rk**2*Uu**2*cr*msT*pk(tau)**4*qk(tau)**3 - 12*Rk**2*Uu**2*cr*msT*pk(tau)**2*qk(tau)**5 - 4*Rk**2*Uu**2*cr*msT*qk(tau)**7 - 4*Rk**2*Uu**2*d*mR*omega*pk(tau)**6*Derivative(qk(tau), tau) + 4*Rk**2*Uu**2*d*mR*omega*pk(tau)**5*qk(tau)*Derivative(pk(tau), tau) - 8*Rk**2*Uu**2*d*mR*omega*pk(tau)**4*qk(tau)**2*Derivative(qk(tau), tau) + 8*Rk**2*Uu**2*d*mR*omega*pk(tau)**3*qk(tau)**3*Derivative(pk(tau), tau) - 4*Rk**2*Uu**2*d*mR*omega*pk(tau)**2*qk(tau)**4*Derivative(qk(tau), tau) + 4*Rk**2*Uu**2*d*mR*omega*pk(tau)*qk(tau)**5*Derivative(pk(tau), tau) - 4*Rk**2*Uu**2*mR*msT*omega**2*pk(tau)**4*qk(tau)*Derivative(qk(tau), tau)**2 + 8*Rk**2*Uu**2*mR*msT*omega**2*pk(tau)**3*qk(tau)**2*Derivative(pk(tau), tau)*Derivative(qk(tau), tau) - 4*Rk**2*Uu**2*mR*msT*omega**2*pk(tau)**2*qk(tau)**3*Derivative(pk(tau), tau)**2 - 4*Rk**2*Uu**2*mR*msT*omega**2*pk(tau)**2*qk(tau)**3*Derivative(qk(tau), tau)**2 + 8*Rk**2*Uu**2*mR*msT*omega**2*pk(tau)*qk(tau)**4*Derivative(pk(tau), tau)*Derivative(qk(tau), tau) - 4*Rk**2*Uu**2*mR*msT*omega**2*qk(tau)**5*Derivative(pk(tau), tau)**2 - 4*Rk**2*Uu*cr*msT*ps*sqrt(pk(tau)**2 + qk(tau)**2)*pk(tau)**4*qk(tau) - 8*Rk**2*Uu*cr*msT*ps*sqrt(pk(tau)**2 + qk(tau)**2)*pk(tau)**2*qk(tau)**3 - 4*Rk**2*Uu*cr*msT*ps*sqrt(pk(tau)**2 + qk(tau)**2)*qk(tau)**5 - 4*Rk**2*Vo*cUo*msT*pk(tau)**6*cos(tau) - 12*Rk**2*Vo*cUo*msT*pk(tau)**4*qk(tau)**2*cos(tau) - 12*Rk**2*Vo*cUo*msT*pk(tau)**2*qk(tau)**4*cos(tau) - 4*Rk**2*Vo*cUo*msT*qk(tau)**6*cos(tau) - 4*Rk**2*d*msT*omega*pk(tau)**6*Derivative(qk(tau), tau) - 12*Rk**2*d*msT*omega*pk(tau)**4*qk(tau)**2*Derivative(qk(tau), tau) - 12*Rk**2*d*msT*omega*pk(tau)**2*qk(tau)**4*Derivative(qk(tau), tau) - 4*Rk**2*d*msT*omega*qk(tau)**6*Derivative(qk(tau), tau) - 4*Rk**2*msT**2*omega**2*pk(tau)**6*qk(tau) - 12*Rk**2*msT**2*omega**2*pk(tau)**4*qk(tau)**3 - 12*Rk**2*msT**2*omega**2*pk(tau)**2*qk(tau)**5 - 4*Rk**2*msT**2*omega**2*qk(tau)**7)/(omega**2*(Ir*Psi_theta_theta**2*Uu**2*h**2*mR*pk(tau)**6 - Ir*Psi_theta_theta**2*Uu**2*h**2*mR*pk(tau)**4*qk(tau)**2 - Ir*Psi_theta_theta**2*Uu**2*h**2*mR*pk(tau)**2*qk(tau)**4 + Ir*Psi_theta_theta**2*Uu**2*h**2*mR*qk(tau)**6 + 4*Ir*Psi_theta_theta**2*Uu**2*h*hT*mR*pk(tau)**6 - 4*Ir*Psi_theta_theta**2*Uu**2*h*hT*mR*pk(tau)**4*qk(tau)**2 - 4*Ir*Psi_theta_theta**2*Uu**2*h*hT*mR*pk(tau)**2*qk(tau)**4 + 4*Ir*Psi_theta_theta**2*Uu**2*h*hT*mR*qk(tau)**6 + 4*Ir*Psi_theta_theta**2*Uu**2*hT**2*mR*pk(tau)**6 - 4*Ir*Psi_theta_theta**2*Uu**2*hT**2*mR*pk(tau)**4*qk(tau)**2 - 4*Ir*Psi_theta_theta**2*Uu**2*hT**2*mR*pk(tau)**2*qk(tau)**4 + 4*Ir*Psi_theta_theta**2*Uu**2*hT**2*mR*qk(tau)**6 + Ir*Psi_theta_theta**2*h**2*msT*pk(tau)**6 + 3*Ir*Psi_theta_theta**2*h**2*msT*pk(tau)**4*qk(tau)**2 + 3*Ir*Psi_theta_theta**2*h**2*msT*pk(tau)**2*qk(tau)**4 + Ir*Psi_theta_theta**2*h**2*msT*qk(tau)**6 + 4*Ir*Psi_theta_theta**2*h*hT*msT*pk(tau)**6 + 12*Ir*Psi_theta_theta**2*h*hT*msT*pk(tau)**4*qk(tau)**2 + 12*Ir*Psi_theta_theta**2*h*hT*msT*pk(tau)**2*qk(tau)**4 + 4*Ir*Psi_theta_theta**2*h*hT*msT*qk(tau)**6 + 4*Ir*Psi_theta_theta**2*hT**2*msT*pk(tau)**6 + 12*Ir*Psi_theta_theta**2*hT**2*msT*pk(tau)**4*qk(tau)**2 + 12*Ir*Psi_theta_theta**2*hT**2*msT*pk(tau)**2*qk(tau)**4 + 4*Ir*Psi_theta_theta**2*hT**2*msT*qk(tau)**6 + 4*Rk**2*Uu**2*mR*msT*pk(tau)**6 + 12*Rk**2*Uu**2*mR*msT*pk(tau)**4*qk(tau)**2 + 12*Rk**2*Uu**2*mR*msT*pk(tau)**2*qk(tau)**4 + 4*Rk**2*Uu**2*mR*msT*qk(tau)**6 + 4*Rk**2*msT**2*pk(tau)**6 + 12*Rk**2*msT**2*pk(tau)**4*qk(tau)**2 + 12*Rk**2*msT**2*pk(tau)**2*qk(tau)**4 + 4*Rk**2*msT**2*qk(tau)**6)),\n",
       " DIFF2P: (-Ir*Psi_theta_theta**2*Uu**2*cr*h**2*pk(tau)**7 - Ir*Psi_theta_theta**2*Uu**2*cr*h**2*pk(tau)**5*qk(tau)**2 + Ir*Psi_theta_theta**2*Uu**2*cr*h**2*pk(tau)**3*qk(tau)**4 + Ir*Psi_theta_theta**2*Uu**2*cr*h**2*pk(tau)*qk(tau)**6 - 4*Ir*Psi_theta_theta**2*Uu**2*cr*h*hT*pk(tau)**7 - 4*Ir*Psi_theta_theta**2*Uu**2*cr*h*hT*pk(tau)**5*qk(tau)**2 + 4*Ir*Psi_theta_theta**2*Uu**2*cr*h*hT*pk(tau)**3*qk(tau)**4 + 4*Ir*Psi_theta_theta**2*Uu**2*cr*h*hT*pk(tau)*qk(tau)**6 - 4*Ir*Psi_theta_theta**2*Uu**2*cr*hT**2*pk(tau)**7 - 4*Ir*Psi_theta_theta**2*Uu**2*cr*hT**2*pk(tau)**5*qk(tau)**2 + 4*Ir*Psi_theta_theta**2*Uu**2*cr*hT**2*pk(tau)**3*qk(tau)**4 + 4*Ir*Psi_theta_theta**2*Uu**2*cr*hT**2*pk(tau)*qk(tau)**6 - Ir*Psi_theta_theta**2*Uu**2*h**2*mR*omega**2*pk(tau)**5*Derivative(qk(tau), tau)**2 + 3*Ir*Psi_theta_theta**2*Uu**2*h**2*mR*omega**2*pk(tau)**4*qk(tau)*Derivative(pk(tau), tau)*Derivative(qk(tau), tau) - 2*Ir*Psi_theta_theta**2*Uu**2*h**2*mR*omega**2*pk(tau)**3*qk(tau)**2*Derivative(pk(tau), tau)**2 - 2*Ir*Psi_theta_theta**2*Uu**2*h**2*mR*omega**2*pk(tau)**2*qk(tau)**3*Derivative(pk(tau), tau)*Derivative(qk(tau), tau) + 2*Ir*Psi_theta_theta**2*Uu**2*h**2*mR*omega**2*pk(tau)*qk(tau)**4*Derivative(pk(tau), tau)**2 + Ir*Psi_theta_theta**2*Uu**2*h**2*mR*omega**2*pk(tau)*qk(tau)**4*Derivative(qk(tau), tau)**2 - Ir*Psi_theta_theta**2*Uu**2*h**2*mR*omega**2*qk(tau)**5*Derivative(pk(tau), tau)*Derivative(qk(tau), tau) - 4*Ir*Psi_theta_theta**2*Uu**2*h*hT*mR*omega**2*pk(tau)**5*Derivative(qk(tau), tau)**2 + 12*Ir*Psi_theta_theta**2*Uu**2*h*hT*mR*omega**2*pk(tau)**4*qk(tau)*Derivative(pk(tau), tau)*Derivative(qk(tau), tau) - 8*Ir*Psi_theta_theta**2*Uu**2*h*hT*mR*omega**2*pk(tau)**3*qk(tau)**2*Derivative(pk(tau), tau)**2 - 8*Ir*Psi_theta_theta**2*Uu**2*h*hT*mR*omega**2*pk(tau)**2*qk(tau)**3*Derivative(pk(tau), tau)*Derivative(qk(tau), tau) + 8*Ir*Psi_theta_theta**2*Uu**2*h*hT*mR*omega**2*pk(tau)*qk(tau)**4*Derivative(pk(tau), tau)**2 + 4*Ir*Psi_theta_theta**2*Uu**2*h*hT*mR*omega**2*pk(tau)*qk(tau)**4*Derivative(qk(tau), tau)**2 - 4*Ir*Psi_theta_theta**2*Uu**2*h*hT*mR*omega**2*qk(tau)**5*Derivative(pk(tau), tau)*Derivative(qk(tau), tau) - 4*Ir*Psi_theta_theta**2*Uu**2*hT**2*mR*omega**2*pk(tau)**5*Derivative(qk(tau), tau)**2 + 12*Ir*Psi_theta_theta**2*Uu**2*hT**2*mR*omega**2*pk(tau)**4*qk(tau)*Derivative(pk(tau), tau)*Derivative(qk(tau), tau) - 8*Ir*Psi_theta_theta**2*Uu**2*hT**2*mR*omega**2*pk(tau)**3*qk(tau)**2*Derivative(pk(tau), tau)**2 - 8*Ir*Psi_theta_theta**2*Uu**2*hT**2*mR*omega**2*pk(tau)**2*qk(tau)**3*Derivative(pk(tau), tau)*Derivative(qk(tau), tau) + 8*Ir*Psi_theta_theta**2*Uu**2*hT**2*mR*omega**2*pk(tau)*qk(tau)**4*Derivative(pk(tau), tau)**2 + 4*Ir*Psi_theta_theta**2*Uu**2*hT**2*mR*omega**2*pk(tau)*qk(tau)**4*Derivative(qk(tau), tau)**2 - 4*Ir*Psi_theta_theta**2*Uu**2*hT**2*mR*omega**2*qk(tau)**5*Derivative(pk(tau), tau)*Derivative(qk(tau), tau) - Ir*Psi_theta_theta**2*Uu*cr*h**2*ps*sqrt(pk(tau)**2 + qk(tau)**2)*pk(tau)**5 + Ir*Psi_theta_theta**2*Uu*cr*h**2*ps*sqrt(pk(tau)**2 + qk(tau)**2)*pk(tau)*qk(tau)**4 - 4*Ir*Psi_theta_theta**2*Uu*cr*h*hT*ps*sqrt(pk(tau)**2 + qk(tau)**2)*pk(tau)**5 + 4*Ir*Psi_theta_theta**2*Uu*cr*h*hT*ps*sqrt(pk(tau)**2 + qk(tau)**2)*pk(tau)*qk(tau)**4 - 4*Ir*Psi_theta_theta**2*Uu*cr*hT**2*ps*sqrt(pk(tau)**2 + qk(tau)**2)*pk(tau)**5 + 4*Ir*Psi_theta_theta**2*Uu*cr*hT**2*ps*sqrt(pk(tau)**2 + qk(tau)**2)*pk(tau)*qk(tau)**4 - Ir*Psi_theta_theta**2*Vo*cUo*h**2*pk(tau)**6*sin(tau) + Ir*Psi_theta_theta**2*Vo*cUo*h**2*pk(tau)**5*qk(tau)*cos(tau) - 2*Ir*Psi_theta_theta**2*Vo*cUo*h**2*pk(tau)**4*qk(tau)**2*sin(tau) + 2*Ir*Psi_theta_theta**2*Vo*cUo*h**2*pk(tau)**3*qk(tau)**3*cos(tau) - Ir*Psi_theta_theta**2*Vo*cUo*h**2*pk(tau)**2*qk(tau)**4*sin(tau) + Ir*Psi_theta_theta**2*Vo*cUo*h**2*pk(tau)*qk(tau)**5*cos(tau) - 4*Ir*Psi_theta_theta**2*Vo*cUo*h*hT*pk(tau)**6*sin(tau) + 4*Ir*Psi_theta_theta**2*Vo*cUo*h*hT*pk(tau)**5*qk(tau)*cos(tau) - 8*Ir*Psi_theta_theta**2*Vo*cUo*h*hT*pk(tau)**4*qk(tau)**2*sin(tau) + 8*Ir*Psi_theta_theta**2*Vo*cUo*h*hT*pk(tau)**3*qk(tau)**3*cos(tau) - 4*Ir*Psi_theta_theta**2*Vo*cUo*h*hT*pk(tau)**2*qk(tau)**4*sin(tau) + 4*Ir*Psi_theta_theta**2*Vo*cUo*h*hT*pk(tau)*qk(tau)**5*cos(tau) - 4*Ir*Psi_theta_theta**2*Vo*cUo*hT**2*pk(tau)**6*sin(tau) + 4*Ir*Psi_theta_theta**2*Vo*cUo*hT**2*pk(tau)**5*qk(tau)*cos(tau) - 8*Ir*Psi_theta_theta**2*Vo*cUo*hT**2*pk(tau)**4*qk(tau)**2*sin(tau) + 8*Ir*Psi_theta_theta**2*Vo*cUo*hT**2*pk(tau)**3*qk(tau)**3*cos(tau) - 4*Ir*Psi_theta_theta**2*Vo*cUo*hT**2*pk(tau)**2*qk(tau)**4*sin(tau) + 4*Ir*Psi_theta_theta**2*Vo*cUo*hT**2*pk(tau)*qk(tau)**5*cos(tau) - Ir*Psi_theta_theta**2*d*h**2*omega*pk(tau)**6*Derivative(pk(tau), tau) + Ir*Psi_theta_theta**2*d*h**2*omega*pk(tau)**5*qk(tau)*Derivative(qk(tau), tau) - 2*Ir*Psi_theta_theta**2*d*h**2*omega*pk(tau)**4*qk(tau)**2*Derivative(pk(tau), tau) + 2*Ir*Psi_theta_theta**2*d*h**2*omega*pk(tau)**3*qk(tau)**3*Derivative(qk(tau), tau) - Ir*Psi_theta_theta**2*d*h**2*omega*pk(tau)**2*qk(tau)**4*Derivative(pk(tau), tau) + Ir*Psi_theta_theta**2*d*h**2*omega*pk(tau)*qk(tau)**5*Derivative(qk(tau), tau) - 4*Ir*Psi_theta_theta**2*d*h*hT*omega*pk(tau)**6*Derivative(pk(tau), tau) + 4*Ir*Psi_theta_theta**2*d*h*hT*omega*pk(tau)**5*qk(tau)*Derivative(qk(tau), tau) - 8*Ir*Psi_theta_theta**2*d*h*hT*omega*pk(tau)**4*qk(tau)**2*Derivative(pk(tau), tau) + 8*Ir*Psi_theta_theta**2*d*h*hT*omega*pk(tau)**3*qk(tau)**3*Derivative(qk(tau), tau) - 4*Ir*Psi_theta_theta**2*d*h*hT*omega*pk(tau)**2*qk(tau)**4*Derivative(pk(tau), tau) + 4*Ir*Psi_theta_theta**2*d*h*hT*omega*pk(tau)*qk(tau)**5*Derivative(qk(tau), tau) - 4*Ir*Psi_theta_theta**2*d*hT**2*omega*pk(tau)**6*Derivative(pk(tau), tau) + 4*Ir*Psi_theta_theta**2*d*hT**2*omega*pk(tau)**5*qk(tau)*Derivative(qk(tau), tau) - 8*Ir*Psi_theta_theta**2*d*hT**2*omega*pk(tau)**4*qk(tau)**2*Derivative(pk(tau), tau) + 8*Ir*Psi_theta_theta**2*d*hT**2*omega*pk(tau)**3*qk(tau)**3*Derivative(qk(tau), tau) - 4*Ir*Psi_theta_theta**2*d*hT**2*omega*pk(tau)**2*qk(tau)**4*Derivative(pk(tau), tau) + 4*Ir*Psi_theta_theta**2*d*hT**2*omega*pk(tau)*qk(tau)**5*Derivative(qk(tau), tau) - Ir*Psi_theta_theta**2*h**2*msT*omega**2*pk(tau)**7 - Ir*Psi_theta_theta**2*h**2*msT*omega**2*pk(tau)**5*qk(tau)**2 - Ir*Psi_theta_theta**2*h**2*msT*omega**2*pk(tau)**4*qk(tau)*Derivative(pk(tau), tau)*Derivative(qk(tau), tau) + Ir*Psi_theta_theta**2*h**2*msT*omega**2*pk(tau)**3*qk(tau)**4 + Ir*Psi_theta_theta**2*h**2*msT*omega**2*pk(tau)**3*qk(tau)**2*Derivative(pk(tau), tau)**2 + Ir*Psi_theta_theta**2*h**2*msT*omega**2*pk(tau)**3*qk(tau)**2*Derivative(qk(tau), tau)**2 - 2*Ir*Psi_theta_theta**2*h**2*msT*omega**2*pk(tau)**2*qk(tau)**3*Derivative(pk(tau), tau)*Derivative(qk(tau), tau) + Ir*Psi_theta_theta**2*h**2*msT*omega**2*pk(tau)*qk(tau)**6 + Ir*Psi_theta_theta**2*h**2*msT*omega**2*pk(tau)*qk(tau)**4*Derivative(pk(tau), tau)**2 + Ir*Psi_theta_theta**2*h**2*msT*omega**2*pk(tau)*qk(tau)**4*Derivative(qk(tau), tau)**2 - Ir*Psi_theta_theta**2*h**2*msT*omega**2*qk(tau)**5*Derivative(pk(tau), tau)*Derivative(qk(tau), tau) - 4*Ir*Psi_theta_theta**2*h*hT*msT*omega**2*pk(tau)**7 - 4*Ir*Psi_theta_theta**2*h*hT*msT*omega**2*pk(tau)**5*qk(tau)**2 - 4*Ir*Psi_theta_theta**2*h*hT*msT*omega**2*pk(tau)**4*qk(tau)*Derivative(pk(tau), tau)*Derivative(qk(tau), tau) + 4*Ir*Psi_theta_theta**2*h*hT*msT*omega**2*pk(tau)**3*qk(tau)**4 + 4*Ir*Psi_theta_theta**2*h*hT*msT*omega**2*pk(tau)**3*qk(tau)**2*Derivative(pk(tau), tau)**2 + 4*Ir*Psi_theta_theta**2*h*hT*msT*omega**2*pk(tau)**3*qk(tau)**2*Derivative(qk(tau), tau)**2 - 8*Ir*Psi_theta_theta**2*h*hT*msT*omega**2*pk(tau)**2*qk(tau)**3*Derivative(pk(tau), tau)*Derivative(qk(tau), tau) + 4*Ir*Psi_theta_theta**2*h*hT*msT*omega**2*pk(tau)*qk(tau)**6 + 4*Ir*Psi_theta_theta**2*h*hT*msT*omega**2*pk(tau)*qk(tau)**4*Derivative(pk(tau), tau)**2 + 4*Ir*Psi_theta_theta**2*h*hT*msT*omega**2*pk(tau)*qk(tau)**4*Derivative(qk(tau), tau)**2 - 4*Ir*Psi_theta_theta**2*h*hT*msT*omega**2*qk(tau)**5*Derivative(pk(tau), tau)*Derivative(qk(tau), tau) - 4*Ir*Psi_theta_theta**2*hT**2*msT*omega**2*pk(tau)**7 - 4*Ir*Psi_theta_theta**2*hT**2*msT*omega**2*pk(tau)**5*qk(tau)**2 - 4*Ir*Psi_theta_theta**2*hT**2*msT*omega**2*pk(tau)**4*qk(tau)*Derivative(pk(tau), tau)*Derivative(qk(tau), tau) + 4*Ir*Psi_theta_theta**2*hT**2*msT*omega**2*pk(tau)**3*qk(tau)**4 + 4*Ir*Psi_theta_theta**2*hT**2*msT*omega**2*pk(tau)**3*qk(tau)**2*Derivative(pk(tau), tau)**2 + 4*Ir*Psi_theta_theta**2*hT**2*msT*omega**2*pk(tau)**3*qk(tau)**2*Derivative(qk(tau), tau)**2 - 8*Ir*Psi_theta_theta**2*hT**2*msT*omega**2*pk(tau)**2*qk(tau)**3*Derivative(pk(tau), tau)*Derivative(qk(tau), tau) + 4*Ir*Psi_theta_theta**2*hT**2*msT*omega**2*pk(tau)*qk(tau)**6 + 4*Ir*Psi_theta_theta**2*hT**2*msT*omega**2*pk(tau)*qk(tau)**4*Derivative(pk(tau), tau)**2 + 4*Ir*Psi_theta_theta**2*hT**2*msT*omega**2*pk(tau)*qk(tau)**4*Derivative(qk(tau), tau)**2 - 4*Ir*Psi_theta_theta**2*hT**2*msT*omega**2*qk(tau)**5*Derivative(pk(tau), tau)*Derivative(qk(tau), tau) - 2*Psi_theta_theta*Rk*Texte*Uu**2*h*mR*sqrt(pk(tau)**2 + qk(tau)**2)*pk(tau)**4*qk(tau) + 2*Psi_theta_theta*Rk*Texte*Uu**2*h*mR*sqrt(pk(tau)**2 + qk(tau)**2)*qk(tau)**5 - 4*Psi_theta_theta*Rk*Texte*Uu**2*hT*mR*sqrt(pk(tau)**2 + qk(tau)**2)*pk(tau)**4*qk(tau) + 4*Psi_theta_theta*Rk*Texte*Uu**2*hT*mR*sqrt(pk(tau)**2 + qk(tau)**2)*qk(tau)**5 + 2*Psi_theta_theta*Rk*Texte*h*msT*sqrt(pk(tau)**2 + qk(tau)**2)*pk(tau)**4*qk(tau) + 4*Psi_theta_theta*Rk*Texte*h*msT*sqrt(pk(tau)**2 + qk(tau)**2)*pk(tau)**2*qk(tau)**3 + 2*Psi_theta_theta*Rk*Texte*h*msT*sqrt(pk(tau)**2 + qk(tau)**2)*qk(tau)**5 + 4*Psi_theta_theta*Rk*Texte*hT*msT*sqrt(pk(tau)**2 + qk(tau)**2)*pk(tau)**4*qk(tau) + 8*Psi_theta_theta*Rk*Texte*hT*msT*sqrt(pk(tau)**2 + qk(tau)**2)*pk(tau)**2*qk(tau)**3 + 4*Psi_theta_theta*Rk*Texte*hT*msT*sqrt(pk(tau)**2 + qk(tau)**2)*qk(tau)**5 + 4*Rk**2*Uu**2*Vo*cUo*mR*pk(tau)**5*qk(tau)*cos(tau) - 4*Rk**2*Uu**2*Vo*cUo*mR*pk(tau)**4*qk(tau)**2*sin(tau) + 8*Rk**2*Uu**2*Vo*cUo*mR*pk(tau)**3*qk(tau)**3*cos(tau) - 8*Rk**2*Uu**2*Vo*cUo*mR*pk(tau)**2*qk(tau)**4*sin(tau) + 4*Rk**2*Uu**2*Vo*cUo*mR*pk(tau)*qk(tau)**5*cos(tau) - 4*Rk**2*Uu**2*Vo*cUo*mR*qk(tau)**6*sin(tau) - 4*Rk**2*Uu**2*cr*msT*pk(tau)**7 - 12*Rk**2*Uu**2*cr*msT*pk(tau)**5*qk(tau)**2 - 12*Rk**2*Uu**2*cr*msT*pk(tau)**3*qk(tau)**4 - 4*Rk**2*Uu**2*cr*msT*pk(tau)*qk(tau)**6 + 4*Rk**2*Uu**2*d*mR*omega*pk(tau)**5*qk(tau)*Derivative(qk(tau), tau) - 4*Rk**2*Uu**2*d*mR*omega*pk(tau)**4*qk(tau)**2*Derivative(pk(tau), tau) + 8*Rk**2*Uu**2*d*mR*omega*pk(tau)**3*qk(tau)**3*Derivative(qk(tau), tau) - 8*Rk**2*Uu**2*d*mR*omega*pk(tau)**2*qk(tau)**4*Derivative(pk(tau), tau) + 4*Rk**2*Uu**2*d*mR*omega*pk(tau)*qk(tau)**5*Derivative(qk(tau), tau) - 4*Rk**2*Uu**2*d*mR*omega*qk(tau)**6*Derivative(pk(tau), tau) - 4*Rk**2*Uu**2*mR*msT*omega**2*pk(tau)**5*Derivative(qk(tau), tau)**2 + 8*Rk**2*Uu**2*mR*msT*omega**2*pk(tau)**4*qk(tau)*Derivative(pk(tau), tau)*Derivative(qk(tau), tau) - 4*Rk**2*Uu**2*mR*msT*omega**2*pk(tau)**3*qk(tau)**2*Derivative(pk(tau), tau)**2 - 4*Rk**2*Uu**2*mR*msT*omega**2*pk(tau)**3*qk(tau)**2*Derivative(qk(tau), tau)**2 + 8*Rk**2*Uu**2*mR*msT*omega**2*pk(tau)**2*qk(tau)**3*Derivative(pk(tau), tau)*Derivative(qk(tau), tau) - 4*Rk**2*Uu**2*mR*msT*omega**2*pk(tau)*qk(tau)**4*Derivative(pk(tau), tau)**2 - 4*Rk**2*Uu*cr*msT*ps*sqrt(pk(tau)**2 + qk(tau)**2)*pk(tau)**5 - 8*Rk**2*Uu*cr*msT*ps*sqrt(pk(tau)**2 + qk(tau)**2)*pk(tau)**3*qk(tau)**2 - 4*Rk**2*Uu*cr*msT*ps*sqrt(pk(tau)**2 + qk(tau)**2)*pk(tau)*qk(tau)**4 - 4*Rk**2*Vo*cUo*msT*pk(tau)**6*sin(tau) - 12*Rk**2*Vo*cUo*msT*pk(tau)**4*qk(tau)**2*sin(tau) - 12*Rk**2*Vo*cUo*msT*pk(tau)**2*qk(tau)**4*sin(tau) - 4*Rk**2*Vo*cUo*msT*qk(tau)**6*sin(tau) - 4*Rk**2*d*msT*omega*pk(tau)**6*Derivative(pk(tau), tau) - 12*Rk**2*d*msT*omega*pk(tau)**4*qk(tau)**2*Derivative(pk(tau), tau) - 12*Rk**2*d*msT*omega*pk(tau)**2*qk(tau)**4*Derivative(pk(tau), tau) - 4*Rk**2*d*msT*omega*qk(tau)**6*Derivative(pk(tau), tau) - 4*Rk**2*msT**2*omega**2*pk(tau)**7 - 12*Rk**2*msT**2*omega**2*pk(tau)**5*qk(tau)**2 - 12*Rk**2*msT**2*omega**2*pk(tau)**3*qk(tau)**4 - 4*Rk**2*msT**2*omega**2*pk(tau)*qk(tau)**6)/(omega**2*(Ir*Psi_theta_theta**2*Uu**2*h**2*mR*pk(tau)**6 - Ir*Psi_theta_theta**2*Uu**2*h**2*mR*pk(tau)**4*qk(tau)**2 - Ir*Psi_theta_theta**2*Uu**2*h**2*mR*pk(tau)**2*qk(tau)**4 + Ir*Psi_theta_theta**2*Uu**2*h**2*mR*qk(tau)**6 + 4*Ir*Psi_theta_theta**2*Uu**2*h*hT*mR*pk(tau)**6 - 4*Ir*Psi_theta_theta**2*Uu**2*h*hT*mR*pk(tau)**4*qk(tau)**2 - 4*Ir*Psi_theta_theta**2*Uu**2*h*hT*mR*pk(tau)**2*qk(tau)**4 + 4*Ir*Psi_theta_theta**2*Uu**2*h*hT*mR*qk(tau)**6 + 4*Ir*Psi_theta_theta**2*Uu**2*hT**2*mR*pk(tau)**6 - 4*Ir*Psi_theta_theta**2*Uu**2*hT**2*mR*pk(tau)**4*qk(tau)**2 - 4*Ir*Psi_theta_theta**2*Uu**2*hT**2*mR*pk(tau)**2*qk(tau)**4 + 4*Ir*Psi_theta_theta**2*Uu**2*hT**2*mR*qk(tau)**6 + Ir*Psi_theta_theta**2*h**2*msT*pk(tau)**6 + 3*Ir*Psi_theta_theta**2*h**2*msT*pk(tau)**4*qk(tau)**2 + 3*Ir*Psi_theta_theta**2*h**2*msT*pk(tau)**2*qk(tau)**4 + Ir*Psi_theta_theta**2*h**2*msT*qk(tau)**6 + 4*Ir*Psi_theta_theta**2*h*hT*msT*pk(tau)**6 + 12*Ir*Psi_theta_theta**2*h*hT*msT*pk(tau)**4*qk(tau)**2 + 12*Ir*Psi_theta_theta**2*h*hT*msT*pk(tau)**2*qk(tau)**4 + 4*Ir*Psi_theta_theta**2*h*hT*msT*qk(tau)**6 + 4*Ir*Psi_theta_theta**2*hT**2*msT*pk(tau)**6 + 12*Ir*Psi_theta_theta**2*hT**2*msT*pk(tau)**4*qk(tau)**2 + 12*Ir*Psi_theta_theta**2*hT**2*msT*pk(tau)**2*qk(tau)**4 + 4*Ir*Psi_theta_theta**2*hT**2*msT*qk(tau)**6 + 4*Rk**2*Uu**2*mR*msT*pk(tau)**6 + 12*Rk**2*Uu**2*mR*msT*pk(tau)**4*qk(tau)**2 + 12*Rk**2*Uu**2*mR*msT*pk(tau)**2*qk(tau)**4 + 4*Rk**2*Uu**2*mR*msT*qk(tau)**6 + 4*Rk**2*msT**2*pk(tau)**6 + 12*Rk**2*msT**2*pk(tau)**4*qk(tau)**2 + 12*Rk**2*msT**2*pk(tau)**2*qk(tau)**4 + 4*Rk**2*msT**2*qk(tau)**6))}"
      ]
     },
     "execution_count": 18,
     "metadata": {},
     "output_type": "execute_result"
    }
   ],
   "source": [
    "solution"
   ]
  },
  {
   "cell_type": "code",
   "execution_count": 20,
   "metadata": {},
   "outputs": [
    {
     "data": {
      "text/plain": [
       "2"
      ]
     },
     "execution_count": 20,
     "metadata": {},
     "output_type": "execute_result"
    }
   ],
   "source": [
    "len(solution)"
   ]
  },
  {
   "cell_type": "code",
   "execution_count": 21,
   "metadata": {},
   "outputs": [
    {
     "data": {
      "text/plain": [
       "dict"
      ]
     },
     "execution_count": 21,
     "metadata": {},
     "output_type": "execute_result"
    }
   ],
   "source": [
    "type(solution)"
   ]
  },
  {
   "cell_type": "code",
   "execution_count": 22,
   "metadata": {},
   "outputs": [
    {
     "data": {
      "text/latex": [
       "$\\displaystyle \\frac{Ir \\Psi_{\\theta \\theta}^{2} Uu^{2} cr h^{2} \\operatorname{pk}^{6}{\\left(\\tau \\right)} \\operatorname{qk}{\\left(\\tau \\right)} + Ir \\Psi_{\\theta \\theta}^{2} Uu^{2} cr h^{2} \\operatorname{pk}^{4}{\\left(\\tau \\right)} \\operatorname{qk}^{3}{\\left(\\tau \\right)} - Ir \\Psi_{\\theta \\theta}^{2} Uu^{2} cr h^{2} \\operatorname{pk}^{2}{\\left(\\tau \\right)} \\operatorname{qk}^{5}{\\left(\\tau \\right)} - Ir \\Psi_{\\theta \\theta}^{2} Uu^{2} cr h^{2} \\operatorname{qk}^{7}{\\left(\\tau \\right)} + 4 Ir \\Psi_{\\theta \\theta}^{2} Uu^{2} cr h hT \\operatorname{pk}^{6}{\\left(\\tau \\right)} \\operatorname{qk}{\\left(\\tau \\right)} + 4 Ir \\Psi_{\\theta \\theta}^{2} Uu^{2} cr h hT \\operatorname{pk}^{4}{\\left(\\tau \\right)} \\operatorname{qk}^{3}{\\left(\\tau \\right)} - 4 Ir \\Psi_{\\theta \\theta}^{2} Uu^{2} cr h hT \\operatorname{pk}^{2}{\\left(\\tau \\right)} \\operatorname{qk}^{5}{\\left(\\tau \\right)} - 4 Ir \\Psi_{\\theta \\theta}^{2} Uu^{2} cr h hT \\operatorname{qk}^{7}{\\left(\\tau \\right)} + 4 Ir \\Psi_{\\theta \\theta}^{2} Uu^{2} cr hT^{2} \\operatorname{pk}^{6}{\\left(\\tau \\right)} \\operatorname{qk}{\\left(\\tau \\right)} + 4 Ir \\Psi_{\\theta \\theta}^{2} Uu^{2} cr hT^{2} \\operatorname{pk}^{4}{\\left(\\tau \\right)} \\operatorname{qk}^{3}{\\left(\\tau \\right)} - 4 Ir \\Psi_{\\theta \\theta}^{2} Uu^{2} cr hT^{2} \\operatorname{pk}^{2}{\\left(\\tau \\right)} \\operatorname{qk}^{5}{\\left(\\tau \\right)} - 4 Ir \\Psi_{\\theta \\theta}^{2} Uu^{2} cr hT^{2} \\operatorname{qk}^{7}{\\left(\\tau \\right)} - Ir \\Psi_{\\theta \\theta}^{2} Uu^{2} h^{2} mR \\omega^{2} \\operatorname{pk}^{5}{\\left(\\tau \\right)} \\frac{d}{d \\tau} \\operatorname{pk}{\\left(\\tau \\right)} \\frac{d}{d \\tau} \\operatorname{qk}{\\left(\\tau \\right)} + Ir \\Psi_{\\theta \\theta}^{2} Uu^{2} h^{2} mR \\omega^{2} \\operatorname{pk}^{4}{\\left(\\tau \\right)} \\operatorname{qk}{\\left(\\tau \\right)} \\left(\\frac{d}{d \\tau} \\operatorname{pk}{\\left(\\tau \\right)}\\right)^{2} + 2 Ir \\Psi_{\\theta \\theta}^{2} Uu^{2} h^{2} mR \\omega^{2} \\operatorname{pk}^{4}{\\left(\\tau \\right)} \\operatorname{qk}{\\left(\\tau \\right)} \\left(\\frac{d}{d \\tau} \\operatorname{qk}{\\left(\\tau \\right)}\\right)^{2} - 2 Ir \\Psi_{\\theta \\theta}^{2} Uu^{2} h^{2} mR \\omega^{2} \\operatorname{pk}^{3}{\\left(\\tau \\right)} \\operatorname{qk}^{2}{\\left(\\tau \\right)} \\frac{d}{d \\tau} \\operatorname{pk}{\\left(\\tau \\right)} \\frac{d}{d \\tau} \\operatorname{qk}{\\left(\\tau \\right)} - 2 Ir \\Psi_{\\theta \\theta}^{2} Uu^{2} h^{2} mR \\omega^{2} \\operatorname{pk}^{2}{\\left(\\tau \\right)} \\operatorname{qk}^{3}{\\left(\\tau \\right)} \\left(\\frac{d}{d \\tau} \\operatorname{qk}{\\left(\\tau \\right)}\\right)^{2} + 3 Ir \\Psi_{\\theta \\theta}^{2} Uu^{2} h^{2} mR \\omega^{2} \\operatorname{pk}{\\left(\\tau \\right)} \\operatorname{qk}^{4}{\\left(\\tau \\right)} \\frac{d}{d \\tau} \\operatorname{pk}{\\left(\\tau \\right)} \\frac{d}{d \\tau} \\operatorname{qk}{\\left(\\tau \\right)} - Ir \\Psi_{\\theta \\theta}^{2} Uu^{2} h^{2} mR \\omega^{2} \\operatorname{qk}^{5}{\\left(\\tau \\right)} \\left(\\frac{d}{d \\tau} \\operatorname{pk}{\\left(\\tau \\right)}\\right)^{2} - 4 Ir \\Psi_{\\theta \\theta}^{2} Uu^{2} h hT mR \\omega^{2} \\operatorname{pk}^{5}{\\left(\\tau \\right)} \\frac{d}{d \\tau} \\operatorname{pk}{\\left(\\tau \\right)} \\frac{d}{d \\tau} \\operatorname{qk}{\\left(\\tau \\right)} + 4 Ir \\Psi_{\\theta \\theta}^{2} Uu^{2} h hT mR \\omega^{2} \\operatorname{pk}^{4}{\\left(\\tau \\right)} \\operatorname{qk}{\\left(\\tau \\right)} \\left(\\frac{d}{d \\tau} \\operatorname{pk}{\\left(\\tau \\right)}\\right)^{2} + 8 Ir \\Psi_{\\theta \\theta}^{2} Uu^{2} h hT mR \\omega^{2} \\operatorname{pk}^{4}{\\left(\\tau \\right)} \\operatorname{qk}{\\left(\\tau \\right)} \\left(\\frac{d}{d \\tau} \\operatorname{qk}{\\left(\\tau \\right)}\\right)^{2} - 8 Ir \\Psi_{\\theta \\theta}^{2} Uu^{2} h hT mR \\omega^{2} \\operatorname{pk}^{3}{\\left(\\tau \\right)} \\operatorname{qk}^{2}{\\left(\\tau \\right)} \\frac{d}{d \\tau} \\operatorname{pk}{\\left(\\tau \\right)} \\frac{d}{d \\tau} \\operatorname{qk}{\\left(\\tau \\right)} - 8 Ir \\Psi_{\\theta \\theta}^{2} Uu^{2} h hT mR \\omega^{2} \\operatorname{pk}^{2}{\\left(\\tau \\right)} \\operatorname{qk}^{3}{\\left(\\tau \\right)} \\left(\\frac{d}{d \\tau} \\operatorname{qk}{\\left(\\tau \\right)}\\right)^{2} + 12 Ir \\Psi_{\\theta \\theta}^{2} Uu^{2} h hT mR \\omega^{2} \\operatorname{pk}{\\left(\\tau \\right)} \\operatorname{qk}^{4}{\\left(\\tau \\right)} \\frac{d}{d \\tau} \\operatorname{pk}{\\left(\\tau \\right)} \\frac{d}{d \\tau} \\operatorname{qk}{\\left(\\tau \\right)} - 4 Ir \\Psi_{\\theta \\theta}^{2} Uu^{2} h hT mR \\omega^{2} \\operatorname{qk}^{5}{\\left(\\tau \\right)} \\left(\\frac{d}{d \\tau} \\operatorname{pk}{\\left(\\tau \\right)}\\right)^{2} - 4 Ir \\Psi_{\\theta \\theta}^{2} Uu^{2} hT^{2} mR \\omega^{2} \\operatorname{pk}^{5}{\\left(\\tau \\right)} \\frac{d}{d \\tau} \\operatorname{pk}{\\left(\\tau \\right)} \\frac{d}{d \\tau} \\operatorname{qk}{\\left(\\tau \\right)} + 4 Ir \\Psi_{\\theta \\theta}^{2} Uu^{2} hT^{2} mR \\omega^{2} \\operatorname{pk}^{4}{\\left(\\tau \\right)} \\operatorname{qk}{\\left(\\tau \\right)} \\left(\\frac{d}{d \\tau} \\operatorname{pk}{\\left(\\tau \\right)}\\right)^{2} + 8 Ir \\Psi_{\\theta \\theta}^{2} Uu^{2} hT^{2} mR \\omega^{2} \\operatorname{pk}^{4}{\\left(\\tau \\right)} \\operatorname{qk}{\\left(\\tau \\right)} \\left(\\frac{d}{d \\tau} \\operatorname{qk}{\\left(\\tau \\right)}\\right)^{2} - 8 Ir \\Psi_{\\theta \\theta}^{2} Uu^{2} hT^{2} mR \\omega^{2} \\operatorname{pk}^{3}{\\left(\\tau \\right)} \\operatorname{qk}^{2}{\\left(\\tau \\right)} \\frac{d}{d \\tau} \\operatorname{pk}{\\left(\\tau \\right)} \\frac{d}{d \\tau} \\operatorname{qk}{\\left(\\tau \\right)} - 8 Ir \\Psi_{\\theta \\theta}^{2} Uu^{2} hT^{2} mR \\omega^{2} \\operatorname{pk}^{2}{\\left(\\tau \\right)} \\operatorname{qk}^{3}{\\left(\\tau \\right)} \\left(\\frac{d}{d \\tau} \\operatorname{qk}{\\left(\\tau \\right)}\\right)^{2} + 12 Ir \\Psi_{\\theta \\theta}^{2} Uu^{2} hT^{2} mR \\omega^{2} \\operatorname{pk}{\\left(\\tau \\right)} \\operatorname{qk}^{4}{\\left(\\tau \\right)} \\frac{d}{d \\tau} \\operatorname{pk}{\\left(\\tau \\right)} \\frac{d}{d \\tau} \\operatorname{qk}{\\left(\\tau \\right)} - 4 Ir \\Psi_{\\theta \\theta}^{2} Uu^{2} hT^{2} mR \\omega^{2} \\operatorname{qk}^{5}{\\left(\\tau \\right)} \\left(\\frac{d}{d \\tau} \\operatorname{pk}{\\left(\\tau \\right)}\\right)^{2} + Ir \\Psi_{\\theta \\theta}^{2} Uu cr h^{2} ps \\sqrt{\\operatorname{pk}^{2}{\\left(\\tau \\right)} + \\operatorname{qk}^{2}{\\left(\\tau \\right)}} \\operatorname{pk}^{4}{\\left(\\tau \\right)} \\operatorname{qk}{\\left(\\tau \\right)} - Ir \\Psi_{\\theta \\theta}^{2} Uu cr h^{2} ps \\sqrt{\\operatorname{pk}^{2}{\\left(\\tau \\right)} + \\operatorname{qk}^{2}{\\left(\\tau \\right)}} \\operatorname{qk}^{5}{\\left(\\tau \\right)} + 4 Ir \\Psi_{\\theta \\theta}^{2} Uu cr h hT ps \\sqrt{\\operatorname{pk}^{2}{\\left(\\tau \\right)} + \\operatorname{qk}^{2}{\\left(\\tau \\right)}} \\operatorname{pk}^{4}{\\left(\\tau \\right)} \\operatorname{qk}{\\left(\\tau \\right)} - 4 Ir \\Psi_{\\theta \\theta}^{2} Uu cr h hT ps \\sqrt{\\operatorname{pk}^{2}{\\left(\\tau \\right)} + \\operatorname{qk}^{2}{\\left(\\tau \\right)}} \\operatorname{qk}^{5}{\\left(\\tau \\right)} + 4 Ir \\Psi_{\\theta \\theta}^{2} Uu cr hT^{2} ps \\sqrt{\\operatorname{pk}^{2}{\\left(\\tau \\right)} + \\operatorname{qk}^{2}{\\left(\\tau \\right)}} \\operatorname{pk}^{4}{\\left(\\tau \\right)} \\operatorname{qk}{\\left(\\tau \\right)} - 4 Ir \\Psi_{\\theta \\theta}^{2} Uu cr hT^{2} ps \\sqrt{\\operatorname{pk}^{2}{\\left(\\tau \\right)} + \\operatorname{qk}^{2}{\\left(\\tau \\right)}} \\operatorname{qk}^{5}{\\left(\\tau \\right)} + Ir \\Psi_{\\theta \\theta}^{2} Vo cUo h^{2} \\operatorname{pk}^{5}{\\left(\\tau \\right)} \\operatorname{qk}{\\left(\\tau \\right)} \\sin{\\left(\\tau \\right)} - Ir \\Psi_{\\theta \\theta}^{2} Vo cUo h^{2} \\operatorname{pk}^{4}{\\left(\\tau \\right)} \\operatorname{qk}^{2}{\\left(\\tau \\right)} \\cos{\\left(\\tau \\right)} + 2 Ir \\Psi_{\\theta \\theta}^{2} Vo cUo h^{2} \\operatorname{pk}^{3}{\\left(\\tau \\right)} \\operatorname{qk}^{3}{\\left(\\tau \\right)} \\sin{\\left(\\tau \\right)} - 2 Ir \\Psi_{\\theta \\theta}^{2} Vo cUo h^{2} \\operatorname{pk}^{2}{\\left(\\tau \\right)} \\operatorname{qk}^{4}{\\left(\\tau \\right)} \\cos{\\left(\\tau \\right)} + Ir \\Psi_{\\theta \\theta}^{2} Vo cUo h^{2} \\operatorname{pk}{\\left(\\tau \\right)} \\operatorname{qk}^{5}{\\left(\\tau \\right)} \\sin{\\left(\\tau \\right)} - Ir \\Psi_{\\theta \\theta}^{2} Vo cUo h^{2} \\operatorname{qk}^{6}{\\left(\\tau \\right)} \\cos{\\left(\\tau \\right)} + 4 Ir \\Psi_{\\theta \\theta}^{2} Vo cUo h hT \\operatorname{pk}^{5}{\\left(\\tau \\right)} \\operatorname{qk}{\\left(\\tau \\right)} \\sin{\\left(\\tau \\right)} - 4 Ir \\Psi_{\\theta \\theta}^{2} Vo cUo h hT \\operatorname{pk}^{4}{\\left(\\tau \\right)} \\operatorname{qk}^{2}{\\left(\\tau \\right)} \\cos{\\left(\\tau \\right)} + 8 Ir \\Psi_{\\theta \\theta}^{2} Vo cUo h hT \\operatorname{pk}^{3}{\\left(\\tau \\right)} \\operatorname{qk}^{3}{\\left(\\tau \\right)} \\sin{\\left(\\tau \\right)} - 8 Ir \\Psi_{\\theta \\theta}^{2} Vo cUo h hT \\operatorname{pk}^{2}{\\left(\\tau \\right)} \\operatorname{qk}^{4}{\\left(\\tau \\right)} \\cos{\\left(\\tau \\right)} + 4 Ir \\Psi_{\\theta \\theta}^{2} Vo cUo h hT \\operatorname{pk}{\\left(\\tau \\right)} \\operatorname{qk}^{5}{\\left(\\tau \\right)} \\sin{\\left(\\tau \\right)} - 4 Ir \\Psi_{\\theta \\theta}^{2} Vo cUo h hT \\operatorname{qk}^{6}{\\left(\\tau \\right)} \\cos{\\left(\\tau \\right)} + 4 Ir \\Psi_{\\theta \\theta}^{2} Vo cUo hT^{2} \\operatorname{pk}^{5}{\\left(\\tau \\right)} \\operatorname{qk}{\\left(\\tau \\right)} \\sin{\\left(\\tau \\right)} - 4 Ir \\Psi_{\\theta \\theta}^{2} Vo cUo hT^{2} \\operatorname{pk}^{4}{\\left(\\tau \\right)} \\operatorname{qk}^{2}{\\left(\\tau \\right)} \\cos{\\left(\\tau \\right)} + 8 Ir \\Psi_{\\theta \\theta}^{2} Vo cUo hT^{2} \\operatorname{pk}^{3}{\\left(\\tau \\right)} \\operatorname{qk}^{3}{\\left(\\tau \\right)} \\sin{\\left(\\tau \\right)} - 8 Ir \\Psi_{\\theta \\theta}^{2} Vo cUo hT^{2} \\operatorname{pk}^{2}{\\left(\\tau \\right)} \\operatorname{qk}^{4}{\\left(\\tau \\right)} \\cos{\\left(\\tau \\right)} + 4 Ir \\Psi_{\\theta \\theta}^{2} Vo cUo hT^{2} \\operatorname{pk}{\\left(\\tau \\right)} \\operatorname{qk}^{5}{\\left(\\tau \\right)} \\sin{\\left(\\tau \\right)} - 4 Ir \\Psi_{\\theta \\theta}^{2} Vo cUo hT^{2} \\operatorname{qk}^{6}{\\left(\\tau \\right)} \\cos{\\left(\\tau \\right)} + Ir \\Psi_{\\theta \\theta}^{2} d h^{2} \\omega \\operatorname{pk}^{5}{\\left(\\tau \\right)} \\operatorname{qk}{\\left(\\tau \\right)} \\frac{d}{d \\tau} \\operatorname{pk}{\\left(\\tau \\right)} - Ir \\Psi_{\\theta \\theta}^{2} d h^{2} \\omega \\operatorname{pk}^{4}{\\left(\\tau \\right)} \\operatorname{qk}^{2}{\\left(\\tau \\right)} \\frac{d}{d \\tau} \\operatorname{qk}{\\left(\\tau \\right)} + 2 Ir \\Psi_{\\theta \\theta}^{2} d h^{2} \\omega \\operatorname{pk}^{3}{\\left(\\tau \\right)} \\operatorname{qk}^{3}{\\left(\\tau \\right)} \\frac{d}{d \\tau} \\operatorname{pk}{\\left(\\tau \\right)} - 2 Ir \\Psi_{\\theta \\theta}^{2} d h^{2} \\omega \\operatorname{pk}^{2}{\\left(\\tau \\right)} \\operatorname{qk}^{4}{\\left(\\tau \\right)} \\frac{d}{d \\tau} \\operatorname{qk}{\\left(\\tau \\right)} + Ir \\Psi_{\\theta \\theta}^{2} d h^{2} \\omega \\operatorname{pk}{\\left(\\tau \\right)} \\operatorname{qk}^{5}{\\left(\\tau \\right)} \\frac{d}{d \\tau} \\operatorname{pk}{\\left(\\tau \\right)} - Ir \\Psi_{\\theta \\theta}^{2} d h^{2} \\omega \\operatorname{qk}^{6}{\\left(\\tau \\right)} \\frac{d}{d \\tau} \\operatorname{qk}{\\left(\\tau \\right)} + 4 Ir \\Psi_{\\theta \\theta}^{2} d h hT \\omega \\operatorname{pk}^{5}{\\left(\\tau \\right)} \\operatorname{qk}{\\left(\\tau \\right)} \\frac{d}{d \\tau} \\operatorname{pk}{\\left(\\tau \\right)} - 4 Ir \\Psi_{\\theta \\theta}^{2} d h hT \\omega \\operatorname{pk}^{4}{\\left(\\tau \\right)} \\operatorname{qk}^{2}{\\left(\\tau \\right)} \\frac{d}{d \\tau} \\operatorname{qk}{\\left(\\tau \\right)} + 8 Ir \\Psi_{\\theta \\theta}^{2} d h hT \\omega \\operatorname{pk}^{3}{\\left(\\tau \\right)} \\operatorname{qk}^{3}{\\left(\\tau \\right)} \\frac{d}{d \\tau} \\operatorname{pk}{\\left(\\tau \\right)} - 8 Ir \\Psi_{\\theta \\theta}^{2} d h hT \\omega \\operatorname{pk}^{2}{\\left(\\tau \\right)} \\operatorname{qk}^{4}{\\left(\\tau \\right)} \\frac{d}{d \\tau} \\operatorname{qk}{\\left(\\tau \\right)} + 4 Ir \\Psi_{\\theta \\theta}^{2} d h hT \\omega \\operatorname{pk}{\\left(\\tau \\right)} \\operatorname{qk}^{5}{\\left(\\tau \\right)} \\frac{d}{d \\tau} \\operatorname{pk}{\\left(\\tau \\right)} - 4 Ir \\Psi_{\\theta \\theta}^{2} d h hT \\omega \\operatorname{qk}^{6}{\\left(\\tau \\right)} \\frac{d}{d \\tau} \\operatorname{qk}{\\left(\\tau \\right)} + 4 Ir \\Psi_{\\theta \\theta}^{2} d hT^{2} \\omega \\operatorname{pk}^{5}{\\left(\\tau \\right)} \\operatorname{qk}{\\left(\\tau \\right)} \\frac{d}{d \\tau} \\operatorname{pk}{\\left(\\tau \\right)} - 4 Ir \\Psi_{\\theta \\theta}^{2} d hT^{2} \\omega \\operatorname{pk}^{4}{\\left(\\tau \\right)} \\operatorname{qk}^{2}{\\left(\\tau \\right)} \\frac{d}{d \\tau} \\operatorname{qk}{\\left(\\tau \\right)} + 8 Ir \\Psi_{\\theta \\theta}^{2} d hT^{2} \\omega \\operatorname{pk}^{3}{\\left(\\tau \\right)} \\operatorname{qk}^{3}{\\left(\\tau \\right)} \\frac{d}{d \\tau} \\operatorname{pk}{\\left(\\tau \\right)} - 8 Ir \\Psi_{\\theta \\theta}^{2} d hT^{2} \\omega \\operatorname{pk}^{2}{\\left(\\tau \\right)} \\operatorname{qk}^{4}{\\left(\\tau \\right)} \\frac{d}{d \\tau} \\operatorname{qk}{\\left(\\tau \\right)} + 4 Ir \\Psi_{\\theta \\theta}^{2} d hT^{2} \\omega \\operatorname{pk}{\\left(\\tau \\right)} \\operatorname{qk}^{5}{\\left(\\tau \\right)} \\frac{d}{d \\tau} \\operatorname{pk}{\\left(\\tau \\right)} - 4 Ir \\Psi_{\\theta \\theta}^{2} d hT^{2} \\omega \\operatorname{qk}^{6}{\\left(\\tau \\right)} \\frac{d}{d \\tau} \\operatorname{qk}{\\left(\\tau \\right)} + Ir \\Psi_{\\theta \\theta}^{2} h^{2} msT \\omega^{2} \\operatorname{pk}^{6}{\\left(\\tau \\right)} \\operatorname{qk}{\\left(\\tau \\right)} - Ir \\Psi_{\\theta \\theta}^{2} h^{2} msT \\omega^{2} \\operatorname{pk}^{5}{\\left(\\tau \\right)} \\frac{d}{d \\tau} \\operatorname{pk}{\\left(\\tau \\right)} \\frac{d}{d \\tau} \\operatorname{qk}{\\left(\\tau \\right)} + Ir \\Psi_{\\theta \\theta}^{2} h^{2} msT \\omega^{2} \\operatorname{pk}^{4}{\\left(\\tau \\right)} \\operatorname{qk}^{3}{\\left(\\tau \\right)} + Ir \\Psi_{\\theta \\theta}^{2} h^{2} msT \\omega^{2} \\operatorname{pk}^{4}{\\left(\\tau \\right)} \\operatorname{qk}{\\left(\\tau \\right)} \\left(\\frac{d}{d \\tau} \\operatorname{pk}{\\left(\\tau \\right)}\\right)^{2} + Ir \\Psi_{\\theta \\theta}^{2} h^{2} msT \\omega^{2} \\operatorname{pk}^{4}{\\left(\\tau \\right)} \\operatorname{qk}{\\left(\\tau \\right)} \\left(\\frac{d}{d \\tau} \\operatorname{qk}{\\left(\\tau \\right)}\\right)^{2} - 2 Ir \\Psi_{\\theta \\theta}^{2} h^{2} msT \\omega^{2} \\operatorname{pk}^{3}{\\left(\\tau \\right)} \\operatorname{qk}^{2}{\\left(\\tau \\right)} \\frac{d}{d \\tau} \\operatorname{pk}{\\left(\\tau \\right)} \\frac{d}{d \\tau} \\operatorname{qk}{\\left(\\tau \\right)} - Ir \\Psi_{\\theta \\theta}^{2} h^{2} msT \\omega^{2} \\operatorname{pk}^{2}{\\left(\\tau \\right)} \\operatorname{qk}^{5}{\\left(\\tau \\right)} + Ir \\Psi_{\\theta \\theta}^{2} h^{2} msT \\omega^{2} \\operatorname{pk}^{2}{\\left(\\tau \\right)} \\operatorname{qk}^{3}{\\left(\\tau \\right)} \\left(\\frac{d}{d \\tau} \\operatorname{pk}{\\left(\\tau \\right)}\\right)^{2} + Ir \\Psi_{\\theta \\theta}^{2} h^{2} msT \\omega^{2} \\operatorname{pk}^{2}{\\left(\\tau \\right)} \\operatorname{qk}^{3}{\\left(\\tau \\right)} \\left(\\frac{d}{d \\tau} \\operatorname{qk}{\\left(\\tau \\right)}\\right)^{2} - Ir \\Psi_{\\theta \\theta}^{2} h^{2} msT \\omega^{2} \\operatorname{pk}{\\left(\\tau \\right)} \\operatorname{qk}^{4}{\\left(\\tau \\right)} \\frac{d}{d \\tau} \\operatorname{pk}{\\left(\\tau \\right)} \\frac{d}{d \\tau} \\operatorname{qk}{\\left(\\tau \\right)} - Ir \\Psi_{\\theta \\theta}^{2} h^{2} msT \\omega^{2} \\operatorname{qk}^{7}{\\left(\\tau \\right)} + 4 Ir \\Psi_{\\theta \\theta}^{2} h hT msT \\omega^{2} \\operatorname{pk}^{6}{\\left(\\tau \\right)} \\operatorname{qk}{\\left(\\tau \\right)} - 4 Ir \\Psi_{\\theta \\theta}^{2} h hT msT \\omega^{2} \\operatorname{pk}^{5}{\\left(\\tau \\right)} \\frac{d}{d \\tau} \\operatorname{pk}{\\left(\\tau \\right)} \\frac{d}{d \\tau} \\operatorname{qk}{\\left(\\tau \\right)} + 4 Ir \\Psi_{\\theta \\theta}^{2} h hT msT \\omega^{2} \\operatorname{pk}^{4}{\\left(\\tau \\right)} \\operatorname{qk}^{3}{\\left(\\tau \\right)} + 4 Ir \\Psi_{\\theta \\theta}^{2} h hT msT \\omega^{2} \\operatorname{pk}^{4}{\\left(\\tau \\right)} \\operatorname{qk}{\\left(\\tau \\right)} \\left(\\frac{d}{d \\tau} \\operatorname{pk}{\\left(\\tau \\right)}\\right)^{2} + 4 Ir \\Psi_{\\theta \\theta}^{2} h hT msT \\omega^{2} \\operatorname{pk}^{4}{\\left(\\tau \\right)} \\operatorname{qk}{\\left(\\tau \\right)} \\left(\\frac{d}{d \\tau} \\operatorname{qk}{\\left(\\tau \\right)}\\right)^{2} - 8 Ir \\Psi_{\\theta \\theta}^{2} h hT msT \\omega^{2} \\operatorname{pk}^{3}{\\left(\\tau \\right)} \\operatorname{qk}^{2}{\\left(\\tau \\right)} \\frac{d}{d \\tau} \\operatorname{pk}{\\left(\\tau \\right)} \\frac{d}{d \\tau} \\operatorname{qk}{\\left(\\tau \\right)} - 4 Ir \\Psi_{\\theta \\theta}^{2} h hT msT \\omega^{2} \\operatorname{pk}^{2}{\\left(\\tau \\right)} \\operatorname{qk}^{5}{\\left(\\tau \\right)} + 4 Ir \\Psi_{\\theta \\theta}^{2} h hT msT \\omega^{2} \\operatorname{pk}^{2}{\\left(\\tau \\right)} \\operatorname{qk}^{3}{\\left(\\tau \\right)} \\left(\\frac{d}{d \\tau} \\operatorname{pk}{\\left(\\tau \\right)}\\right)^{2} + 4 Ir \\Psi_{\\theta \\theta}^{2} h hT msT \\omega^{2} \\operatorname{pk}^{2}{\\left(\\tau \\right)} \\operatorname{qk}^{3}{\\left(\\tau \\right)} \\left(\\frac{d}{d \\tau} \\operatorname{qk}{\\left(\\tau \\right)}\\right)^{2} - 4 Ir \\Psi_{\\theta \\theta}^{2} h hT msT \\omega^{2} \\operatorname{pk}{\\left(\\tau \\right)} \\operatorname{qk}^{4}{\\left(\\tau \\right)} \\frac{d}{d \\tau} \\operatorname{pk}{\\left(\\tau \\right)} \\frac{d}{d \\tau} \\operatorname{qk}{\\left(\\tau \\right)} - 4 Ir \\Psi_{\\theta \\theta}^{2} h hT msT \\omega^{2} \\operatorname{qk}^{7}{\\left(\\tau \\right)} + 4 Ir \\Psi_{\\theta \\theta}^{2} hT^{2} msT \\omega^{2} \\operatorname{pk}^{6}{\\left(\\tau \\right)} \\operatorname{qk}{\\left(\\tau \\right)} - 4 Ir \\Psi_{\\theta \\theta}^{2} hT^{2} msT \\omega^{2} \\operatorname{pk}^{5}{\\left(\\tau \\right)} \\frac{d}{d \\tau} \\operatorname{pk}{\\left(\\tau \\right)} \\frac{d}{d \\tau} \\operatorname{qk}{\\left(\\tau \\right)} + 4 Ir \\Psi_{\\theta \\theta}^{2} hT^{2} msT \\omega^{2} \\operatorname{pk}^{4}{\\left(\\tau \\right)} \\operatorname{qk}^{3}{\\left(\\tau \\right)} + 4 Ir \\Psi_{\\theta \\theta}^{2} hT^{2} msT \\omega^{2} \\operatorname{pk}^{4}{\\left(\\tau \\right)} \\operatorname{qk}{\\left(\\tau \\right)} \\left(\\frac{d}{d \\tau} \\operatorname{pk}{\\left(\\tau \\right)}\\right)^{2} + 4 Ir \\Psi_{\\theta \\theta}^{2} hT^{2} msT \\omega^{2} \\operatorname{pk}^{4}{\\left(\\tau \\right)} \\operatorname{qk}{\\left(\\tau \\right)} \\left(\\frac{d}{d \\tau} \\operatorname{qk}{\\left(\\tau \\right)}\\right)^{2} - 8 Ir \\Psi_{\\theta \\theta}^{2} hT^{2} msT \\omega^{2} \\operatorname{pk}^{3}{\\left(\\tau \\right)} \\operatorname{qk}^{2}{\\left(\\tau \\right)} \\frac{d}{d \\tau} \\operatorname{pk}{\\left(\\tau \\right)} \\frac{d}{d \\tau} \\operatorname{qk}{\\left(\\tau \\right)} - 4 Ir \\Psi_{\\theta \\theta}^{2} hT^{2} msT \\omega^{2} \\operatorname{pk}^{2}{\\left(\\tau \\right)} \\operatorname{qk}^{5}{\\left(\\tau \\right)} + 4 Ir \\Psi_{\\theta \\theta}^{2} hT^{2} msT \\omega^{2} \\operatorname{pk}^{2}{\\left(\\tau \\right)} \\operatorname{qk}^{3}{\\left(\\tau \\right)} \\left(\\frac{d}{d \\tau} \\operatorname{pk}{\\left(\\tau \\right)}\\right)^{2} + 4 Ir \\Psi_{\\theta \\theta}^{2} hT^{2} msT \\omega^{2} \\operatorname{pk}^{2}{\\left(\\tau \\right)} \\operatorname{qk}^{3}{\\left(\\tau \\right)} \\left(\\frac{d}{d \\tau} \\operatorname{qk}{\\left(\\tau \\right)}\\right)^{2} - 4 Ir \\Psi_{\\theta \\theta}^{2} hT^{2} msT \\omega^{2} \\operatorname{pk}{\\left(\\tau \\right)} \\operatorname{qk}^{4}{\\left(\\tau \\right)} \\frac{d}{d \\tau} \\operatorname{pk}{\\left(\\tau \\right)} \\frac{d}{d \\tau} \\operatorname{qk}{\\left(\\tau \\right)} - 4 Ir \\Psi_{\\theta \\theta}^{2} hT^{2} msT \\omega^{2} \\operatorname{qk}^{7}{\\left(\\tau \\right)} + 2 \\Psi_{\\theta \\theta} Rk Texte Uu^{2} h mR \\sqrt{\\operatorname{pk}^{2}{\\left(\\tau \\right)} + \\operatorname{qk}^{2}{\\left(\\tau \\right)}} \\operatorname{pk}^{5}{\\left(\\tau \\right)} - 2 \\Psi_{\\theta \\theta} Rk Texte Uu^{2} h mR \\sqrt{\\operatorname{pk}^{2}{\\left(\\tau \\right)} + \\operatorname{qk}^{2}{\\left(\\tau \\right)}} \\operatorname{pk}{\\left(\\tau \\right)} \\operatorname{qk}^{4}{\\left(\\tau \\right)} + 4 \\Psi_{\\theta \\theta} Rk Texte Uu^{2} hT mR \\sqrt{\\operatorname{pk}^{2}{\\left(\\tau \\right)} + \\operatorname{qk}^{2}{\\left(\\tau \\right)}} \\operatorname{pk}^{5}{\\left(\\tau \\right)} - 4 \\Psi_{\\theta \\theta} Rk Texte Uu^{2} hT mR \\sqrt{\\operatorname{pk}^{2}{\\left(\\tau \\right)} + \\operatorname{qk}^{2}{\\left(\\tau \\right)}} \\operatorname{pk}{\\left(\\tau \\right)} \\operatorname{qk}^{4}{\\left(\\tau \\right)} + 2 \\Psi_{\\theta \\theta} Rk Texte h msT \\sqrt{\\operatorname{pk}^{2}{\\left(\\tau \\right)} + \\operatorname{qk}^{2}{\\left(\\tau \\right)}} \\operatorname{pk}^{5}{\\left(\\tau \\right)} + 4 \\Psi_{\\theta \\theta} Rk Texte h msT \\sqrt{\\operatorname{pk}^{2}{\\left(\\tau \\right)} + \\operatorname{qk}^{2}{\\left(\\tau \\right)}} \\operatorname{pk}^{3}{\\left(\\tau \\right)} \\operatorname{qk}^{2}{\\left(\\tau \\right)} + 2 \\Psi_{\\theta \\theta} Rk Texte h msT \\sqrt{\\operatorname{pk}^{2}{\\left(\\tau \\right)} + \\operatorname{qk}^{2}{\\left(\\tau \\right)}} \\operatorname{pk}{\\left(\\tau \\right)} \\operatorname{qk}^{4}{\\left(\\tau \\right)} + 4 \\Psi_{\\theta \\theta} Rk Texte hT msT \\sqrt{\\operatorname{pk}^{2}{\\left(\\tau \\right)} + \\operatorname{qk}^{2}{\\left(\\tau \\right)}} \\operatorname{pk}^{5}{\\left(\\tau \\right)} + 8 \\Psi_{\\theta \\theta} Rk Texte hT msT \\sqrt{\\operatorname{pk}^{2}{\\left(\\tau \\right)} + \\operatorname{qk}^{2}{\\left(\\tau \\right)}} \\operatorname{pk}^{3}{\\left(\\tau \\right)} \\operatorname{qk}^{2}{\\left(\\tau \\right)} + 4 \\Psi_{\\theta \\theta} Rk Texte hT msT \\sqrt{\\operatorname{pk}^{2}{\\left(\\tau \\right)} + \\operatorname{qk}^{2}{\\left(\\tau \\right)}} \\operatorname{pk}{\\left(\\tau \\right)} \\operatorname{qk}^{4}{\\left(\\tau \\right)} - 4 Rk^{2} Uu^{2} Vo cUo mR \\operatorname{pk}^{6}{\\left(\\tau \\right)} \\cos{\\left(\\tau \\right)} + 4 Rk^{2} Uu^{2} Vo cUo mR \\operatorname{pk}^{5}{\\left(\\tau \\right)} \\operatorname{qk}{\\left(\\tau \\right)} \\sin{\\left(\\tau \\right)} - 8 Rk^{2} Uu^{2} Vo cUo mR \\operatorname{pk}^{4}{\\left(\\tau \\right)} \\operatorname{qk}^{2}{\\left(\\tau \\right)} \\cos{\\left(\\tau \\right)} + 8 Rk^{2} Uu^{2} Vo cUo mR \\operatorname{pk}^{3}{\\left(\\tau \\right)} \\operatorname{qk}^{3}{\\left(\\tau \\right)} \\sin{\\left(\\tau \\right)} - 4 Rk^{2} Uu^{2} Vo cUo mR \\operatorname{pk}^{2}{\\left(\\tau \\right)} \\operatorname{qk}^{4}{\\left(\\tau \\right)} \\cos{\\left(\\tau \\right)} + 4 Rk^{2} Uu^{2} Vo cUo mR \\operatorname{pk}{\\left(\\tau \\right)} \\operatorname{qk}^{5}{\\left(\\tau \\right)} \\sin{\\left(\\tau \\right)} - 4 Rk^{2} Uu^{2} cr msT \\operatorname{pk}^{6}{\\left(\\tau \\right)} \\operatorname{qk}{\\left(\\tau \\right)} - 12 Rk^{2} Uu^{2} cr msT \\operatorname{pk}^{4}{\\left(\\tau \\right)} \\operatorname{qk}^{3}{\\left(\\tau \\right)} - 12 Rk^{2} Uu^{2} cr msT \\operatorname{pk}^{2}{\\left(\\tau \\right)} \\operatorname{qk}^{5}{\\left(\\tau \\right)} - 4 Rk^{2} Uu^{2} cr msT \\operatorname{qk}^{7}{\\left(\\tau \\right)} - 4 Rk^{2} Uu^{2} d mR \\omega \\operatorname{pk}^{6}{\\left(\\tau \\right)} \\frac{d}{d \\tau} \\operatorname{qk}{\\left(\\tau \\right)} + 4 Rk^{2} Uu^{2} d mR \\omega \\operatorname{pk}^{5}{\\left(\\tau \\right)} \\operatorname{qk}{\\left(\\tau \\right)} \\frac{d}{d \\tau} \\operatorname{pk}{\\left(\\tau \\right)} - 8 Rk^{2} Uu^{2} d mR \\omega \\operatorname{pk}^{4}{\\left(\\tau \\right)} \\operatorname{qk}^{2}{\\left(\\tau \\right)} \\frac{d}{d \\tau} \\operatorname{qk}{\\left(\\tau \\right)} + 8 Rk^{2} Uu^{2} d mR \\omega \\operatorname{pk}^{3}{\\left(\\tau \\right)} \\operatorname{qk}^{3}{\\left(\\tau \\right)} \\frac{d}{d \\tau} \\operatorname{pk}{\\left(\\tau \\right)} - 4 Rk^{2} Uu^{2} d mR \\omega \\operatorname{pk}^{2}{\\left(\\tau \\right)} \\operatorname{qk}^{4}{\\left(\\tau \\right)} \\frac{d}{d \\tau} \\operatorname{qk}{\\left(\\tau \\right)} + 4 Rk^{2} Uu^{2} d mR \\omega \\operatorname{pk}{\\left(\\tau \\right)} \\operatorname{qk}^{5}{\\left(\\tau \\right)} \\frac{d}{d \\tau} \\operatorname{pk}{\\left(\\tau \\right)} - 4 Rk^{2} Uu^{2} mR msT \\omega^{2} \\operatorname{pk}^{4}{\\left(\\tau \\right)} \\operatorname{qk}{\\left(\\tau \\right)} \\left(\\frac{d}{d \\tau} \\operatorname{qk}{\\left(\\tau \\right)}\\right)^{2} + 8 Rk^{2} Uu^{2} mR msT \\omega^{2} \\operatorname{pk}^{3}{\\left(\\tau \\right)} \\operatorname{qk}^{2}{\\left(\\tau \\right)} \\frac{d}{d \\tau} \\operatorname{pk}{\\left(\\tau \\right)} \\frac{d}{d \\tau} \\operatorname{qk}{\\left(\\tau \\right)} - 4 Rk^{2} Uu^{2} mR msT \\omega^{2} \\operatorname{pk}^{2}{\\left(\\tau \\right)} \\operatorname{qk}^{3}{\\left(\\tau \\right)} \\left(\\frac{d}{d \\tau} \\operatorname{pk}{\\left(\\tau \\right)}\\right)^{2} - 4 Rk^{2} Uu^{2} mR msT \\omega^{2} \\operatorname{pk}^{2}{\\left(\\tau \\right)} \\operatorname{qk}^{3}{\\left(\\tau \\right)} \\left(\\frac{d}{d \\tau} \\operatorname{qk}{\\left(\\tau \\right)}\\right)^{2} + 8 Rk^{2} Uu^{2} mR msT \\omega^{2} \\operatorname{pk}{\\left(\\tau \\right)} \\operatorname{qk}^{4}{\\left(\\tau \\right)} \\frac{d}{d \\tau} \\operatorname{pk}{\\left(\\tau \\right)} \\frac{d}{d \\tau} \\operatorname{qk}{\\left(\\tau \\right)} - 4 Rk^{2} Uu^{2} mR msT \\omega^{2} \\operatorname{qk}^{5}{\\left(\\tau \\right)} \\left(\\frac{d}{d \\tau} \\operatorname{pk}{\\left(\\tau \\right)}\\right)^{2} - 4 Rk^{2} Uu cr msT ps \\sqrt{\\operatorname{pk}^{2}{\\left(\\tau \\right)} + \\operatorname{qk}^{2}{\\left(\\tau \\right)}} \\operatorname{pk}^{4}{\\left(\\tau \\right)} \\operatorname{qk}{\\left(\\tau \\right)} - 8 Rk^{2} Uu cr msT ps \\sqrt{\\operatorname{pk}^{2}{\\left(\\tau \\right)} + \\operatorname{qk}^{2}{\\left(\\tau \\right)}} \\operatorname{pk}^{2}{\\left(\\tau \\right)} \\operatorname{qk}^{3}{\\left(\\tau \\right)} - 4 Rk^{2} Uu cr msT ps \\sqrt{\\operatorname{pk}^{2}{\\left(\\tau \\right)} + \\operatorname{qk}^{2}{\\left(\\tau \\right)}} \\operatorname{qk}^{5}{\\left(\\tau \\right)} - 4 Rk^{2} Vo cUo msT \\operatorname{pk}^{6}{\\left(\\tau \\right)} \\cos{\\left(\\tau \\right)} - 12 Rk^{2} Vo cUo msT \\operatorname{pk}^{4}{\\left(\\tau \\right)} \\operatorname{qk}^{2}{\\left(\\tau \\right)} \\cos{\\left(\\tau \\right)} - 12 Rk^{2} Vo cUo msT \\operatorname{pk}^{2}{\\left(\\tau \\right)} \\operatorname{qk}^{4}{\\left(\\tau \\right)} \\cos{\\left(\\tau \\right)} - 4 Rk^{2} Vo cUo msT \\operatorname{qk}^{6}{\\left(\\tau \\right)} \\cos{\\left(\\tau \\right)} - 4 Rk^{2} d msT \\omega \\operatorname{pk}^{6}{\\left(\\tau \\right)} \\frac{d}{d \\tau} \\operatorname{qk}{\\left(\\tau \\right)} - 12 Rk^{2} d msT \\omega \\operatorname{pk}^{4}{\\left(\\tau \\right)} \\operatorname{qk}^{2}{\\left(\\tau \\right)} \\frac{d}{d \\tau} \\operatorname{qk}{\\left(\\tau \\right)} - 12 Rk^{2} d msT \\omega \\operatorname{pk}^{2}{\\left(\\tau \\right)} \\operatorname{qk}^{4}{\\left(\\tau \\right)} \\frac{d}{d \\tau} \\operatorname{qk}{\\left(\\tau \\right)} - 4 Rk^{2} d msT \\omega \\operatorname{qk}^{6}{\\left(\\tau \\right)} \\frac{d}{d \\tau} \\operatorname{qk}{\\left(\\tau \\right)} - 4 Rk^{2} msT^{2} \\omega^{2} \\operatorname{pk}^{6}{\\left(\\tau \\right)} \\operatorname{qk}{\\left(\\tau \\right)} - 12 Rk^{2} msT^{2} \\omega^{2} \\operatorname{pk}^{4}{\\left(\\tau \\right)} \\operatorname{qk}^{3}{\\left(\\tau \\right)} - 12 Rk^{2} msT^{2} \\omega^{2} \\operatorname{pk}^{2}{\\left(\\tau \\right)} \\operatorname{qk}^{5}{\\left(\\tau \\right)} - 4 Rk^{2} msT^{2} \\omega^{2} \\operatorname{qk}^{7}{\\left(\\tau \\right)}}{\\omega^{2} \\left(Ir \\Psi_{\\theta \\theta}^{2} Uu^{2} h^{2} mR \\operatorname{pk}^{6}{\\left(\\tau \\right)} - Ir \\Psi_{\\theta \\theta}^{2} Uu^{2} h^{2} mR \\operatorname{pk}^{4}{\\left(\\tau \\right)} \\operatorname{qk}^{2}{\\left(\\tau \\right)} - Ir \\Psi_{\\theta \\theta}^{2} Uu^{2} h^{2} mR \\operatorname{pk}^{2}{\\left(\\tau \\right)} \\operatorname{qk}^{4}{\\left(\\tau \\right)} + Ir \\Psi_{\\theta \\theta}^{2} Uu^{2} h^{2} mR \\operatorname{qk}^{6}{\\left(\\tau \\right)} + 4 Ir \\Psi_{\\theta \\theta}^{2} Uu^{2} h hT mR \\operatorname{pk}^{6}{\\left(\\tau \\right)} - 4 Ir \\Psi_{\\theta \\theta}^{2} Uu^{2} h hT mR \\operatorname{pk}^{4}{\\left(\\tau \\right)} \\operatorname{qk}^{2}{\\left(\\tau \\right)} - 4 Ir \\Psi_{\\theta \\theta}^{2} Uu^{2} h hT mR \\operatorname{pk}^{2}{\\left(\\tau \\right)} \\operatorname{qk}^{4}{\\left(\\tau \\right)} + 4 Ir \\Psi_{\\theta \\theta}^{2} Uu^{2} h hT mR \\operatorname{qk}^{6}{\\left(\\tau \\right)} + 4 Ir \\Psi_{\\theta \\theta}^{2} Uu^{2} hT^{2} mR \\operatorname{pk}^{6}{\\left(\\tau \\right)} - 4 Ir \\Psi_{\\theta \\theta}^{2} Uu^{2} hT^{2} mR \\operatorname{pk}^{4}{\\left(\\tau \\right)} \\operatorname{qk}^{2}{\\left(\\tau \\right)} - 4 Ir \\Psi_{\\theta \\theta}^{2} Uu^{2} hT^{2} mR \\operatorname{pk}^{2}{\\left(\\tau \\right)} \\operatorname{qk}^{4}{\\left(\\tau \\right)} + 4 Ir \\Psi_{\\theta \\theta}^{2} Uu^{2} hT^{2} mR \\operatorname{qk}^{6}{\\left(\\tau \\right)} + Ir \\Psi_{\\theta \\theta}^{2} h^{2} msT \\operatorname{pk}^{6}{\\left(\\tau \\right)} + 3 Ir \\Psi_{\\theta \\theta}^{2} h^{2} msT \\operatorname{pk}^{4}{\\left(\\tau \\right)} \\operatorname{qk}^{2}{\\left(\\tau \\right)} + 3 Ir \\Psi_{\\theta \\theta}^{2} h^{2} msT \\operatorname{pk}^{2}{\\left(\\tau \\right)} \\operatorname{qk}^{4}{\\left(\\tau \\right)} + Ir \\Psi_{\\theta \\theta}^{2} h^{2} msT \\operatorname{qk}^{6}{\\left(\\tau \\right)} + 4 Ir \\Psi_{\\theta \\theta}^{2} h hT msT \\operatorname{pk}^{6}{\\left(\\tau \\right)} + 12 Ir \\Psi_{\\theta \\theta}^{2} h hT msT \\operatorname{pk}^{4}{\\left(\\tau \\right)} \\operatorname{qk}^{2}{\\left(\\tau \\right)} + 12 Ir \\Psi_{\\theta \\theta}^{2} h hT msT \\operatorname{pk}^{2}{\\left(\\tau \\right)} \\operatorname{qk}^{4}{\\left(\\tau \\right)} + 4 Ir \\Psi_{\\theta \\theta}^{2} h hT msT \\operatorname{qk}^{6}{\\left(\\tau \\right)} + 4 Ir \\Psi_{\\theta \\theta}^{2} hT^{2} msT \\operatorname{pk}^{6}{\\left(\\tau \\right)} + 12 Ir \\Psi_{\\theta \\theta}^{2} hT^{2} msT \\operatorname{pk}^{4}{\\left(\\tau \\right)} \\operatorname{qk}^{2}{\\left(\\tau \\right)} + 12 Ir \\Psi_{\\theta \\theta}^{2} hT^{2} msT \\operatorname{pk}^{2}{\\left(\\tau \\right)} \\operatorname{qk}^{4}{\\left(\\tau \\right)} + 4 Ir \\Psi_{\\theta \\theta}^{2} hT^{2} msT \\operatorname{qk}^{6}{\\left(\\tau \\right)} + 4 Rk^{2} Uu^{2} mR msT \\operatorname{pk}^{6}{\\left(\\tau \\right)} + 12 Rk^{2} Uu^{2} mR msT \\operatorname{pk}^{4}{\\left(\\tau \\right)} \\operatorname{qk}^{2}{\\left(\\tau \\right)} + 12 Rk^{2} Uu^{2} mR msT \\operatorname{pk}^{2}{\\left(\\tau \\right)} \\operatorname{qk}^{4}{\\left(\\tau \\right)} + 4 Rk^{2} Uu^{2} mR msT \\operatorname{qk}^{6}{\\left(\\tau \\right)} + 4 Rk^{2} msT^{2} \\operatorname{pk}^{6}{\\left(\\tau \\right)} + 12 Rk^{2} msT^{2} \\operatorname{pk}^{4}{\\left(\\tau \\right)} \\operatorname{qk}^{2}{\\left(\\tau \\right)} + 12 Rk^{2} msT^{2} \\operatorname{pk}^{2}{\\left(\\tau \\right)} \\operatorname{qk}^{4}{\\left(\\tau \\right)} + 4 Rk^{2} msT^{2} \\operatorname{qk}^{6}{\\left(\\tau \\right)}\\right)}$"
      ],
      "text/plain": [
       "(Ir*Psi_theta_theta**2*Uu**2*cr*h**2*pk(tau)**6*qk(tau) + Ir*Psi_theta_theta**2*Uu**2*cr*h**2*pk(tau)**4*qk(tau)**3 - Ir*Psi_theta_theta**2*Uu**2*cr*h**2*pk(tau)**2*qk(tau)**5 - Ir*Psi_theta_theta**2*Uu**2*cr*h**2*qk(tau)**7 + 4*Ir*Psi_theta_theta**2*Uu**2*cr*h*hT*pk(tau)**6*qk(tau) + 4*Ir*Psi_theta_theta**2*Uu**2*cr*h*hT*pk(tau)**4*qk(tau)**3 - 4*Ir*Psi_theta_theta**2*Uu**2*cr*h*hT*pk(tau)**2*qk(tau)**5 - 4*Ir*Psi_theta_theta**2*Uu**2*cr*h*hT*qk(tau)**7 + 4*Ir*Psi_theta_theta**2*Uu**2*cr*hT**2*pk(tau)**6*qk(tau) + 4*Ir*Psi_theta_theta**2*Uu**2*cr*hT**2*pk(tau)**4*qk(tau)**3 - 4*Ir*Psi_theta_theta**2*Uu**2*cr*hT**2*pk(tau)**2*qk(tau)**5 - 4*Ir*Psi_theta_theta**2*Uu**2*cr*hT**2*qk(tau)**7 - Ir*Psi_theta_theta**2*Uu**2*h**2*mR*omega**2*pk(tau)**5*Derivative(pk(tau), tau)*Derivative(qk(tau), tau) + Ir*Psi_theta_theta**2*Uu**2*h**2*mR*omega**2*pk(tau)**4*qk(tau)*Derivative(pk(tau), tau)**2 + 2*Ir*Psi_theta_theta**2*Uu**2*h**2*mR*omega**2*pk(tau)**4*qk(tau)*Derivative(qk(tau), tau)**2 - 2*Ir*Psi_theta_theta**2*Uu**2*h**2*mR*omega**2*pk(tau)**3*qk(tau)**2*Derivative(pk(tau), tau)*Derivative(qk(tau), tau) - 2*Ir*Psi_theta_theta**2*Uu**2*h**2*mR*omega**2*pk(tau)**2*qk(tau)**3*Derivative(qk(tau), tau)**2 + 3*Ir*Psi_theta_theta**2*Uu**2*h**2*mR*omega**2*pk(tau)*qk(tau)**4*Derivative(pk(tau), tau)*Derivative(qk(tau), tau) - Ir*Psi_theta_theta**2*Uu**2*h**2*mR*omega**2*qk(tau)**5*Derivative(pk(tau), tau)**2 - 4*Ir*Psi_theta_theta**2*Uu**2*h*hT*mR*omega**2*pk(tau)**5*Derivative(pk(tau), tau)*Derivative(qk(tau), tau) + 4*Ir*Psi_theta_theta**2*Uu**2*h*hT*mR*omega**2*pk(tau)**4*qk(tau)*Derivative(pk(tau), tau)**2 + 8*Ir*Psi_theta_theta**2*Uu**2*h*hT*mR*omega**2*pk(tau)**4*qk(tau)*Derivative(qk(tau), tau)**2 - 8*Ir*Psi_theta_theta**2*Uu**2*h*hT*mR*omega**2*pk(tau)**3*qk(tau)**2*Derivative(pk(tau), tau)*Derivative(qk(tau), tau) - 8*Ir*Psi_theta_theta**2*Uu**2*h*hT*mR*omega**2*pk(tau)**2*qk(tau)**3*Derivative(qk(tau), tau)**2 + 12*Ir*Psi_theta_theta**2*Uu**2*h*hT*mR*omega**2*pk(tau)*qk(tau)**4*Derivative(pk(tau), tau)*Derivative(qk(tau), tau) - 4*Ir*Psi_theta_theta**2*Uu**2*h*hT*mR*omega**2*qk(tau)**5*Derivative(pk(tau), tau)**2 - 4*Ir*Psi_theta_theta**2*Uu**2*hT**2*mR*omega**2*pk(tau)**5*Derivative(pk(tau), tau)*Derivative(qk(tau), tau) + 4*Ir*Psi_theta_theta**2*Uu**2*hT**2*mR*omega**2*pk(tau)**4*qk(tau)*Derivative(pk(tau), tau)**2 + 8*Ir*Psi_theta_theta**2*Uu**2*hT**2*mR*omega**2*pk(tau)**4*qk(tau)*Derivative(qk(tau), tau)**2 - 8*Ir*Psi_theta_theta**2*Uu**2*hT**2*mR*omega**2*pk(tau)**3*qk(tau)**2*Derivative(pk(tau), tau)*Derivative(qk(tau), tau) - 8*Ir*Psi_theta_theta**2*Uu**2*hT**2*mR*omega**2*pk(tau)**2*qk(tau)**3*Derivative(qk(tau), tau)**2 + 12*Ir*Psi_theta_theta**2*Uu**2*hT**2*mR*omega**2*pk(tau)*qk(tau)**4*Derivative(pk(tau), tau)*Derivative(qk(tau), tau) - 4*Ir*Psi_theta_theta**2*Uu**2*hT**2*mR*omega**2*qk(tau)**5*Derivative(pk(tau), tau)**2 + Ir*Psi_theta_theta**2*Uu*cr*h**2*ps*sqrt(pk(tau)**2 + qk(tau)**2)*pk(tau)**4*qk(tau) - Ir*Psi_theta_theta**2*Uu*cr*h**2*ps*sqrt(pk(tau)**2 + qk(tau)**2)*qk(tau)**5 + 4*Ir*Psi_theta_theta**2*Uu*cr*h*hT*ps*sqrt(pk(tau)**2 + qk(tau)**2)*pk(tau)**4*qk(tau) - 4*Ir*Psi_theta_theta**2*Uu*cr*h*hT*ps*sqrt(pk(tau)**2 + qk(tau)**2)*qk(tau)**5 + 4*Ir*Psi_theta_theta**2*Uu*cr*hT**2*ps*sqrt(pk(tau)**2 + qk(tau)**2)*pk(tau)**4*qk(tau) - 4*Ir*Psi_theta_theta**2*Uu*cr*hT**2*ps*sqrt(pk(tau)**2 + qk(tau)**2)*qk(tau)**5 + Ir*Psi_theta_theta**2*Vo*cUo*h**2*pk(tau)**5*qk(tau)*sin(tau) - Ir*Psi_theta_theta**2*Vo*cUo*h**2*pk(tau)**4*qk(tau)**2*cos(tau) + 2*Ir*Psi_theta_theta**2*Vo*cUo*h**2*pk(tau)**3*qk(tau)**3*sin(tau) - 2*Ir*Psi_theta_theta**2*Vo*cUo*h**2*pk(tau)**2*qk(tau)**4*cos(tau) + Ir*Psi_theta_theta**2*Vo*cUo*h**2*pk(tau)*qk(tau)**5*sin(tau) - Ir*Psi_theta_theta**2*Vo*cUo*h**2*qk(tau)**6*cos(tau) + 4*Ir*Psi_theta_theta**2*Vo*cUo*h*hT*pk(tau)**5*qk(tau)*sin(tau) - 4*Ir*Psi_theta_theta**2*Vo*cUo*h*hT*pk(tau)**4*qk(tau)**2*cos(tau) + 8*Ir*Psi_theta_theta**2*Vo*cUo*h*hT*pk(tau)**3*qk(tau)**3*sin(tau) - 8*Ir*Psi_theta_theta**2*Vo*cUo*h*hT*pk(tau)**2*qk(tau)**4*cos(tau) + 4*Ir*Psi_theta_theta**2*Vo*cUo*h*hT*pk(tau)*qk(tau)**5*sin(tau) - 4*Ir*Psi_theta_theta**2*Vo*cUo*h*hT*qk(tau)**6*cos(tau) + 4*Ir*Psi_theta_theta**2*Vo*cUo*hT**2*pk(tau)**5*qk(tau)*sin(tau) - 4*Ir*Psi_theta_theta**2*Vo*cUo*hT**2*pk(tau)**4*qk(tau)**2*cos(tau) + 8*Ir*Psi_theta_theta**2*Vo*cUo*hT**2*pk(tau)**3*qk(tau)**3*sin(tau) - 8*Ir*Psi_theta_theta**2*Vo*cUo*hT**2*pk(tau)**2*qk(tau)**4*cos(tau) + 4*Ir*Psi_theta_theta**2*Vo*cUo*hT**2*pk(tau)*qk(tau)**5*sin(tau) - 4*Ir*Psi_theta_theta**2*Vo*cUo*hT**2*qk(tau)**6*cos(tau) + Ir*Psi_theta_theta**2*d*h**2*omega*pk(tau)**5*qk(tau)*Derivative(pk(tau), tau) - Ir*Psi_theta_theta**2*d*h**2*omega*pk(tau)**4*qk(tau)**2*Derivative(qk(tau), tau) + 2*Ir*Psi_theta_theta**2*d*h**2*omega*pk(tau)**3*qk(tau)**3*Derivative(pk(tau), tau) - 2*Ir*Psi_theta_theta**2*d*h**2*omega*pk(tau)**2*qk(tau)**4*Derivative(qk(tau), tau) + Ir*Psi_theta_theta**2*d*h**2*omega*pk(tau)*qk(tau)**5*Derivative(pk(tau), tau) - Ir*Psi_theta_theta**2*d*h**2*omega*qk(tau)**6*Derivative(qk(tau), tau) + 4*Ir*Psi_theta_theta**2*d*h*hT*omega*pk(tau)**5*qk(tau)*Derivative(pk(tau), tau) - 4*Ir*Psi_theta_theta**2*d*h*hT*omega*pk(tau)**4*qk(tau)**2*Derivative(qk(tau), tau) + 8*Ir*Psi_theta_theta**2*d*h*hT*omega*pk(tau)**3*qk(tau)**3*Derivative(pk(tau), tau) - 8*Ir*Psi_theta_theta**2*d*h*hT*omega*pk(tau)**2*qk(tau)**4*Derivative(qk(tau), tau) + 4*Ir*Psi_theta_theta**2*d*h*hT*omega*pk(tau)*qk(tau)**5*Derivative(pk(tau), tau) - 4*Ir*Psi_theta_theta**2*d*h*hT*omega*qk(tau)**6*Derivative(qk(tau), tau) + 4*Ir*Psi_theta_theta**2*d*hT**2*omega*pk(tau)**5*qk(tau)*Derivative(pk(tau), tau) - 4*Ir*Psi_theta_theta**2*d*hT**2*omega*pk(tau)**4*qk(tau)**2*Derivative(qk(tau), tau) + 8*Ir*Psi_theta_theta**2*d*hT**2*omega*pk(tau)**3*qk(tau)**3*Derivative(pk(tau), tau) - 8*Ir*Psi_theta_theta**2*d*hT**2*omega*pk(tau)**2*qk(tau)**4*Derivative(qk(tau), tau) + 4*Ir*Psi_theta_theta**2*d*hT**2*omega*pk(tau)*qk(tau)**5*Derivative(pk(tau), tau) - 4*Ir*Psi_theta_theta**2*d*hT**2*omega*qk(tau)**6*Derivative(qk(tau), tau) + Ir*Psi_theta_theta**2*h**2*msT*omega**2*pk(tau)**6*qk(tau) - Ir*Psi_theta_theta**2*h**2*msT*omega**2*pk(tau)**5*Derivative(pk(tau), tau)*Derivative(qk(tau), tau) + Ir*Psi_theta_theta**2*h**2*msT*omega**2*pk(tau)**4*qk(tau)**3 + Ir*Psi_theta_theta**2*h**2*msT*omega**2*pk(tau)**4*qk(tau)*Derivative(pk(tau), tau)**2 + Ir*Psi_theta_theta**2*h**2*msT*omega**2*pk(tau)**4*qk(tau)*Derivative(qk(tau), tau)**2 - 2*Ir*Psi_theta_theta**2*h**2*msT*omega**2*pk(tau)**3*qk(tau)**2*Derivative(pk(tau), tau)*Derivative(qk(tau), tau) - Ir*Psi_theta_theta**2*h**2*msT*omega**2*pk(tau)**2*qk(tau)**5 + Ir*Psi_theta_theta**2*h**2*msT*omega**2*pk(tau)**2*qk(tau)**3*Derivative(pk(tau), tau)**2 + Ir*Psi_theta_theta**2*h**2*msT*omega**2*pk(tau)**2*qk(tau)**3*Derivative(qk(tau), tau)**2 - Ir*Psi_theta_theta**2*h**2*msT*omega**2*pk(tau)*qk(tau)**4*Derivative(pk(tau), tau)*Derivative(qk(tau), tau) - Ir*Psi_theta_theta**2*h**2*msT*omega**2*qk(tau)**7 + 4*Ir*Psi_theta_theta**2*h*hT*msT*omega**2*pk(tau)**6*qk(tau) - 4*Ir*Psi_theta_theta**2*h*hT*msT*omega**2*pk(tau)**5*Derivative(pk(tau), tau)*Derivative(qk(tau), tau) + 4*Ir*Psi_theta_theta**2*h*hT*msT*omega**2*pk(tau)**4*qk(tau)**3 + 4*Ir*Psi_theta_theta**2*h*hT*msT*omega**2*pk(tau)**4*qk(tau)*Derivative(pk(tau), tau)**2 + 4*Ir*Psi_theta_theta**2*h*hT*msT*omega**2*pk(tau)**4*qk(tau)*Derivative(qk(tau), tau)**2 - 8*Ir*Psi_theta_theta**2*h*hT*msT*omega**2*pk(tau)**3*qk(tau)**2*Derivative(pk(tau), tau)*Derivative(qk(tau), tau) - 4*Ir*Psi_theta_theta**2*h*hT*msT*omega**2*pk(tau)**2*qk(tau)**5 + 4*Ir*Psi_theta_theta**2*h*hT*msT*omega**2*pk(tau)**2*qk(tau)**3*Derivative(pk(tau), tau)**2 + 4*Ir*Psi_theta_theta**2*h*hT*msT*omega**2*pk(tau)**2*qk(tau)**3*Derivative(qk(tau), tau)**2 - 4*Ir*Psi_theta_theta**2*h*hT*msT*omega**2*pk(tau)*qk(tau)**4*Derivative(pk(tau), tau)*Derivative(qk(tau), tau) - 4*Ir*Psi_theta_theta**2*h*hT*msT*omega**2*qk(tau)**7 + 4*Ir*Psi_theta_theta**2*hT**2*msT*omega**2*pk(tau)**6*qk(tau) - 4*Ir*Psi_theta_theta**2*hT**2*msT*omega**2*pk(tau)**5*Derivative(pk(tau), tau)*Derivative(qk(tau), tau) + 4*Ir*Psi_theta_theta**2*hT**2*msT*omega**2*pk(tau)**4*qk(tau)**3 + 4*Ir*Psi_theta_theta**2*hT**2*msT*omega**2*pk(tau)**4*qk(tau)*Derivative(pk(tau), tau)**2 + 4*Ir*Psi_theta_theta**2*hT**2*msT*omega**2*pk(tau)**4*qk(tau)*Derivative(qk(tau), tau)**2 - 8*Ir*Psi_theta_theta**2*hT**2*msT*omega**2*pk(tau)**3*qk(tau)**2*Derivative(pk(tau), tau)*Derivative(qk(tau), tau) - 4*Ir*Psi_theta_theta**2*hT**2*msT*omega**2*pk(tau)**2*qk(tau)**5 + 4*Ir*Psi_theta_theta**2*hT**2*msT*omega**2*pk(tau)**2*qk(tau)**3*Derivative(pk(tau), tau)**2 + 4*Ir*Psi_theta_theta**2*hT**2*msT*omega**2*pk(tau)**2*qk(tau)**3*Derivative(qk(tau), tau)**2 - 4*Ir*Psi_theta_theta**2*hT**2*msT*omega**2*pk(tau)*qk(tau)**4*Derivative(pk(tau), tau)*Derivative(qk(tau), tau) - 4*Ir*Psi_theta_theta**2*hT**2*msT*omega**2*qk(tau)**7 + 2*Psi_theta_theta*Rk*Texte*Uu**2*h*mR*sqrt(pk(tau)**2 + qk(tau)**2)*pk(tau)**5 - 2*Psi_theta_theta*Rk*Texte*Uu**2*h*mR*sqrt(pk(tau)**2 + qk(tau)**2)*pk(tau)*qk(tau)**4 + 4*Psi_theta_theta*Rk*Texte*Uu**2*hT*mR*sqrt(pk(tau)**2 + qk(tau)**2)*pk(tau)**5 - 4*Psi_theta_theta*Rk*Texte*Uu**2*hT*mR*sqrt(pk(tau)**2 + qk(tau)**2)*pk(tau)*qk(tau)**4 + 2*Psi_theta_theta*Rk*Texte*h*msT*sqrt(pk(tau)**2 + qk(tau)**2)*pk(tau)**5 + 4*Psi_theta_theta*Rk*Texte*h*msT*sqrt(pk(tau)**2 + qk(tau)**2)*pk(tau)**3*qk(tau)**2 + 2*Psi_theta_theta*Rk*Texte*h*msT*sqrt(pk(tau)**2 + qk(tau)**2)*pk(tau)*qk(tau)**4 + 4*Psi_theta_theta*Rk*Texte*hT*msT*sqrt(pk(tau)**2 + qk(tau)**2)*pk(tau)**5 + 8*Psi_theta_theta*Rk*Texte*hT*msT*sqrt(pk(tau)**2 + qk(tau)**2)*pk(tau)**3*qk(tau)**2 + 4*Psi_theta_theta*Rk*Texte*hT*msT*sqrt(pk(tau)**2 + qk(tau)**2)*pk(tau)*qk(tau)**4 - 4*Rk**2*Uu**2*Vo*cUo*mR*pk(tau)**6*cos(tau) + 4*Rk**2*Uu**2*Vo*cUo*mR*pk(tau)**5*qk(tau)*sin(tau) - 8*Rk**2*Uu**2*Vo*cUo*mR*pk(tau)**4*qk(tau)**2*cos(tau) + 8*Rk**2*Uu**2*Vo*cUo*mR*pk(tau)**3*qk(tau)**3*sin(tau) - 4*Rk**2*Uu**2*Vo*cUo*mR*pk(tau)**2*qk(tau)**4*cos(tau) + 4*Rk**2*Uu**2*Vo*cUo*mR*pk(tau)*qk(tau)**5*sin(tau) - 4*Rk**2*Uu**2*cr*msT*pk(tau)**6*qk(tau) - 12*Rk**2*Uu**2*cr*msT*pk(tau)**4*qk(tau)**3 - 12*Rk**2*Uu**2*cr*msT*pk(tau)**2*qk(tau)**5 - 4*Rk**2*Uu**2*cr*msT*qk(tau)**7 - 4*Rk**2*Uu**2*d*mR*omega*pk(tau)**6*Derivative(qk(tau), tau) + 4*Rk**2*Uu**2*d*mR*omega*pk(tau)**5*qk(tau)*Derivative(pk(tau), tau) - 8*Rk**2*Uu**2*d*mR*omega*pk(tau)**4*qk(tau)**2*Derivative(qk(tau), tau) + 8*Rk**2*Uu**2*d*mR*omega*pk(tau)**3*qk(tau)**3*Derivative(pk(tau), tau) - 4*Rk**2*Uu**2*d*mR*omega*pk(tau)**2*qk(tau)**4*Derivative(qk(tau), tau) + 4*Rk**2*Uu**2*d*mR*omega*pk(tau)*qk(tau)**5*Derivative(pk(tau), tau) - 4*Rk**2*Uu**2*mR*msT*omega**2*pk(tau)**4*qk(tau)*Derivative(qk(tau), tau)**2 + 8*Rk**2*Uu**2*mR*msT*omega**2*pk(tau)**3*qk(tau)**2*Derivative(pk(tau), tau)*Derivative(qk(tau), tau) - 4*Rk**2*Uu**2*mR*msT*omega**2*pk(tau)**2*qk(tau)**3*Derivative(pk(tau), tau)**2 - 4*Rk**2*Uu**2*mR*msT*omega**2*pk(tau)**2*qk(tau)**3*Derivative(qk(tau), tau)**2 + 8*Rk**2*Uu**2*mR*msT*omega**2*pk(tau)*qk(tau)**4*Derivative(pk(tau), tau)*Derivative(qk(tau), tau) - 4*Rk**2*Uu**2*mR*msT*omega**2*qk(tau)**5*Derivative(pk(tau), tau)**2 - 4*Rk**2*Uu*cr*msT*ps*sqrt(pk(tau)**2 + qk(tau)**2)*pk(tau)**4*qk(tau) - 8*Rk**2*Uu*cr*msT*ps*sqrt(pk(tau)**2 + qk(tau)**2)*pk(tau)**2*qk(tau)**3 - 4*Rk**2*Uu*cr*msT*ps*sqrt(pk(tau)**2 + qk(tau)**2)*qk(tau)**5 - 4*Rk**2*Vo*cUo*msT*pk(tau)**6*cos(tau) - 12*Rk**2*Vo*cUo*msT*pk(tau)**4*qk(tau)**2*cos(tau) - 12*Rk**2*Vo*cUo*msT*pk(tau)**2*qk(tau)**4*cos(tau) - 4*Rk**2*Vo*cUo*msT*qk(tau)**6*cos(tau) - 4*Rk**2*d*msT*omega*pk(tau)**6*Derivative(qk(tau), tau) - 12*Rk**2*d*msT*omega*pk(tau)**4*qk(tau)**2*Derivative(qk(tau), tau) - 12*Rk**2*d*msT*omega*pk(tau)**2*qk(tau)**4*Derivative(qk(tau), tau) - 4*Rk**2*d*msT*omega*qk(tau)**6*Derivative(qk(tau), tau) - 4*Rk**2*msT**2*omega**2*pk(tau)**6*qk(tau) - 12*Rk**2*msT**2*omega**2*pk(tau)**4*qk(tau)**3 - 12*Rk**2*msT**2*omega**2*pk(tau)**2*qk(tau)**5 - 4*Rk**2*msT**2*omega**2*qk(tau)**7)/(omega**2*(Ir*Psi_theta_theta**2*Uu**2*h**2*mR*pk(tau)**6 - Ir*Psi_theta_theta**2*Uu**2*h**2*mR*pk(tau)**4*qk(tau)**2 - Ir*Psi_theta_theta**2*Uu**2*h**2*mR*pk(tau)**2*qk(tau)**4 + Ir*Psi_theta_theta**2*Uu**2*h**2*mR*qk(tau)**6 + 4*Ir*Psi_theta_theta**2*Uu**2*h*hT*mR*pk(tau)**6 - 4*Ir*Psi_theta_theta**2*Uu**2*h*hT*mR*pk(tau)**4*qk(tau)**2 - 4*Ir*Psi_theta_theta**2*Uu**2*h*hT*mR*pk(tau)**2*qk(tau)**4 + 4*Ir*Psi_theta_theta**2*Uu**2*h*hT*mR*qk(tau)**6 + 4*Ir*Psi_theta_theta**2*Uu**2*hT**2*mR*pk(tau)**6 - 4*Ir*Psi_theta_theta**2*Uu**2*hT**2*mR*pk(tau)**4*qk(tau)**2 - 4*Ir*Psi_theta_theta**2*Uu**2*hT**2*mR*pk(tau)**2*qk(tau)**4 + 4*Ir*Psi_theta_theta**2*Uu**2*hT**2*mR*qk(tau)**6 + Ir*Psi_theta_theta**2*h**2*msT*pk(tau)**6 + 3*Ir*Psi_theta_theta**2*h**2*msT*pk(tau)**4*qk(tau)**2 + 3*Ir*Psi_theta_theta**2*h**2*msT*pk(tau)**2*qk(tau)**4 + Ir*Psi_theta_theta**2*h**2*msT*qk(tau)**6 + 4*Ir*Psi_theta_theta**2*h*hT*msT*pk(tau)**6 + 12*Ir*Psi_theta_theta**2*h*hT*msT*pk(tau)**4*qk(tau)**2 + 12*Ir*Psi_theta_theta**2*h*hT*msT*pk(tau)**2*qk(tau)**4 + 4*Ir*Psi_theta_theta**2*h*hT*msT*qk(tau)**6 + 4*Ir*Psi_theta_theta**2*hT**2*msT*pk(tau)**6 + 12*Ir*Psi_theta_theta**2*hT**2*msT*pk(tau)**4*qk(tau)**2 + 12*Ir*Psi_theta_theta**2*hT**2*msT*pk(tau)**2*qk(tau)**4 + 4*Ir*Psi_theta_theta**2*hT**2*msT*qk(tau)**6 + 4*Rk**2*Uu**2*mR*msT*pk(tau)**6 + 12*Rk**2*Uu**2*mR*msT*pk(tau)**4*qk(tau)**2 + 12*Rk**2*Uu**2*mR*msT*pk(tau)**2*qk(tau)**4 + 4*Rk**2*Uu**2*mR*msT*qk(tau)**6 + 4*Rk**2*msT**2*pk(tau)**6 + 12*Rk**2*msT**2*pk(tau)**4*qk(tau)**2 + 12*Rk**2*msT**2*pk(tau)**2*qk(tau)**4 + 4*Rk**2*msT**2*qk(tau)**6))"
      ]
     },
     "execution_count": 22,
     "metadata": {},
     "output_type": "execute_result"
    }
   ],
   "source": [
    "solution[DIFF2Q]"
   ]
  },
  {
   "cell_type": "code",
   "execution_count": 23,
   "metadata": {},
   "outputs": [
    {
     "data": {
      "text/latex": [
       "$\\displaystyle \\frac{- Ir \\Psi_{\\theta \\theta}^{2} Uu^{2} cr h^{2} \\operatorname{pk}^{7}{\\left(\\tau \\right)} - Ir \\Psi_{\\theta \\theta}^{2} Uu^{2} cr h^{2} \\operatorname{pk}^{5}{\\left(\\tau \\right)} \\operatorname{qk}^{2}{\\left(\\tau \\right)} + Ir \\Psi_{\\theta \\theta}^{2} Uu^{2} cr h^{2} \\operatorname{pk}^{3}{\\left(\\tau \\right)} \\operatorname{qk}^{4}{\\left(\\tau \\right)} + Ir \\Psi_{\\theta \\theta}^{2} Uu^{2} cr h^{2} \\operatorname{pk}{\\left(\\tau \\right)} \\operatorname{qk}^{6}{\\left(\\tau \\right)} - 4 Ir \\Psi_{\\theta \\theta}^{2} Uu^{2} cr h hT \\operatorname{pk}^{7}{\\left(\\tau \\right)} - 4 Ir \\Psi_{\\theta \\theta}^{2} Uu^{2} cr h hT \\operatorname{pk}^{5}{\\left(\\tau \\right)} \\operatorname{qk}^{2}{\\left(\\tau \\right)} + 4 Ir \\Psi_{\\theta \\theta}^{2} Uu^{2} cr h hT \\operatorname{pk}^{3}{\\left(\\tau \\right)} \\operatorname{qk}^{4}{\\left(\\tau \\right)} + 4 Ir \\Psi_{\\theta \\theta}^{2} Uu^{2} cr h hT \\operatorname{pk}{\\left(\\tau \\right)} \\operatorname{qk}^{6}{\\left(\\tau \\right)} - 4 Ir \\Psi_{\\theta \\theta}^{2} Uu^{2} cr hT^{2} \\operatorname{pk}^{7}{\\left(\\tau \\right)} - 4 Ir \\Psi_{\\theta \\theta}^{2} Uu^{2} cr hT^{2} \\operatorname{pk}^{5}{\\left(\\tau \\right)} \\operatorname{qk}^{2}{\\left(\\tau \\right)} + 4 Ir \\Psi_{\\theta \\theta}^{2} Uu^{2} cr hT^{2} \\operatorname{pk}^{3}{\\left(\\tau \\right)} \\operatorname{qk}^{4}{\\left(\\tau \\right)} + 4 Ir \\Psi_{\\theta \\theta}^{2} Uu^{2} cr hT^{2} \\operatorname{pk}{\\left(\\tau \\right)} \\operatorname{qk}^{6}{\\left(\\tau \\right)} - Ir \\Psi_{\\theta \\theta}^{2} Uu^{2} h^{2} mR \\omega^{2} \\operatorname{pk}^{5}{\\left(\\tau \\right)} \\left(\\frac{d}{d \\tau} \\operatorname{qk}{\\left(\\tau \\right)}\\right)^{2} + 3 Ir \\Psi_{\\theta \\theta}^{2} Uu^{2} h^{2} mR \\omega^{2} \\operatorname{pk}^{4}{\\left(\\tau \\right)} \\operatorname{qk}{\\left(\\tau \\right)} \\frac{d}{d \\tau} \\operatorname{pk}{\\left(\\tau \\right)} \\frac{d}{d \\tau} \\operatorname{qk}{\\left(\\tau \\right)} - 2 Ir \\Psi_{\\theta \\theta}^{2} Uu^{2} h^{2} mR \\omega^{2} \\operatorname{pk}^{3}{\\left(\\tau \\right)} \\operatorname{qk}^{2}{\\left(\\tau \\right)} \\left(\\frac{d}{d \\tau} \\operatorname{pk}{\\left(\\tau \\right)}\\right)^{2} - 2 Ir \\Psi_{\\theta \\theta}^{2} Uu^{2} h^{2} mR \\omega^{2} \\operatorname{pk}^{2}{\\left(\\tau \\right)} \\operatorname{qk}^{3}{\\left(\\tau \\right)} \\frac{d}{d \\tau} \\operatorname{pk}{\\left(\\tau \\right)} \\frac{d}{d \\tau} \\operatorname{qk}{\\left(\\tau \\right)} + 2 Ir \\Psi_{\\theta \\theta}^{2} Uu^{2} h^{2} mR \\omega^{2} \\operatorname{pk}{\\left(\\tau \\right)} \\operatorname{qk}^{4}{\\left(\\tau \\right)} \\left(\\frac{d}{d \\tau} \\operatorname{pk}{\\left(\\tau \\right)}\\right)^{2} + Ir \\Psi_{\\theta \\theta}^{2} Uu^{2} h^{2} mR \\omega^{2} \\operatorname{pk}{\\left(\\tau \\right)} \\operatorname{qk}^{4}{\\left(\\tau \\right)} \\left(\\frac{d}{d \\tau} \\operatorname{qk}{\\left(\\tau \\right)}\\right)^{2} - Ir \\Psi_{\\theta \\theta}^{2} Uu^{2} h^{2} mR \\omega^{2} \\operatorname{qk}^{5}{\\left(\\tau \\right)} \\frac{d}{d \\tau} \\operatorname{pk}{\\left(\\tau \\right)} \\frac{d}{d \\tau} \\operatorname{qk}{\\left(\\tau \\right)} - 4 Ir \\Psi_{\\theta \\theta}^{2} Uu^{2} h hT mR \\omega^{2} \\operatorname{pk}^{5}{\\left(\\tau \\right)} \\left(\\frac{d}{d \\tau} \\operatorname{qk}{\\left(\\tau \\right)}\\right)^{2} + 12 Ir \\Psi_{\\theta \\theta}^{2} Uu^{2} h hT mR \\omega^{2} \\operatorname{pk}^{4}{\\left(\\tau \\right)} \\operatorname{qk}{\\left(\\tau \\right)} \\frac{d}{d \\tau} \\operatorname{pk}{\\left(\\tau \\right)} \\frac{d}{d \\tau} \\operatorname{qk}{\\left(\\tau \\right)} - 8 Ir \\Psi_{\\theta \\theta}^{2} Uu^{2} h hT mR \\omega^{2} \\operatorname{pk}^{3}{\\left(\\tau \\right)} \\operatorname{qk}^{2}{\\left(\\tau \\right)} \\left(\\frac{d}{d \\tau} \\operatorname{pk}{\\left(\\tau \\right)}\\right)^{2} - 8 Ir \\Psi_{\\theta \\theta}^{2} Uu^{2} h hT mR \\omega^{2} \\operatorname{pk}^{2}{\\left(\\tau \\right)} \\operatorname{qk}^{3}{\\left(\\tau \\right)} \\frac{d}{d \\tau} \\operatorname{pk}{\\left(\\tau \\right)} \\frac{d}{d \\tau} \\operatorname{qk}{\\left(\\tau \\right)} + 8 Ir \\Psi_{\\theta \\theta}^{2} Uu^{2} h hT mR \\omega^{2} \\operatorname{pk}{\\left(\\tau \\right)} \\operatorname{qk}^{4}{\\left(\\tau \\right)} \\left(\\frac{d}{d \\tau} \\operatorname{pk}{\\left(\\tau \\right)}\\right)^{2} + 4 Ir \\Psi_{\\theta \\theta}^{2} Uu^{2} h hT mR \\omega^{2} \\operatorname{pk}{\\left(\\tau \\right)} \\operatorname{qk}^{4}{\\left(\\tau \\right)} \\left(\\frac{d}{d \\tau} \\operatorname{qk}{\\left(\\tau \\right)}\\right)^{2} - 4 Ir \\Psi_{\\theta \\theta}^{2} Uu^{2} h hT mR \\omega^{2} \\operatorname{qk}^{5}{\\left(\\tau \\right)} \\frac{d}{d \\tau} \\operatorname{pk}{\\left(\\tau \\right)} \\frac{d}{d \\tau} \\operatorname{qk}{\\left(\\tau \\right)} - 4 Ir \\Psi_{\\theta \\theta}^{2} Uu^{2} hT^{2} mR \\omega^{2} \\operatorname{pk}^{5}{\\left(\\tau \\right)} \\left(\\frac{d}{d \\tau} \\operatorname{qk}{\\left(\\tau \\right)}\\right)^{2} + 12 Ir \\Psi_{\\theta \\theta}^{2} Uu^{2} hT^{2} mR \\omega^{2} \\operatorname{pk}^{4}{\\left(\\tau \\right)} \\operatorname{qk}{\\left(\\tau \\right)} \\frac{d}{d \\tau} \\operatorname{pk}{\\left(\\tau \\right)} \\frac{d}{d \\tau} \\operatorname{qk}{\\left(\\tau \\right)} - 8 Ir \\Psi_{\\theta \\theta}^{2} Uu^{2} hT^{2} mR \\omega^{2} \\operatorname{pk}^{3}{\\left(\\tau \\right)} \\operatorname{qk}^{2}{\\left(\\tau \\right)} \\left(\\frac{d}{d \\tau} \\operatorname{pk}{\\left(\\tau \\right)}\\right)^{2} - 8 Ir \\Psi_{\\theta \\theta}^{2} Uu^{2} hT^{2} mR \\omega^{2} \\operatorname{pk}^{2}{\\left(\\tau \\right)} \\operatorname{qk}^{3}{\\left(\\tau \\right)} \\frac{d}{d \\tau} \\operatorname{pk}{\\left(\\tau \\right)} \\frac{d}{d \\tau} \\operatorname{qk}{\\left(\\tau \\right)} + 8 Ir \\Psi_{\\theta \\theta}^{2} Uu^{2} hT^{2} mR \\omega^{2} \\operatorname{pk}{\\left(\\tau \\right)} \\operatorname{qk}^{4}{\\left(\\tau \\right)} \\left(\\frac{d}{d \\tau} \\operatorname{pk}{\\left(\\tau \\right)}\\right)^{2} + 4 Ir \\Psi_{\\theta \\theta}^{2} Uu^{2} hT^{2} mR \\omega^{2} \\operatorname{pk}{\\left(\\tau \\right)} \\operatorname{qk}^{4}{\\left(\\tau \\right)} \\left(\\frac{d}{d \\tau} \\operatorname{qk}{\\left(\\tau \\right)}\\right)^{2} - 4 Ir \\Psi_{\\theta \\theta}^{2} Uu^{2} hT^{2} mR \\omega^{2} \\operatorname{qk}^{5}{\\left(\\tau \\right)} \\frac{d}{d \\tau} \\operatorname{pk}{\\left(\\tau \\right)} \\frac{d}{d \\tau} \\operatorname{qk}{\\left(\\tau \\right)} - Ir \\Psi_{\\theta \\theta}^{2} Uu cr h^{2} ps \\sqrt{\\operatorname{pk}^{2}{\\left(\\tau \\right)} + \\operatorname{qk}^{2}{\\left(\\tau \\right)}} \\operatorname{pk}^{5}{\\left(\\tau \\right)} + Ir \\Psi_{\\theta \\theta}^{2} Uu cr h^{2} ps \\sqrt{\\operatorname{pk}^{2}{\\left(\\tau \\right)} + \\operatorname{qk}^{2}{\\left(\\tau \\right)}} \\operatorname{pk}{\\left(\\tau \\right)} \\operatorname{qk}^{4}{\\left(\\tau \\right)} - 4 Ir \\Psi_{\\theta \\theta}^{2} Uu cr h hT ps \\sqrt{\\operatorname{pk}^{2}{\\left(\\tau \\right)} + \\operatorname{qk}^{2}{\\left(\\tau \\right)}} \\operatorname{pk}^{5}{\\left(\\tau \\right)} + 4 Ir \\Psi_{\\theta \\theta}^{2} Uu cr h hT ps \\sqrt{\\operatorname{pk}^{2}{\\left(\\tau \\right)} + \\operatorname{qk}^{2}{\\left(\\tau \\right)}} \\operatorname{pk}{\\left(\\tau \\right)} \\operatorname{qk}^{4}{\\left(\\tau \\right)} - 4 Ir \\Psi_{\\theta \\theta}^{2} Uu cr hT^{2} ps \\sqrt{\\operatorname{pk}^{2}{\\left(\\tau \\right)} + \\operatorname{qk}^{2}{\\left(\\tau \\right)}} \\operatorname{pk}^{5}{\\left(\\tau \\right)} + 4 Ir \\Psi_{\\theta \\theta}^{2} Uu cr hT^{2} ps \\sqrt{\\operatorname{pk}^{2}{\\left(\\tau \\right)} + \\operatorname{qk}^{2}{\\left(\\tau \\right)}} \\operatorname{pk}{\\left(\\tau \\right)} \\operatorname{qk}^{4}{\\left(\\tau \\right)} - Ir \\Psi_{\\theta \\theta}^{2} Vo cUo h^{2} \\operatorname{pk}^{6}{\\left(\\tau \\right)} \\sin{\\left(\\tau \\right)} + Ir \\Psi_{\\theta \\theta}^{2} Vo cUo h^{2} \\operatorname{pk}^{5}{\\left(\\tau \\right)} \\operatorname{qk}{\\left(\\tau \\right)} \\cos{\\left(\\tau \\right)} - 2 Ir \\Psi_{\\theta \\theta}^{2} Vo cUo h^{2} \\operatorname{pk}^{4}{\\left(\\tau \\right)} \\operatorname{qk}^{2}{\\left(\\tau \\right)} \\sin{\\left(\\tau \\right)} + 2 Ir \\Psi_{\\theta \\theta}^{2} Vo cUo h^{2} \\operatorname{pk}^{3}{\\left(\\tau \\right)} \\operatorname{qk}^{3}{\\left(\\tau \\right)} \\cos{\\left(\\tau \\right)} - Ir \\Psi_{\\theta \\theta}^{2} Vo cUo h^{2} \\operatorname{pk}^{2}{\\left(\\tau \\right)} \\operatorname{qk}^{4}{\\left(\\tau \\right)} \\sin{\\left(\\tau \\right)} + Ir \\Psi_{\\theta \\theta}^{2} Vo cUo h^{2} \\operatorname{pk}{\\left(\\tau \\right)} \\operatorname{qk}^{5}{\\left(\\tau \\right)} \\cos{\\left(\\tau \\right)} - 4 Ir \\Psi_{\\theta \\theta}^{2} Vo cUo h hT \\operatorname{pk}^{6}{\\left(\\tau \\right)} \\sin{\\left(\\tau \\right)} + 4 Ir \\Psi_{\\theta \\theta}^{2} Vo cUo h hT \\operatorname{pk}^{5}{\\left(\\tau \\right)} \\operatorname{qk}{\\left(\\tau \\right)} \\cos{\\left(\\tau \\right)} - 8 Ir \\Psi_{\\theta \\theta}^{2} Vo cUo h hT \\operatorname{pk}^{4}{\\left(\\tau \\right)} \\operatorname{qk}^{2}{\\left(\\tau \\right)} \\sin{\\left(\\tau \\right)} + 8 Ir \\Psi_{\\theta \\theta}^{2} Vo cUo h hT \\operatorname{pk}^{3}{\\left(\\tau \\right)} \\operatorname{qk}^{3}{\\left(\\tau \\right)} \\cos{\\left(\\tau \\right)} - 4 Ir \\Psi_{\\theta \\theta}^{2} Vo cUo h hT \\operatorname{pk}^{2}{\\left(\\tau \\right)} \\operatorname{qk}^{4}{\\left(\\tau \\right)} \\sin{\\left(\\tau \\right)} + 4 Ir \\Psi_{\\theta \\theta}^{2} Vo cUo h hT \\operatorname{pk}{\\left(\\tau \\right)} \\operatorname{qk}^{5}{\\left(\\tau \\right)} \\cos{\\left(\\tau \\right)} - 4 Ir \\Psi_{\\theta \\theta}^{2} Vo cUo hT^{2} \\operatorname{pk}^{6}{\\left(\\tau \\right)} \\sin{\\left(\\tau \\right)} + 4 Ir \\Psi_{\\theta \\theta}^{2} Vo cUo hT^{2} \\operatorname{pk}^{5}{\\left(\\tau \\right)} \\operatorname{qk}{\\left(\\tau \\right)} \\cos{\\left(\\tau \\right)} - 8 Ir \\Psi_{\\theta \\theta}^{2} Vo cUo hT^{2} \\operatorname{pk}^{4}{\\left(\\tau \\right)} \\operatorname{qk}^{2}{\\left(\\tau \\right)} \\sin{\\left(\\tau \\right)} + 8 Ir \\Psi_{\\theta \\theta}^{2} Vo cUo hT^{2} \\operatorname{pk}^{3}{\\left(\\tau \\right)} \\operatorname{qk}^{3}{\\left(\\tau \\right)} \\cos{\\left(\\tau \\right)} - 4 Ir \\Psi_{\\theta \\theta}^{2} Vo cUo hT^{2} \\operatorname{pk}^{2}{\\left(\\tau \\right)} \\operatorname{qk}^{4}{\\left(\\tau \\right)} \\sin{\\left(\\tau \\right)} + 4 Ir \\Psi_{\\theta \\theta}^{2} Vo cUo hT^{2} \\operatorname{pk}{\\left(\\tau \\right)} \\operatorname{qk}^{5}{\\left(\\tau \\right)} \\cos{\\left(\\tau \\right)} - Ir \\Psi_{\\theta \\theta}^{2} d h^{2} \\omega \\operatorname{pk}^{6}{\\left(\\tau \\right)} \\frac{d}{d \\tau} \\operatorname{pk}{\\left(\\tau \\right)} + Ir \\Psi_{\\theta \\theta}^{2} d h^{2} \\omega \\operatorname{pk}^{5}{\\left(\\tau \\right)} \\operatorname{qk}{\\left(\\tau \\right)} \\frac{d}{d \\tau} \\operatorname{qk}{\\left(\\tau \\right)} - 2 Ir \\Psi_{\\theta \\theta}^{2} d h^{2} \\omega \\operatorname{pk}^{4}{\\left(\\tau \\right)} \\operatorname{qk}^{2}{\\left(\\tau \\right)} \\frac{d}{d \\tau} \\operatorname{pk}{\\left(\\tau \\right)} + 2 Ir \\Psi_{\\theta \\theta}^{2} d h^{2} \\omega \\operatorname{pk}^{3}{\\left(\\tau \\right)} \\operatorname{qk}^{3}{\\left(\\tau \\right)} \\frac{d}{d \\tau} \\operatorname{qk}{\\left(\\tau \\right)} - Ir \\Psi_{\\theta \\theta}^{2} d h^{2} \\omega \\operatorname{pk}^{2}{\\left(\\tau \\right)} \\operatorname{qk}^{4}{\\left(\\tau \\right)} \\frac{d}{d \\tau} \\operatorname{pk}{\\left(\\tau \\right)} + Ir \\Psi_{\\theta \\theta}^{2} d h^{2} \\omega \\operatorname{pk}{\\left(\\tau \\right)} \\operatorname{qk}^{5}{\\left(\\tau \\right)} \\frac{d}{d \\tau} \\operatorname{qk}{\\left(\\tau \\right)} - 4 Ir \\Psi_{\\theta \\theta}^{2} d h hT \\omega \\operatorname{pk}^{6}{\\left(\\tau \\right)} \\frac{d}{d \\tau} \\operatorname{pk}{\\left(\\tau \\right)} + 4 Ir \\Psi_{\\theta \\theta}^{2} d h hT \\omega \\operatorname{pk}^{5}{\\left(\\tau \\right)} \\operatorname{qk}{\\left(\\tau \\right)} \\frac{d}{d \\tau} \\operatorname{qk}{\\left(\\tau \\right)} - 8 Ir \\Psi_{\\theta \\theta}^{2} d h hT \\omega \\operatorname{pk}^{4}{\\left(\\tau \\right)} \\operatorname{qk}^{2}{\\left(\\tau \\right)} \\frac{d}{d \\tau} \\operatorname{pk}{\\left(\\tau \\right)} + 8 Ir \\Psi_{\\theta \\theta}^{2} d h hT \\omega \\operatorname{pk}^{3}{\\left(\\tau \\right)} \\operatorname{qk}^{3}{\\left(\\tau \\right)} \\frac{d}{d \\tau} \\operatorname{qk}{\\left(\\tau \\right)} - 4 Ir \\Psi_{\\theta \\theta}^{2} d h hT \\omega \\operatorname{pk}^{2}{\\left(\\tau \\right)} \\operatorname{qk}^{4}{\\left(\\tau \\right)} \\frac{d}{d \\tau} \\operatorname{pk}{\\left(\\tau \\right)} + 4 Ir \\Psi_{\\theta \\theta}^{2} d h hT \\omega \\operatorname{pk}{\\left(\\tau \\right)} \\operatorname{qk}^{5}{\\left(\\tau \\right)} \\frac{d}{d \\tau} \\operatorname{qk}{\\left(\\tau \\right)} - 4 Ir \\Psi_{\\theta \\theta}^{2} d hT^{2} \\omega \\operatorname{pk}^{6}{\\left(\\tau \\right)} \\frac{d}{d \\tau} \\operatorname{pk}{\\left(\\tau \\right)} + 4 Ir \\Psi_{\\theta \\theta}^{2} d hT^{2} \\omega \\operatorname{pk}^{5}{\\left(\\tau \\right)} \\operatorname{qk}{\\left(\\tau \\right)} \\frac{d}{d \\tau} \\operatorname{qk}{\\left(\\tau \\right)} - 8 Ir \\Psi_{\\theta \\theta}^{2} d hT^{2} \\omega \\operatorname{pk}^{4}{\\left(\\tau \\right)} \\operatorname{qk}^{2}{\\left(\\tau \\right)} \\frac{d}{d \\tau} \\operatorname{pk}{\\left(\\tau \\right)} + 8 Ir \\Psi_{\\theta \\theta}^{2} d hT^{2} \\omega \\operatorname{pk}^{3}{\\left(\\tau \\right)} \\operatorname{qk}^{3}{\\left(\\tau \\right)} \\frac{d}{d \\tau} \\operatorname{qk}{\\left(\\tau \\right)} - 4 Ir \\Psi_{\\theta \\theta}^{2} d hT^{2} \\omega \\operatorname{pk}^{2}{\\left(\\tau \\right)} \\operatorname{qk}^{4}{\\left(\\tau \\right)} \\frac{d}{d \\tau} \\operatorname{pk}{\\left(\\tau \\right)} + 4 Ir \\Psi_{\\theta \\theta}^{2} d hT^{2} \\omega \\operatorname{pk}{\\left(\\tau \\right)} \\operatorname{qk}^{5}{\\left(\\tau \\right)} \\frac{d}{d \\tau} \\operatorname{qk}{\\left(\\tau \\right)} - Ir \\Psi_{\\theta \\theta}^{2} h^{2} msT \\omega^{2} \\operatorname{pk}^{7}{\\left(\\tau \\right)} - Ir \\Psi_{\\theta \\theta}^{2} h^{2} msT \\omega^{2} \\operatorname{pk}^{5}{\\left(\\tau \\right)} \\operatorname{qk}^{2}{\\left(\\tau \\right)} - Ir \\Psi_{\\theta \\theta}^{2} h^{2} msT \\omega^{2} \\operatorname{pk}^{4}{\\left(\\tau \\right)} \\operatorname{qk}{\\left(\\tau \\right)} \\frac{d}{d \\tau} \\operatorname{pk}{\\left(\\tau \\right)} \\frac{d}{d \\tau} \\operatorname{qk}{\\left(\\tau \\right)} + Ir \\Psi_{\\theta \\theta}^{2} h^{2} msT \\omega^{2} \\operatorname{pk}^{3}{\\left(\\tau \\right)} \\operatorname{qk}^{4}{\\left(\\tau \\right)} + Ir \\Psi_{\\theta \\theta}^{2} h^{2} msT \\omega^{2} \\operatorname{pk}^{3}{\\left(\\tau \\right)} \\operatorname{qk}^{2}{\\left(\\tau \\right)} \\left(\\frac{d}{d \\tau} \\operatorname{pk}{\\left(\\tau \\right)}\\right)^{2} + Ir \\Psi_{\\theta \\theta}^{2} h^{2} msT \\omega^{2} \\operatorname{pk}^{3}{\\left(\\tau \\right)} \\operatorname{qk}^{2}{\\left(\\tau \\right)} \\left(\\frac{d}{d \\tau} \\operatorname{qk}{\\left(\\tau \\right)}\\right)^{2} - 2 Ir \\Psi_{\\theta \\theta}^{2} h^{2} msT \\omega^{2} \\operatorname{pk}^{2}{\\left(\\tau \\right)} \\operatorname{qk}^{3}{\\left(\\tau \\right)} \\frac{d}{d \\tau} \\operatorname{pk}{\\left(\\tau \\right)} \\frac{d}{d \\tau} \\operatorname{qk}{\\left(\\tau \\right)} + Ir \\Psi_{\\theta \\theta}^{2} h^{2} msT \\omega^{2} \\operatorname{pk}{\\left(\\tau \\right)} \\operatorname{qk}^{6}{\\left(\\tau \\right)} + Ir \\Psi_{\\theta \\theta}^{2} h^{2} msT \\omega^{2} \\operatorname{pk}{\\left(\\tau \\right)} \\operatorname{qk}^{4}{\\left(\\tau \\right)} \\left(\\frac{d}{d \\tau} \\operatorname{pk}{\\left(\\tau \\right)}\\right)^{2} + Ir \\Psi_{\\theta \\theta}^{2} h^{2} msT \\omega^{2} \\operatorname{pk}{\\left(\\tau \\right)} \\operatorname{qk}^{4}{\\left(\\tau \\right)} \\left(\\frac{d}{d \\tau} \\operatorname{qk}{\\left(\\tau \\right)}\\right)^{2} - Ir \\Psi_{\\theta \\theta}^{2} h^{2} msT \\omega^{2} \\operatorname{qk}^{5}{\\left(\\tau \\right)} \\frac{d}{d \\tau} \\operatorname{pk}{\\left(\\tau \\right)} \\frac{d}{d \\tau} \\operatorname{qk}{\\left(\\tau \\right)} - 4 Ir \\Psi_{\\theta \\theta}^{2} h hT msT \\omega^{2} \\operatorname{pk}^{7}{\\left(\\tau \\right)} - 4 Ir \\Psi_{\\theta \\theta}^{2} h hT msT \\omega^{2} \\operatorname{pk}^{5}{\\left(\\tau \\right)} \\operatorname{qk}^{2}{\\left(\\tau \\right)} - 4 Ir \\Psi_{\\theta \\theta}^{2} h hT msT \\omega^{2} \\operatorname{pk}^{4}{\\left(\\tau \\right)} \\operatorname{qk}{\\left(\\tau \\right)} \\frac{d}{d \\tau} \\operatorname{pk}{\\left(\\tau \\right)} \\frac{d}{d \\tau} \\operatorname{qk}{\\left(\\tau \\right)} + 4 Ir \\Psi_{\\theta \\theta}^{2} h hT msT \\omega^{2} \\operatorname{pk}^{3}{\\left(\\tau \\right)} \\operatorname{qk}^{4}{\\left(\\tau \\right)} + 4 Ir \\Psi_{\\theta \\theta}^{2} h hT msT \\omega^{2} \\operatorname{pk}^{3}{\\left(\\tau \\right)} \\operatorname{qk}^{2}{\\left(\\tau \\right)} \\left(\\frac{d}{d \\tau} \\operatorname{pk}{\\left(\\tau \\right)}\\right)^{2} + 4 Ir \\Psi_{\\theta \\theta}^{2} h hT msT \\omega^{2} \\operatorname{pk}^{3}{\\left(\\tau \\right)} \\operatorname{qk}^{2}{\\left(\\tau \\right)} \\left(\\frac{d}{d \\tau} \\operatorname{qk}{\\left(\\tau \\right)}\\right)^{2} - 8 Ir \\Psi_{\\theta \\theta}^{2} h hT msT \\omega^{2} \\operatorname{pk}^{2}{\\left(\\tau \\right)} \\operatorname{qk}^{3}{\\left(\\tau \\right)} \\frac{d}{d \\tau} \\operatorname{pk}{\\left(\\tau \\right)} \\frac{d}{d \\tau} \\operatorname{qk}{\\left(\\tau \\right)} + 4 Ir \\Psi_{\\theta \\theta}^{2} h hT msT \\omega^{2} \\operatorname{pk}{\\left(\\tau \\right)} \\operatorname{qk}^{6}{\\left(\\tau \\right)} + 4 Ir \\Psi_{\\theta \\theta}^{2} h hT msT \\omega^{2} \\operatorname{pk}{\\left(\\tau \\right)} \\operatorname{qk}^{4}{\\left(\\tau \\right)} \\left(\\frac{d}{d \\tau} \\operatorname{pk}{\\left(\\tau \\right)}\\right)^{2} + 4 Ir \\Psi_{\\theta \\theta}^{2} h hT msT \\omega^{2} \\operatorname{pk}{\\left(\\tau \\right)} \\operatorname{qk}^{4}{\\left(\\tau \\right)} \\left(\\frac{d}{d \\tau} \\operatorname{qk}{\\left(\\tau \\right)}\\right)^{2} - 4 Ir \\Psi_{\\theta \\theta}^{2} h hT msT \\omega^{2} \\operatorname{qk}^{5}{\\left(\\tau \\right)} \\frac{d}{d \\tau} \\operatorname{pk}{\\left(\\tau \\right)} \\frac{d}{d \\tau} \\operatorname{qk}{\\left(\\tau \\right)} - 4 Ir \\Psi_{\\theta \\theta}^{2} hT^{2} msT \\omega^{2} \\operatorname{pk}^{7}{\\left(\\tau \\right)} - 4 Ir \\Psi_{\\theta \\theta}^{2} hT^{2} msT \\omega^{2} \\operatorname{pk}^{5}{\\left(\\tau \\right)} \\operatorname{qk}^{2}{\\left(\\tau \\right)} - 4 Ir \\Psi_{\\theta \\theta}^{2} hT^{2} msT \\omega^{2} \\operatorname{pk}^{4}{\\left(\\tau \\right)} \\operatorname{qk}{\\left(\\tau \\right)} \\frac{d}{d \\tau} \\operatorname{pk}{\\left(\\tau \\right)} \\frac{d}{d \\tau} \\operatorname{qk}{\\left(\\tau \\right)} + 4 Ir \\Psi_{\\theta \\theta}^{2} hT^{2} msT \\omega^{2} \\operatorname{pk}^{3}{\\left(\\tau \\right)} \\operatorname{qk}^{4}{\\left(\\tau \\right)} + 4 Ir \\Psi_{\\theta \\theta}^{2} hT^{2} msT \\omega^{2} \\operatorname{pk}^{3}{\\left(\\tau \\right)} \\operatorname{qk}^{2}{\\left(\\tau \\right)} \\left(\\frac{d}{d \\tau} \\operatorname{pk}{\\left(\\tau \\right)}\\right)^{2} + 4 Ir \\Psi_{\\theta \\theta}^{2} hT^{2} msT \\omega^{2} \\operatorname{pk}^{3}{\\left(\\tau \\right)} \\operatorname{qk}^{2}{\\left(\\tau \\right)} \\left(\\frac{d}{d \\tau} \\operatorname{qk}{\\left(\\tau \\right)}\\right)^{2} - 8 Ir \\Psi_{\\theta \\theta}^{2} hT^{2} msT \\omega^{2} \\operatorname{pk}^{2}{\\left(\\tau \\right)} \\operatorname{qk}^{3}{\\left(\\tau \\right)} \\frac{d}{d \\tau} \\operatorname{pk}{\\left(\\tau \\right)} \\frac{d}{d \\tau} \\operatorname{qk}{\\left(\\tau \\right)} + 4 Ir \\Psi_{\\theta \\theta}^{2} hT^{2} msT \\omega^{2} \\operatorname{pk}{\\left(\\tau \\right)} \\operatorname{qk}^{6}{\\left(\\tau \\right)} + 4 Ir \\Psi_{\\theta \\theta}^{2} hT^{2} msT \\omega^{2} \\operatorname{pk}{\\left(\\tau \\right)} \\operatorname{qk}^{4}{\\left(\\tau \\right)} \\left(\\frac{d}{d \\tau} \\operatorname{pk}{\\left(\\tau \\right)}\\right)^{2} + 4 Ir \\Psi_{\\theta \\theta}^{2} hT^{2} msT \\omega^{2} \\operatorname{pk}{\\left(\\tau \\right)} \\operatorname{qk}^{4}{\\left(\\tau \\right)} \\left(\\frac{d}{d \\tau} \\operatorname{qk}{\\left(\\tau \\right)}\\right)^{2} - 4 Ir \\Psi_{\\theta \\theta}^{2} hT^{2} msT \\omega^{2} \\operatorname{qk}^{5}{\\left(\\tau \\right)} \\frac{d}{d \\tau} \\operatorname{pk}{\\left(\\tau \\right)} \\frac{d}{d \\tau} \\operatorname{qk}{\\left(\\tau \\right)} - 2 \\Psi_{\\theta \\theta} Rk Texte Uu^{2} h mR \\sqrt{\\operatorname{pk}^{2}{\\left(\\tau \\right)} + \\operatorname{qk}^{2}{\\left(\\tau \\right)}} \\operatorname{pk}^{4}{\\left(\\tau \\right)} \\operatorname{qk}{\\left(\\tau \\right)} + 2 \\Psi_{\\theta \\theta} Rk Texte Uu^{2} h mR \\sqrt{\\operatorname{pk}^{2}{\\left(\\tau \\right)} + \\operatorname{qk}^{2}{\\left(\\tau \\right)}} \\operatorname{qk}^{5}{\\left(\\tau \\right)} - 4 \\Psi_{\\theta \\theta} Rk Texte Uu^{2} hT mR \\sqrt{\\operatorname{pk}^{2}{\\left(\\tau \\right)} + \\operatorname{qk}^{2}{\\left(\\tau \\right)}} \\operatorname{pk}^{4}{\\left(\\tau \\right)} \\operatorname{qk}{\\left(\\tau \\right)} + 4 \\Psi_{\\theta \\theta} Rk Texte Uu^{2} hT mR \\sqrt{\\operatorname{pk}^{2}{\\left(\\tau \\right)} + \\operatorname{qk}^{2}{\\left(\\tau \\right)}} \\operatorname{qk}^{5}{\\left(\\tau \\right)} + 2 \\Psi_{\\theta \\theta} Rk Texte h msT \\sqrt{\\operatorname{pk}^{2}{\\left(\\tau \\right)} + \\operatorname{qk}^{2}{\\left(\\tau \\right)}} \\operatorname{pk}^{4}{\\left(\\tau \\right)} \\operatorname{qk}{\\left(\\tau \\right)} + 4 \\Psi_{\\theta \\theta} Rk Texte h msT \\sqrt{\\operatorname{pk}^{2}{\\left(\\tau \\right)} + \\operatorname{qk}^{2}{\\left(\\tau \\right)}} \\operatorname{pk}^{2}{\\left(\\tau \\right)} \\operatorname{qk}^{3}{\\left(\\tau \\right)} + 2 \\Psi_{\\theta \\theta} Rk Texte h msT \\sqrt{\\operatorname{pk}^{2}{\\left(\\tau \\right)} + \\operatorname{qk}^{2}{\\left(\\tau \\right)}} \\operatorname{qk}^{5}{\\left(\\tau \\right)} + 4 \\Psi_{\\theta \\theta} Rk Texte hT msT \\sqrt{\\operatorname{pk}^{2}{\\left(\\tau \\right)} + \\operatorname{qk}^{2}{\\left(\\tau \\right)}} \\operatorname{pk}^{4}{\\left(\\tau \\right)} \\operatorname{qk}{\\left(\\tau \\right)} + 8 \\Psi_{\\theta \\theta} Rk Texte hT msT \\sqrt{\\operatorname{pk}^{2}{\\left(\\tau \\right)} + \\operatorname{qk}^{2}{\\left(\\tau \\right)}} \\operatorname{pk}^{2}{\\left(\\tau \\right)} \\operatorname{qk}^{3}{\\left(\\tau \\right)} + 4 \\Psi_{\\theta \\theta} Rk Texte hT msT \\sqrt{\\operatorname{pk}^{2}{\\left(\\tau \\right)} + \\operatorname{qk}^{2}{\\left(\\tau \\right)}} \\operatorname{qk}^{5}{\\left(\\tau \\right)} + 4 Rk^{2} Uu^{2} Vo cUo mR \\operatorname{pk}^{5}{\\left(\\tau \\right)} \\operatorname{qk}{\\left(\\tau \\right)} \\cos{\\left(\\tau \\right)} - 4 Rk^{2} Uu^{2} Vo cUo mR \\operatorname{pk}^{4}{\\left(\\tau \\right)} \\operatorname{qk}^{2}{\\left(\\tau \\right)} \\sin{\\left(\\tau \\right)} + 8 Rk^{2} Uu^{2} Vo cUo mR \\operatorname{pk}^{3}{\\left(\\tau \\right)} \\operatorname{qk}^{3}{\\left(\\tau \\right)} \\cos{\\left(\\tau \\right)} - 8 Rk^{2} Uu^{2} Vo cUo mR \\operatorname{pk}^{2}{\\left(\\tau \\right)} \\operatorname{qk}^{4}{\\left(\\tau \\right)} \\sin{\\left(\\tau \\right)} + 4 Rk^{2} Uu^{2} Vo cUo mR \\operatorname{pk}{\\left(\\tau \\right)} \\operatorname{qk}^{5}{\\left(\\tau \\right)} \\cos{\\left(\\tau \\right)} - 4 Rk^{2} Uu^{2} Vo cUo mR \\operatorname{qk}^{6}{\\left(\\tau \\right)} \\sin{\\left(\\tau \\right)} - 4 Rk^{2} Uu^{2} cr msT \\operatorname{pk}^{7}{\\left(\\tau \\right)} - 12 Rk^{2} Uu^{2} cr msT \\operatorname{pk}^{5}{\\left(\\tau \\right)} \\operatorname{qk}^{2}{\\left(\\tau \\right)} - 12 Rk^{2} Uu^{2} cr msT \\operatorname{pk}^{3}{\\left(\\tau \\right)} \\operatorname{qk}^{4}{\\left(\\tau \\right)} - 4 Rk^{2} Uu^{2} cr msT \\operatorname{pk}{\\left(\\tau \\right)} \\operatorname{qk}^{6}{\\left(\\tau \\right)} + 4 Rk^{2} Uu^{2} d mR \\omega \\operatorname{pk}^{5}{\\left(\\tau \\right)} \\operatorname{qk}{\\left(\\tau \\right)} \\frac{d}{d \\tau} \\operatorname{qk}{\\left(\\tau \\right)} - 4 Rk^{2} Uu^{2} d mR \\omega \\operatorname{pk}^{4}{\\left(\\tau \\right)} \\operatorname{qk}^{2}{\\left(\\tau \\right)} \\frac{d}{d \\tau} \\operatorname{pk}{\\left(\\tau \\right)} + 8 Rk^{2} Uu^{2} d mR \\omega \\operatorname{pk}^{3}{\\left(\\tau \\right)} \\operatorname{qk}^{3}{\\left(\\tau \\right)} \\frac{d}{d \\tau} \\operatorname{qk}{\\left(\\tau \\right)} - 8 Rk^{2} Uu^{2} d mR \\omega \\operatorname{pk}^{2}{\\left(\\tau \\right)} \\operatorname{qk}^{4}{\\left(\\tau \\right)} \\frac{d}{d \\tau} \\operatorname{pk}{\\left(\\tau \\right)} + 4 Rk^{2} Uu^{2} d mR \\omega \\operatorname{pk}{\\left(\\tau \\right)} \\operatorname{qk}^{5}{\\left(\\tau \\right)} \\frac{d}{d \\tau} \\operatorname{qk}{\\left(\\tau \\right)} - 4 Rk^{2} Uu^{2} d mR \\omega \\operatorname{qk}^{6}{\\left(\\tau \\right)} \\frac{d}{d \\tau} \\operatorname{pk}{\\left(\\tau \\right)} - 4 Rk^{2} Uu^{2} mR msT \\omega^{2} \\operatorname{pk}^{5}{\\left(\\tau \\right)} \\left(\\frac{d}{d \\tau} \\operatorname{qk}{\\left(\\tau \\right)}\\right)^{2} + 8 Rk^{2} Uu^{2} mR msT \\omega^{2} \\operatorname{pk}^{4}{\\left(\\tau \\right)} \\operatorname{qk}{\\left(\\tau \\right)} \\frac{d}{d \\tau} \\operatorname{pk}{\\left(\\tau \\right)} \\frac{d}{d \\tau} \\operatorname{qk}{\\left(\\tau \\right)} - 4 Rk^{2} Uu^{2} mR msT \\omega^{2} \\operatorname{pk}^{3}{\\left(\\tau \\right)} \\operatorname{qk}^{2}{\\left(\\tau \\right)} \\left(\\frac{d}{d \\tau} \\operatorname{pk}{\\left(\\tau \\right)}\\right)^{2} - 4 Rk^{2} Uu^{2} mR msT \\omega^{2} \\operatorname{pk}^{3}{\\left(\\tau \\right)} \\operatorname{qk}^{2}{\\left(\\tau \\right)} \\left(\\frac{d}{d \\tau} \\operatorname{qk}{\\left(\\tau \\right)}\\right)^{2} + 8 Rk^{2} Uu^{2} mR msT \\omega^{2} \\operatorname{pk}^{2}{\\left(\\tau \\right)} \\operatorname{qk}^{3}{\\left(\\tau \\right)} \\frac{d}{d \\tau} \\operatorname{pk}{\\left(\\tau \\right)} \\frac{d}{d \\tau} \\operatorname{qk}{\\left(\\tau \\right)} - 4 Rk^{2} Uu^{2} mR msT \\omega^{2} \\operatorname{pk}{\\left(\\tau \\right)} \\operatorname{qk}^{4}{\\left(\\tau \\right)} \\left(\\frac{d}{d \\tau} \\operatorname{pk}{\\left(\\tau \\right)}\\right)^{2} - 4 Rk^{2} Uu cr msT ps \\sqrt{\\operatorname{pk}^{2}{\\left(\\tau \\right)} + \\operatorname{qk}^{2}{\\left(\\tau \\right)}} \\operatorname{pk}^{5}{\\left(\\tau \\right)} - 8 Rk^{2} Uu cr msT ps \\sqrt{\\operatorname{pk}^{2}{\\left(\\tau \\right)} + \\operatorname{qk}^{2}{\\left(\\tau \\right)}} \\operatorname{pk}^{3}{\\left(\\tau \\right)} \\operatorname{qk}^{2}{\\left(\\tau \\right)} - 4 Rk^{2} Uu cr msT ps \\sqrt{\\operatorname{pk}^{2}{\\left(\\tau \\right)} + \\operatorname{qk}^{2}{\\left(\\tau \\right)}} \\operatorname{pk}{\\left(\\tau \\right)} \\operatorname{qk}^{4}{\\left(\\tau \\right)} - 4 Rk^{2} Vo cUo msT \\operatorname{pk}^{6}{\\left(\\tau \\right)} \\sin{\\left(\\tau \\right)} - 12 Rk^{2} Vo cUo msT \\operatorname{pk}^{4}{\\left(\\tau \\right)} \\operatorname{qk}^{2}{\\left(\\tau \\right)} \\sin{\\left(\\tau \\right)} - 12 Rk^{2} Vo cUo msT \\operatorname{pk}^{2}{\\left(\\tau \\right)} \\operatorname{qk}^{4}{\\left(\\tau \\right)} \\sin{\\left(\\tau \\right)} - 4 Rk^{2} Vo cUo msT \\operatorname{qk}^{6}{\\left(\\tau \\right)} \\sin{\\left(\\tau \\right)} - 4 Rk^{2} d msT \\omega \\operatorname{pk}^{6}{\\left(\\tau \\right)} \\frac{d}{d \\tau} \\operatorname{pk}{\\left(\\tau \\right)} - 12 Rk^{2} d msT \\omega \\operatorname{pk}^{4}{\\left(\\tau \\right)} \\operatorname{qk}^{2}{\\left(\\tau \\right)} \\frac{d}{d \\tau} \\operatorname{pk}{\\left(\\tau \\right)} - 12 Rk^{2} d msT \\omega \\operatorname{pk}^{2}{\\left(\\tau \\right)} \\operatorname{qk}^{4}{\\left(\\tau \\right)} \\frac{d}{d \\tau} \\operatorname{pk}{\\left(\\tau \\right)} - 4 Rk^{2} d msT \\omega \\operatorname{qk}^{6}{\\left(\\tau \\right)} \\frac{d}{d \\tau} \\operatorname{pk}{\\left(\\tau \\right)} - 4 Rk^{2} msT^{2} \\omega^{2} \\operatorname{pk}^{7}{\\left(\\tau \\right)} - 12 Rk^{2} msT^{2} \\omega^{2} \\operatorname{pk}^{5}{\\left(\\tau \\right)} \\operatorname{qk}^{2}{\\left(\\tau \\right)} - 12 Rk^{2} msT^{2} \\omega^{2} \\operatorname{pk}^{3}{\\left(\\tau \\right)} \\operatorname{qk}^{4}{\\left(\\tau \\right)} - 4 Rk^{2} msT^{2} \\omega^{2} \\operatorname{pk}{\\left(\\tau \\right)} \\operatorname{qk}^{6}{\\left(\\tau \\right)}}{\\omega^{2} \\left(Ir \\Psi_{\\theta \\theta}^{2} Uu^{2} h^{2} mR \\operatorname{pk}^{6}{\\left(\\tau \\right)} - Ir \\Psi_{\\theta \\theta}^{2} Uu^{2} h^{2} mR \\operatorname{pk}^{4}{\\left(\\tau \\right)} \\operatorname{qk}^{2}{\\left(\\tau \\right)} - Ir \\Psi_{\\theta \\theta}^{2} Uu^{2} h^{2} mR \\operatorname{pk}^{2}{\\left(\\tau \\right)} \\operatorname{qk}^{4}{\\left(\\tau \\right)} + Ir \\Psi_{\\theta \\theta}^{2} Uu^{2} h^{2} mR \\operatorname{qk}^{6}{\\left(\\tau \\right)} + 4 Ir \\Psi_{\\theta \\theta}^{2} Uu^{2} h hT mR \\operatorname{pk}^{6}{\\left(\\tau \\right)} - 4 Ir \\Psi_{\\theta \\theta}^{2} Uu^{2} h hT mR \\operatorname{pk}^{4}{\\left(\\tau \\right)} \\operatorname{qk}^{2}{\\left(\\tau \\right)} - 4 Ir \\Psi_{\\theta \\theta}^{2} Uu^{2} h hT mR \\operatorname{pk}^{2}{\\left(\\tau \\right)} \\operatorname{qk}^{4}{\\left(\\tau \\right)} + 4 Ir \\Psi_{\\theta \\theta}^{2} Uu^{2} h hT mR \\operatorname{qk}^{6}{\\left(\\tau \\right)} + 4 Ir \\Psi_{\\theta \\theta}^{2} Uu^{2} hT^{2} mR \\operatorname{pk}^{6}{\\left(\\tau \\right)} - 4 Ir \\Psi_{\\theta \\theta}^{2} Uu^{2} hT^{2} mR \\operatorname{pk}^{4}{\\left(\\tau \\right)} \\operatorname{qk}^{2}{\\left(\\tau \\right)} - 4 Ir \\Psi_{\\theta \\theta}^{2} Uu^{2} hT^{2} mR \\operatorname{pk}^{2}{\\left(\\tau \\right)} \\operatorname{qk}^{4}{\\left(\\tau \\right)} + 4 Ir \\Psi_{\\theta \\theta}^{2} Uu^{2} hT^{2} mR \\operatorname{qk}^{6}{\\left(\\tau \\right)} + Ir \\Psi_{\\theta \\theta}^{2} h^{2} msT \\operatorname{pk}^{6}{\\left(\\tau \\right)} + 3 Ir \\Psi_{\\theta \\theta}^{2} h^{2} msT \\operatorname{pk}^{4}{\\left(\\tau \\right)} \\operatorname{qk}^{2}{\\left(\\tau \\right)} + 3 Ir \\Psi_{\\theta \\theta}^{2} h^{2} msT \\operatorname{pk}^{2}{\\left(\\tau \\right)} \\operatorname{qk}^{4}{\\left(\\tau \\right)} + Ir \\Psi_{\\theta \\theta}^{2} h^{2} msT \\operatorname{qk}^{6}{\\left(\\tau \\right)} + 4 Ir \\Psi_{\\theta \\theta}^{2} h hT msT \\operatorname{pk}^{6}{\\left(\\tau \\right)} + 12 Ir \\Psi_{\\theta \\theta}^{2} h hT msT \\operatorname{pk}^{4}{\\left(\\tau \\right)} \\operatorname{qk}^{2}{\\left(\\tau \\right)} + 12 Ir \\Psi_{\\theta \\theta}^{2} h hT msT \\operatorname{pk}^{2}{\\left(\\tau \\right)} \\operatorname{qk}^{4}{\\left(\\tau \\right)} + 4 Ir \\Psi_{\\theta \\theta}^{2} h hT msT \\operatorname{qk}^{6}{\\left(\\tau \\right)} + 4 Ir \\Psi_{\\theta \\theta}^{2} hT^{2} msT \\operatorname{pk}^{6}{\\left(\\tau \\right)} + 12 Ir \\Psi_{\\theta \\theta}^{2} hT^{2} msT \\operatorname{pk}^{4}{\\left(\\tau \\right)} \\operatorname{qk}^{2}{\\left(\\tau \\right)} + 12 Ir \\Psi_{\\theta \\theta}^{2} hT^{2} msT \\operatorname{pk}^{2}{\\left(\\tau \\right)} \\operatorname{qk}^{4}{\\left(\\tau \\right)} + 4 Ir \\Psi_{\\theta \\theta}^{2} hT^{2} msT \\operatorname{qk}^{6}{\\left(\\tau \\right)} + 4 Rk^{2} Uu^{2} mR msT \\operatorname{pk}^{6}{\\left(\\tau \\right)} + 12 Rk^{2} Uu^{2} mR msT \\operatorname{pk}^{4}{\\left(\\tau \\right)} \\operatorname{qk}^{2}{\\left(\\tau \\right)} + 12 Rk^{2} Uu^{2} mR msT \\operatorname{pk}^{2}{\\left(\\tau \\right)} \\operatorname{qk}^{4}{\\left(\\tau \\right)} + 4 Rk^{2} Uu^{2} mR msT \\operatorname{qk}^{6}{\\left(\\tau \\right)} + 4 Rk^{2} msT^{2} \\operatorname{pk}^{6}{\\left(\\tau \\right)} + 12 Rk^{2} msT^{2} \\operatorname{pk}^{4}{\\left(\\tau \\right)} \\operatorname{qk}^{2}{\\left(\\tau \\right)} + 12 Rk^{2} msT^{2} \\operatorname{pk}^{2}{\\left(\\tau \\right)} \\operatorname{qk}^{4}{\\left(\\tau \\right)} + 4 Rk^{2} msT^{2} \\operatorname{qk}^{6}{\\left(\\tau \\right)}\\right)}$"
      ],
      "text/plain": [
       "(-Ir*Psi_theta_theta**2*Uu**2*cr*h**2*pk(tau)**7 - Ir*Psi_theta_theta**2*Uu**2*cr*h**2*pk(tau)**5*qk(tau)**2 + Ir*Psi_theta_theta**2*Uu**2*cr*h**2*pk(tau)**3*qk(tau)**4 + Ir*Psi_theta_theta**2*Uu**2*cr*h**2*pk(tau)*qk(tau)**6 - 4*Ir*Psi_theta_theta**2*Uu**2*cr*h*hT*pk(tau)**7 - 4*Ir*Psi_theta_theta**2*Uu**2*cr*h*hT*pk(tau)**5*qk(tau)**2 + 4*Ir*Psi_theta_theta**2*Uu**2*cr*h*hT*pk(tau)**3*qk(tau)**4 + 4*Ir*Psi_theta_theta**2*Uu**2*cr*h*hT*pk(tau)*qk(tau)**6 - 4*Ir*Psi_theta_theta**2*Uu**2*cr*hT**2*pk(tau)**7 - 4*Ir*Psi_theta_theta**2*Uu**2*cr*hT**2*pk(tau)**5*qk(tau)**2 + 4*Ir*Psi_theta_theta**2*Uu**2*cr*hT**2*pk(tau)**3*qk(tau)**4 + 4*Ir*Psi_theta_theta**2*Uu**2*cr*hT**2*pk(tau)*qk(tau)**6 - Ir*Psi_theta_theta**2*Uu**2*h**2*mR*omega**2*pk(tau)**5*Derivative(qk(tau), tau)**2 + 3*Ir*Psi_theta_theta**2*Uu**2*h**2*mR*omega**2*pk(tau)**4*qk(tau)*Derivative(pk(tau), tau)*Derivative(qk(tau), tau) - 2*Ir*Psi_theta_theta**2*Uu**2*h**2*mR*omega**2*pk(tau)**3*qk(tau)**2*Derivative(pk(tau), tau)**2 - 2*Ir*Psi_theta_theta**2*Uu**2*h**2*mR*omega**2*pk(tau)**2*qk(tau)**3*Derivative(pk(tau), tau)*Derivative(qk(tau), tau) + 2*Ir*Psi_theta_theta**2*Uu**2*h**2*mR*omega**2*pk(tau)*qk(tau)**4*Derivative(pk(tau), tau)**2 + Ir*Psi_theta_theta**2*Uu**2*h**2*mR*omega**2*pk(tau)*qk(tau)**4*Derivative(qk(tau), tau)**2 - Ir*Psi_theta_theta**2*Uu**2*h**2*mR*omega**2*qk(tau)**5*Derivative(pk(tau), tau)*Derivative(qk(tau), tau) - 4*Ir*Psi_theta_theta**2*Uu**2*h*hT*mR*omega**2*pk(tau)**5*Derivative(qk(tau), tau)**2 + 12*Ir*Psi_theta_theta**2*Uu**2*h*hT*mR*omega**2*pk(tau)**4*qk(tau)*Derivative(pk(tau), tau)*Derivative(qk(tau), tau) - 8*Ir*Psi_theta_theta**2*Uu**2*h*hT*mR*omega**2*pk(tau)**3*qk(tau)**2*Derivative(pk(tau), tau)**2 - 8*Ir*Psi_theta_theta**2*Uu**2*h*hT*mR*omega**2*pk(tau)**2*qk(tau)**3*Derivative(pk(tau), tau)*Derivative(qk(tau), tau) + 8*Ir*Psi_theta_theta**2*Uu**2*h*hT*mR*omega**2*pk(tau)*qk(tau)**4*Derivative(pk(tau), tau)**2 + 4*Ir*Psi_theta_theta**2*Uu**2*h*hT*mR*omega**2*pk(tau)*qk(tau)**4*Derivative(qk(tau), tau)**2 - 4*Ir*Psi_theta_theta**2*Uu**2*h*hT*mR*omega**2*qk(tau)**5*Derivative(pk(tau), tau)*Derivative(qk(tau), tau) - 4*Ir*Psi_theta_theta**2*Uu**2*hT**2*mR*omega**2*pk(tau)**5*Derivative(qk(tau), tau)**2 + 12*Ir*Psi_theta_theta**2*Uu**2*hT**2*mR*omega**2*pk(tau)**4*qk(tau)*Derivative(pk(tau), tau)*Derivative(qk(tau), tau) - 8*Ir*Psi_theta_theta**2*Uu**2*hT**2*mR*omega**2*pk(tau)**3*qk(tau)**2*Derivative(pk(tau), tau)**2 - 8*Ir*Psi_theta_theta**2*Uu**2*hT**2*mR*omega**2*pk(tau)**2*qk(tau)**3*Derivative(pk(tau), tau)*Derivative(qk(tau), tau) + 8*Ir*Psi_theta_theta**2*Uu**2*hT**2*mR*omega**2*pk(tau)*qk(tau)**4*Derivative(pk(tau), tau)**2 + 4*Ir*Psi_theta_theta**2*Uu**2*hT**2*mR*omega**2*pk(tau)*qk(tau)**4*Derivative(qk(tau), tau)**2 - 4*Ir*Psi_theta_theta**2*Uu**2*hT**2*mR*omega**2*qk(tau)**5*Derivative(pk(tau), tau)*Derivative(qk(tau), tau) - Ir*Psi_theta_theta**2*Uu*cr*h**2*ps*sqrt(pk(tau)**2 + qk(tau)**2)*pk(tau)**5 + Ir*Psi_theta_theta**2*Uu*cr*h**2*ps*sqrt(pk(tau)**2 + qk(tau)**2)*pk(tau)*qk(tau)**4 - 4*Ir*Psi_theta_theta**2*Uu*cr*h*hT*ps*sqrt(pk(tau)**2 + qk(tau)**2)*pk(tau)**5 + 4*Ir*Psi_theta_theta**2*Uu*cr*h*hT*ps*sqrt(pk(tau)**2 + qk(tau)**2)*pk(tau)*qk(tau)**4 - 4*Ir*Psi_theta_theta**2*Uu*cr*hT**2*ps*sqrt(pk(tau)**2 + qk(tau)**2)*pk(tau)**5 + 4*Ir*Psi_theta_theta**2*Uu*cr*hT**2*ps*sqrt(pk(tau)**2 + qk(tau)**2)*pk(tau)*qk(tau)**4 - Ir*Psi_theta_theta**2*Vo*cUo*h**2*pk(tau)**6*sin(tau) + Ir*Psi_theta_theta**2*Vo*cUo*h**2*pk(tau)**5*qk(tau)*cos(tau) - 2*Ir*Psi_theta_theta**2*Vo*cUo*h**2*pk(tau)**4*qk(tau)**2*sin(tau) + 2*Ir*Psi_theta_theta**2*Vo*cUo*h**2*pk(tau)**3*qk(tau)**3*cos(tau) - Ir*Psi_theta_theta**2*Vo*cUo*h**2*pk(tau)**2*qk(tau)**4*sin(tau) + Ir*Psi_theta_theta**2*Vo*cUo*h**2*pk(tau)*qk(tau)**5*cos(tau) - 4*Ir*Psi_theta_theta**2*Vo*cUo*h*hT*pk(tau)**6*sin(tau) + 4*Ir*Psi_theta_theta**2*Vo*cUo*h*hT*pk(tau)**5*qk(tau)*cos(tau) - 8*Ir*Psi_theta_theta**2*Vo*cUo*h*hT*pk(tau)**4*qk(tau)**2*sin(tau) + 8*Ir*Psi_theta_theta**2*Vo*cUo*h*hT*pk(tau)**3*qk(tau)**3*cos(tau) - 4*Ir*Psi_theta_theta**2*Vo*cUo*h*hT*pk(tau)**2*qk(tau)**4*sin(tau) + 4*Ir*Psi_theta_theta**2*Vo*cUo*h*hT*pk(tau)*qk(tau)**5*cos(tau) - 4*Ir*Psi_theta_theta**2*Vo*cUo*hT**2*pk(tau)**6*sin(tau) + 4*Ir*Psi_theta_theta**2*Vo*cUo*hT**2*pk(tau)**5*qk(tau)*cos(tau) - 8*Ir*Psi_theta_theta**2*Vo*cUo*hT**2*pk(tau)**4*qk(tau)**2*sin(tau) + 8*Ir*Psi_theta_theta**2*Vo*cUo*hT**2*pk(tau)**3*qk(tau)**3*cos(tau) - 4*Ir*Psi_theta_theta**2*Vo*cUo*hT**2*pk(tau)**2*qk(tau)**4*sin(tau) + 4*Ir*Psi_theta_theta**2*Vo*cUo*hT**2*pk(tau)*qk(tau)**5*cos(tau) - Ir*Psi_theta_theta**2*d*h**2*omega*pk(tau)**6*Derivative(pk(tau), tau) + Ir*Psi_theta_theta**2*d*h**2*omega*pk(tau)**5*qk(tau)*Derivative(qk(tau), tau) - 2*Ir*Psi_theta_theta**2*d*h**2*omega*pk(tau)**4*qk(tau)**2*Derivative(pk(tau), tau) + 2*Ir*Psi_theta_theta**2*d*h**2*omega*pk(tau)**3*qk(tau)**3*Derivative(qk(tau), tau) - Ir*Psi_theta_theta**2*d*h**2*omega*pk(tau)**2*qk(tau)**4*Derivative(pk(tau), tau) + Ir*Psi_theta_theta**2*d*h**2*omega*pk(tau)*qk(tau)**5*Derivative(qk(tau), tau) - 4*Ir*Psi_theta_theta**2*d*h*hT*omega*pk(tau)**6*Derivative(pk(tau), tau) + 4*Ir*Psi_theta_theta**2*d*h*hT*omega*pk(tau)**5*qk(tau)*Derivative(qk(tau), tau) - 8*Ir*Psi_theta_theta**2*d*h*hT*omega*pk(tau)**4*qk(tau)**2*Derivative(pk(tau), tau) + 8*Ir*Psi_theta_theta**2*d*h*hT*omega*pk(tau)**3*qk(tau)**3*Derivative(qk(tau), tau) - 4*Ir*Psi_theta_theta**2*d*h*hT*omega*pk(tau)**2*qk(tau)**4*Derivative(pk(tau), tau) + 4*Ir*Psi_theta_theta**2*d*h*hT*omega*pk(tau)*qk(tau)**5*Derivative(qk(tau), tau) - 4*Ir*Psi_theta_theta**2*d*hT**2*omega*pk(tau)**6*Derivative(pk(tau), tau) + 4*Ir*Psi_theta_theta**2*d*hT**2*omega*pk(tau)**5*qk(tau)*Derivative(qk(tau), tau) - 8*Ir*Psi_theta_theta**2*d*hT**2*omega*pk(tau)**4*qk(tau)**2*Derivative(pk(tau), tau) + 8*Ir*Psi_theta_theta**2*d*hT**2*omega*pk(tau)**3*qk(tau)**3*Derivative(qk(tau), tau) - 4*Ir*Psi_theta_theta**2*d*hT**2*omega*pk(tau)**2*qk(tau)**4*Derivative(pk(tau), tau) + 4*Ir*Psi_theta_theta**2*d*hT**2*omega*pk(tau)*qk(tau)**5*Derivative(qk(tau), tau) - Ir*Psi_theta_theta**2*h**2*msT*omega**2*pk(tau)**7 - Ir*Psi_theta_theta**2*h**2*msT*omega**2*pk(tau)**5*qk(tau)**2 - Ir*Psi_theta_theta**2*h**2*msT*omega**2*pk(tau)**4*qk(tau)*Derivative(pk(tau), tau)*Derivative(qk(tau), tau) + Ir*Psi_theta_theta**2*h**2*msT*omega**2*pk(tau)**3*qk(tau)**4 + Ir*Psi_theta_theta**2*h**2*msT*omega**2*pk(tau)**3*qk(tau)**2*Derivative(pk(tau), tau)**2 + Ir*Psi_theta_theta**2*h**2*msT*omega**2*pk(tau)**3*qk(tau)**2*Derivative(qk(tau), tau)**2 - 2*Ir*Psi_theta_theta**2*h**2*msT*omega**2*pk(tau)**2*qk(tau)**3*Derivative(pk(tau), tau)*Derivative(qk(tau), tau) + Ir*Psi_theta_theta**2*h**2*msT*omega**2*pk(tau)*qk(tau)**6 + Ir*Psi_theta_theta**2*h**2*msT*omega**2*pk(tau)*qk(tau)**4*Derivative(pk(tau), tau)**2 + Ir*Psi_theta_theta**2*h**2*msT*omega**2*pk(tau)*qk(tau)**4*Derivative(qk(tau), tau)**2 - Ir*Psi_theta_theta**2*h**2*msT*omega**2*qk(tau)**5*Derivative(pk(tau), tau)*Derivative(qk(tau), tau) - 4*Ir*Psi_theta_theta**2*h*hT*msT*omega**2*pk(tau)**7 - 4*Ir*Psi_theta_theta**2*h*hT*msT*omega**2*pk(tau)**5*qk(tau)**2 - 4*Ir*Psi_theta_theta**2*h*hT*msT*omega**2*pk(tau)**4*qk(tau)*Derivative(pk(tau), tau)*Derivative(qk(tau), tau) + 4*Ir*Psi_theta_theta**2*h*hT*msT*omega**2*pk(tau)**3*qk(tau)**4 + 4*Ir*Psi_theta_theta**2*h*hT*msT*omega**2*pk(tau)**3*qk(tau)**2*Derivative(pk(tau), tau)**2 + 4*Ir*Psi_theta_theta**2*h*hT*msT*omega**2*pk(tau)**3*qk(tau)**2*Derivative(qk(tau), tau)**2 - 8*Ir*Psi_theta_theta**2*h*hT*msT*omega**2*pk(tau)**2*qk(tau)**3*Derivative(pk(tau), tau)*Derivative(qk(tau), tau) + 4*Ir*Psi_theta_theta**2*h*hT*msT*omega**2*pk(tau)*qk(tau)**6 + 4*Ir*Psi_theta_theta**2*h*hT*msT*omega**2*pk(tau)*qk(tau)**4*Derivative(pk(tau), tau)**2 + 4*Ir*Psi_theta_theta**2*h*hT*msT*omega**2*pk(tau)*qk(tau)**4*Derivative(qk(tau), tau)**2 - 4*Ir*Psi_theta_theta**2*h*hT*msT*omega**2*qk(tau)**5*Derivative(pk(tau), tau)*Derivative(qk(tau), tau) - 4*Ir*Psi_theta_theta**2*hT**2*msT*omega**2*pk(tau)**7 - 4*Ir*Psi_theta_theta**2*hT**2*msT*omega**2*pk(tau)**5*qk(tau)**2 - 4*Ir*Psi_theta_theta**2*hT**2*msT*omega**2*pk(tau)**4*qk(tau)*Derivative(pk(tau), tau)*Derivative(qk(tau), tau) + 4*Ir*Psi_theta_theta**2*hT**2*msT*omega**2*pk(tau)**3*qk(tau)**4 + 4*Ir*Psi_theta_theta**2*hT**2*msT*omega**2*pk(tau)**3*qk(tau)**2*Derivative(pk(tau), tau)**2 + 4*Ir*Psi_theta_theta**2*hT**2*msT*omega**2*pk(tau)**3*qk(tau)**2*Derivative(qk(tau), tau)**2 - 8*Ir*Psi_theta_theta**2*hT**2*msT*omega**2*pk(tau)**2*qk(tau)**3*Derivative(pk(tau), tau)*Derivative(qk(tau), tau) + 4*Ir*Psi_theta_theta**2*hT**2*msT*omega**2*pk(tau)*qk(tau)**6 + 4*Ir*Psi_theta_theta**2*hT**2*msT*omega**2*pk(tau)*qk(tau)**4*Derivative(pk(tau), tau)**2 + 4*Ir*Psi_theta_theta**2*hT**2*msT*omega**2*pk(tau)*qk(tau)**4*Derivative(qk(tau), tau)**2 - 4*Ir*Psi_theta_theta**2*hT**2*msT*omega**2*qk(tau)**5*Derivative(pk(tau), tau)*Derivative(qk(tau), tau) - 2*Psi_theta_theta*Rk*Texte*Uu**2*h*mR*sqrt(pk(tau)**2 + qk(tau)**2)*pk(tau)**4*qk(tau) + 2*Psi_theta_theta*Rk*Texte*Uu**2*h*mR*sqrt(pk(tau)**2 + qk(tau)**2)*qk(tau)**5 - 4*Psi_theta_theta*Rk*Texte*Uu**2*hT*mR*sqrt(pk(tau)**2 + qk(tau)**2)*pk(tau)**4*qk(tau) + 4*Psi_theta_theta*Rk*Texte*Uu**2*hT*mR*sqrt(pk(tau)**2 + qk(tau)**2)*qk(tau)**5 + 2*Psi_theta_theta*Rk*Texte*h*msT*sqrt(pk(tau)**2 + qk(tau)**2)*pk(tau)**4*qk(tau) + 4*Psi_theta_theta*Rk*Texte*h*msT*sqrt(pk(tau)**2 + qk(tau)**2)*pk(tau)**2*qk(tau)**3 + 2*Psi_theta_theta*Rk*Texte*h*msT*sqrt(pk(tau)**2 + qk(tau)**2)*qk(tau)**5 + 4*Psi_theta_theta*Rk*Texte*hT*msT*sqrt(pk(tau)**2 + qk(tau)**2)*pk(tau)**4*qk(tau) + 8*Psi_theta_theta*Rk*Texte*hT*msT*sqrt(pk(tau)**2 + qk(tau)**2)*pk(tau)**2*qk(tau)**3 + 4*Psi_theta_theta*Rk*Texte*hT*msT*sqrt(pk(tau)**2 + qk(tau)**2)*qk(tau)**5 + 4*Rk**2*Uu**2*Vo*cUo*mR*pk(tau)**5*qk(tau)*cos(tau) - 4*Rk**2*Uu**2*Vo*cUo*mR*pk(tau)**4*qk(tau)**2*sin(tau) + 8*Rk**2*Uu**2*Vo*cUo*mR*pk(tau)**3*qk(tau)**3*cos(tau) - 8*Rk**2*Uu**2*Vo*cUo*mR*pk(tau)**2*qk(tau)**4*sin(tau) + 4*Rk**2*Uu**2*Vo*cUo*mR*pk(tau)*qk(tau)**5*cos(tau) - 4*Rk**2*Uu**2*Vo*cUo*mR*qk(tau)**6*sin(tau) - 4*Rk**2*Uu**2*cr*msT*pk(tau)**7 - 12*Rk**2*Uu**2*cr*msT*pk(tau)**5*qk(tau)**2 - 12*Rk**2*Uu**2*cr*msT*pk(tau)**3*qk(tau)**4 - 4*Rk**2*Uu**2*cr*msT*pk(tau)*qk(tau)**6 + 4*Rk**2*Uu**2*d*mR*omega*pk(tau)**5*qk(tau)*Derivative(qk(tau), tau) - 4*Rk**2*Uu**2*d*mR*omega*pk(tau)**4*qk(tau)**2*Derivative(pk(tau), tau) + 8*Rk**2*Uu**2*d*mR*omega*pk(tau)**3*qk(tau)**3*Derivative(qk(tau), tau) - 8*Rk**2*Uu**2*d*mR*omega*pk(tau)**2*qk(tau)**4*Derivative(pk(tau), tau) + 4*Rk**2*Uu**2*d*mR*omega*pk(tau)*qk(tau)**5*Derivative(qk(tau), tau) - 4*Rk**2*Uu**2*d*mR*omega*qk(tau)**6*Derivative(pk(tau), tau) - 4*Rk**2*Uu**2*mR*msT*omega**2*pk(tau)**5*Derivative(qk(tau), tau)**2 + 8*Rk**2*Uu**2*mR*msT*omega**2*pk(tau)**4*qk(tau)*Derivative(pk(tau), tau)*Derivative(qk(tau), tau) - 4*Rk**2*Uu**2*mR*msT*omega**2*pk(tau)**3*qk(tau)**2*Derivative(pk(tau), tau)**2 - 4*Rk**2*Uu**2*mR*msT*omega**2*pk(tau)**3*qk(tau)**2*Derivative(qk(tau), tau)**2 + 8*Rk**2*Uu**2*mR*msT*omega**2*pk(tau)**2*qk(tau)**3*Derivative(pk(tau), tau)*Derivative(qk(tau), tau) - 4*Rk**2*Uu**2*mR*msT*omega**2*pk(tau)*qk(tau)**4*Derivative(pk(tau), tau)**2 - 4*Rk**2*Uu*cr*msT*ps*sqrt(pk(tau)**2 + qk(tau)**2)*pk(tau)**5 - 8*Rk**2*Uu*cr*msT*ps*sqrt(pk(tau)**2 + qk(tau)**2)*pk(tau)**3*qk(tau)**2 - 4*Rk**2*Uu*cr*msT*ps*sqrt(pk(tau)**2 + qk(tau)**2)*pk(tau)*qk(tau)**4 - 4*Rk**2*Vo*cUo*msT*pk(tau)**6*sin(tau) - 12*Rk**2*Vo*cUo*msT*pk(tau)**4*qk(tau)**2*sin(tau) - 12*Rk**2*Vo*cUo*msT*pk(tau)**2*qk(tau)**4*sin(tau) - 4*Rk**2*Vo*cUo*msT*qk(tau)**6*sin(tau) - 4*Rk**2*d*msT*omega*pk(tau)**6*Derivative(pk(tau), tau) - 12*Rk**2*d*msT*omega*pk(tau)**4*qk(tau)**2*Derivative(pk(tau), tau) - 12*Rk**2*d*msT*omega*pk(tau)**2*qk(tau)**4*Derivative(pk(tau), tau) - 4*Rk**2*d*msT*omega*qk(tau)**6*Derivative(pk(tau), tau) - 4*Rk**2*msT**2*omega**2*pk(tau)**7 - 12*Rk**2*msT**2*omega**2*pk(tau)**5*qk(tau)**2 - 12*Rk**2*msT**2*omega**2*pk(tau)**3*qk(tau)**4 - 4*Rk**2*msT**2*omega**2*pk(tau)*qk(tau)**6)/(omega**2*(Ir*Psi_theta_theta**2*Uu**2*h**2*mR*pk(tau)**6 - Ir*Psi_theta_theta**2*Uu**2*h**2*mR*pk(tau)**4*qk(tau)**2 - Ir*Psi_theta_theta**2*Uu**2*h**2*mR*pk(tau)**2*qk(tau)**4 + Ir*Psi_theta_theta**2*Uu**2*h**2*mR*qk(tau)**6 + 4*Ir*Psi_theta_theta**2*Uu**2*h*hT*mR*pk(tau)**6 - 4*Ir*Psi_theta_theta**2*Uu**2*h*hT*mR*pk(tau)**4*qk(tau)**2 - 4*Ir*Psi_theta_theta**2*Uu**2*h*hT*mR*pk(tau)**2*qk(tau)**4 + 4*Ir*Psi_theta_theta**2*Uu**2*h*hT*mR*qk(tau)**6 + 4*Ir*Psi_theta_theta**2*Uu**2*hT**2*mR*pk(tau)**6 - 4*Ir*Psi_theta_theta**2*Uu**2*hT**2*mR*pk(tau)**4*qk(tau)**2 - 4*Ir*Psi_theta_theta**2*Uu**2*hT**2*mR*pk(tau)**2*qk(tau)**4 + 4*Ir*Psi_theta_theta**2*Uu**2*hT**2*mR*qk(tau)**6 + Ir*Psi_theta_theta**2*h**2*msT*pk(tau)**6 + 3*Ir*Psi_theta_theta**2*h**2*msT*pk(tau)**4*qk(tau)**2 + 3*Ir*Psi_theta_theta**2*h**2*msT*pk(tau)**2*qk(tau)**4 + Ir*Psi_theta_theta**2*h**2*msT*qk(tau)**6 + 4*Ir*Psi_theta_theta**2*h*hT*msT*pk(tau)**6 + 12*Ir*Psi_theta_theta**2*h*hT*msT*pk(tau)**4*qk(tau)**2 + 12*Ir*Psi_theta_theta**2*h*hT*msT*pk(tau)**2*qk(tau)**4 + 4*Ir*Psi_theta_theta**2*h*hT*msT*qk(tau)**6 + 4*Ir*Psi_theta_theta**2*hT**2*msT*pk(tau)**6 + 12*Ir*Psi_theta_theta**2*hT**2*msT*pk(tau)**4*qk(tau)**2 + 12*Ir*Psi_theta_theta**2*hT**2*msT*pk(tau)**2*qk(tau)**4 + 4*Ir*Psi_theta_theta**2*hT**2*msT*qk(tau)**6 + 4*Rk**2*Uu**2*mR*msT*pk(tau)**6 + 12*Rk**2*Uu**2*mR*msT*pk(tau)**4*qk(tau)**2 + 12*Rk**2*Uu**2*mR*msT*pk(tau)**2*qk(tau)**4 + 4*Rk**2*Uu**2*mR*msT*qk(tau)**6 + 4*Rk**2*msT**2*pk(tau)**6 + 12*Rk**2*msT**2*pk(tau)**4*qk(tau)**2 + 12*Rk**2*msT**2*pk(tau)**2*qk(tau)**4 + 4*Rk**2*msT**2*qk(tau)**6))"
      ]
     },
     "execution_count": 23,
     "metadata": {},
     "output_type": "execute_result"
    }
   ],
   "source": [
    "solution[DIFF2P]"
   ]
  },
  {
   "cell_type": "code",
   "execution_count": 24,
   "metadata": {},
   "outputs": [],
   "source": [
    "soluEqP = solution[DIFF2P].subs({Derivative(qk,tau):0, Derivative(pk,tau):0})\n",
    "soluEqQ = solution[DIFF2Q].subs({Derivative(qk,tau):0, Derivative(pk,tau):0})"
   ]
  },
  {
   "cell_type": "code",
   "execution_count": 25,
   "metadata": {},
   "outputs": [
    {
     "data": {
      "text/latex": [
       "$\\displaystyle \\frac{- Ir \\Psi_{\\theta \\theta}^{2} Uu^{2} cr h^{2} \\operatorname{pk}^{7}{\\left(\\tau \\right)} - Ir \\Psi_{\\theta \\theta}^{2} Uu^{2} cr h^{2} \\operatorname{pk}^{5}{\\left(\\tau \\right)} \\operatorname{qk}^{2}{\\left(\\tau \\right)} + Ir \\Psi_{\\theta \\theta}^{2} Uu^{2} cr h^{2} \\operatorname{pk}^{3}{\\left(\\tau \\right)} \\operatorname{qk}^{4}{\\left(\\tau \\right)} + Ir \\Psi_{\\theta \\theta}^{2} Uu^{2} cr h^{2} \\operatorname{pk}{\\left(\\tau \\right)} \\operatorname{qk}^{6}{\\left(\\tau \\right)} - 4 Ir \\Psi_{\\theta \\theta}^{2} Uu^{2} cr h hT \\operatorname{pk}^{7}{\\left(\\tau \\right)} - 4 Ir \\Psi_{\\theta \\theta}^{2} Uu^{2} cr h hT \\operatorname{pk}^{5}{\\left(\\tau \\right)} \\operatorname{qk}^{2}{\\left(\\tau \\right)} + 4 Ir \\Psi_{\\theta \\theta}^{2} Uu^{2} cr h hT \\operatorname{pk}^{3}{\\left(\\tau \\right)} \\operatorname{qk}^{4}{\\left(\\tau \\right)} + 4 Ir \\Psi_{\\theta \\theta}^{2} Uu^{2} cr h hT \\operatorname{pk}{\\left(\\tau \\right)} \\operatorname{qk}^{6}{\\left(\\tau \\right)} - 4 Ir \\Psi_{\\theta \\theta}^{2} Uu^{2} cr hT^{2} \\operatorname{pk}^{7}{\\left(\\tau \\right)} - 4 Ir \\Psi_{\\theta \\theta}^{2} Uu^{2} cr hT^{2} \\operatorname{pk}^{5}{\\left(\\tau \\right)} \\operatorname{qk}^{2}{\\left(\\tau \\right)} + 4 Ir \\Psi_{\\theta \\theta}^{2} Uu^{2} cr hT^{2} \\operatorname{pk}^{3}{\\left(\\tau \\right)} \\operatorname{qk}^{4}{\\left(\\tau \\right)} + 4 Ir \\Psi_{\\theta \\theta}^{2} Uu^{2} cr hT^{2} \\operatorname{pk}{\\left(\\tau \\right)} \\operatorname{qk}^{6}{\\left(\\tau \\right)} - Ir \\Psi_{\\theta \\theta}^{2} Uu cr h^{2} ps \\sqrt{\\operatorname{pk}^{2}{\\left(\\tau \\right)} + \\operatorname{qk}^{2}{\\left(\\tau \\right)}} \\operatorname{pk}^{5}{\\left(\\tau \\right)} + Ir \\Psi_{\\theta \\theta}^{2} Uu cr h^{2} ps \\sqrt{\\operatorname{pk}^{2}{\\left(\\tau \\right)} + \\operatorname{qk}^{2}{\\left(\\tau \\right)}} \\operatorname{pk}{\\left(\\tau \\right)} \\operatorname{qk}^{4}{\\left(\\tau \\right)} - 4 Ir \\Psi_{\\theta \\theta}^{2} Uu cr h hT ps \\sqrt{\\operatorname{pk}^{2}{\\left(\\tau \\right)} + \\operatorname{qk}^{2}{\\left(\\tau \\right)}} \\operatorname{pk}^{5}{\\left(\\tau \\right)} + 4 Ir \\Psi_{\\theta \\theta}^{2} Uu cr h hT ps \\sqrt{\\operatorname{pk}^{2}{\\left(\\tau \\right)} + \\operatorname{qk}^{2}{\\left(\\tau \\right)}} \\operatorname{pk}{\\left(\\tau \\right)} \\operatorname{qk}^{4}{\\left(\\tau \\right)} - 4 Ir \\Psi_{\\theta \\theta}^{2} Uu cr hT^{2} ps \\sqrt{\\operatorname{pk}^{2}{\\left(\\tau \\right)} + \\operatorname{qk}^{2}{\\left(\\tau \\right)}} \\operatorname{pk}^{5}{\\left(\\tau \\right)} + 4 Ir \\Psi_{\\theta \\theta}^{2} Uu cr hT^{2} ps \\sqrt{\\operatorname{pk}^{2}{\\left(\\tau \\right)} + \\operatorname{qk}^{2}{\\left(\\tau \\right)}} \\operatorname{pk}{\\left(\\tau \\right)} \\operatorname{qk}^{4}{\\left(\\tau \\right)} - Ir \\Psi_{\\theta \\theta}^{2} Vo cUo h^{2} \\operatorname{pk}^{6}{\\left(\\tau \\right)} \\sin{\\left(\\tau \\right)} + Ir \\Psi_{\\theta \\theta}^{2} Vo cUo h^{2} \\operatorname{pk}^{5}{\\left(\\tau \\right)} \\operatorname{qk}{\\left(\\tau \\right)} \\cos{\\left(\\tau \\right)} - 2 Ir \\Psi_{\\theta \\theta}^{2} Vo cUo h^{2} \\operatorname{pk}^{4}{\\left(\\tau \\right)} \\operatorname{qk}^{2}{\\left(\\tau \\right)} \\sin{\\left(\\tau \\right)} + 2 Ir \\Psi_{\\theta \\theta}^{2} Vo cUo h^{2} \\operatorname{pk}^{3}{\\left(\\tau \\right)} \\operatorname{qk}^{3}{\\left(\\tau \\right)} \\cos{\\left(\\tau \\right)} - Ir \\Psi_{\\theta \\theta}^{2} Vo cUo h^{2} \\operatorname{pk}^{2}{\\left(\\tau \\right)} \\operatorname{qk}^{4}{\\left(\\tau \\right)} \\sin{\\left(\\tau \\right)} + Ir \\Psi_{\\theta \\theta}^{2} Vo cUo h^{2} \\operatorname{pk}{\\left(\\tau \\right)} \\operatorname{qk}^{5}{\\left(\\tau \\right)} \\cos{\\left(\\tau \\right)} - 4 Ir \\Psi_{\\theta \\theta}^{2} Vo cUo h hT \\operatorname{pk}^{6}{\\left(\\tau \\right)} \\sin{\\left(\\tau \\right)} + 4 Ir \\Psi_{\\theta \\theta}^{2} Vo cUo h hT \\operatorname{pk}^{5}{\\left(\\tau \\right)} \\operatorname{qk}{\\left(\\tau \\right)} \\cos{\\left(\\tau \\right)} - 8 Ir \\Psi_{\\theta \\theta}^{2} Vo cUo h hT \\operatorname{pk}^{4}{\\left(\\tau \\right)} \\operatorname{qk}^{2}{\\left(\\tau \\right)} \\sin{\\left(\\tau \\right)} + 8 Ir \\Psi_{\\theta \\theta}^{2} Vo cUo h hT \\operatorname{pk}^{3}{\\left(\\tau \\right)} \\operatorname{qk}^{3}{\\left(\\tau \\right)} \\cos{\\left(\\tau \\right)} - 4 Ir \\Psi_{\\theta \\theta}^{2} Vo cUo h hT \\operatorname{pk}^{2}{\\left(\\tau \\right)} \\operatorname{qk}^{4}{\\left(\\tau \\right)} \\sin{\\left(\\tau \\right)} + 4 Ir \\Psi_{\\theta \\theta}^{2} Vo cUo h hT \\operatorname{pk}{\\left(\\tau \\right)} \\operatorname{qk}^{5}{\\left(\\tau \\right)} \\cos{\\left(\\tau \\right)} - 4 Ir \\Psi_{\\theta \\theta}^{2} Vo cUo hT^{2} \\operatorname{pk}^{6}{\\left(\\tau \\right)} \\sin{\\left(\\tau \\right)} + 4 Ir \\Psi_{\\theta \\theta}^{2} Vo cUo hT^{2} \\operatorname{pk}^{5}{\\left(\\tau \\right)} \\operatorname{qk}{\\left(\\tau \\right)} \\cos{\\left(\\tau \\right)} - 8 Ir \\Psi_{\\theta \\theta}^{2} Vo cUo hT^{2} \\operatorname{pk}^{4}{\\left(\\tau \\right)} \\operatorname{qk}^{2}{\\left(\\tau \\right)} \\sin{\\left(\\tau \\right)} + 8 Ir \\Psi_{\\theta \\theta}^{2} Vo cUo hT^{2} \\operatorname{pk}^{3}{\\left(\\tau \\right)} \\operatorname{qk}^{3}{\\left(\\tau \\right)} \\cos{\\left(\\tau \\right)} - 4 Ir \\Psi_{\\theta \\theta}^{2} Vo cUo hT^{2} \\operatorname{pk}^{2}{\\left(\\tau \\right)} \\operatorname{qk}^{4}{\\left(\\tau \\right)} \\sin{\\left(\\tau \\right)} + 4 Ir \\Psi_{\\theta \\theta}^{2} Vo cUo hT^{2} \\operatorname{pk}{\\left(\\tau \\right)} \\operatorname{qk}^{5}{\\left(\\tau \\right)} \\cos{\\left(\\tau \\right)} - Ir \\Psi_{\\theta \\theta}^{2} h^{2} msT \\omega^{2} \\operatorname{pk}^{7}{\\left(\\tau \\right)} - Ir \\Psi_{\\theta \\theta}^{2} h^{2} msT \\omega^{2} \\operatorname{pk}^{5}{\\left(\\tau \\right)} \\operatorname{qk}^{2}{\\left(\\tau \\right)} + Ir \\Psi_{\\theta \\theta}^{2} h^{2} msT \\omega^{2} \\operatorname{pk}^{3}{\\left(\\tau \\right)} \\operatorname{qk}^{4}{\\left(\\tau \\right)} + Ir \\Psi_{\\theta \\theta}^{2} h^{2} msT \\omega^{2} \\operatorname{pk}{\\left(\\tau \\right)} \\operatorname{qk}^{6}{\\left(\\tau \\right)} - 4 Ir \\Psi_{\\theta \\theta}^{2} h hT msT \\omega^{2} \\operatorname{pk}^{7}{\\left(\\tau \\right)} - 4 Ir \\Psi_{\\theta \\theta}^{2} h hT msT \\omega^{2} \\operatorname{pk}^{5}{\\left(\\tau \\right)} \\operatorname{qk}^{2}{\\left(\\tau \\right)} + 4 Ir \\Psi_{\\theta \\theta}^{2} h hT msT \\omega^{2} \\operatorname{pk}^{3}{\\left(\\tau \\right)} \\operatorname{qk}^{4}{\\left(\\tau \\right)} + 4 Ir \\Psi_{\\theta \\theta}^{2} h hT msT \\omega^{2} \\operatorname{pk}{\\left(\\tau \\right)} \\operatorname{qk}^{6}{\\left(\\tau \\right)} - 4 Ir \\Psi_{\\theta \\theta}^{2} hT^{2} msT \\omega^{2} \\operatorname{pk}^{7}{\\left(\\tau \\right)} - 4 Ir \\Psi_{\\theta \\theta}^{2} hT^{2} msT \\omega^{2} \\operatorname{pk}^{5}{\\left(\\tau \\right)} \\operatorname{qk}^{2}{\\left(\\tau \\right)} + 4 Ir \\Psi_{\\theta \\theta}^{2} hT^{2} msT \\omega^{2} \\operatorname{pk}^{3}{\\left(\\tau \\right)} \\operatorname{qk}^{4}{\\left(\\tau \\right)} + 4 Ir \\Psi_{\\theta \\theta}^{2} hT^{2} msT \\omega^{2} \\operatorname{pk}{\\left(\\tau \\right)} \\operatorname{qk}^{6}{\\left(\\tau \\right)} - 2 \\Psi_{\\theta \\theta} Rk Texte Uu^{2} h mR \\sqrt{\\operatorname{pk}^{2}{\\left(\\tau \\right)} + \\operatorname{qk}^{2}{\\left(\\tau \\right)}} \\operatorname{pk}^{4}{\\left(\\tau \\right)} \\operatorname{qk}{\\left(\\tau \\right)} + 2 \\Psi_{\\theta \\theta} Rk Texte Uu^{2} h mR \\sqrt{\\operatorname{pk}^{2}{\\left(\\tau \\right)} + \\operatorname{qk}^{2}{\\left(\\tau \\right)}} \\operatorname{qk}^{5}{\\left(\\tau \\right)} - 4 \\Psi_{\\theta \\theta} Rk Texte Uu^{2} hT mR \\sqrt{\\operatorname{pk}^{2}{\\left(\\tau \\right)} + \\operatorname{qk}^{2}{\\left(\\tau \\right)}} \\operatorname{pk}^{4}{\\left(\\tau \\right)} \\operatorname{qk}{\\left(\\tau \\right)} + 4 \\Psi_{\\theta \\theta} Rk Texte Uu^{2} hT mR \\sqrt{\\operatorname{pk}^{2}{\\left(\\tau \\right)} + \\operatorname{qk}^{2}{\\left(\\tau \\right)}} \\operatorname{qk}^{5}{\\left(\\tau \\right)} + 2 \\Psi_{\\theta \\theta} Rk Texte h msT \\sqrt{\\operatorname{pk}^{2}{\\left(\\tau \\right)} + \\operatorname{qk}^{2}{\\left(\\tau \\right)}} \\operatorname{pk}^{4}{\\left(\\tau \\right)} \\operatorname{qk}{\\left(\\tau \\right)} + 4 \\Psi_{\\theta \\theta} Rk Texte h msT \\sqrt{\\operatorname{pk}^{2}{\\left(\\tau \\right)} + \\operatorname{qk}^{2}{\\left(\\tau \\right)}} \\operatorname{pk}^{2}{\\left(\\tau \\right)} \\operatorname{qk}^{3}{\\left(\\tau \\right)} + 2 \\Psi_{\\theta \\theta} Rk Texte h msT \\sqrt{\\operatorname{pk}^{2}{\\left(\\tau \\right)} + \\operatorname{qk}^{2}{\\left(\\tau \\right)}} \\operatorname{qk}^{5}{\\left(\\tau \\right)} + 4 \\Psi_{\\theta \\theta} Rk Texte hT msT \\sqrt{\\operatorname{pk}^{2}{\\left(\\tau \\right)} + \\operatorname{qk}^{2}{\\left(\\tau \\right)}} \\operatorname{pk}^{4}{\\left(\\tau \\right)} \\operatorname{qk}{\\left(\\tau \\right)} + 8 \\Psi_{\\theta \\theta} Rk Texte hT msT \\sqrt{\\operatorname{pk}^{2}{\\left(\\tau \\right)} + \\operatorname{qk}^{2}{\\left(\\tau \\right)}} \\operatorname{pk}^{2}{\\left(\\tau \\right)} \\operatorname{qk}^{3}{\\left(\\tau \\right)} + 4 \\Psi_{\\theta \\theta} Rk Texte hT msT \\sqrt{\\operatorname{pk}^{2}{\\left(\\tau \\right)} + \\operatorname{qk}^{2}{\\left(\\tau \\right)}} \\operatorname{qk}^{5}{\\left(\\tau \\right)} + 4 Rk^{2} Uu^{2} Vo cUo mR \\operatorname{pk}^{5}{\\left(\\tau \\right)} \\operatorname{qk}{\\left(\\tau \\right)} \\cos{\\left(\\tau \\right)} - 4 Rk^{2} Uu^{2} Vo cUo mR \\operatorname{pk}^{4}{\\left(\\tau \\right)} \\operatorname{qk}^{2}{\\left(\\tau \\right)} \\sin{\\left(\\tau \\right)} + 8 Rk^{2} Uu^{2} Vo cUo mR \\operatorname{pk}^{3}{\\left(\\tau \\right)} \\operatorname{qk}^{3}{\\left(\\tau \\right)} \\cos{\\left(\\tau \\right)} - 8 Rk^{2} Uu^{2} Vo cUo mR \\operatorname{pk}^{2}{\\left(\\tau \\right)} \\operatorname{qk}^{4}{\\left(\\tau \\right)} \\sin{\\left(\\tau \\right)} + 4 Rk^{2} Uu^{2} Vo cUo mR \\operatorname{pk}{\\left(\\tau \\right)} \\operatorname{qk}^{5}{\\left(\\tau \\right)} \\cos{\\left(\\tau \\right)} - 4 Rk^{2} Uu^{2} Vo cUo mR \\operatorname{qk}^{6}{\\left(\\tau \\right)} \\sin{\\left(\\tau \\right)} - 4 Rk^{2} Uu^{2} cr msT \\operatorname{pk}^{7}{\\left(\\tau \\right)} - 12 Rk^{2} Uu^{2} cr msT \\operatorname{pk}^{5}{\\left(\\tau \\right)} \\operatorname{qk}^{2}{\\left(\\tau \\right)} - 12 Rk^{2} Uu^{2} cr msT \\operatorname{pk}^{3}{\\left(\\tau \\right)} \\operatorname{qk}^{4}{\\left(\\tau \\right)} - 4 Rk^{2} Uu^{2} cr msT \\operatorname{pk}{\\left(\\tau \\right)} \\operatorname{qk}^{6}{\\left(\\tau \\right)} - 4 Rk^{2} Uu cr msT ps \\sqrt{\\operatorname{pk}^{2}{\\left(\\tau \\right)} + \\operatorname{qk}^{2}{\\left(\\tau \\right)}} \\operatorname{pk}^{5}{\\left(\\tau \\right)} - 8 Rk^{2} Uu cr msT ps \\sqrt{\\operatorname{pk}^{2}{\\left(\\tau \\right)} + \\operatorname{qk}^{2}{\\left(\\tau \\right)}} \\operatorname{pk}^{3}{\\left(\\tau \\right)} \\operatorname{qk}^{2}{\\left(\\tau \\right)} - 4 Rk^{2} Uu cr msT ps \\sqrt{\\operatorname{pk}^{2}{\\left(\\tau \\right)} + \\operatorname{qk}^{2}{\\left(\\tau \\right)}} \\operatorname{pk}{\\left(\\tau \\right)} \\operatorname{qk}^{4}{\\left(\\tau \\right)} - 4 Rk^{2} Vo cUo msT \\operatorname{pk}^{6}{\\left(\\tau \\right)} \\sin{\\left(\\tau \\right)} - 12 Rk^{2} Vo cUo msT \\operatorname{pk}^{4}{\\left(\\tau \\right)} \\operatorname{qk}^{2}{\\left(\\tau \\right)} \\sin{\\left(\\tau \\right)} - 12 Rk^{2} Vo cUo msT \\operatorname{pk}^{2}{\\left(\\tau \\right)} \\operatorname{qk}^{4}{\\left(\\tau \\right)} \\sin{\\left(\\tau \\right)} - 4 Rk^{2} Vo cUo msT \\operatorname{qk}^{6}{\\left(\\tau \\right)} \\sin{\\left(\\tau \\right)} - 4 Rk^{2} msT^{2} \\omega^{2} \\operatorname{pk}^{7}{\\left(\\tau \\right)} - 12 Rk^{2} msT^{2} \\omega^{2} \\operatorname{pk}^{5}{\\left(\\tau \\right)} \\operatorname{qk}^{2}{\\left(\\tau \\right)} - 12 Rk^{2} msT^{2} \\omega^{2} \\operatorname{pk}^{3}{\\left(\\tau \\right)} \\operatorname{qk}^{4}{\\left(\\tau \\right)} - 4 Rk^{2} msT^{2} \\omega^{2} \\operatorname{pk}{\\left(\\tau \\right)} \\operatorname{qk}^{6}{\\left(\\tau \\right)}}{\\omega^{2} \\left(Ir \\Psi_{\\theta \\theta}^{2} Uu^{2} h^{2} mR \\operatorname{pk}^{6}{\\left(\\tau \\right)} - Ir \\Psi_{\\theta \\theta}^{2} Uu^{2} h^{2} mR \\operatorname{pk}^{4}{\\left(\\tau \\right)} \\operatorname{qk}^{2}{\\left(\\tau \\right)} - Ir \\Psi_{\\theta \\theta}^{2} Uu^{2} h^{2} mR \\operatorname{pk}^{2}{\\left(\\tau \\right)} \\operatorname{qk}^{4}{\\left(\\tau \\right)} + Ir \\Psi_{\\theta \\theta}^{2} Uu^{2} h^{2} mR \\operatorname{qk}^{6}{\\left(\\tau \\right)} + 4 Ir \\Psi_{\\theta \\theta}^{2} Uu^{2} h hT mR \\operatorname{pk}^{6}{\\left(\\tau \\right)} - 4 Ir \\Psi_{\\theta \\theta}^{2} Uu^{2} h hT mR \\operatorname{pk}^{4}{\\left(\\tau \\right)} \\operatorname{qk}^{2}{\\left(\\tau \\right)} - 4 Ir \\Psi_{\\theta \\theta}^{2} Uu^{2} h hT mR \\operatorname{pk}^{2}{\\left(\\tau \\right)} \\operatorname{qk}^{4}{\\left(\\tau \\right)} + 4 Ir \\Psi_{\\theta \\theta}^{2} Uu^{2} h hT mR \\operatorname{qk}^{6}{\\left(\\tau \\right)} + 4 Ir \\Psi_{\\theta \\theta}^{2} Uu^{2} hT^{2} mR \\operatorname{pk}^{6}{\\left(\\tau \\right)} - 4 Ir \\Psi_{\\theta \\theta}^{2} Uu^{2} hT^{2} mR \\operatorname{pk}^{4}{\\left(\\tau \\right)} \\operatorname{qk}^{2}{\\left(\\tau \\right)} - 4 Ir \\Psi_{\\theta \\theta}^{2} Uu^{2} hT^{2} mR \\operatorname{pk}^{2}{\\left(\\tau \\right)} \\operatorname{qk}^{4}{\\left(\\tau \\right)} + 4 Ir \\Psi_{\\theta \\theta}^{2} Uu^{2} hT^{2} mR \\operatorname{qk}^{6}{\\left(\\tau \\right)} + Ir \\Psi_{\\theta \\theta}^{2} h^{2} msT \\operatorname{pk}^{6}{\\left(\\tau \\right)} + 3 Ir \\Psi_{\\theta \\theta}^{2} h^{2} msT \\operatorname{pk}^{4}{\\left(\\tau \\right)} \\operatorname{qk}^{2}{\\left(\\tau \\right)} + 3 Ir \\Psi_{\\theta \\theta}^{2} h^{2} msT \\operatorname{pk}^{2}{\\left(\\tau \\right)} \\operatorname{qk}^{4}{\\left(\\tau \\right)} + Ir \\Psi_{\\theta \\theta}^{2} h^{2} msT \\operatorname{qk}^{6}{\\left(\\tau \\right)} + 4 Ir \\Psi_{\\theta \\theta}^{2} h hT msT \\operatorname{pk}^{6}{\\left(\\tau \\right)} + 12 Ir \\Psi_{\\theta \\theta}^{2} h hT msT \\operatorname{pk}^{4}{\\left(\\tau \\right)} \\operatorname{qk}^{2}{\\left(\\tau \\right)} + 12 Ir \\Psi_{\\theta \\theta}^{2} h hT msT \\operatorname{pk}^{2}{\\left(\\tau \\right)} \\operatorname{qk}^{4}{\\left(\\tau \\right)} + 4 Ir \\Psi_{\\theta \\theta}^{2} h hT msT \\operatorname{qk}^{6}{\\left(\\tau \\right)} + 4 Ir \\Psi_{\\theta \\theta}^{2} hT^{2} msT \\operatorname{pk}^{6}{\\left(\\tau \\right)} + 12 Ir \\Psi_{\\theta \\theta}^{2} hT^{2} msT \\operatorname{pk}^{4}{\\left(\\tau \\right)} \\operatorname{qk}^{2}{\\left(\\tau \\right)} + 12 Ir \\Psi_{\\theta \\theta}^{2} hT^{2} msT \\operatorname{pk}^{2}{\\left(\\tau \\right)} \\operatorname{qk}^{4}{\\left(\\tau \\right)} + 4 Ir \\Psi_{\\theta \\theta}^{2} hT^{2} msT \\operatorname{qk}^{6}{\\left(\\tau \\right)} + 4 Rk^{2} Uu^{2} mR msT \\operatorname{pk}^{6}{\\left(\\tau \\right)} + 12 Rk^{2} Uu^{2} mR msT \\operatorname{pk}^{4}{\\left(\\tau \\right)} \\operatorname{qk}^{2}{\\left(\\tau \\right)} + 12 Rk^{2} Uu^{2} mR msT \\operatorname{pk}^{2}{\\left(\\tau \\right)} \\operatorname{qk}^{4}{\\left(\\tau \\right)} + 4 Rk^{2} Uu^{2} mR msT \\operatorname{qk}^{6}{\\left(\\tau \\right)} + 4 Rk^{2} msT^{2} \\operatorname{pk}^{6}{\\left(\\tau \\right)} + 12 Rk^{2} msT^{2} \\operatorname{pk}^{4}{\\left(\\tau \\right)} \\operatorname{qk}^{2}{\\left(\\tau \\right)} + 12 Rk^{2} msT^{2} \\operatorname{pk}^{2}{\\left(\\tau \\right)} \\operatorname{qk}^{4}{\\left(\\tau \\right)} + 4 Rk^{2} msT^{2} \\operatorname{qk}^{6}{\\left(\\tau \\right)}\\right)}$"
      ],
      "text/plain": [
       "(-Ir*Psi_theta_theta**2*Uu**2*cr*h**2*pk(tau)**7 - Ir*Psi_theta_theta**2*Uu**2*cr*h**2*pk(tau)**5*qk(tau)**2 + Ir*Psi_theta_theta**2*Uu**2*cr*h**2*pk(tau)**3*qk(tau)**4 + Ir*Psi_theta_theta**2*Uu**2*cr*h**2*pk(tau)*qk(tau)**6 - 4*Ir*Psi_theta_theta**2*Uu**2*cr*h*hT*pk(tau)**7 - 4*Ir*Psi_theta_theta**2*Uu**2*cr*h*hT*pk(tau)**5*qk(tau)**2 + 4*Ir*Psi_theta_theta**2*Uu**2*cr*h*hT*pk(tau)**3*qk(tau)**4 + 4*Ir*Psi_theta_theta**2*Uu**2*cr*h*hT*pk(tau)*qk(tau)**6 - 4*Ir*Psi_theta_theta**2*Uu**2*cr*hT**2*pk(tau)**7 - 4*Ir*Psi_theta_theta**2*Uu**2*cr*hT**2*pk(tau)**5*qk(tau)**2 + 4*Ir*Psi_theta_theta**2*Uu**2*cr*hT**2*pk(tau)**3*qk(tau)**4 + 4*Ir*Psi_theta_theta**2*Uu**2*cr*hT**2*pk(tau)*qk(tau)**6 - Ir*Psi_theta_theta**2*Uu*cr*h**2*ps*sqrt(pk(tau)**2 + qk(tau)**2)*pk(tau)**5 + Ir*Psi_theta_theta**2*Uu*cr*h**2*ps*sqrt(pk(tau)**2 + qk(tau)**2)*pk(tau)*qk(tau)**4 - 4*Ir*Psi_theta_theta**2*Uu*cr*h*hT*ps*sqrt(pk(tau)**2 + qk(tau)**2)*pk(tau)**5 + 4*Ir*Psi_theta_theta**2*Uu*cr*h*hT*ps*sqrt(pk(tau)**2 + qk(tau)**2)*pk(tau)*qk(tau)**4 - 4*Ir*Psi_theta_theta**2*Uu*cr*hT**2*ps*sqrt(pk(tau)**2 + qk(tau)**2)*pk(tau)**5 + 4*Ir*Psi_theta_theta**2*Uu*cr*hT**2*ps*sqrt(pk(tau)**2 + qk(tau)**2)*pk(tau)*qk(tau)**4 - Ir*Psi_theta_theta**2*Vo*cUo*h**2*pk(tau)**6*sin(tau) + Ir*Psi_theta_theta**2*Vo*cUo*h**2*pk(tau)**5*qk(tau)*cos(tau) - 2*Ir*Psi_theta_theta**2*Vo*cUo*h**2*pk(tau)**4*qk(tau)**2*sin(tau) + 2*Ir*Psi_theta_theta**2*Vo*cUo*h**2*pk(tau)**3*qk(tau)**3*cos(tau) - Ir*Psi_theta_theta**2*Vo*cUo*h**2*pk(tau)**2*qk(tau)**4*sin(tau) + Ir*Psi_theta_theta**2*Vo*cUo*h**2*pk(tau)*qk(tau)**5*cos(tau) - 4*Ir*Psi_theta_theta**2*Vo*cUo*h*hT*pk(tau)**6*sin(tau) + 4*Ir*Psi_theta_theta**2*Vo*cUo*h*hT*pk(tau)**5*qk(tau)*cos(tau) - 8*Ir*Psi_theta_theta**2*Vo*cUo*h*hT*pk(tau)**4*qk(tau)**2*sin(tau) + 8*Ir*Psi_theta_theta**2*Vo*cUo*h*hT*pk(tau)**3*qk(tau)**3*cos(tau) - 4*Ir*Psi_theta_theta**2*Vo*cUo*h*hT*pk(tau)**2*qk(tau)**4*sin(tau) + 4*Ir*Psi_theta_theta**2*Vo*cUo*h*hT*pk(tau)*qk(tau)**5*cos(tau) - 4*Ir*Psi_theta_theta**2*Vo*cUo*hT**2*pk(tau)**6*sin(tau) + 4*Ir*Psi_theta_theta**2*Vo*cUo*hT**2*pk(tau)**5*qk(tau)*cos(tau) - 8*Ir*Psi_theta_theta**2*Vo*cUo*hT**2*pk(tau)**4*qk(tau)**2*sin(tau) + 8*Ir*Psi_theta_theta**2*Vo*cUo*hT**2*pk(tau)**3*qk(tau)**3*cos(tau) - 4*Ir*Psi_theta_theta**2*Vo*cUo*hT**2*pk(tau)**2*qk(tau)**4*sin(tau) + 4*Ir*Psi_theta_theta**2*Vo*cUo*hT**2*pk(tau)*qk(tau)**5*cos(tau) - Ir*Psi_theta_theta**2*h**2*msT*omega**2*pk(tau)**7 - Ir*Psi_theta_theta**2*h**2*msT*omega**2*pk(tau)**5*qk(tau)**2 + Ir*Psi_theta_theta**2*h**2*msT*omega**2*pk(tau)**3*qk(tau)**4 + Ir*Psi_theta_theta**2*h**2*msT*omega**2*pk(tau)*qk(tau)**6 - 4*Ir*Psi_theta_theta**2*h*hT*msT*omega**2*pk(tau)**7 - 4*Ir*Psi_theta_theta**2*h*hT*msT*omega**2*pk(tau)**5*qk(tau)**2 + 4*Ir*Psi_theta_theta**2*h*hT*msT*omega**2*pk(tau)**3*qk(tau)**4 + 4*Ir*Psi_theta_theta**2*h*hT*msT*omega**2*pk(tau)*qk(tau)**6 - 4*Ir*Psi_theta_theta**2*hT**2*msT*omega**2*pk(tau)**7 - 4*Ir*Psi_theta_theta**2*hT**2*msT*omega**2*pk(tau)**5*qk(tau)**2 + 4*Ir*Psi_theta_theta**2*hT**2*msT*omega**2*pk(tau)**3*qk(tau)**4 + 4*Ir*Psi_theta_theta**2*hT**2*msT*omega**2*pk(tau)*qk(tau)**6 - 2*Psi_theta_theta*Rk*Texte*Uu**2*h*mR*sqrt(pk(tau)**2 + qk(tau)**2)*pk(tau)**4*qk(tau) + 2*Psi_theta_theta*Rk*Texte*Uu**2*h*mR*sqrt(pk(tau)**2 + qk(tau)**2)*qk(tau)**5 - 4*Psi_theta_theta*Rk*Texte*Uu**2*hT*mR*sqrt(pk(tau)**2 + qk(tau)**2)*pk(tau)**4*qk(tau) + 4*Psi_theta_theta*Rk*Texte*Uu**2*hT*mR*sqrt(pk(tau)**2 + qk(tau)**2)*qk(tau)**5 + 2*Psi_theta_theta*Rk*Texte*h*msT*sqrt(pk(tau)**2 + qk(tau)**2)*pk(tau)**4*qk(tau) + 4*Psi_theta_theta*Rk*Texte*h*msT*sqrt(pk(tau)**2 + qk(tau)**2)*pk(tau)**2*qk(tau)**3 + 2*Psi_theta_theta*Rk*Texte*h*msT*sqrt(pk(tau)**2 + qk(tau)**2)*qk(tau)**5 + 4*Psi_theta_theta*Rk*Texte*hT*msT*sqrt(pk(tau)**2 + qk(tau)**2)*pk(tau)**4*qk(tau) + 8*Psi_theta_theta*Rk*Texte*hT*msT*sqrt(pk(tau)**2 + qk(tau)**2)*pk(tau)**2*qk(tau)**3 + 4*Psi_theta_theta*Rk*Texte*hT*msT*sqrt(pk(tau)**2 + qk(tau)**2)*qk(tau)**5 + 4*Rk**2*Uu**2*Vo*cUo*mR*pk(tau)**5*qk(tau)*cos(tau) - 4*Rk**2*Uu**2*Vo*cUo*mR*pk(tau)**4*qk(tau)**2*sin(tau) + 8*Rk**2*Uu**2*Vo*cUo*mR*pk(tau)**3*qk(tau)**3*cos(tau) - 8*Rk**2*Uu**2*Vo*cUo*mR*pk(tau)**2*qk(tau)**4*sin(tau) + 4*Rk**2*Uu**2*Vo*cUo*mR*pk(tau)*qk(tau)**5*cos(tau) - 4*Rk**2*Uu**2*Vo*cUo*mR*qk(tau)**6*sin(tau) - 4*Rk**2*Uu**2*cr*msT*pk(tau)**7 - 12*Rk**2*Uu**2*cr*msT*pk(tau)**5*qk(tau)**2 - 12*Rk**2*Uu**2*cr*msT*pk(tau)**3*qk(tau)**4 - 4*Rk**2*Uu**2*cr*msT*pk(tau)*qk(tau)**6 - 4*Rk**2*Uu*cr*msT*ps*sqrt(pk(tau)**2 + qk(tau)**2)*pk(tau)**5 - 8*Rk**2*Uu*cr*msT*ps*sqrt(pk(tau)**2 + qk(tau)**2)*pk(tau)**3*qk(tau)**2 - 4*Rk**2*Uu*cr*msT*ps*sqrt(pk(tau)**2 + qk(tau)**2)*pk(tau)*qk(tau)**4 - 4*Rk**2*Vo*cUo*msT*pk(tau)**6*sin(tau) - 12*Rk**2*Vo*cUo*msT*pk(tau)**4*qk(tau)**2*sin(tau) - 12*Rk**2*Vo*cUo*msT*pk(tau)**2*qk(tau)**4*sin(tau) - 4*Rk**2*Vo*cUo*msT*qk(tau)**6*sin(tau) - 4*Rk**2*msT**2*omega**2*pk(tau)**7 - 12*Rk**2*msT**2*omega**2*pk(tau)**5*qk(tau)**2 - 12*Rk**2*msT**2*omega**2*pk(tau)**3*qk(tau)**4 - 4*Rk**2*msT**2*omega**2*pk(tau)*qk(tau)**6)/(omega**2*(Ir*Psi_theta_theta**2*Uu**2*h**2*mR*pk(tau)**6 - Ir*Psi_theta_theta**2*Uu**2*h**2*mR*pk(tau)**4*qk(tau)**2 - Ir*Psi_theta_theta**2*Uu**2*h**2*mR*pk(tau)**2*qk(tau)**4 + Ir*Psi_theta_theta**2*Uu**2*h**2*mR*qk(tau)**6 + 4*Ir*Psi_theta_theta**2*Uu**2*h*hT*mR*pk(tau)**6 - 4*Ir*Psi_theta_theta**2*Uu**2*h*hT*mR*pk(tau)**4*qk(tau)**2 - 4*Ir*Psi_theta_theta**2*Uu**2*h*hT*mR*pk(tau)**2*qk(tau)**4 + 4*Ir*Psi_theta_theta**2*Uu**2*h*hT*mR*qk(tau)**6 + 4*Ir*Psi_theta_theta**2*Uu**2*hT**2*mR*pk(tau)**6 - 4*Ir*Psi_theta_theta**2*Uu**2*hT**2*mR*pk(tau)**4*qk(tau)**2 - 4*Ir*Psi_theta_theta**2*Uu**2*hT**2*mR*pk(tau)**2*qk(tau)**4 + 4*Ir*Psi_theta_theta**2*Uu**2*hT**2*mR*qk(tau)**6 + Ir*Psi_theta_theta**2*h**2*msT*pk(tau)**6 + 3*Ir*Psi_theta_theta**2*h**2*msT*pk(tau)**4*qk(tau)**2 + 3*Ir*Psi_theta_theta**2*h**2*msT*pk(tau)**2*qk(tau)**4 + Ir*Psi_theta_theta**2*h**2*msT*qk(tau)**6 + 4*Ir*Psi_theta_theta**2*h*hT*msT*pk(tau)**6 + 12*Ir*Psi_theta_theta**2*h*hT*msT*pk(tau)**4*qk(tau)**2 + 12*Ir*Psi_theta_theta**2*h*hT*msT*pk(tau)**2*qk(tau)**4 + 4*Ir*Psi_theta_theta**2*h*hT*msT*qk(tau)**6 + 4*Ir*Psi_theta_theta**2*hT**2*msT*pk(tau)**6 + 12*Ir*Psi_theta_theta**2*hT**2*msT*pk(tau)**4*qk(tau)**2 + 12*Ir*Psi_theta_theta**2*hT**2*msT*pk(tau)**2*qk(tau)**4 + 4*Ir*Psi_theta_theta**2*hT**2*msT*qk(tau)**6 + 4*Rk**2*Uu**2*mR*msT*pk(tau)**6 + 12*Rk**2*Uu**2*mR*msT*pk(tau)**4*qk(tau)**2 + 12*Rk**2*Uu**2*mR*msT*pk(tau)**2*qk(tau)**4 + 4*Rk**2*Uu**2*mR*msT*qk(tau)**6 + 4*Rk**2*msT**2*pk(tau)**6 + 12*Rk**2*msT**2*pk(tau)**4*qk(tau)**2 + 12*Rk**2*msT**2*pk(tau)**2*qk(tau)**4 + 4*Rk**2*msT**2*qk(tau)**6))"
      ]
     },
     "execution_count": 25,
     "metadata": {},
     "output_type": "execute_result"
    }
   ],
   "source": [
    "soluEqP"
   ]
  },
  {
   "cell_type": "code",
   "execution_count": 24,
   "metadata": {
    "collapsed": true
   },
   "outputs": [],
   "source": []
  },
  {
   "cell_type": "code",
   "execution_count": 27,
   "metadata": {},
   "outputs": [
    {
     "data": {
      "text/plain": [
       "[]"
      ]
     },
     "execution_count": 27,
     "metadata": {},
     "output_type": "execute_result"
    }
   ],
   "source": []
  },
  {
   "cell_type": "code",
   "execution_count": 28,
   "metadata": {},
   "outputs": [
    {
     "data": {
      "text/latex": [
       "$\\displaystyle \\frac{- Ir \\Psi_{\\theta \\theta}^{2} Uu^{2} cr h^{2} \\operatorname{pk}^{7}{\\left(\\tau \\right)} - Ir \\Psi_{\\theta \\theta}^{2} Uu^{2} cr h^{2} \\operatorname{pk}^{5}{\\left(\\tau \\right)} \\operatorname{qk}^{2}{\\left(\\tau \\right)} + Ir \\Psi_{\\theta \\theta}^{2} Uu^{2} cr h^{2} \\operatorname{pk}^{3}{\\left(\\tau \\right)} \\operatorname{qk}^{4}{\\left(\\tau \\right)} + Ir \\Psi_{\\theta \\theta}^{2} Uu^{2} cr h^{2} \\operatorname{pk}{\\left(\\tau \\right)} \\operatorname{qk}^{6}{\\left(\\tau \\right)} - 4 Ir \\Psi_{\\theta \\theta}^{2} Uu^{2} cr h hT \\operatorname{pk}^{7}{\\left(\\tau \\right)} - 4 Ir \\Psi_{\\theta \\theta}^{2} Uu^{2} cr h hT \\operatorname{pk}^{5}{\\left(\\tau \\right)} \\operatorname{qk}^{2}{\\left(\\tau \\right)} + 4 Ir \\Psi_{\\theta \\theta}^{2} Uu^{2} cr h hT \\operatorname{pk}^{3}{\\left(\\tau \\right)} \\operatorname{qk}^{4}{\\left(\\tau \\right)} + 4 Ir \\Psi_{\\theta \\theta}^{2} Uu^{2} cr h hT \\operatorname{pk}{\\left(\\tau \\right)} \\operatorname{qk}^{6}{\\left(\\tau \\right)} - 4 Ir \\Psi_{\\theta \\theta}^{2} Uu^{2} cr hT^{2} \\operatorname{pk}^{7}{\\left(\\tau \\right)} - 4 Ir \\Psi_{\\theta \\theta}^{2} Uu^{2} cr hT^{2} \\operatorname{pk}^{5}{\\left(\\tau \\right)} \\operatorname{qk}^{2}{\\left(\\tau \\right)} + 4 Ir \\Psi_{\\theta \\theta}^{2} Uu^{2} cr hT^{2} \\operatorname{pk}^{3}{\\left(\\tau \\right)} \\operatorname{qk}^{4}{\\left(\\tau \\right)} + 4 Ir \\Psi_{\\theta \\theta}^{2} Uu^{2} cr hT^{2} \\operatorname{pk}{\\left(\\tau \\right)} \\operatorname{qk}^{6}{\\left(\\tau \\right)} - Ir \\Psi_{\\theta \\theta}^{2} Uu^{2} h^{2} mR \\omega^{2} \\operatorname{pk}^{5}{\\left(\\tau \\right)} \\left(\\frac{d}{d \\tau} \\operatorname{qk}{\\left(\\tau \\right)}\\right)^{2} + 3 Ir \\Psi_{\\theta \\theta}^{2} Uu^{2} h^{2} mR \\omega^{2} \\operatorname{pk}^{4}{\\left(\\tau \\right)} \\operatorname{qk}{\\left(\\tau \\right)} \\frac{d}{d \\tau} \\operatorname{pk}{\\left(\\tau \\right)} \\frac{d}{d \\tau} \\operatorname{qk}{\\left(\\tau \\right)} - 2 Ir \\Psi_{\\theta \\theta}^{2} Uu^{2} h^{2} mR \\omega^{2} \\operatorname{pk}^{3}{\\left(\\tau \\right)} \\operatorname{qk}^{2}{\\left(\\tau \\right)} \\left(\\frac{d}{d \\tau} \\operatorname{pk}{\\left(\\tau \\right)}\\right)^{2} - 2 Ir \\Psi_{\\theta \\theta}^{2} Uu^{2} h^{2} mR \\omega^{2} \\operatorname{pk}^{2}{\\left(\\tau \\right)} \\operatorname{qk}^{3}{\\left(\\tau \\right)} \\frac{d}{d \\tau} \\operatorname{pk}{\\left(\\tau \\right)} \\frac{d}{d \\tau} \\operatorname{qk}{\\left(\\tau \\right)} + 2 Ir \\Psi_{\\theta \\theta}^{2} Uu^{2} h^{2} mR \\omega^{2} \\operatorname{pk}{\\left(\\tau \\right)} \\operatorname{qk}^{4}{\\left(\\tau \\right)} \\left(\\frac{d}{d \\tau} \\operatorname{pk}{\\left(\\tau \\right)}\\right)^{2} + Ir \\Psi_{\\theta \\theta}^{2} Uu^{2} h^{2} mR \\omega^{2} \\operatorname{pk}{\\left(\\tau \\right)} \\operatorname{qk}^{4}{\\left(\\tau \\right)} \\left(\\frac{d}{d \\tau} \\operatorname{qk}{\\left(\\tau \\right)}\\right)^{2} - Ir \\Psi_{\\theta \\theta}^{2} Uu^{2} h^{2} mR \\omega^{2} \\operatorname{qk}^{5}{\\left(\\tau \\right)} \\frac{d}{d \\tau} \\operatorname{pk}{\\left(\\tau \\right)} \\frac{d}{d \\tau} \\operatorname{qk}{\\left(\\tau \\right)} - 4 Ir \\Psi_{\\theta \\theta}^{2} Uu^{2} h hT mR \\omega^{2} \\operatorname{pk}^{5}{\\left(\\tau \\right)} \\left(\\frac{d}{d \\tau} \\operatorname{qk}{\\left(\\tau \\right)}\\right)^{2} + 12 Ir \\Psi_{\\theta \\theta}^{2} Uu^{2} h hT mR \\omega^{2} \\operatorname{pk}^{4}{\\left(\\tau \\right)} \\operatorname{qk}{\\left(\\tau \\right)} \\frac{d}{d \\tau} \\operatorname{pk}{\\left(\\tau \\right)} \\frac{d}{d \\tau} \\operatorname{qk}{\\left(\\tau \\right)} - 8 Ir \\Psi_{\\theta \\theta}^{2} Uu^{2} h hT mR \\omega^{2} \\operatorname{pk}^{3}{\\left(\\tau \\right)} \\operatorname{qk}^{2}{\\left(\\tau \\right)} \\left(\\frac{d}{d \\tau} \\operatorname{pk}{\\left(\\tau \\right)}\\right)^{2} - 8 Ir \\Psi_{\\theta \\theta}^{2} Uu^{2} h hT mR \\omega^{2} \\operatorname{pk}^{2}{\\left(\\tau \\right)} \\operatorname{qk}^{3}{\\left(\\tau \\right)} \\frac{d}{d \\tau} \\operatorname{pk}{\\left(\\tau \\right)} \\frac{d}{d \\tau} \\operatorname{qk}{\\left(\\tau \\right)} + 8 Ir \\Psi_{\\theta \\theta}^{2} Uu^{2} h hT mR \\omega^{2} \\operatorname{pk}{\\left(\\tau \\right)} \\operatorname{qk}^{4}{\\left(\\tau \\right)} \\left(\\frac{d}{d \\tau} \\operatorname{pk}{\\left(\\tau \\right)}\\right)^{2} + 4 Ir \\Psi_{\\theta \\theta}^{2} Uu^{2} h hT mR \\omega^{2} \\operatorname{pk}{\\left(\\tau \\right)} \\operatorname{qk}^{4}{\\left(\\tau \\right)} \\left(\\frac{d}{d \\tau} \\operatorname{qk}{\\left(\\tau \\right)}\\right)^{2} - 4 Ir \\Psi_{\\theta \\theta}^{2} Uu^{2} h hT mR \\omega^{2} \\operatorname{qk}^{5}{\\left(\\tau \\right)} \\frac{d}{d \\tau} \\operatorname{pk}{\\left(\\tau \\right)} \\frac{d}{d \\tau} \\operatorname{qk}{\\left(\\tau \\right)} - 4 Ir \\Psi_{\\theta \\theta}^{2} Uu^{2} hT^{2} mR \\omega^{2} \\operatorname{pk}^{5}{\\left(\\tau \\right)} \\left(\\frac{d}{d \\tau} \\operatorname{qk}{\\left(\\tau \\right)}\\right)^{2} + 12 Ir \\Psi_{\\theta \\theta}^{2} Uu^{2} hT^{2} mR \\omega^{2} \\operatorname{pk}^{4}{\\left(\\tau \\right)} \\operatorname{qk}{\\left(\\tau \\right)} \\frac{d}{d \\tau} \\operatorname{pk}{\\left(\\tau \\right)} \\frac{d}{d \\tau} \\operatorname{qk}{\\left(\\tau \\right)} - 8 Ir \\Psi_{\\theta \\theta}^{2} Uu^{2} hT^{2} mR \\omega^{2} \\operatorname{pk}^{3}{\\left(\\tau \\right)} \\operatorname{qk}^{2}{\\left(\\tau \\right)} \\left(\\frac{d}{d \\tau} \\operatorname{pk}{\\left(\\tau \\right)}\\right)^{2} - 8 Ir \\Psi_{\\theta \\theta}^{2} Uu^{2} hT^{2} mR \\omega^{2} \\operatorname{pk}^{2}{\\left(\\tau \\right)} \\operatorname{qk}^{3}{\\left(\\tau \\right)} \\frac{d}{d \\tau} \\operatorname{pk}{\\left(\\tau \\right)} \\frac{d}{d \\tau} \\operatorname{qk}{\\left(\\tau \\right)} + 8 Ir \\Psi_{\\theta \\theta}^{2} Uu^{2} hT^{2} mR \\omega^{2} \\operatorname{pk}{\\left(\\tau \\right)} \\operatorname{qk}^{4}{\\left(\\tau \\right)} \\left(\\frac{d}{d \\tau} \\operatorname{pk}{\\left(\\tau \\right)}\\right)^{2} + 4 Ir \\Psi_{\\theta \\theta}^{2} Uu^{2} hT^{2} mR \\omega^{2} \\operatorname{pk}{\\left(\\tau \\right)} \\operatorname{qk}^{4}{\\left(\\tau \\right)} \\left(\\frac{d}{d \\tau} \\operatorname{qk}{\\left(\\tau \\right)}\\right)^{2} - 4 Ir \\Psi_{\\theta \\theta}^{2} Uu^{2} hT^{2} mR \\omega^{2} \\operatorname{qk}^{5}{\\left(\\tau \\right)} \\frac{d}{d \\tau} \\operatorname{pk}{\\left(\\tau \\right)} \\frac{d}{d \\tau} \\operatorname{qk}{\\left(\\tau \\right)} - Ir \\Psi_{\\theta \\theta}^{2} Uu cr h^{2} ps \\sqrt{\\operatorname{pk}^{2}{\\left(\\tau \\right)} + \\operatorname{qk}^{2}{\\left(\\tau \\right)}} \\operatorname{pk}^{5}{\\left(\\tau \\right)} + Ir \\Psi_{\\theta \\theta}^{2} Uu cr h^{2} ps \\sqrt{\\operatorname{pk}^{2}{\\left(\\tau \\right)} + \\operatorname{qk}^{2}{\\left(\\tau \\right)}} \\operatorname{pk}{\\left(\\tau \\right)} \\operatorname{qk}^{4}{\\left(\\tau \\right)} - 4 Ir \\Psi_{\\theta \\theta}^{2} Uu cr h hT ps \\sqrt{\\operatorname{pk}^{2}{\\left(\\tau \\right)} + \\operatorname{qk}^{2}{\\left(\\tau \\right)}} \\operatorname{pk}^{5}{\\left(\\tau \\right)} + 4 Ir \\Psi_{\\theta \\theta}^{2} Uu cr h hT ps \\sqrt{\\operatorname{pk}^{2}{\\left(\\tau \\right)} + \\operatorname{qk}^{2}{\\left(\\tau \\right)}} \\operatorname{pk}{\\left(\\tau \\right)} \\operatorname{qk}^{4}{\\left(\\tau \\right)} - 4 Ir \\Psi_{\\theta \\theta}^{2} Uu cr hT^{2} ps \\sqrt{\\operatorname{pk}^{2}{\\left(\\tau \\right)} + \\operatorname{qk}^{2}{\\left(\\tau \\right)}} \\operatorname{pk}^{5}{\\left(\\tau \\right)} + 4 Ir \\Psi_{\\theta \\theta}^{2} Uu cr hT^{2} ps \\sqrt{\\operatorname{pk}^{2}{\\left(\\tau \\right)} + \\operatorname{qk}^{2}{\\left(\\tau \\right)}} \\operatorname{pk}{\\left(\\tau \\right)} \\operatorname{qk}^{4}{\\left(\\tau \\right)} - Ir \\Psi_{\\theta \\theta}^{2} Vo cUo h^{2} \\operatorname{pk}^{6}{\\left(\\tau \\right)} \\sin{\\left(\\tau \\right)} + Ir \\Psi_{\\theta \\theta}^{2} Vo cUo h^{2} \\operatorname{pk}^{5}{\\left(\\tau \\right)} \\operatorname{qk}{\\left(\\tau \\right)} \\cos{\\left(\\tau \\right)} - 2 Ir \\Psi_{\\theta \\theta}^{2} Vo cUo h^{2} \\operatorname{pk}^{4}{\\left(\\tau \\right)} \\operatorname{qk}^{2}{\\left(\\tau \\right)} \\sin{\\left(\\tau \\right)} + 2 Ir \\Psi_{\\theta \\theta}^{2} Vo cUo h^{2} \\operatorname{pk}^{3}{\\left(\\tau \\right)} \\operatorname{qk}^{3}{\\left(\\tau \\right)} \\cos{\\left(\\tau \\right)} - Ir \\Psi_{\\theta \\theta}^{2} Vo cUo h^{2} \\operatorname{pk}^{2}{\\left(\\tau \\right)} \\operatorname{qk}^{4}{\\left(\\tau \\right)} \\sin{\\left(\\tau \\right)} + Ir \\Psi_{\\theta \\theta}^{2} Vo cUo h^{2} \\operatorname{pk}{\\left(\\tau \\right)} \\operatorname{qk}^{5}{\\left(\\tau \\right)} \\cos{\\left(\\tau \\right)} - 4 Ir \\Psi_{\\theta \\theta}^{2} Vo cUo h hT \\operatorname{pk}^{6}{\\left(\\tau \\right)} \\sin{\\left(\\tau \\right)} + 4 Ir \\Psi_{\\theta \\theta}^{2} Vo cUo h hT \\operatorname{pk}^{5}{\\left(\\tau \\right)} \\operatorname{qk}{\\left(\\tau \\right)} \\cos{\\left(\\tau \\right)} - 8 Ir \\Psi_{\\theta \\theta}^{2} Vo cUo h hT \\operatorname{pk}^{4}{\\left(\\tau \\right)} \\operatorname{qk}^{2}{\\left(\\tau \\right)} \\sin{\\left(\\tau \\right)} + 8 Ir \\Psi_{\\theta \\theta}^{2} Vo cUo h hT \\operatorname{pk}^{3}{\\left(\\tau \\right)} \\operatorname{qk}^{3}{\\left(\\tau \\right)} \\cos{\\left(\\tau \\right)} - 4 Ir \\Psi_{\\theta \\theta}^{2} Vo cUo h hT \\operatorname{pk}^{2}{\\left(\\tau \\right)} \\operatorname{qk}^{4}{\\left(\\tau \\right)} \\sin{\\left(\\tau \\right)} + 4 Ir \\Psi_{\\theta \\theta}^{2} Vo cUo h hT \\operatorname{pk}{\\left(\\tau \\right)} \\operatorname{qk}^{5}{\\left(\\tau \\right)} \\cos{\\left(\\tau \\right)} - 4 Ir \\Psi_{\\theta \\theta}^{2} Vo cUo hT^{2} \\operatorname{pk}^{6}{\\left(\\tau \\right)} \\sin{\\left(\\tau \\right)} + 4 Ir \\Psi_{\\theta \\theta}^{2} Vo cUo hT^{2} \\operatorname{pk}^{5}{\\left(\\tau \\right)} \\operatorname{qk}{\\left(\\tau \\right)} \\cos{\\left(\\tau \\right)} - 8 Ir \\Psi_{\\theta \\theta}^{2} Vo cUo hT^{2} \\operatorname{pk}^{4}{\\left(\\tau \\right)} \\operatorname{qk}^{2}{\\left(\\tau \\right)} \\sin{\\left(\\tau \\right)} + 8 Ir \\Psi_{\\theta \\theta}^{2} Vo cUo hT^{2} \\operatorname{pk}^{3}{\\left(\\tau \\right)} \\operatorname{qk}^{3}{\\left(\\tau \\right)} \\cos{\\left(\\tau \\right)} - 4 Ir \\Psi_{\\theta \\theta}^{2} Vo cUo hT^{2} \\operatorname{pk}^{2}{\\left(\\tau \\right)} \\operatorname{qk}^{4}{\\left(\\tau \\right)} \\sin{\\left(\\tau \\right)} + 4 Ir \\Psi_{\\theta \\theta}^{2} Vo cUo hT^{2} \\operatorname{pk}{\\left(\\tau \\right)} \\operatorname{qk}^{5}{\\left(\\tau \\right)} \\cos{\\left(\\tau \\right)} - Ir \\Psi_{\\theta \\theta}^{2} d h^{2} \\omega \\operatorname{pk}^{6}{\\left(\\tau \\right)} \\frac{d}{d \\tau} \\operatorname{pk}{\\left(\\tau \\right)} + Ir \\Psi_{\\theta \\theta}^{2} d h^{2} \\omega \\operatorname{pk}^{5}{\\left(\\tau \\right)} \\operatorname{qk}{\\left(\\tau \\right)} \\frac{d}{d \\tau} \\operatorname{qk}{\\left(\\tau \\right)} - 2 Ir \\Psi_{\\theta \\theta}^{2} d h^{2} \\omega \\operatorname{pk}^{4}{\\left(\\tau \\right)} \\operatorname{qk}^{2}{\\left(\\tau \\right)} \\frac{d}{d \\tau} \\operatorname{pk}{\\left(\\tau \\right)} + 2 Ir \\Psi_{\\theta \\theta}^{2} d h^{2} \\omega \\operatorname{pk}^{3}{\\left(\\tau \\right)} \\operatorname{qk}^{3}{\\left(\\tau \\right)} \\frac{d}{d \\tau} \\operatorname{qk}{\\left(\\tau \\right)} - Ir \\Psi_{\\theta \\theta}^{2} d h^{2} \\omega \\operatorname{pk}^{2}{\\left(\\tau \\right)} \\operatorname{qk}^{4}{\\left(\\tau \\right)} \\frac{d}{d \\tau} \\operatorname{pk}{\\left(\\tau \\right)} + Ir \\Psi_{\\theta \\theta}^{2} d h^{2} \\omega \\operatorname{pk}{\\left(\\tau \\right)} \\operatorname{qk}^{5}{\\left(\\tau \\right)} \\frac{d}{d \\tau} \\operatorname{qk}{\\left(\\tau \\right)} - 4 Ir \\Psi_{\\theta \\theta}^{2} d h hT \\omega \\operatorname{pk}^{6}{\\left(\\tau \\right)} \\frac{d}{d \\tau} \\operatorname{pk}{\\left(\\tau \\right)} + 4 Ir \\Psi_{\\theta \\theta}^{2} d h hT \\omega \\operatorname{pk}^{5}{\\left(\\tau \\right)} \\operatorname{qk}{\\left(\\tau \\right)} \\frac{d}{d \\tau} \\operatorname{qk}{\\left(\\tau \\right)} - 8 Ir \\Psi_{\\theta \\theta}^{2} d h hT \\omega \\operatorname{pk}^{4}{\\left(\\tau \\right)} \\operatorname{qk}^{2}{\\left(\\tau \\right)} \\frac{d}{d \\tau} \\operatorname{pk}{\\left(\\tau \\right)} + 8 Ir \\Psi_{\\theta \\theta}^{2} d h hT \\omega \\operatorname{pk}^{3}{\\left(\\tau \\right)} \\operatorname{qk}^{3}{\\left(\\tau \\right)} \\frac{d}{d \\tau} \\operatorname{qk}{\\left(\\tau \\right)} - 4 Ir \\Psi_{\\theta \\theta}^{2} d h hT \\omega \\operatorname{pk}^{2}{\\left(\\tau \\right)} \\operatorname{qk}^{4}{\\left(\\tau \\right)} \\frac{d}{d \\tau} \\operatorname{pk}{\\left(\\tau \\right)} + 4 Ir \\Psi_{\\theta \\theta}^{2} d h hT \\omega \\operatorname{pk}{\\left(\\tau \\right)} \\operatorname{qk}^{5}{\\left(\\tau \\right)} \\frac{d}{d \\tau} \\operatorname{qk}{\\left(\\tau \\right)} - 4 Ir \\Psi_{\\theta \\theta}^{2} d hT^{2} \\omega \\operatorname{pk}^{6}{\\left(\\tau \\right)} \\frac{d}{d \\tau} \\operatorname{pk}{\\left(\\tau \\right)} + 4 Ir \\Psi_{\\theta \\theta}^{2} d hT^{2} \\omega \\operatorname{pk}^{5}{\\left(\\tau \\right)} \\operatorname{qk}{\\left(\\tau \\right)} \\frac{d}{d \\tau} \\operatorname{qk}{\\left(\\tau \\right)} - 8 Ir \\Psi_{\\theta \\theta}^{2} d hT^{2} \\omega \\operatorname{pk}^{4}{\\left(\\tau \\right)} \\operatorname{qk}^{2}{\\left(\\tau \\right)} \\frac{d}{d \\tau} \\operatorname{pk}{\\left(\\tau \\right)} + 8 Ir \\Psi_{\\theta \\theta}^{2} d hT^{2} \\omega \\operatorname{pk}^{3}{\\left(\\tau \\right)} \\operatorname{qk}^{3}{\\left(\\tau \\right)} \\frac{d}{d \\tau} \\operatorname{qk}{\\left(\\tau \\right)} - 4 Ir \\Psi_{\\theta \\theta}^{2} d hT^{2} \\omega \\operatorname{pk}^{2}{\\left(\\tau \\right)} \\operatorname{qk}^{4}{\\left(\\tau \\right)} \\frac{d}{d \\tau} \\operatorname{pk}{\\left(\\tau \\right)} + 4 Ir \\Psi_{\\theta \\theta}^{2} d hT^{2} \\omega \\operatorname{pk}{\\left(\\tau \\right)} \\operatorname{qk}^{5}{\\left(\\tau \\right)} \\frac{d}{d \\tau} \\operatorname{qk}{\\left(\\tau \\right)} - Ir \\Psi_{\\theta \\theta}^{2} h^{2} msT \\omega^{2} \\operatorname{pk}^{7}{\\left(\\tau \\right)} - Ir \\Psi_{\\theta \\theta}^{2} h^{2} msT \\omega^{2} \\operatorname{pk}^{5}{\\left(\\tau \\right)} \\operatorname{qk}^{2}{\\left(\\tau \\right)} - Ir \\Psi_{\\theta \\theta}^{2} h^{2} msT \\omega^{2} \\operatorname{pk}^{4}{\\left(\\tau \\right)} \\operatorname{qk}{\\left(\\tau \\right)} \\frac{d}{d \\tau} \\operatorname{pk}{\\left(\\tau \\right)} \\frac{d}{d \\tau} \\operatorname{qk}{\\left(\\tau \\right)} + Ir \\Psi_{\\theta \\theta}^{2} h^{2} msT \\omega^{2} \\operatorname{pk}^{3}{\\left(\\tau \\right)} \\operatorname{qk}^{4}{\\left(\\tau \\right)} + Ir \\Psi_{\\theta \\theta}^{2} h^{2} msT \\omega^{2} \\operatorname{pk}^{3}{\\left(\\tau \\right)} \\operatorname{qk}^{2}{\\left(\\tau \\right)} \\left(\\frac{d}{d \\tau} \\operatorname{pk}{\\left(\\tau \\right)}\\right)^{2} + Ir \\Psi_{\\theta \\theta}^{2} h^{2} msT \\omega^{2} \\operatorname{pk}^{3}{\\left(\\tau \\right)} \\operatorname{qk}^{2}{\\left(\\tau \\right)} \\left(\\frac{d}{d \\tau} \\operatorname{qk}{\\left(\\tau \\right)}\\right)^{2} - 2 Ir \\Psi_{\\theta \\theta}^{2} h^{2} msT \\omega^{2} \\operatorname{pk}^{2}{\\left(\\tau \\right)} \\operatorname{qk}^{3}{\\left(\\tau \\right)} \\frac{d}{d \\tau} \\operatorname{pk}{\\left(\\tau \\right)} \\frac{d}{d \\tau} \\operatorname{qk}{\\left(\\tau \\right)} + Ir \\Psi_{\\theta \\theta}^{2} h^{2} msT \\omega^{2} \\operatorname{pk}{\\left(\\tau \\right)} \\operatorname{qk}^{6}{\\left(\\tau \\right)} + Ir \\Psi_{\\theta \\theta}^{2} h^{2} msT \\omega^{2} \\operatorname{pk}{\\left(\\tau \\right)} \\operatorname{qk}^{4}{\\left(\\tau \\right)} \\left(\\frac{d}{d \\tau} \\operatorname{pk}{\\left(\\tau \\right)}\\right)^{2} + Ir \\Psi_{\\theta \\theta}^{2} h^{2} msT \\omega^{2} \\operatorname{pk}{\\left(\\tau \\right)} \\operatorname{qk}^{4}{\\left(\\tau \\right)} \\left(\\frac{d}{d \\tau} \\operatorname{qk}{\\left(\\tau \\right)}\\right)^{2} - Ir \\Psi_{\\theta \\theta}^{2} h^{2} msT \\omega^{2} \\operatorname{qk}^{5}{\\left(\\tau \\right)} \\frac{d}{d \\tau} \\operatorname{pk}{\\left(\\tau \\right)} \\frac{d}{d \\tau} \\operatorname{qk}{\\left(\\tau \\right)} - 4 Ir \\Psi_{\\theta \\theta}^{2} h hT msT \\omega^{2} \\operatorname{pk}^{7}{\\left(\\tau \\right)} - 4 Ir \\Psi_{\\theta \\theta}^{2} h hT msT \\omega^{2} \\operatorname{pk}^{5}{\\left(\\tau \\right)} \\operatorname{qk}^{2}{\\left(\\tau \\right)} - 4 Ir \\Psi_{\\theta \\theta}^{2} h hT msT \\omega^{2} \\operatorname{pk}^{4}{\\left(\\tau \\right)} \\operatorname{qk}{\\left(\\tau \\right)} \\frac{d}{d \\tau} \\operatorname{pk}{\\left(\\tau \\right)} \\frac{d}{d \\tau} \\operatorname{qk}{\\left(\\tau \\right)} + 4 Ir \\Psi_{\\theta \\theta}^{2} h hT msT \\omega^{2} \\operatorname{pk}^{3}{\\left(\\tau \\right)} \\operatorname{qk}^{4}{\\left(\\tau \\right)} + 4 Ir \\Psi_{\\theta \\theta}^{2} h hT msT \\omega^{2} \\operatorname{pk}^{3}{\\left(\\tau \\right)} \\operatorname{qk}^{2}{\\left(\\tau \\right)} \\left(\\frac{d}{d \\tau} \\operatorname{pk}{\\left(\\tau \\right)}\\right)^{2} + 4 Ir \\Psi_{\\theta \\theta}^{2} h hT msT \\omega^{2} \\operatorname{pk}^{3}{\\left(\\tau \\right)} \\operatorname{qk}^{2}{\\left(\\tau \\right)} \\left(\\frac{d}{d \\tau} \\operatorname{qk}{\\left(\\tau \\right)}\\right)^{2} - 8 Ir \\Psi_{\\theta \\theta}^{2} h hT msT \\omega^{2} \\operatorname{pk}^{2}{\\left(\\tau \\right)} \\operatorname{qk}^{3}{\\left(\\tau \\right)} \\frac{d}{d \\tau} \\operatorname{pk}{\\left(\\tau \\right)} \\frac{d}{d \\tau} \\operatorname{qk}{\\left(\\tau \\right)} + 4 Ir \\Psi_{\\theta \\theta}^{2} h hT msT \\omega^{2} \\operatorname{pk}{\\left(\\tau \\right)} \\operatorname{qk}^{6}{\\left(\\tau \\right)} + 4 Ir \\Psi_{\\theta \\theta}^{2} h hT msT \\omega^{2} \\operatorname{pk}{\\left(\\tau \\right)} \\operatorname{qk}^{4}{\\left(\\tau \\right)} \\left(\\frac{d}{d \\tau} \\operatorname{pk}{\\left(\\tau \\right)}\\right)^{2} + 4 Ir \\Psi_{\\theta \\theta}^{2} h hT msT \\omega^{2} \\operatorname{pk}{\\left(\\tau \\right)} \\operatorname{qk}^{4}{\\left(\\tau \\right)} \\left(\\frac{d}{d \\tau} \\operatorname{qk}{\\left(\\tau \\right)}\\right)^{2} - 4 Ir \\Psi_{\\theta \\theta}^{2} h hT msT \\omega^{2} \\operatorname{qk}^{5}{\\left(\\tau \\right)} \\frac{d}{d \\tau} \\operatorname{pk}{\\left(\\tau \\right)} \\frac{d}{d \\tau} \\operatorname{qk}{\\left(\\tau \\right)} - 4 Ir \\Psi_{\\theta \\theta}^{2} hT^{2} msT \\omega^{2} \\operatorname{pk}^{7}{\\left(\\tau \\right)} - 4 Ir \\Psi_{\\theta \\theta}^{2} hT^{2} msT \\omega^{2} \\operatorname{pk}^{5}{\\left(\\tau \\right)} \\operatorname{qk}^{2}{\\left(\\tau \\right)} - 4 Ir \\Psi_{\\theta \\theta}^{2} hT^{2} msT \\omega^{2} \\operatorname{pk}^{4}{\\left(\\tau \\right)} \\operatorname{qk}{\\left(\\tau \\right)} \\frac{d}{d \\tau} \\operatorname{pk}{\\left(\\tau \\right)} \\frac{d}{d \\tau} \\operatorname{qk}{\\left(\\tau \\right)} + 4 Ir \\Psi_{\\theta \\theta}^{2} hT^{2} msT \\omega^{2} \\operatorname{pk}^{3}{\\left(\\tau \\right)} \\operatorname{qk}^{4}{\\left(\\tau \\right)} + 4 Ir \\Psi_{\\theta \\theta}^{2} hT^{2} msT \\omega^{2} \\operatorname{pk}^{3}{\\left(\\tau \\right)} \\operatorname{qk}^{2}{\\left(\\tau \\right)} \\left(\\frac{d}{d \\tau} \\operatorname{pk}{\\left(\\tau \\right)}\\right)^{2} + 4 Ir \\Psi_{\\theta \\theta}^{2} hT^{2} msT \\omega^{2} \\operatorname{pk}^{3}{\\left(\\tau \\right)} \\operatorname{qk}^{2}{\\left(\\tau \\right)} \\left(\\frac{d}{d \\tau} \\operatorname{qk}{\\left(\\tau \\right)}\\right)^{2} - 8 Ir \\Psi_{\\theta \\theta}^{2} hT^{2} msT \\omega^{2} \\operatorname{pk}^{2}{\\left(\\tau \\right)} \\operatorname{qk}^{3}{\\left(\\tau \\right)} \\frac{d}{d \\tau} \\operatorname{pk}{\\left(\\tau \\right)} \\frac{d}{d \\tau} \\operatorname{qk}{\\left(\\tau \\right)} + 4 Ir \\Psi_{\\theta \\theta}^{2} hT^{2} msT \\omega^{2} \\operatorname{pk}{\\left(\\tau \\right)} \\operatorname{qk}^{6}{\\left(\\tau \\right)} + 4 Ir \\Psi_{\\theta \\theta}^{2} hT^{2} msT \\omega^{2} \\operatorname{pk}{\\left(\\tau \\right)} \\operatorname{qk}^{4}{\\left(\\tau \\right)} \\left(\\frac{d}{d \\tau} \\operatorname{pk}{\\left(\\tau \\right)}\\right)^{2} + 4 Ir \\Psi_{\\theta \\theta}^{2} hT^{2} msT \\omega^{2} \\operatorname{pk}{\\left(\\tau \\right)} \\operatorname{qk}^{4}{\\left(\\tau \\right)} \\left(\\frac{d}{d \\tau} \\operatorname{qk}{\\left(\\tau \\right)}\\right)^{2} - 4 Ir \\Psi_{\\theta \\theta}^{2} hT^{2} msT \\omega^{2} \\operatorname{qk}^{5}{\\left(\\tau \\right)} \\frac{d}{d \\tau} \\operatorname{pk}{\\left(\\tau \\right)} \\frac{d}{d \\tau} \\operatorname{qk}{\\left(\\tau \\right)} - 2 \\Psi_{\\theta \\theta} Rk Texte Uu^{2} h mR \\sqrt{\\operatorname{pk}^{2}{\\left(\\tau \\right)} + \\operatorname{qk}^{2}{\\left(\\tau \\right)}} \\operatorname{pk}^{4}{\\left(\\tau \\right)} \\operatorname{qk}{\\left(\\tau \\right)} + 2 \\Psi_{\\theta \\theta} Rk Texte Uu^{2} h mR \\sqrt{\\operatorname{pk}^{2}{\\left(\\tau \\right)} + \\operatorname{qk}^{2}{\\left(\\tau \\right)}} \\operatorname{qk}^{5}{\\left(\\tau \\right)} - 4 \\Psi_{\\theta \\theta} Rk Texte Uu^{2} hT mR \\sqrt{\\operatorname{pk}^{2}{\\left(\\tau \\right)} + \\operatorname{qk}^{2}{\\left(\\tau \\right)}} \\operatorname{pk}^{4}{\\left(\\tau \\right)} \\operatorname{qk}{\\left(\\tau \\right)} + 4 \\Psi_{\\theta \\theta} Rk Texte Uu^{2} hT mR \\sqrt{\\operatorname{pk}^{2}{\\left(\\tau \\right)} + \\operatorname{qk}^{2}{\\left(\\tau \\right)}} \\operatorname{qk}^{5}{\\left(\\tau \\right)} + 2 \\Psi_{\\theta \\theta} Rk Texte h msT \\sqrt{\\operatorname{pk}^{2}{\\left(\\tau \\right)} + \\operatorname{qk}^{2}{\\left(\\tau \\right)}} \\operatorname{pk}^{4}{\\left(\\tau \\right)} \\operatorname{qk}{\\left(\\tau \\right)} + 4 \\Psi_{\\theta \\theta} Rk Texte h msT \\sqrt{\\operatorname{pk}^{2}{\\left(\\tau \\right)} + \\operatorname{qk}^{2}{\\left(\\tau \\right)}} \\operatorname{pk}^{2}{\\left(\\tau \\right)} \\operatorname{qk}^{3}{\\left(\\tau \\right)} + 2 \\Psi_{\\theta \\theta} Rk Texte h msT \\sqrt{\\operatorname{pk}^{2}{\\left(\\tau \\right)} + \\operatorname{qk}^{2}{\\left(\\tau \\right)}} \\operatorname{qk}^{5}{\\left(\\tau \\right)} + 4 \\Psi_{\\theta \\theta} Rk Texte hT msT \\sqrt{\\operatorname{pk}^{2}{\\left(\\tau \\right)} + \\operatorname{qk}^{2}{\\left(\\tau \\right)}} \\operatorname{pk}^{4}{\\left(\\tau \\right)} \\operatorname{qk}{\\left(\\tau \\right)} + 8 \\Psi_{\\theta \\theta} Rk Texte hT msT \\sqrt{\\operatorname{pk}^{2}{\\left(\\tau \\right)} + \\operatorname{qk}^{2}{\\left(\\tau \\right)}} \\operatorname{pk}^{2}{\\left(\\tau \\right)} \\operatorname{qk}^{3}{\\left(\\tau \\right)} + 4 \\Psi_{\\theta \\theta} Rk Texte hT msT \\sqrt{\\operatorname{pk}^{2}{\\left(\\tau \\right)} + \\operatorname{qk}^{2}{\\left(\\tau \\right)}} \\operatorname{qk}^{5}{\\left(\\tau \\right)} + 4 Rk^{2} Uu^{2} Vo cUo mR \\operatorname{pk}^{5}{\\left(\\tau \\right)} \\operatorname{qk}{\\left(\\tau \\right)} \\cos{\\left(\\tau \\right)} - 4 Rk^{2} Uu^{2} Vo cUo mR \\operatorname{pk}^{4}{\\left(\\tau \\right)} \\operatorname{qk}^{2}{\\left(\\tau \\right)} \\sin{\\left(\\tau \\right)} + 8 Rk^{2} Uu^{2} Vo cUo mR \\operatorname{pk}^{3}{\\left(\\tau \\right)} \\operatorname{qk}^{3}{\\left(\\tau \\right)} \\cos{\\left(\\tau \\right)} - 8 Rk^{2} Uu^{2} Vo cUo mR \\operatorname{pk}^{2}{\\left(\\tau \\right)} \\operatorname{qk}^{4}{\\left(\\tau \\right)} \\sin{\\left(\\tau \\right)} + 4 Rk^{2} Uu^{2} Vo cUo mR \\operatorname{pk}{\\left(\\tau \\right)} \\operatorname{qk}^{5}{\\left(\\tau \\right)} \\cos{\\left(\\tau \\right)} - 4 Rk^{2} Uu^{2} Vo cUo mR \\operatorname{qk}^{6}{\\left(\\tau \\right)} \\sin{\\left(\\tau \\right)} - 4 Rk^{2} Uu^{2} cr msT \\operatorname{pk}^{7}{\\left(\\tau \\right)} - 12 Rk^{2} Uu^{2} cr msT \\operatorname{pk}^{5}{\\left(\\tau \\right)} \\operatorname{qk}^{2}{\\left(\\tau \\right)} - 12 Rk^{2} Uu^{2} cr msT \\operatorname{pk}^{3}{\\left(\\tau \\right)} \\operatorname{qk}^{4}{\\left(\\tau \\right)} - 4 Rk^{2} Uu^{2} cr msT \\operatorname{pk}{\\left(\\tau \\right)} \\operatorname{qk}^{6}{\\left(\\tau \\right)} + 4 Rk^{2} Uu^{2} d mR \\omega \\operatorname{pk}^{5}{\\left(\\tau \\right)} \\operatorname{qk}{\\left(\\tau \\right)} \\frac{d}{d \\tau} \\operatorname{qk}{\\left(\\tau \\right)} - 4 Rk^{2} Uu^{2} d mR \\omega \\operatorname{pk}^{4}{\\left(\\tau \\right)} \\operatorname{qk}^{2}{\\left(\\tau \\right)} \\frac{d}{d \\tau} \\operatorname{pk}{\\left(\\tau \\right)} + 8 Rk^{2} Uu^{2} d mR \\omega \\operatorname{pk}^{3}{\\left(\\tau \\right)} \\operatorname{qk}^{3}{\\left(\\tau \\right)} \\frac{d}{d \\tau} \\operatorname{qk}{\\left(\\tau \\right)} - 8 Rk^{2} Uu^{2} d mR \\omega \\operatorname{pk}^{2}{\\left(\\tau \\right)} \\operatorname{qk}^{4}{\\left(\\tau \\right)} \\frac{d}{d \\tau} \\operatorname{pk}{\\left(\\tau \\right)} + 4 Rk^{2} Uu^{2} d mR \\omega \\operatorname{pk}{\\left(\\tau \\right)} \\operatorname{qk}^{5}{\\left(\\tau \\right)} \\frac{d}{d \\tau} \\operatorname{qk}{\\left(\\tau \\right)} - 4 Rk^{2} Uu^{2} d mR \\omega \\operatorname{qk}^{6}{\\left(\\tau \\right)} \\frac{d}{d \\tau} \\operatorname{pk}{\\left(\\tau \\right)} - 4 Rk^{2} Uu^{2} mR msT \\omega^{2} \\operatorname{pk}^{5}{\\left(\\tau \\right)} \\left(\\frac{d}{d \\tau} \\operatorname{qk}{\\left(\\tau \\right)}\\right)^{2} + 8 Rk^{2} Uu^{2} mR msT \\omega^{2} \\operatorname{pk}^{4}{\\left(\\tau \\right)} \\operatorname{qk}{\\left(\\tau \\right)} \\frac{d}{d \\tau} \\operatorname{pk}{\\left(\\tau \\right)} \\frac{d}{d \\tau} \\operatorname{qk}{\\left(\\tau \\right)} - 4 Rk^{2} Uu^{2} mR msT \\omega^{2} \\operatorname{pk}^{3}{\\left(\\tau \\right)} \\operatorname{qk}^{2}{\\left(\\tau \\right)} \\left(\\frac{d}{d \\tau} \\operatorname{pk}{\\left(\\tau \\right)}\\right)^{2} - 4 Rk^{2} Uu^{2} mR msT \\omega^{2} \\operatorname{pk}^{3}{\\left(\\tau \\right)} \\operatorname{qk}^{2}{\\left(\\tau \\right)} \\left(\\frac{d}{d \\tau} \\operatorname{qk}{\\left(\\tau \\right)}\\right)^{2} + 8 Rk^{2} Uu^{2} mR msT \\omega^{2} \\operatorname{pk}^{2}{\\left(\\tau \\right)} \\operatorname{qk}^{3}{\\left(\\tau \\right)} \\frac{d}{d \\tau} \\operatorname{pk}{\\left(\\tau \\right)} \\frac{d}{d \\tau} \\operatorname{qk}{\\left(\\tau \\right)} - 4 Rk^{2} Uu^{2} mR msT \\omega^{2} \\operatorname{pk}{\\left(\\tau \\right)} \\operatorname{qk}^{4}{\\left(\\tau \\right)} \\left(\\frac{d}{d \\tau} \\operatorname{pk}{\\left(\\tau \\right)}\\right)^{2} - 4 Rk^{2} Uu cr msT ps \\sqrt{\\operatorname{pk}^{2}{\\left(\\tau \\right)} + \\operatorname{qk}^{2}{\\left(\\tau \\right)}} \\operatorname{pk}^{5}{\\left(\\tau \\right)} - 8 Rk^{2} Uu cr msT ps \\sqrt{\\operatorname{pk}^{2}{\\left(\\tau \\right)} + \\operatorname{qk}^{2}{\\left(\\tau \\right)}} \\operatorname{pk}^{3}{\\left(\\tau \\right)} \\operatorname{qk}^{2}{\\left(\\tau \\right)} - 4 Rk^{2} Uu cr msT ps \\sqrt{\\operatorname{pk}^{2}{\\left(\\tau \\right)} + \\operatorname{qk}^{2}{\\left(\\tau \\right)}} \\operatorname{pk}{\\left(\\tau \\right)} \\operatorname{qk}^{4}{\\left(\\tau \\right)} - 4 Rk^{2} Vo cUo msT \\operatorname{pk}^{6}{\\left(\\tau \\right)} \\sin{\\left(\\tau \\right)} - 12 Rk^{2} Vo cUo msT \\operatorname{pk}^{4}{\\left(\\tau \\right)} \\operatorname{qk}^{2}{\\left(\\tau \\right)} \\sin{\\left(\\tau \\right)} - 12 Rk^{2} Vo cUo msT \\operatorname{pk}^{2}{\\left(\\tau \\right)} \\operatorname{qk}^{4}{\\left(\\tau \\right)} \\sin{\\left(\\tau \\right)} - 4 Rk^{2} Vo cUo msT \\operatorname{qk}^{6}{\\left(\\tau \\right)} \\sin{\\left(\\tau \\right)} - 4 Rk^{2} d msT \\omega \\operatorname{pk}^{6}{\\left(\\tau \\right)} \\frac{d}{d \\tau} \\operatorname{pk}{\\left(\\tau \\right)} - 12 Rk^{2} d msT \\omega \\operatorname{pk}^{4}{\\left(\\tau \\right)} \\operatorname{qk}^{2}{\\left(\\tau \\right)} \\frac{d}{d \\tau} \\operatorname{pk}{\\left(\\tau \\right)} - 12 Rk^{2} d msT \\omega \\operatorname{pk}^{2}{\\left(\\tau \\right)} \\operatorname{qk}^{4}{\\left(\\tau \\right)} \\frac{d}{d \\tau} \\operatorname{pk}{\\left(\\tau \\right)} - 4 Rk^{2} d msT \\omega \\operatorname{qk}^{6}{\\left(\\tau \\right)} \\frac{d}{d \\tau} \\operatorname{pk}{\\left(\\tau \\right)} - 4 Rk^{2} msT^{2} \\omega^{2} \\operatorname{pk}^{7}{\\left(\\tau \\right)} - 12 Rk^{2} msT^{2} \\omega^{2} \\operatorname{pk}^{5}{\\left(\\tau \\right)} \\operatorname{qk}^{2}{\\left(\\tau \\right)} - 12 Rk^{2} msT^{2} \\omega^{2} \\operatorname{pk}^{3}{\\left(\\tau \\right)} \\operatorname{qk}^{4}{\\left(\\tau \\right)} - 4 Rk^{2} msT^{2} \\omega^{2} \\operatorname{pk}{\\left(\\tau \\right)} \\operatorname{qk}^{6}{\\left(\\tau \\right)}}{\\omega^{2} \\left(Ir \\Psi_{\\theta \\theta}^{2} Uu^{2} h^{2} mR \\operatorname{pk}^{6}{\\left(\\tau \\right)} - Ir \\Psi_{\\theta \\theta}^{2} Uu^{2} h^{2} mR \\operatorname{pk}^{4}{\\left(\\tau \\right)} \\operatorname{qk}^{2}{\\left(\\tau \\right)} - Ir \\Psi_{\\theta \\theta}^{2} Uu^{2} h^{2} mR \\operatorname{pk}^{2}{\\left(\\tau \\right)} \\operatorname{qk}^{4}{\\left(\\tau \\right)} + Ir \\Psi_{\\theta \\theta}^{2} Uu^{2} h^{2} mR \\operatorname{qk}^{6}{\\left(\\tau \\right)} + 4 Ir \\Psi_{\\theta \\theta}^{2} Uu^{2} h hT mR \\operatorname{pk}^{6}{\\left(\\tau \\right)} - 4 Ir \\Psi_{\\theta \\theta}^{2} Uu^{2} h hT mR \\operatorname{pk}^{4}{\\left(\\tau \\right)} \\operatorname{qk}^{2}{\\left(\\tau \\right)} - 4 Ir \\Psi_{\\theta \\theta}^{2} Uu^{2} h hT mR \\operatorname{pk}^{2}{\\left(\\tau \\right)} \\operatorname{qk}^{4}{\\left(\\tau \\right)} + 4 Ir \\Psi_{\\theta \\theta}^{2} Uu^{2} h hT mR \\operatorname{qk}^{6}{\\left(\\tau \\right)} + 4 Ir \\Psi_{\\theta \\theta}^{2} Uu^{2} hT^{2} mR \\operatorname{pk}^{6}{\\left(\\tau \\right)} - 4 Ir \\Psi_{\\theta \\theta}^{2} Uu^{2} hT^{2} mR \\operatorname{pk}^{4}{\\left(\\tau \\right)} \\operatorname{qk}^{2}{\\left(\\tau \\right)} - 4 Ir \\Psi_{\\theta \\theta}^{2} Uu^{2} hT^{2} mR \\operatorname{pk}^{2}{\\left(\\tau \\right)} \\operatorname{qk}^{4}{\\left(\\tau \\right)} + 4 Ir \\Psi_{\\theta \\theta}^{2} Uu^{2} hT^{2} mR \\operatorname{qk}^{6}{\\left(\\tau \\right)} + Ir \\Psi_{\\theta \\theta}^{2} h^{2} msT \\operatorname{pk}^{6}{\\left(\\tau \\right)} + 3 Ir \\Psi_{\\theta \\theta}^{2} h^{2} msT \\operatorname{pk}^{4}{\\left(\\tau \\right)} \\operatorname{qk}^{2}{\\left(\\tau \\right)} + 3 Ir \\Psi_{\\theta \\theta}^{2} h^{2} msT \\operatorname{pk}^{2}{\\left(\\tau \\right)} \\operatorname{qk}^{4}{\\left(\\tau \\right)} + Ir \\Psi_{\\theta \\theta}^{2} h^{2} msT \\operatorname{qk}^{6}{\\left(\\tau \\right)} + 4 Ir \\Psi_{\\theta \\theta}^{2} h hT msT \\operatorname{pk}^{6}{\\left(\\tau \\right)} + 12 Ir \\Psi_{\\theta \\theta}^{2} h hT msT \\operatorname{pk}^{4}{\\left(\\tau \\right)} \\operatorname{qk}^{2}{\\left(\\tau \\right)} + 12 Ir \\Psi_{\\theta \\theta}^{2} h hT msT \\operatorname{pk}^{2}{\\left(\\tau \\right)} \\operatorname{qk}^{4}{\\left(\\tau \\right)} + 4 Ir \\Psi_{\\theta \\theta}^{2} h hT msT \\operatorname{qk}^{6}{\\left(\\tau \\right)} + 4 Ir \\Psi_{\\theta \\theta}^{2} hT^{2} msT \\operatorname{pk}^{6}{\\left(\\tau \\right)} + 12 Ir \\Psi_{\\theta \\theta}^{2} hT^{2} msT \\operatorname{pk}^{4}{\\left(\\tau \\right)} \\operatorname{qk}^{2}{\\left(\\tau \\right)} + 12 Ir \\Psi_{\\theta \\theta}^{2} hT^{2} msT \\operatorname{pk}^{2}{\\left(\\tau \\right)} \\operatorname{qk}^{4}{\\left(\\tau \\right)} + 4 Ir \\Psi_{\\theta \\theta}^{2} hT^{2} msT \\operatorname{qk}^{6}{\\left(\\tau \\right)} + 4 Rk^{2} Uu^{2} mR msT \\operatorname{pk}^{6}{\\left(\\tau \\right)} + 12 Rk^{2} Uu^{2} mR msT \\operatorname{pk}^{4}{\\left(\\tau \\right)} \\operatorname{qk}^{2}{\\left(\\tau \\right)} + 12 Rk^{2} Uu^{2} mR msT \\operatorname{pk}^{2}{\\left(\\tau \\right)} \\operatorname{qk}^{4}{\\left(\\tau \\right)} + 4 Rk^{2} Uu^{2} mR msT \\operatorname{qk}^{6}{\\left(\\tau \\right)} + 4 Rk^{2} msT^{2} \\operatorname{pk}^{6}{\\left(\\tau \\right)} + 12 Rk^{2} msT^{2} \\operatorname{pk}^{4}{\\left(\\tau \\right)} \\operatorname{qk}^{2}{\\left(\\tau \\right)} + 12 Rk^{2} msT^{2} \\operatorname{pk}^{2}{\\left(\\tau \\right)} \\operatorname{qk}^{4}{\\left(\\tau \\right)} + 4 Rk^{2} msT^{2} \\operatorname{qk}^{6}{\\left(\\tau \\right)}\\right)}$"
      ],
      "text/plain": [
       "(-Ir*Psi_theta_theta**2*Uu**2*cr*h**2*pk(tau)**7 - Ir*Psi_theta_theta**2*Uu**2*cr*h**2*pk(tau)**5*qk(tau)**2 + Ir*Psi_theta_theta**2*Uu**2*cr*h**2*pk(tau)**3*qk(tau)**4 + Ir*Psi_theta_theta**2*Uu**2*cr*h**2*pk(tau)*qk(tau)**6 - 4*Ir*Psi_theta_theta**2*Uu**2*cr*h*hT*pk(tau)**7 - 4*Ir*Psi_theta_theta**2*Uu**2*cr*h*hT*pk(tau)**5*qk(tau)**2 + 4*Ir*Psi_theta_theta**2*Uu**2*cr*h*hT*pk(tau)**3*qk(tau)**4 + 4*Ir*Psi_theta_theta**2*Uu**2*cr*h*hT*pk(tau)*qk(tau)**6 - 4*Ir*Psi_theta_theta**2*Uu**2*cr*hT**2*pk(tau)**7 - 4*Ir*Psi_theta_theta**2*Uu**2*cr*hT**2*pk(tau)**5*qk(tau)**2 + 4*Ir*Psi_theta_theta**2*Uu**2*cr*hT**2*pk(tau)**3*qk(tau)**4 + 4*Ir*Psi_theta_theta**2*Uu**2*cr*hT**2*pk(tau)*qk(tau)**6 - Ir*Psi_theta_theta**2*Uu**2*h**2*mR*omega**2*pk(tau)**5*Derivative(qk(tau), tau)**2 + 3*Ir*Psi_theta_theta**2*Uu**2*h**2*mR*omega**2*pk(tau)**4*qk(tau)*Derivative(pk(tau), tau)*Derivative(qk(tau), tau) - 2*Ir*Psi_theta_theta**2*Uu**2*h**2*mR*omega**2*pk(tau)**3*qk(tau)**2*Derivative(pk(tau), tau)**2 - 2*Ir*Psi_theta_theta**2*Uu**2*h**2*mR*omega**2*pk(tau)**2*qk(tau)**3*Derivative(pk(tau), tau)*Derivative(qk(tau), tau) + 2*Ir*Psi_theta_theta**2*Uu**2*h**2*mR*omega**2*pk(tau)*qk(tau)**4*Derivative(pk(tau), tau)**2 + Ir*Psi_theta_theta**2*Uu**2*h**2*mR*omega**2*pk(tau)*qk(tau)**4*Derivative(qk(tau), tau)**2 - Ir*Psi_theta_theta**2*Uu**2*h**2*mR*omega**2*qk(tau)**5*Derivative(pk(tau), tau)*Derivative(qk(tau), tau) - 4*Ir*Psi_theta_theta**2*Uu**2*h*hT*mR*omega**2*pk(tau)**5*Derivative(qk(tau), tau)**2 + 12*Ir*Psi_theta_theta**2*Uu**2*h*hT*mR*omega**2*pk(tau)**4*qk(tau)*Derivative(pk(tau), tau)*Derivative(qk(tau), tau) - 8*Ir*Psi_theta_theta**2*Uu**2*h*hT*mR*omega**2*pk(tau)**3*qk(tau)**2*Derivative(pk(tau), tau)**2 - 8*Ir*Psi_theta_theta**2*Uu**2*h*hT*mR*omega**2*pk(tau)**2*qk(tau)**3*Derivative(pk(tau), tau)*Derivative(qk(tau), tau) + 8*Ir*Psi_theta_theta**2*Uu**2*h*hT*mR*omega**2*pk(tau)*qk(tau)**4*Derivative(pk(tau), tau)**2 + 4*Ir*Psi_theta_theta**2*Uu**2*h*hT*mR*omega**2*pk(tau)*qk(tau)**4*Derivative(qk(tau), tau)**2 - 4*Ir*Psi_theta_theta**2*Uu**2*h*hT*mR*omega**2*qk(tau)**5*Derivative(pk(tau), tau)*Derivative(qk(tau), tau) - 4*Ir*Psi_theta_theta**2*Uu**2*hT**2*mR*omega**2*pk(tau)**5*Derivative(qk(tau), tau)**2 + 12*Ir*Psi_theta_theta**2*Uu**2*hT**2*mR*omega**2*pk(tau)**4*qk(tau)*Derivative(pk(tau), tau)*Derivative(qk(tau), tau) - 8*Ir*Psi_theta_theta**2*Uu**2*hT**2*mR*omega**2*pk(tau)**3*qk(tau)**2*Derivative(pk(tau), tau)**2 - 8*Ir*Psi_theta_theta**2*Uu**2*hT**2*mR*omega**2*pk(tau)**2*qk(tau)**3*Derivative(pk(tau), tau)*Derivative(qk(tau), tau) + 8*Ir*Psi_theta_theta**2*Uu**2*hT**2*mR*omega**2*pk(tau)*qk(tau)**4*Derivative(pk(tau), tau)**2 + 4*Ir*Psi_theta_theta**2*Uu**2*hT**2*mR*omega**2*pk(tau)*qk(tau)**4*Derivative(qk(tau), tau)**2 - 4*Ir*Psi_theta_theta**2*Uu**2*hT**2*mR*omega**2*qk(tau)**5*Derivative(pk(tau), tau)*Derivative(qk(tau), tau) - Ir*Psi_theta_theta**2*Uu*cr*h**2*ps*sqrt(pk(tau)**2 + qk(tau)**2)*pk(tau)**5 + Ir*Psi_theta_theta**2*Uu*cr*h**2*ps*sqrt(pk(tau)**2 + qk(tau)**2)*pk(tau)*qk(tau)**4 - 4*Ir*Psi_theta_theta**2*Uu*cr*h*hT*ps*sqrt(pk(tau)**2 + qk(tau)**2)*pk(tau)**5 + 4*Ir*Psi_theta_theta**2*Uu*cr*h*hT*ps*sqrt(pk(tau)**2 + qk(tau)**2)*pk(tau)*qk(tau)**4 - 4*Ir*Psi_theta_theta**2*Uu*cr*hT**2*ps*sqrt(pk(tau)**2 + qk(tau)**2)*pk(tau)**5 + 4*Ir*Psi_theta_theta**2*Uu*cr*hT**2*ps*sqrt(pk(tau)**2 + qk(tau)**2)*pk(tau)*qk(tau)**4 - Ir*Psi_theta_theta**2*Vo*cUo*h**2*pk(tau)**6*sin(tau) + Ir*Psi_theta_theta**2*Vo*cUo*h**2*pk(tau)**5*qk(tau)*cos(tau) - 2*Ir*Psi_theta_theta**2*Vo*cUo*h**2*pk(tau)**4*qk(tau)**2*sin(tau) + 2*Ir*Psi_theta_theta**2*Vo*cUo*h**2*pk(tau)**3*qk(tau)**3*cos(tau) - Ir*Psi_theta_theta**2*Vo*cUo*h**2*pk(tau)**2*qk(tau)**4*sin(tau) + Ir*Psi_theta_theta**2*Vo*cUo*h**2*pk(tau)*qk(tau)**5*cos(tau) - 4*Ir*Psi_theta_theta**2*Vo*cUo*h*hT*pk(tau)**6*sin(tau) + 4*Ir*Psi_theta_theta**2*Vo*cUo*h*hT*pk(tau)**5*qk(tau)*cos(tau) - 8*Ir*Psi_theta_theta**2*Vo*cUo*h*hT*pk(tau)**4*qk(tau)**2*sin(tau) + 8*Ir*Psi_theta_theta**2*Vo*cUo*h*hT*pk(tau)**3*qk(tau)**3*cos(tau) - 4*Ir*Psi_theta_theta**2*Vo*cUo*h*hT*pk(tau)**2*qk(tau)**4*sin(tau) + 4*Ir*Psi_theta_theta**2*Vo*cUo*h*hT*pk(tau)*qk(tau)**5*cos(tau) - 4*Ir*Psi_theta_theta**2*Vo*cUo*hT**2*pk(tau)**6*sin(tau) + 4*Ir*Psi_theta_theta**2*Vo*cUo*hT**2*pk(tau)**5*qk(tau)*cos(tau) - 8*Ir*Psi_theta_theta**2*Vo*cUo*hT**2*pk(tau)**4*qk(tau)**2*sin(tau) + 8*Ir*Psi_theta_theta**2*Vo*cUo*hT**2*pk(tau)**3*qk(tau)**3*cos(tau) - 4*Ir*Psi_theta_theta**2*Vo*cUo*hT**2*pk(tau)**2*qk(tau)**4*sin(tau) + 4*Ir*Psi_theta_theta**2*Vo*cUo*hT**2*pk(tau)*qk(tau)**5*cos(tau) - Ir*Psi_theta_theta**2*d*h**2*omega*pk(tau)**6*Derivative(pk(tau), tau) + Ir*Psi_theta_theta**2*d*h**2*omega*pk(tau)**5*qk(tau)*Derivative(qk(tau), tau) - 2*Ir*Psi_theta_theta**2*d*h**2*omega*pk(tau)**4*qk(tau)**2*Derivative(pk(tau), tau) + 2*Ir*Psi_theta_theta**2*d*h**2*omega*pk(tau)**3*qk(tau)**3*Derivative(qk(tau), tau) - Ir*Psi_theta_theta**2*d*h**2*omega*pk(tau)**2*qk(tau)**4*Derivative(pk(tau), tau) + Ir*Psi_theta_theta**2*d*h**2*omega*pk(tau)*qk(tau)**5*Derivative(qk(tau), tau) - 4*Ir*Psi_theta_theta**2*d*h*hT*omega*pk(tau)**6*Derivative(pk(tau), tau) + 4*Ir*Psi_theta_theta**2*d*h*hT*omega*pk(tau)**5*qk(tau)*Derivative(qk(tau), tau) - 8*Ir*Psi_theta_theta**2*d*h*hT*omega*pk(tau)**4*qk(tau)**2*Derivative(pk(tau), tau) + 8*Ir*Psi_theta_theta**2*d*h*hT*omega*pk(tau)**3*qk(tau)**3*Derivative(qk(tau), tau) - 4*Ir*Psi_theta_theta**2*d*h*hT*omega*pk(tau)**2*qk(tau)**4*Derivative(pk(tau), tau) + 4*Ir*Psi_theta_theta**2*d*h*hT*omega*pk(tau)*qk(tau)**5*Derivative(qk(tau), tau) - 4*Ir*Psi_theta_theta**2*d*hT**2*omega*pk(tau)**6*Derivative(pk(tau), tau) + 4*Ir*Psi_theta_theta**2*d*hT**2*omega*pk(tau)**5*qk(tau)*Derivative(qk(tau), tau) - 8*Ir*Psi_theta_theta**2*d*hT**2*omega*pk(tau)**4*qk(tau)**2*Derivative(pk(tau), tau) + 8*Ir*Psi_theta_theta**2*d*hT**2*omega*pk(tau)**3*qk(tau)**3*Derivative(qk(tau), tau) - 4*Ir*Psi_theta_theta**2*d*hT**2*omega*pk(tau)**2*qk(tau)**4*Derivative(pk(tau), tau) + 4*Ir*Psi_theta_theta**2*d*hT**2*omega*pk(tau)*qk(tau)**5*Derivative(qk(tau), tau) - Ir*Psi_theta_theta**2*h**2*msT*omega**2*pk(tau)**7 - Ir*Psi_theta_theta**2*h**2*msT*omega**2*pk(tau)**5*qk(tau)**2 - Ir*Psi_theta_theta**2*h**2*msT*omega**2*pk(tau)**4*qk(tau)*Derivative(pk(tau), tau)*Derivative(qk(tau), tau) + Ir*Psi_theta_theta**2*h**2*msT*omega**2*pk(tau)**3*qk(tau)**4 + Ir*Psi_theta_theta**2*h**2*msT*omega**2*pk(tau)**3*qk(tau)**2*Derivative(pk(tau), tau)**2 + Ir*Psi_theta_theta**2*h**2*msT*omega**2*pk(tau)**3*qk(tau)**2*Derivative(qk(tau), tau)**2 - 2*Ir*Psi_theta_theta**2*h**2*msT*omega**2*pk(tau)**2*qk(tau)**3*Derivative(pk(tau), tau)*Derivative(qk(tau), tau) + Ir*Psi_theta_theta**2*h**2*msT*omega**2*pk(tau)*qk(tau)**6 + Ir*Psi_theta_theta**2*h**2*msT*omega**2*pk(tau)*qk(tau)**4*Derivative(pk(tau), tau)**2 + Ir*Psi_theta_theta**2*h**2*msT*omega**2*pk(tau)*qk(tau)**4*Derivative(qk(tau), tau)**2 - Ir*Psi_theta_theta**2*h**2*msT*omega**2*qk(tau)**5*Derivative(pk(tau), tau)*Derivative(qk(tau), tau) - 4*Ir*Psi_theta_theta**2*h*hT*msT*omega**2*pk(tau)**7 - 4*Ir*Psi_theta_theta**2*h*hT*msT*omega**2*pk(tau)**5*qk(tau)**2 - 4*Ir*Psi_theta_theta**2*h*hT*msT*omega**2*pk(tau)**4*qk(tau)*Derivative(pk(tau), tau)*Derivative(qk(tau), tau) + 4*Ir*Psi_theta_theta**2*h*hT*msT*omega**2*pk(tau)**3*qk(tau)**4 + 4*Ir*Psi_theta_theta**2*h*hT*msT*omega**2*pk(tau)**3*qk(tau)**2*Derivative(pk(tau), tau)**2 + 4*Ir*Psi_theta_theta**2*h*hT*msT*omega**2*pk(tau)**3*qk(tau)**2*Derivative(qk(tau), tau)**2 - 8*Ir*Psi_theta_theta**2*h*hT*msT*omega**2*pk(tau)**2*qk(tau)**3*Derivative(pk(tau), tau)*Derivative(qk(tau), tau) + 4*Ir*Psi_theta_theta**2*h*hT*msT*omega**2*pk(tau)*qk(tau)**6 + 4*Ir*Psi_theta_theta**2*h*hT*msT*omega**2*pk(tau)*qk(tau)**4*Derivative(pk(tau), tau)**2 + 4*Ir*Psi_theta_theta**2*h*hT*msT*omega**2*pk(tau)*qk(tau)**4*Derivative(qk(tau), tau)**2 - 4*Ir*Psi_theta_theta**2*h*hT*msT*omega**2*qk(tau)**5*Derivative(pk(tau), tau)*Derivative(qk(tau), tau) - 4*Ir*Psi_theta_theta**2*hT**2*msT*omega**2*pk(tau)**7 - 4*Ir*Psi_theta_theta**2*hT**2*msT*omega**2*pk(tau)**5*qk(tau)**2 - 4*Ir*Psi_theta_theta**2*hT**2*msT*omega**2*pk(tau)**4*qk(tau)*Derivative(pk(tau), tau)*Derivative(qk(tau), tau) + 4*Ir*Psi_theta_theta**2*hT**2*msT*omega**2*pk(tau)**3*qk(tau)**4 + 4*Ir*Psi_theta_theta**2*hT**2*msT*omega**2*pk(tau)**3*qk(tau)**2*Derivative(pk(tau), tau)**2 + 4*Ir*Psi_theta_theta**2*hT**2*msT*omega**2*pk(tau)**3*qk(tau)**2*Derivative(qk(tau), tau)**2 - 8*Ir*Psi_theta_theta**2*hT**2*msT*omega**2*pk(tau)**2*qk(tau)**3*Derivative(pk(tau), tau)*Derivative(qk(tau), tau) + 4*Ir*Psi_theta_theta**2*hT**2*msT*omega**2*pk(tau)*qk(tau)**6 + 4*Ir*Psi_theta_theta**2*hT**2*msT*omega**2*pk(tau)*qk(tau)**4*Derivative(pk(tau), tau)**2 + 4*Ir*Psi_theta_theta**2*hT**2*msT*omega**2*pk(tau)*qk(tau)**4*Derivative(qk(tau), tau)**2 - 4*Ir*Psi_theta_theta**2*hT**2*msT*omega**2*qk(tau)**5*Derivative(pk(tau), tau)*Derivative(qk(tau), tau) - 2*Psi_theta_theta*Rk*Texte*Uu**2*h*mR*sqrt(pk(tau)**2 + qk(tau)**2)*pk(tau)**4*qk(tau) + 2*Psi_theta_theta*Rk*Texte*Uu**2*h*mR*sqrt(pk(tau)**2 + qk(tau)**2)*qk(tau)**5 - 4*Psi_theta_theta*Rk*Texte*Uu**2*hT*mR*sqrt(pk(tau)**2 + qk(tau)**2)*pk(tau)**4*qk(tau) + 4*Psi_theta_theta*Rk*Texte*Uu**2*hT*mR*sqrt(pk(tau)**2 + qk(tau)**2)*qk(tau)**5 + 2*Psi_theta_theta*Rk*Texte*h*msT*sqrt(pk(tau)**2 + qk(tau)**2)*pk(tau)**4*qk(tau) + 4*Psi_theta_theta*Rk*Texte*h*msT*sqrt(pk(tau)**2 + qk(tau)**2)*pk(tau)**2*qk(tau)**3 + 2*Psi_theta_theta*Rk*Texte*h*msT*sqrt(pk(tau)**2 + qk(tau)**2)*qk(tau)**5 + 4*Psi_theta_theta*Rk*Texte*hT*msT*sqrt(pk(tau)**2 + qk(tau)**2)*pk(tau)**4*qk(tau) + 8*Psi_theta_theta*Rk*Texte*hT*msT*sqrt(pk(tau)**2 + qk(tau)**2)*pk(tau)**2*qk(tau)**3 + 4*Psi_theta_theta*Rk*Texte*hT*msT*sqrt(pk(tau)**2 + qk(tau)**2)*qk(tau)**5 + 4*Rk**2*Uu**2*Vo*cUo*mR*pk(tau)**5*qk(tau)*cos(tau) - 4*Rk**2*Uu**2*Vo*cUo*mR*pk(tau)**4*qk(tau)**2*sin(tau) + 8*Rk**2*Uu**2*Vo*cUo*mR*pk(tau)**3*qk(tau)**3*cos(tau) - 8*Rk**2*Uu**2*Vo*cUo*mR*pk(tau)**2*qk(tau)**4*sin(tau) + 4*Rk**2*Uu**2*Vo*cUo*mR*pk(tau)*qk(tau)**5*cos(tau) - 4*Rk**2*Uu**2*Vo*cUo*mR*qk(tau)**6*sin(tau) - 4*Rk**2*Uu**2*cr*msT*pk(tau)**7 - 12*Rk**2*Uu**2*cr*msT*pk(tau)**5*qk(tau)**2 - 12*Rk**2*Uu**2*cr*msT*pk(tau)**3*qk(tau)**4 - 4*Rk**2*Uu**2*cr*msT*pk(tau)*qk(tau)**6 + 4*Rk**2*Uu**2*d*mR*omega*pk(tau)**5*qk(tau)*Derivative(qk(tau), tau) - 4*Rk**2*Uu**2*d*mR*omega*pk(tau)**4*qk(tau)**2*Derivative(pk(tau), tau) + 8*Rk**2*Uu**2*d*mR*omega*pk(tau)**3*qk(tau)**3*Derivative(qk(tau), tau) - 8*Rk**2*Uu**2*d*mR*omega*pk(tau)**2*qk(tau)**4*Derivative(pk(tau), tau) + 4*Rk**2*Uu**2*d*mR*omega*pk(tau)*qk(tau)**5*Derivative(qk(tau), tau) - 4*Rk**2*Uu**2*d*mR*omega*qk(tau)**6*Derivative(pk(tau), tau) - 4*Rk**2*Uu**2*mR*msT*omega**2*pk(tau)**5*Derivative(qk(tau), tau)**2 + 8*Rk**2*Uu**2*mR*msT*omega**2*pk(tau)**4*qk(tau)*Derivative(pk(tau), tau)*Derivative(qk(tau), tau) - 4*Rk**2*Uu**2*mR*msT*omega**2*pk(tau)**3*qk(tau)**2*Derivative(pk(tau), tau)**2 - 4*Rk**2*Uu**2*mR*msT*omega**2*pk(tau)**3*qk(tau)**2*Derivative(qk(tau), tau)**2 + 8*Rk**2*Uu**2*mR*msT*omega**2*pk(tau)**2*qk(tau)**3*Derivative(pk(tau), tau)*Derivative(qk(tau), tau) - 4*Rk**2*Uu**2*mR*msT*omega**2*pk(tau)*qk(tau)**4*Derivative(pk(tau), tau)**2 - 4*Rk**2*Uu*cr*msT*ps*sqrt(pk(tau)**2 + qk(tau)**2)*pk(tau)**5 - 8*Rk**2*Uu*cr*msT*ps*sqrt(pk(tau)**2 + qk(tau)**2)*pk(tau)**3*qk(tau)**2 - 4*Rk**2*Uu*cr*msT*ps*sqrt(pk(tau)**2 + qk(tau)**2)*pk(tau)*qk(tau)**4 - 4*Rk**2*Vo*cUo*msT*pk(tau)**6*sin(tau) - 12*Rk**2*Vo*cUo*msT*pk(tau)**4*qk(tau)**2*sin(tau) - 12*Rk**2*Vo*cUo*msT*pk(tau)**2*qk(tau)**4*sin(tau) - 4*Rk**2*Vo*cUo*msT*qk(tau)**6*sin(tau) - 4*Rk**2*d*msT*omega*pk(tau)**6*Derivative(pk(tau), tau) - 12*Rk**2*d*msT*omega*pk(tau)**4*qk(tau)**2*Derivative(pk(tau), tau) - 12*Rk**2*d*msT*omega*pk(tau)**2*qk(tau)**4*Derivative(pk(tau), tau) - 4*Rk**2*d*msT*omega*qk(tau)**6*Derivative(pk(tau), tau) - 4*Rk**2*msT**2*omega**2*pk(tau)**7 - 12*Rk**2*msT**2*omega**2*pk(tau)**5*qk(tau)**2 - 12*Rk**2*msT**2*omega**2*pk(tau)**3*qk(tau)**4 - 4*Rk**2*msT**2*omega**2*pk(tau)*qk(tau)**6)/(omega**2*(Ir*Psi_theta_theta**2*Uu**2*h**2*mR*pk(tau)**6 - Ir*Psi_theta_theta**2*Uu**2*h**2*mR*pk(tau)**4*qk(tau)**2 - Ir*Psi_theta_theta**2*Uu**2*h**2*mR*pk(tau)**2*qk(tau)**4 + Ir*Psi_theta_theta**2*Uu**2*h**2*mR*qk(tau)**6 + 4*Ir*Psi_theta_theta**2*Uu**2*h*hT*mR*pk(tau)**6 - 4*Ir*Psi_theta_theta**2*Uu**2*h*hT*mR*pk(tau)**4*qk(tau)**2 - 4*Ir*Psi_theta_theta**2*Uu**2*h*hT*mR*pk(tau)**2*qk(tau)**4 + 4*Ir*Psi_theta_theta**2*Uu**2*h*hT*mR*qk(tau)**6 + 4*Ir*Psi_theta_theta**2*Uu**2*hT**2*mR*pk(tau)**6 - 4*Ir*Psi_theta_theta**2*Uu**2*hT**2*mR*pk(tau)**4*qk(tau)**2 - 4*Ir*Psi_theta_theta**2*Uu**2*hT**2*mR*pk(tau)**2*qk(tau)**4 + 4*Ir*Psi_theta_theta**2*Uu**2*hT**2*mR*qk(tau)**6 + Ir*Psi_theta_theta**2*h**2*msT*pk(tau)**6 + 3*Ir*Psi_theta_theta**2*h**2*msT*pk(tau)**4*qk(tau)**2 + 3*Ir*Psi_theta_theta**2*h**2*msT*pk(tau)**2*qk(tau)**4 + Ir*Psi_theta_theta**2*h**2*msT*qk(tau)**6 + 4*Ir*Psi_theta_theta**2*h*hT*msT*pk(tau)**6 + 12*Ir*Psi_theta_theta**2*h*hT*msT*pk(tau)**4*qk(tau)**2 + 12*Ir*Psi_theta_theta**2*h*hT*msT*pk(tau)**2*qk(tau)**4 + 4*Ir*Psi_theta_theta**2*h*hT*msT*qk(tau)**6 + 4*Ir*Psi_theta_theta**2*hT**2*msT*pk(tau)**6 + 12*Ir*Psi_theta_theta**2*hT**2*msT*pk(tau)**4*qk(tau)**2 + 12*Ir*Psi_theta_theta**2*hT**2*msT*pk(tau)**2*qk(tau)**4 + 4*Ir*Psi_theta_theta**2*hT**2*msT*qk(tau)**6 + 4*Rk**2*Uu**2*mR*msT*pk(tau)**6 + 12*Rk**2*Uu**2*mR*msT*pk(tau)**4*qk(tau)**2 + 12*Rk**2*Uu**2*mR*msT*pk(tau)**2*qk(tau)**4 + 4*Rk**2*Uu**2*mR*msT*qk(tau)**6 + 4*Rk**2*msT**2*pk(tau)**6 + 12*Rk**2*msT**2*pk(tau)**4*qk(tau)**2 + 12*Rk**2*msT**2*pk(tau)**2*qk(tau)**4 + 4*Rk**2*msT**2*qk(tau)**6))"
      ]
     },
     "execution_count": 28,
     "metadata": {},
     "output_type": "execute_result"
    }
   ],
   "source": [
    "solution[DIFF2P]"
   ]
  },
  {
   "cell_type": "code",
   "execution_count": 26,
   "metadata": {},
   "outputs": [],
   "source": []
  },
  {
   "cell_type": "code",
   "execution_count": 32,
   "metadata": {
    "collapsed": true
   },
   "outputs": [],
   "source": []
  },
  {
   "cell_type": "code",
   "execution_count": 33,
   "metadata": {},
   "outputs": [
    {
     "data": {
      "text/plain": [
       "[]"
      ]
     },
     "execution_count": 33,
     "metadata": {},
     "output_type": "execute_result"
    }
   ],
   "source": []
  },
  {
   "cell_type": "code",
   "execution_count": 27,
   "metadata": {},
   "outputs": [
    {
     "data": {
      "text/latex": [
       "$\\displaystyle - \\frac{Ir \\Psi_{\\theta \\theta}^{2} h^{2} \\operatorname{pk}^{2}{\\left(\\tau \\right)} \\operatorname{qk}{\\left(\\tau \\right)} \\frac{d}{d \\tau} \\operatorname{pk}{\\left(\\tau \\right)} \\frac{d}{d \\tau} \\operatorname{qk}{\\left(\\tau \\right)}}{4 Rk^{2} msT \\operatorname{pk}^{4}{\\left(\\tau \\right)} + 8 Rk^{2} msT \\operatorname{pk}^{2}{\\left(\\tau \\right)} \\operatorname{qk}^{2}{\\left(\\tau \\right)} + 4 Rk^{2} msT \\operatorname{qk}^{4}{\\left(\\tau \\right)}} + \\frac{Ir \\Psi_{\\theta \\theta}^{2} h^{2} \\operatorname{pk}{\\left(\\tau \\right)} \\operatorname{qk}^{2}{\\left(\\tau \\right)} \\left(\\frac{d}{d \\tau} \\operatorname{pk}{\\left(\\tau \\right)}\\right)^{2}}{4 Rk^{2} msT \\operatorname{pk}^{4}{\\left(\\tau \\right)} + 8 Rk^{2} msT \\operatorname{pk}^{2}{\\left(\\tau \\right)} \\operatorname{qk}^{2}{\\left(\\tau \\right)} + 4 Rk^{2} msT \\operatorname{qk}^{4}{\\left(\\tau \\right)}} + \\frac{Ir \\Psi_{\\theta \\theta}^{2} h^{2} \\operatorname{pk}{\\left(\\tau \\right)} \\operatorname{qk}^{2}{\\left(\\tau \\right)} \\left(\\frac{d}{d \\tau} \\operatorname{qk}{\\left(\\tau \\right)}\\right)^{2}}{4 Rk^{2} msT \\operatorname{pk}^{4}{\\left(\\tau \\right)} + 8 Rk^{2} msT \\operatorname{pk}^{2}{\\left(\\tau \\right)} \\operatorname{qk}^{2}{\\left(\\tau \\right)} + 4 Rk^{2} msT \\operatorname{qk}^{4}{\\left(\\tau \\right)}} - \\frac{Ir \\Psi_{\\theta \\theta}^{2} h^{2} \\operatorname{qk}^{3}{\\left(\\tau \\right)} \\frac{d}{d \\tau} \\operatorname{pk}{\\left(\\tau \\right)} \\frac{d}{d \\tau} \\operatorname{qk}{\\left(\\tau \\right)}}{4 Rk^{2} msT \\operatorname{pk}^{4}{\\left(\\tau \\right)} + 8 Rk^{2} msT \\operatorname{pk}^{2}{\\left(\\tau \\right)} \\operatorname{qk}^{2}{\\left(\\tau \\right)} + 4 Rk^{2} msT \\operatorname{qk}^{4}{\\left(\\tau \\right)}} - \\frac{Ir \\Psi_{\\theta \\theta}^{2} h^{2} \\operatorname{pk}{\\left(\\tau \\right)} \\operatorname{qk}{\\left(\\tau \\right)} \\frac{d^{2}}{d \\tau^{2}} \\operatorname{qk}{\\left(\\tau \\right)}}{4 Rk^{2} msT \\operatorname{pk}^{2}{\\left(\\tau \\right)} + 4 Rk^{2} msT \\operatorname{qk}^{2}{\\left(\\tau \\right)}} - \\frac{Ir \\Psi_{\\theta \\theta}^{2} h^{2} \\operatorname{qk}^{2}{\\left(\\tau \\right)} \\frac{d^{2}}{d \\tau^{2}} \\operatorname{pk}{\\left(\\tau \\right)}}{4 Rk^{2} msT \\operatorname{pk}^{2}{\\left(\\tau \\right)} + 4 Rk^{2} msT \\operatorname{qk}^{2}{\\left(\\tau \\right)}} - \\frac{Ir \\Psi_{\\theta \\theta}^{2} h hT \\operatorname{pk}^{2}{\\left(\\tau \\right)} \\operatorname{qk}{\\left(\\tau \\right)} \\frac{d}{d \\tau} \\operatorname{pk}{\\left(\\tau \\right)} \\frac{d}{d \\tau} \\operatorname{qk}{\\left(\\tau \\right)}}{Rk^{2} msT \\operatorname{pk}^{4}{\\left(\\tau \\right)} + 2 Rk^{2} msT \\operatorname{pk}^{2}{\\left(\\tau \\right)} \\operatorname{qk}^{2}{\\left(\\tau \\right)} + Rk^{2} msT \\operatorname{qk}^{4}{\\left(\\tau \\right)}} + \\frac{Ir \\Psi_{\\theta \\theta}^{2} h hT \\operatorname{pk}{\\left(\\tau \\right)} \\operatorname{qk}^{2}{\\left(\\tau \\right)} \\left(\\frac{d}{d \\tau} \\operatorname{pk}{\\left(\\tau \\right)}\\right)^{2}}{Rk^{2} msT \\operatorname{pk}^{4}{\\left(\\tau \\right)} + 2 Rk^{2} msT \\operatorname{pk}^{2}{\\left(\\tau \\right)} \\operatorname{qk}^{2}{\\left(\\tau \\right)} + Rk^{2} msT \\operatorname{qk}^{4}{\\left(\\tau \\right)}} + \\frac{Ir \\Psi_{\\theta \\theta}^{2} h hT \\operatorname{pk}{\\left(\\tau \\right)} \\operatorname{qk}^{2}{\\left(\\tau \\right)} \\left(\\frac{d}{d \\tau} \\operatorname{qk}{\\left(\\tau \\right)}\\right)^{2}}{Rk^{2} msT \\operatorname{pk}^{4}{\\left(\\tau \\right)} + 2 Rk^{2} msT \\operatorname{pk}^{2}{\\left(\\tau \\right)} \\operatorname{qk}^{2}{\\left(\\tau \\right)} + Rk^{2} msT \\operatorname{qk}^{4}{\\left(\\tau \\right)}} - \\frac{Ir \\Psi_{\\theta \\theta}^{2} h hT \\operatorname{qk}^{3}{\\left(\\tau \\right)} \\frac{d}{d \\tau} \\operatorname{pk}{\\left(\\tau \\right)} \\frac{d}{d \\tau} \\operatorname{qk}{\\left(\\tau \\right)}}{Rk^{2} msT \\operatorname{pk}^{4}{\\left(\\tau \\right)} + 2 Rk^{2} msT \\operatorname{pk}^{2}{\\left(\\tau \\right)} \\operatorname{qk}^{2}{\\left(\\tau \\right)} + Rk^{2} msT \\operatorname{qk}^{4}{\\left(\\tau \\right)}} - \\frac{Ir \\Psi_{\\theta \\theta}^{2} h hT \\operatorname{pk}{\\left(\\tau \\right)} \\operatorname{qk}{\\left(\\tau \\right)} \\frac{d^{2}}{d \\tau^{2}} \\operatorname{qk}{\\left(\\tau \\right)}}{Rk^{2} msT \\operatorname{pk}^{2}{\\left(\\tau \\right)} + Rk^{2} msT \\operatorname{qk}^{2}{\\left(\\tau \\right)}} - \\frac{Ir \\Psi_{\\theta \\theta}^{2} h hT \\operatorname{qk}^{2}{\\left(\\tau \\right)} \\frac{d^{2}}{d \\tau^{2}} \\operatorname{pk}{\\left(\\tau \\right)}}{Rk^{2} msT \\operatorname{pk}^{2}{\\left(\\tau \\right)} + Rk^{2} msT \\operatorname{qk}^{2}{\\left(\\tau \\right)}} - \\frac{Ir \\Psi_{\\theta \\theta}^{2} hT^{2} \\operatorname{pk}^{2}{\\left(\\tau \\right)} \\operatorname{qk}{\\left(\\tau \\right)} \\frac{d}{d \\tau} \\operatorname{pk}{\\left(\\tau \\right)} \\frac{d}{d \\tau} \\operatorname{qk}{\\left(\\tau \\right)}}{Rk^{2} msT \\operatorname{pk}^{4}{\\left(\\tau \\right)} + 2 Rk^{2} msT \\operatorname{pk}^{2}{\\left(\\tau \\right)} \\operatorname{qk}^{2}{\\left(\\tau \\right)} + Rk^{2} msT \\operatorname{qk}^{4}{\\left(\\tau \\right)}} + \\frac{Ir \\Psi_{\\theta \\theta}^{2} hT^{2} \\operatorname{pk}{\\left(\\tau \\right)} \\operatorname{qk}^{2}{\\left(\\tau \\right)} \\left(\\frac{d}{d \\tau} \\operatorname{pk}{\\left(\\tau \\right)}\\right)^{2}}{Rk^{2} msT \\operatorname{pk}^{4}{\\left(\\tau \\right)} + 2 Rk^{2} msT \\operatorname{pk}^{2}{\\left(\\tau \\right)} \\operatorname{qk}^{2}{\\left(\\tau \\right)} + Rk^{2} msT \\operatorname{qk}^{4}{\\left(\\tau \\right)}} + \\frac{Ir \\Psi_{\\theta \\theta}^{2} hT^{2} \\operatorname{pk}{\\left(\\tau \\right)} \\operatorname{qk}^{2}{\\left(\\tau \\right)} \\left(\\frac{d}{d \\tau} \\operatorname{qk}{\\left(\\tau \\right)}\\right)^{2}}{Rk^{2} msT \\operatorname{pk}^{4}{\\left(\\tau \\right)} + 2 Rk^{2} msT \\operatorname{pk}^{2}{\\left(\\tau \\right)} \\operatorname{qk}^{2}{\\left(\\tau \\right)} + Rk^{2} msT \\operatorname{qk}^{4}{\\left(\\tau \\right)}} - \\frac{Ir \\Psi_{\\theta \\theta}^{2} hT^{2} \\operatorname{qk}^{3}{\\left(\\tau \\right)} \\frac{d}{d \\tau} \\operatorname{pk}{\\left(\\tau \\right)} \\frac{d}{d \\tau} \\operatorname{qk}{\\left(\\tau \\right)}}{Rk^{2} msT \\operatorname{pk}^{4}{\\left(\\tau \\right)} + 2 Rk^{2} msT \\operatorname{pk}^{2}{\\left(\\tau \\right)} \\operatorname{qk}^{2}{\\left(\\tau \\right)} + Rk^{2} msT \\operatorname{qk}^{4}{\\left(\\tau \\right)}} - \\frac{Ir \\Psi_{\\theta \\theta}^{2} hT^{2} \\operatorname{pk}{\\left(\\tau \\right)} \\operatorname{qk}{\\left(\\tau \\right)} \\frac{d^{2}}{d \\tau^{2}} \\operatorname{qk}{\\left(\\tau \\right)}}{Rk^{2} msT \\operatorname{pk}^{2}{\\left(\\tau \\right)} + Rk^{2} msT \\operatorname{qk}^{2}{\\left(\\tau \\right)}} - \\frac{Ir \\Psi_{\\theta \\theta}^{2} hT^{2} \\operatorname{qk}^{2}{\\left(\\tau \\right)} \\frac{d^{2}}{d \\tau^{2}} \\operatorname{pk}{\\left(\\tau \\right)}}{Rk^{2} msT \\operatorname{pk}^{2}{\\left(\\tau \\right)} + Rk^{2} msT \\operatorname{qk}^{2}{\\left(\\tau \\right)}} + \\frac{\\Psi_{\\theta \\theta} Texte h \\operatorname{qk}{\\left(\\tau \\right)}}{2 Rk msT \\omega^{2} \\sqrt{\\operatorname{pk}^{2}{\\left(\\tau \\right)} + \\operatorname{qk}^{2}{\\left(\\tau \\right)}}} + \\frac{\\Psi_{\\theta \\theta} Texte hT \\operatorname{qk}{\\left(\\tau \\right)}}{Rk msT \\omega^{2} \\sqrt{\\operatorname{pk}^{2}{\\left(\\tau \\right)} + \\operatorname{qk}^{2}{\\left(\\tau \\right)}}} - \\frac{Uu^{2} cr \\operatorname{pk}{\\left(\\tau \\right)}}{msT \\omega^{2}} - \\frac{Uu^{2} mR \\operatorname{pk}^{3}{\\left(\\tau \\right)} \\left(\\frac{d}{d \\tau} \\operatorname{qk}{\\left(\\tau \\right)}\\right)^{2}}{msT \\operatorname{pk}^{4}{\\left(\\tau \\right)} + 2 msT \\operatorname{pk}^{2}{\\left(\\tau \\right)} \\operatorname{qk}^{2}{\\left(\\tau \\right)} + msT \\operatorname{qk}^{4}{\\left(\\tau \\right)}} + \\frac{2 Uu^{2} mR \\operatorname{pk}^{2}{\\left(\\tau \\right)} \\operatorname{qk}{\\left(\\tau \\right)} \\frac{d}{d \\tau} \\operatorname{pk}{\\left(\\tau \\right)} \\frac{d}{d \\tau} \\operatorname{qk}{\\left(\\tau \\right)}}{msT \\operatorname{pk}^{4}{\\left(\\tau \\right)} + 2 msT \\operatorname{pk}^{2}{\\left(\\tau \\right)} \\operatorname{qk}^{2}{\\left(\\tau \\right)} + msT \\operatorname{qk}^{4}{\\left(\\tau \\right)}} - \\frac{Uu^{2} mR \\operatorname{pk}{\\left(\\tau \\right)} \\operatorname{qk}^{2}{\\left(\\tau \\right)} \\left(\\frac{d}{d \\tau} \\operatorname{pk}{\\left(\\tau \\right)}\\right)^{2}}{msT \\operatorname{pk}^{4}{\\left(\\tau \\right)} + 2 msT \\operatorname{pk}^{2}{\\left(\\tau \\right)} \\operatorname{qk}^{2}{\\left(\\tau \\right)} + msT \\operatorname{qk}^{4}{\\left(\\tau \\right)}} - \\frac{Uu^{2} mR \\operatorname{pk}^{2}{\\left(\\tau \\right)} \\frac{d^{2}}{d \\tau^{2}} \\operatorname{pk}{\\left(\\tau \\right)}}{msT \\operatorname{pk}^{2}{\\left(\\tau \\right)} + msT \\operatorname{qk}^{2}{\\left(\\tau \\right)}} - \\frac{Uu^{2} mR \\operatorname{pk}{\\left(\\tau \\right)} \\operatorname{qk}{\\left(\\tau \\right)} \\frac{d^{2}}{d \\tau^{2}} \\operatorname{qk}{\\left(\\tau \\right)}}{msT \\operatorname{pk}^{2}{\\left(\\tau \\right)} + msT \\operatorname{qk}^{2}{\\left(\\tau \\right)}} - \\frac{Uu cr ps \\operatorname{pk}{\\left(\\tau \\right)}}{msT \\omega^{2} \\sqrt{\\operatorname{pk}^{2}{\\left(\\tau \\right)} + \\operatorname{qk}^{2}{\\left(\\tau \\right)}}} - \\frac{Vo cUo \\sin{\\left(\\tau \\right)}}{msT \\omega^{2}} - \\frac{d \\frac{d}{d \\tau} \\operatorname{pk}{\\left(\\tau \\right)}}{msT \\omega} - \\operatorname{pk}{\\left(\\tau \\right)} - \\frac{d^{2}}{d \\tau^{2}} \\operatorname{pk}{\\left(\\tau \\right)}$"
      ],
      "text/plain": [
       "-Ir*Psi_theta_theta**2*h**2*pk(tau)**2*qk(tau)*Derivative(pk(tau), tau)*Derivative(qk(tau), tau)/(4*Rk**2*msT*pk(tau)**4 + 8*Rk**2*msT*pk(tau)**2*qk(tau)**2 + 4*Rk**2*msT*qk(tau)**4) + Ir*Psi_theta_theta**2*h**2*pk(tau)*qk(tau)**2*Derivative(pk(tau), tau)**2/(4*Rk**2*msT*pk(tau)**4 + 8*Rk**2*msT*pk(tau)**2*qk(tau)**2 + 4*Rk**2*msT*qk(tau)**4) + Ir*Psi_theta_theta**2*h**2*pk(tau)*qk(tau)**2*Derivative(qk(tau), tau)**2/(4*Rk**2*msT*pk(tau)**4 + 8*Rk**2*msT*pk(tau)**2*qk(tau)**2 + 4*Rk**2*msT*qk(tau)**4) - Ir*Psi_theta_theta**2*h**2*qk(tau)**3*Derivative(pk(tau), tau)*Derivative(qk(tau), tau)/(4*Rk**2*msT*pk(tau)**4 + 8*Rk**2*msT*pk(tau)**2*qk(tau)**2 + 4*Rk**2*msT*qk(tau)**4) - Ir*Psi_theta_theta**2*h**2*pk(tau)*qk(tau)*Derivative(qk(tau), (tau, 2))/(4*Rk**2*msT*pk(tau)**2 + 4*Rk**2*msT*qk(tau)**2) - Ir*Psi_theta_theta**2*h**2*qk(tau)**2*Derivative(pk(tau), (tau, 2))/(4*Rk**2*msT*pk(tau)**2 + 4*Rk**2*msT*qk(tau)**2) - Ir*Psi_theta_theta**2*h*hT*pk(tau)**2*qk(tau)*Derivative(pk(tau), tau)*Derivative(qk(tau), tau)/(Rk**2*msT*pk(tau)**4 + 2*Rk**2*msT*pk(tau)**2*qk(tau)**2 + Rk**2*msT*qk(tau)**4) + Ir*Psi_theta_theta**2*h*hT*pk(tau)*qk(tau)**2*Derivative(pk(tau), tau)**2/(Rk**2*msT*pk(tau)**4 + 2*Rk**2*msT*pk(tau)**2*qk(tau)**2 + Rk**2*msT*qk(tau)**4) + Ir*Psi_theta_theta**2*h*hT*pk(tau)*qk(tau)**2*Derivative(qk(tau), tau)**2/(Rk**2*msT*pk(tau)**4 + 2*Rk**2*msT*pk(tau)**2*qk(tau)**2 + Rk**2*msT*qk(tau)**4) - Ir*Psi_theta_theta**2*h*hT*qk(tau)**3*Derivative(pk(tau), tau)*Derivative(qk(tau), tau)/(Rk**2*msT*pk(tau)**4 + 2*Rk**2*msT*pk(tau)**2*qk(tau)**2 + Rk**2*msT*qk(tau)**4) - Ir*Psi_theta_theta**2*h*hT*pk(tau)*qk(tau)*Derivative(qk(tau), (tau, 2))/(Rk**2*msT*pk(tau)**2 + Rk**2*msT*qk(tau)**2) - Ir*Psi_theta_theta**2*h*hT*qk(tau)**2*Derivative(pk(tau), (tau, 2))/(Rk**2*msT*pk(tau)**2 + Rk**2*msT*qk(tau)**2) - Ir*Psi_theta_theta**2*hT**2*pk(tau)**2*qk(tau)*Derivative(pk(tau), tau)*Derivative(qk(tau), tau)/(Rk**2*msT*pk(tau)**4 + 2*Rk**2*msT*pk(tau)**2*qk(tau)**2 + Rk**2*msT*qk(tau)**4) + Ir*Psi_theta_theta**2*hT**2*pk(tau)*qk(tau)**2*Derivative(pk(tau), tau)**2/(Rk**2*msT*pk(tau)**4 + 2*Rk**2*msT*pk(tau)**2*qk(tau)**2 + Rk**2*msT*qk(tau)**4) + Ir*Psi_theta_theta**2*hT**2*pk(tau)*qk(tau)**2*Derivative(qk(tau), tau)**2/(Rk**2*msT*pk(tau)**4 + 2*Rk**2*msT*pk(tau)**2*qk(tau)**2 + Rk**2*msT*qk(tau)**4) - Ir*Psi_theta_theta**2*hT**2*qk(tau)**3*Derivative(pk(tau), tau)*Derivative(qk(tau), tau)/(Rk**2*msT*pk(tau)**4 + 2*Rk**2*msT*pk(tau)**2*qk(tau)**2 + Rk**2*msT*qk(tau)**4) - Ir*Psi_theta_theta**2*hT**2*pk(tau)*qk(tau)*Derivative(qk(tau), (tau, 2))/(Rk**2*msT*pk(tau)**2 + Rk**2*msT*qk(tau)**2) - Ir*Psi_theta_theta**2*hT**2*qk(tau)**2*Derivative(pk(tau), (tau, 2))/(Rk**2*msT*pk(tau)**2 + Rk**2*msT*qk(tau)**2) + Psi_theta_theta*Texte*h*qk(tau)/(2*Rk*msT*omega**2*sqrt(pk(tau)**2 + qk(tau)**2)) + Psi_theta_theta*Texte*hT*qk(tau)/(Rk*msT*omega**2*sqrt(pk(tau)**2 + qk(tau)**2)) - Uu**2*cr*pk(tau)/(msT*omega**2) - Uu**2*mR*pk(tau)**3*Derivative(qk(tau), tau)**2/(msT*pk(tau)**4 + 2*msT*pk(tau)**2*qk(tau)**2 + msT*qk(tau)**4) + 2*Uu**2*mR*pk(tau)**2*qk(tau)*Derivative(pk(tau), tau)*Derivative(qk(tau), tau)/(msT*pk(tau)**4 + 2*msT*pk(tau)**2*qk(tau)**2 + msT*qk(tau)**4) - Uu**2*mR*pk(tau)*qk(tau)**2*Derivative(pk(tau), tau)**2/(msT*pk(tau)**4 + 2*msT*pk(tau)**2*qk(tau)**2 + msT*qk(tau)**4) - Uu**2*mR*pk(tau)**2*Derivative(pk(tau), (tau, 2))/(msT*pk(tau)**2 + msT*qk(tau)**2) - Uu**2*mR*pk(tau)*qk(tau)*Derivative(qk(tau), (tau, 2))/(msT*pk(tau)**2 + msT*qk(tau)**2) - Uu*cr*ps*pk(tau)/(msT*omega**2*sqrt(pk(tau)**2 + qk(tau)**2)) - Vo*cUo*sin(tau)/(msT*omega**2) - d*Derivative(pk(tau), tau)/(msT*omega) - pk(tau) - Derivative(pk(tau), (tau, 2))"
      ]
     },
     "execution_count": 27,
     "metadata": {},
     "output_type": "execute_result"
    }
   ],
   "source": [
    "eq1.expand()"
   ]
  },
  {
   "cell_type": "code",
   "execution_count": 16,
   "metadata": {},
   "outputs": [],
   "source": [
    "DerivPK, DerivQK, PK, QK = symbols('DerivPK, DerivQK, PK, QK')\n",
    "\n",
    "soluDIFF2PP = solution[DIFF2P].subs({Derivative(pk,tau): DerivPK, Derivative(qk,tau): DerivQK, \n",
    "                       Function('pk')(tau): PK, Function('qk')(tau):QK})\n",
    "soluDIFF2QQ = solution[DIFF2Q].subs({Derivative(pk,tau): DerivPK, Derivative(qk,tau): DerivQK, \n",
    "                       Function('pk')(tau): PK, Function('qk')(tau):QK})"
   ]
  },
  {
   "cell_type": "code",
   "execution_count": 17,
   "metadata": {},
   "outputs": [],
   "source": [
    "ms=0.0000261725  \n",
    "mT = 5.0750952130962986 *10**(-6) \n",
    "cs=1.94991*10**8\n",
    "Ds = 0.05###; (*0.005 damping stator*)\n",
    "#d = 2 *sqrt(msT* cs *Ds) = 38.2402923781611\n",
    "rhor = 2700 ###(*Al*)\n",
    "####(*leaf spring*)\n",
    "EE = 206000###; (*Nmm^2*)\n",
    "EE = EE*10**6\n",
    "B = 0.003 ##;(*width*)\n",
    "t = 0.0005  ###; (*thickness*)\n",
    "l = 0.02   ###; (*length*)\n",
    "Ib = (B*t**3)/12\n",
    "#cr ####(*0;4000;*) (**)\n",
    "rout = 0.003124764129949177\n",
    "rin = 0.002224764129949177\n",
    "Rr = rout\n",
    "Hr = 0.001 ###(*0.003*)\n",
    "\n",
    "r1 = 0.001\n",
    "mr = float(pi) * rhor *Rr**2 *Hr - float(pi) * rhor *r1**2 *Hr ### (*6.4 10 -4 ;*)\n",
    "Ha = 0.0005\n",
    "ma = float(pi) *rhor * Ha*(rout**2 - rin**2)\n",
    "\n",
    "\n",
    "solucdiff2pp =(soluDIFF2PP.subs({Ir: mr*(Rr**2 + r1**2)/2 + ma*(rout**2+ rin**2)/2, \n",
    "                                 Psi_theta_theta: 226.536, Uu: -0.377673, \n",
    "                  h: 0.0012, Rk: 0.0027, msT: ms + mT, hT: 0.0015,\n",
    "                  Vo: 100, cUo: 0.0174596, d: 38.2402923781611, ps: 0.5*10**(-3), mR: mr + ma, \n",
    "                  cr: (3 *EE *Ib)/l**3, omega: 2.72951*10**6, Texte: 0.1*10**(-3), n: 4, k: 2}) ).expand()\n",
    "\n",
    "solucdiff2qq = (soluDIFF2QQ.subs({Ir: mr*(Rr**2 + r1**2)/2 + ma*(rout**2+ rin**2)/2, \n",
    "                                  Psi_theta_theta: 226.536, Uu: -0.377673, \n",
    "                  h: 0.0012, Rk: 0.0027, msT: ms + mT, hT: 0.0015,\n",
    "                  Vo: 100, cUo: 0.0174596, d: 38.2402923781611, ps: 0.5*10**(-3), mR: mr + ma, \n",
    "                  cr: (3 *EE *Ib)/l**3, omega: 2.72951*10**6, Texte: 0.1*10**(-3), n: 4, k: 2}) ).expand()\n"
   ]
  },
  {
   "cell_type": "code",
   "execution_count": 31,
   "metadata": {},
   "outputs": [
    {
     "data": {
      "text/latex": [
       "$\\displaystyle \\frac{2.23008003460333 \\cdot 10^{-14} DerivPK^{2} PK^{4} QK}{6.30886699014073 \\cdot 10^{-14} PK^{6} + 1.62331557071147 \\cdot 10^{-13} PK^{4} QK^{2} + 1.62331557071147 \\cdot 10^{-13} PK^{2} QK^{4} + 6.30886699014073 \\cdot 10^{-14} QK^{6}} + \\frac{3.25149757689095 \\cdot 10^{-15} DerivPK^{2} PK^{2} QK^{3}}{6.30886699014073 \\cdot 10^{-14} PK^{6} + 1.62331557071147 \\cdot 10^{-13} PK^{4} QK^{2} + 1.62331557071147 \\cdot 10^{-13} PK^{2} QK^{4} + 6.30886699014073 \\cdot 10^{-14} QK^{6}} - \\frac{1.90493027691423 \\cdot 10^{-14} DerivPK^{2} QK^{5}}{6.30886699014073 \\cdot 10^{-14} PK^{6} + 1.62331557071147 \\cdot 10^{-13} PK^{4} QK^{2} + 1.62331557071147 \\cdot 10^{-13} PK^{2} QK^{4} + 6.30886699014073 \\cdot 10^{-14} QK^{6}} - \\frac{2.23008003460333 \\cdot 10^{-14} DerivPK DerivQK PK^{5}}{6.30886699014073 \\cdot 10^{-14} PK^{6} + 1.62331557071147 \\cdot 10^{-13} PK^{4} QK^{2} + 1.62331557071147 \\cdot 10^{-13} PK^{2} QK^{4} + 6.30886699014073 \\cdot 10^{-14} QK^{6}} - \\frac{1.99702214703192 \\cdot 10^{-14} DerivPK DerivQK PK^{3} QK^{2}}{6.30886699014073 \\cdot 10^{-14} PK^{6} + 1.62331557071147 \\cdot 10^{-13} PK^{4} QK^{2} + 1.62331557071147 \\cdot 10^{-13} PK^{2} QK^{4} + 6.30886699014073 \\cdot 10^{-14} QK^{6}} + \\frac{2.92650315087886 \\cdot 10^{-14} DerivPK DerivQK PK QK^{4}}{6.30886699014073 \\cdot 10^{-14} PK^{6} + 1.62331557071147 \\cdot 10^{-13} PK^{4} QK^{2} + 1.62331557071147 \\cdot 10^{-13} PK^{2} QK^{4} + 6.30886699014073 \\cdot 10^{-14} QK^{6}} + \\frac{1.25013666918239 \\cdot 10^{-14} DerivPK PK^{5} QK}{6.30886699014073 \\cdot 10^{-14} PK^{6} + 1.62331557071147 \\cdot 10^{-13} PK^{4} QK^{2} + 1.62331557071147 \\cdot 10^{-13} PK^{2} QK^{4} + 6.30886699014073 \\cdot 10^{-14} QK^{6}} + \\frac{2.50027333836478 \\cdot 10^{-14} DerivPK PK^{3} QK^{3}}{6.30886699014073 \\cdot 10^{-14} PK^{6} + 1.62331557071147 \\cdot 10^{-13} PK^{4} QK^{2} + 1.62331557071147 \\cdot 10^{-13} PK^{2} QK^{4} + 6.30886699014073 \\cdot 10^{-14} QK^{6}} + \\frac{1.25013666918239 \\cdot 10^{-14} DerivPK PK QK^{5}}{6.30886699014073 \\cdot 10^{-14} PK^{6} + 1.62331557071147 \\cdot 10^{-13} PK^{4} QK^{2} + 1.62331557071147 \\cdot 10^{-13} PK^{2} QK^{4} + 6.30886699014073 \\cdot 10^{-14} QK^{6}} + \\frac{1.67187238934282 \\cdot 10^{-14} DerivQK^{2} PK^{4} QK}{6.30886699014073 \\cdot 10^{-14} PK^{6} + 1.62331557071147 \\cdot 10^{-13} PK^{4} QK^{2} + 1.62331557071147 \\cdot 10^{-13} PK^{2} QK^{4} + 6.30886699014073 \\cdot 10^{-14} QK^{6}} - \\frac{1.02157287396463 \\cdot 10^{-14} DerivQK^{2} PK^{2} QK^{3}}{6.30886699014073 \\cdot 10^{-14} PK^{6} + 1.62331557071147 \\cdot 10^{-13} PK^{4} QK^{2} + 1.62331557071147 \\cdot 10^{-13} PK^{2} QK^{4} + 6.30886699014073 \\cdot 10^{-14} QK^{6}} - \\frac{1.82873567018347 \\cdot 10^{-14} DerivQK PK^{6}}{6.30886699014073 \\cdot 10^{-14} PK^{6} + 1.62331557071147 \\cdot 10^{-13} PK^{4} QK^{2} + 1.62331557071147 \\cdot 10^{-13} PK^{2} QK^{4} + 6.30886699014073 \\cdot 10^{-14} QK^{6}} - \\frac{5.63198882424145 \\cdot 10^{-14} DerivQK PK^{4} QK^{2}}{6.30886699014073 \\cdot 10^{-14} PK^{6} + 1.62331557071147 \\cdot 10^{-13} PK^{4} QK^{2} + 1.62331557071147 \\cdot 10^{-13} PK^{2} QK^{4} + 6.30886699014073 \\cdot 10^{-14} QK^{6}} - \\frac{5.77777063793248 \\cdot 10^{-14} DerivQK PK^{2} QK^{4}}{6.30886699014073 \\cdot 10^{-14} PK^{6} + 1.62331557071147 \\cdot 10^{-13} PK^{4} QK^{2} + 1.62331557071147 \\cdot 10^{-13} PK^{2} QK^{4} + 6.30886699014073 \\cdot 10^{-14} QK^{6}} - \\frac{1.9745174838745 \\cdot 10^{-14} DerivQK QK^{6}}{6.30886699014073 \\cdot 10^{-14} PK^{6} + 1.62331557071147 \\cdot 10^{-13} PK^{4} QK^{2} + 1.62331557071147 \\cdot 10^{-13} PK^{2} QK^{4} + 6.30886699014073 \\cdot 10^{-14} QK^{6}} - \\frac{1.29050086631 \\cdot 10^{-14} PK^{6} QK}{6.30886699014073 \\cdot 10^{-14} PK^{6} + 1.62331557071147 \\cdot 10^{-13} PK^{4} QK^{2} + 1.62331557071147 \\cdot 10^{-13} PK^{2} QK^{4} + 6.30886699014073 \\cdot 10^{-14} QK^{6}} - \\frac{3.05899897829769 \\cdot 10^{-22} PK^{6} \\cos{\\left(\\tau \\right)}}{6.30886699014073 \\cdot 10^{-14} PK^{6} + 1.62331557071147 \\cdot 10^{-13} PK^{4} QK^{2} + 1.62331557071147 \\cdot 10^{-13} PK^{2} QK^{4} + 6.30886699014073 \\cdot 10^{-14} QK^{6}} + \\frac{2.09115338871131 \\cdot 10^{-22} PK^{5} QK \\sin{\\left(\\tau \\right)}}{6.30886699014073 \\cdot 10^{-14} PK^{6} + 1.62331557071147 \\cdot 10^{-13} PK^{4} QK^{2} + 1.62331557071147 \\cdot 10^{-13} PK^{2} QK^{4} + 6.30886699014073 \\cdot 10^{-14} QK^{6}} + \\frac{3.08700832387246 \\cdot 10^{-24} PK^{5} \\sqrt{PK^{2} + QK^{2}}}{6.30886699014073 \\cdot 10^{-14} PK^{6} + 1.62331557071147 \\cdot 10^{-13} PK^{4} QK^{2} + 1.62331557071147 \\cdot 10^{-13} PK^{2} QK^{4} + 6.30886699014073 \\cdot 10^{-14} QK^{6}} - \\frac{6.98494387402635 \\cdot 10^{-14} PK^{4} QK^{3}}{6.30886699014073 \\cdot 10^{-14} PK^{6} + 1.62331557071147 \\cdot 10^{-13} PK^{4} QK^{2} + 1.62331557071147 \\cdot 10^{-13} PK^{2} QK^{4} + 6.30886699014073 \\cdot 10^{-14} QK^{6}} - \\frac{9.42085197988737 \\cdot 10^{-22} PK^{4} QK^{2} \\cos{\\left(\\tau \\right)}}{6.30886699014073 \\cdot 10^{-14} PK^{6} + 1.62331557071147 \\cdot 10^{-13} PK^{4} QK^{2} + 1.62331557071147 \\cdot 10^{-13} PK^{2} QK^{4} + 6.30886699014073 \\cdot 10^{-14} QK^{6}} + \\frac{2.10583816183444 \\cdot 10^{-23} PK^{4} QK \\sqrt{PK^{2} + QK^{2}}}{6.30886699014073 \\cdot 10^{-14} PK^{6} + 1.62331557071147 \\cdot 10^{-13} PK^{4} QK^{2} + 1.62331557071147 \\cdot 10^{-13} PK^{2} QK^{4} + 6.30886699014073 \\cdot 10^{-14} QK^{6}} + \\frac{4.18230677742262 \\cdot 10^{-22} PK^{3} QK^{3} \\sin{\\left(\\tau \\right)}}{6.30886699014073 \\cdot 10^{-14} PK^{6} + 1.62331557071147 \\cdot 10^{-13} PK^{4} QK^{2} + 1.62331557071147 \\cdot 10^{-13} PK^{2} QK^{4} + 6.30886699014073 \\cdot 10^{-14} QK^{6}} + \\frac{4.30980374535823 \\cdot 10^{-24} PK^{3} QK^{2} \\sqrt{PK^{2} + QK^{2}}}{6.30886699014073 \\cdot 10^{-14} PK^{6} + 1.62331557071147 \\cdot 10^{-13} PK^{4} QK^{2} + 1.62331557071147 \\cdot 10^{-13} PK^{2} QK^{4} + 6.30886699014073 \\cdot 10^{-14} QK^{6}} - \\frac{1.00983851491227 \\cdot 10^{-13} PK^{2} QK^{5}}{6.30886699014073 \\cdot 10^{-14} PK^{6} + 1.62331557071147 \\cdot 10^{-13} PK^{4} QK^{2} + 1.62331557071147 \\cdot 10^{-13} PK^{2} QK^{4} + 6.30886699014073 \\cdot 10^{-14} QK^{6}} - \\frac{9.66470702488165 \\cdot 10^{-22} PK^{2} QK^{4} \\cos{\\left(\\tau \\right)}}{6.30886699014073 \\cdot 10^{-14} PK^{6} + 1.62331557071147 \\cdot 10^{-13} PK^{4} QK^{2} + 1.62331557071147 \\cdot 10^{-13} PK^{2} QK^{4} + 6.30886699014073 \\cdot 10^{-14} QK^{6}} + \\frac{9.29218701753267 \\cdot 10^{-23} PK^{2} QK^{3} \\sqrt{PK^{2} + QK^{2}}}{6.30886699014073 \\cdot 10^{-14} PK^{6} + 1.62331557071147 \\cdot 10^{-13} PK^{4} QK^{2} + 1.62331557071147 \\cdot 10^{-13} PK^{2} QK^{4} + 6.30886699014073 \\cdot 10^{-14} QK^{6}} + \\frac{2.09115338871131 \\cdot 10^{-22} PK QK^{5} \\sin{\\left(\\tau \\right)}}{6.30886699014073 \\cdot 10^{-14} PK^{6} + 1.62331557071147 \\cdot 10^{-13} PK^{4} QK^{2} + 1.62331557071147 \\cdot 10^{-13} PK^{2} QK^{4} + 6.30886699014073 \\cdot 10^{-14} QK^{6}} + \\frac{1.22279542148577 \\cdot 10^{-24} PK QK^{4} \\sqrt{PK^{2} + QK^{2}}}{6.30886699014073 \\cdot 10^{-14} PK^{6} + 1.62331557071147 \\cdot 10^{-13} PK^{4} QK^{2} + 1.62331557071147 \\cdot 10^{-13} PK^{2} QK^{4} + 6.30886699014073 \\cdot 10^{-14} QK^{6}} - \\frac{4.40394214140636 \\cdot 10^{-14} QK^{7}}{6.30886699014073 \\cdot 10^{-14} PK^{6} + 1.62331557071147 \\cdot 10^{-13} PK^{4} QK^{2} + 1.62331557071147 \\cdot 10^{-13} PK^{2} QK^{4} + 6.30886699014073 \\cdot 10^{-14} QK^{6}} - \\frac{3.30285402329198 \\cdot 10^{-22} QK^{6} \\cos{\\left(\\tau \\right)}}{6.30886699014073 \\cdot 10^{-14} PK^{6} + 1.62331557071147 \\cdot 10^{-13} PK^{4} QK^{2} + 1.62331557071147 \\cdot 10^{-13} PK^{2} QK^{4} + 6.30886699014073 \\cdot 10^{-14} QK^{6}} + \\frac{7.18634885569822 \\cdot 10^{-23} QK^{5} \\sqrt{PK^{2} + QK^{2}}}{6.30886699014073 \\cdot 10^{-14} PK^{6} + 1.62331557071147 \\cdot 10^{-13} PK^{4} QK^{2} + 1.62331557071147 \\cdot 10^{-13} PK^{2} QK^{4} + 6.30886699014073 \\cdot 10^{-14} QK^{6}}$"
      ],
      "text/plain": [
       "2.23008003460333e-14*DerivPK**2*PK**4*QK/(6.30886699014073e-14*PK**6 + 1.62331557071147e-13*PK**4*QK**2 + 1.62331557071147e-13*PK**2*QK**4 + 6.30886699014073e-14*QK**6) + 3.25149757689095e-15*DerivPK**2*PK**2*QK**3/(6.30886699014073e-14*PK**6 + 1.62331557071147e-13*PK**4*QK**2 + 1.62331557071147e-13*PK**2*QK**4 + 6.30886699014073e-14*QK**6) - 1.90493027691423e-14*DerivPK**2*QK**5/(6.30886699014073e-14*PK**6 + 1.62331557071147e-13*PK**4*QK**2 + 1.62331557071147e-13*PK**2*QK**4 + 6.30886699014073e-14*QK**6) - 2.23008003460333e-14*DerivPK*DerivQK*PK**5/(6.30886699014073e-14*PK**6 + 1.62331557071147e-13*PK**4*QK**2 + 1.62331557071147e-13*PK**2*QK**4 + 6.30886699014073e-14*QK**6) - 1.99702214703192e-14*DerivPK*DerivQK*PK**3*QK**2/(6.30886699014073e-14*PK**6 + 1.62331557071147e-13*PK**4*QK**2 + 1.62331557071147e-13*PK**2*QK**4 + 6.30886699014073e-14*QK**6) + 2.92650315087886e-14*DerivPK*DerivQK*PK*QK**4/(6.30886699014073e-14*PK**6 + 1.62331557071147e-13*PK**4*QK**2 + 1.62331557071147e-13*PK**2*QK**4 + 6.30886699014073e-14*QK**6) + 1.25013666918239e-14*DerivPK*PK**5*QK/(6.30886699014073e-14*PK**6 + 1.62331557071147e-13*PK**4*QK**2 + 1.62331557071147e-13*PK**2*QK**4 + 6.30886699014073e-14*QK**6) + 2.50027333836478e-14*DerivPK*PK**3*QK**3/(6.30886699014073e-14*PK**6 + 1.62331557071147e-13*PK**4*QK**2 + 1.62331557071147e-13*PK**2*QK**4 + 6.30886699014073e-14*QK**6) + 1.25013666918239e-14*DerivPK*PK*QK**5/(6.30886699014073e-14*PK**6 + 1.62331557071147e-13*PK**4*QK**2 + 1.62331557071147e-13*PK**2*QK**4 + 6.30886699014073e-14*QK**6) + 1.67187238934282e-14*DerivQK**2*PK**4*QK/(6.30886699014073e-14*PK**6 + 1.62331557071147e-13*PK**4*QK**2 + 1.62331557071147e-13*PK**2*QK**4 + 6.30886699014073e-14*QK**6) - 1.02157287396463e-14*DerivQK**2*PK**2*QK**3/(6.30886699014073e-14*PK**6 + 1.62331557071147e-13*PK**4*QK**2 + 1.62331557071147e-13*PK**2*QK**4 + 6.30886699014073e-14*QK**6) - 1.82873567018347e-14*DerivQK*PK**6/(6.30886699014073e-14*PK**6 + 1.62331557071147e-13*PK**4*QK**2 + 1.62331557071147e-13*PK**2*QK**4 + 6.30886699014073e-14*QK**6) - 5.63198882424145e-14*DerivQK*PK**4*QK**2/(6.30886699014073e-14*PK**6 + 1.62331557071147e-13*PK**4*QK**2 + 1.62331557071147e-13*PK**2*QK**4 + 6.30886699014073e-14*QK**6) - 5.77777063793248e-14*DerivQK*PK**2*QK**4/(6.30886699014073e-14*PK**6 + 1.62331557071147e-13*PK**4*QK**2 + 1.62331557071147e-13*PK**2*QK**4 + 6.30886699014073e-14*QK**6) - 1.9745174838745e-14*DerivQK*QK**6/(6.30886699014073e-14*PK**6 + 1.62331557071147e-13*PK**4*QK**2 + 1.62331557071147e-13*PK**2*QK**4 + 6.30886699014073e-14*QK**6) - 1.29050086631e-14*PK**6*QK/(6.30886699014073e-14*PK**6 + 1.62331557071147e-13*PK**4*QK**2 + 1.62331557071147e-13*PK**2*QK**4 + 6.30886699014073e-14*QK**6) - 3.05899897829769e-22*PK**6*cos(tau)/(6.30886699014073e-14*PK**6 + 1.62331557071147e-13*PK**4*QK**2 + 1.62331557071147e-13*PK**2*QK**4 + 6.30886699014073e-14*QK**6) + 2.09115338871131e-22*PK**5*QK*sin(tau)/(6.30886699014073e-14*PK**6 + 1.62331557071147e-13*PK**4*QK**2 + 1.62331557071147e-13*PK**2*QK**4 + 6.30886699014073e-14*QK**6) + 3.08700832387246e-24*PK**5*sqrt(PK**2 + QK**2)/(6.30886699014073e-14*PK**6 + 1.62331557071147e-13*PK**4*QK**2 + 1.62331557071147e-13*PK**2*QK**4 + 6.30886699014073e-14*QK**6) - 6.98494387402635e-14*PK**4*QK**3/(6.30886699014073e-14*PK**6 + 1.62331557071147e-13*PK**4*QK**2 + 1.62331557071147e-13*PK**2*QK**4 + 6.30886699014073e-14*QK**6) - 9.42085197988737e-22*PK**4*QK**2*cos(tau)/(6.30886699014073e-14*PK**6 + 1.62331557071147e-13*PK**4*QK**2 + 1.62331557071147e-13*PK**2*QK**4 + 6.30886699014073e-14*QK**6) + 2.10583816183444e-23*PK**4*QK*sqrt(PK**2 + QK**2)/(6.30886699014073e-14*PK**6 + 1.62331557071147e-13*PK**4*QK**2 + 1.62331557071147e-13*PK**2*QK**4 + 6.30886699014073e-14*QK**6) + 4.18230677742262e-22*PK**3*QK**3*sin(tau)/(6.30886699014073e-14*PK**6 + 1.62331557071147e-13*PK**4*QK**2 + 1.62331557071147e-13*PK**2*QK**4 + 6.30886699014073e-14*QK**6) + 4.30980374535823e-24*PK**3*QK**2*sqrt(PK**2 + QK**2)/(6.30886699014073e-14*PK**6 + 1.62331557071147e-13*PK**4*QK**2 + 1.62331557071147e-13*PK**2*QK**4 + 6.30886699014073e-14*QK**6) - 1.00983851491227e-13*PK**2*QK**5/(6.30886699014073e-14*PK**6 + 1.62331557071147e-13*PK**4*QK**2 + 1.62331557071147e-13*PK**2*QK**4 + 6.30886699014073e-14*QK**6) - 9.66470702488165e-22*PK**2*QK**4*cos(tau)/(6.30886699014073e-14*PK**6 + 1.62331557071147e-13*PK**4*QK**2 + 1.62331557071147e-13*PK**2*QK**4 + 6.30886699014073e-14*QK**6) + 9.29218701753267e-23*PK**2*QK**3*sqrt(PK**2 + QK**2)/(6.30886699014073e-14*PK**6 + 1.62331557071147e-13*PK**4*QK**2 + 1.62331557071147e-13*PK**2*QK**4 + 6.30886699014073e-14*QK**6) + 2.09115338871131e-22*PK*QK**5*sin(tau)/(6.30886699014073e-14*PK**6 + 1.62331557071147e-13*PK**4*QK**2 + 1.62331557071147e-13*PK**2*QK**4 + 6.30886699014073e-14*QK**6) + 1.22279542148577e-24*PK*QK**4*sqrt(PK**2 + QK**2)/(6.30886699014073e-14*PK**6 + 1.62331557071147e-13*PK**4*QK**2 + 1.62331557071147e-13*PK**2*QK**4 + 6.30886699014073e-14*QK**6) - 4.40394214140636e-14*QK**7/(6.30886699014073e-14*PK**6 + 1.62331557071147e-13*PK**4*QK**2 + 1.62331557071147e-13*PK**2*QK**4 + 6.30886699014073e-14*QK**6) - 3.30285402329198e-22*QK**6*cos(tau)/(6.30886699014073e-14*PK**6 + 1.62331557071147e-13*PK**4*QK**2 + 1.62331557071147e-13*PK**2*QK**4 + 6.30886699014073e-14*QK**6) + 7.18634885569822e-23*QK**5*sqrt(PK**2 + QK**2)/(6.30886699014073e-14*PK**6 + 1.62331557071147e-13*PK**4*QK**2 + 1.62331557071147e-13*PK**2*QK**4 + 6.30886699014073e-14*QK**6)"
      ]
     },
     "execution_count": 31,
     "metadata": {},
     "output_type": "execute_result"
    }
   ],
   "source": [
    "solucdiff2qq"
   ]
  },
  {
   "cell_type": "code",
   "execution_count": null,
   "metadata": {},
   "outputs": [],
   "source": []
  },
  {
   "cell_type": "code",
   "execution_count": 19,
   "metadata": {},
   "outputs": [
    {
     "name": "stdout",
     "output_type": "stream",
     "text": [
      "Help on function lambdify in module sympy.utilities.lambdify:\n",
      "\n",
      "lambdify(args, expr, modules=None, printer=None, use_imps=True, dummify=False)\n",
      "    Translates a SymPy expression into an equivalent numeric function\n",
      "    \n",
      "    For example, to convert the SymPy expression ``sin(x) + cos(x)`` to an\n",
      "    equivalent NumPy function that numerically evaluates it:\n",
      "    \n",
      "    >>> from sympy import sin, cos, symbols, lambdify\n",
      "    >>> import numpy as np\n",
      "    >>> x = symbols('x')\n",
      "    >>> expr = sin(x) + cos(x)\n",
      "    >>> expr\n",
      "    sin(x) + cos(x)\n",
      "    >>> f = lambdify(x, expr, 'numpy')\n",
      "    >>> a = np.array([1, 2])\n",
      "    >>> f(a)\n",
      "    [1.38177329 0.49315059]\n",
      "    \n",
      "    The primary purpose of this function is to provide a bridge from SymPy\n",
      "    expressions to numerical libraries such as NumPy, SciPy, NumExpr, mpmath,\n",
      "    and tensorflow. In general, SymPy functions do not work with objects from\n",
      "    other libraries, such as NumPy arrays, and functions from numeric\n",
      "    libraries like NumPy or mpmath do not work on SymPy expressions.\n",
      "    ``lambdify`` bridges the two by converting a SymPy expression to an\n",
      "    equivalent numeric function.\n",
      "    \n",
      "    The basic workflow with ``lambdify`` is to first create a SymPy expression\n",
      "    representing whatever mathematical function you wish to evaluate. This\n",
      "    should be done using only SymPy functions and expressions. Then, use\n",
      "    ``lambdify`` to convert this to an equivalent function for numerical\n",
      "    evaluation. For instance, above we created ``expr`` using the SymPy symbol\n",
      "    ``x`` and SymPy functions ``sin`` and ``cos``, then converted it to an\n",
      "    equivalent NumPy function ``f``, and called it on a NumPy array ``a``.\n",
      "    \n",
      "    .. warning::\n",
      "       This function uses ``exec``, and thus shouldn't be used on unsanitized\n",
      "       input.\n",
      "    \n",
      "    Arguments\n",
      "    =========\n",
      "    \n",
      "    The first argument of ``lambdify`` is a variable or list of variables in\n",
      "    the expression. Variable lists may be nested. Variables can be Symbols,\n",
      "    undefined functions, or matrix symbols. The order and nesting of the\n",
      "    variables corresponds to the order and nesting of the parameters passed to\n",
      "    the lambdified function. For instance,\n",
      "    \n",
      "    >>> from sympy.abc import x, y, z\n",
      "    >>> f = lambdify([x, (y, z)], x + y + z)\n",
      "    >>> f(1, (2, 3))\n",
      "    6\n",
      "    \n",
      "    The second argument of ``lambdify`` is the expression, list of\n",
      "    expressions, or matrix to be evaluated. Lists may be nested. If the\n",
      "    expression is a list, the output will also be a list.\n",
      "    \n",
      "    >>> f = lambdify(x, [x, [x + 1, x + 2]])\n",
      "    >>> f(1)\n",
      "    [1, [2, 3]]\n",
      "    \n",
      "    If it is a matrix, an array will be returned (for the NumPy module).\n",
      "    \n",
      "    >>> from sympy import Matrix\n",
      "    >>> f = lambdify(x, Matrix([x, x + 1]))\n",
      "    >>> f(1)\n",
      "    [[1]\n",
      "     [2]]\n",
      "    \n",
      "    Note that the argument order here, variables then expression, is used to\n",
      "    emulate the Python ``lambda`` keyword. ``lambdify(x, expr)`` works\n",
      "    (roughly) like ``lambda x: expr`` (see :ref:`lambdify-how-it-works` below).\n",
      "    \n",
      "    The third argument, ``modules`` is optional. If not specified, ``modules``\n",
      "    defaults to ``[\"scipy\", \"numpy\"]`` if SciPy is installed, ``[\"numpy\"]`` if\n",
      "    only NumPy is installed, and ``[\"math\", \"mpmath\", \"sympy\"]`` if neither is\n",
      "    installed. That is, SymPy functions are replaced as far as possible by\n",
      "    either ``scipy`` or ``numpy`` functions if available, and Python's\n",
      "    standard library ``math``, or ``mpmath`` functions otherwise.\n",
      "    \n",
      "    ``modules`` can be one of the following types\n",
      "    \n",
      "     - the strings ``\"math\"``, ``\"mpmath\"``, ``\"numpy\"``, ``\"numexpr\"``,\n",
      "       ``\"scipy\"``, ``\"sympy\"``, or ``\"tensorflow\"``. This uses the\n",
      "       corresponding printer and namespace mapping for that module.\n",
      "     - a module (e.g., ``math``). This uses the global namespace of the\n",
      "       module. If the module is one of the above known modules, it will also\n",
      "       use the corresponding printer and namespace mapping (i.e.,\n",
      "       ``modules=numpy`` is equivalent to ``modules=\"numpy\"``).\n",
      "     - a dictionary that maps names of SymPy functions to arbitrary functions\n",
      "       (e.g., ``{'sin': custom_sin}``).\n",
      "     - a list that contains a mix of the arguments above, with higher priority\n",
      "       given to entries appearing first (e.g., to use the NumPy module but\n",
      "       override the ``sin`` function with a custom version, you can use\n",
      "       ``[{'sin': custom_sin}, 'numpy']``).\n",
      "    \n",
      "    The ``dummify`` keyword argument controls whether or not the variables in\n",
      "    the provided expression that are not valid Python identifiers are\n",
      "    substituted with dummy symbols. This allows for undefined functions like\n",
      "    ``Function('f')(t)`` to be supplied as arguments. By default, the\n",
      "    variables are only dummified if they are not valid Python identifiers. Set\n",
      "    ``dummify=True`` to replace all arguments with dummy symbols (if ``args``\n",
      "    is not a string) - for example, to ensure that the arguments do not\n",
      "    redefine any built-in names.\n",
      "    \n",
      "    .. _lambdify-how-it-works:\n",
      "    \n",
      "    How it works\n",
      "    ============\n",
      "    \n",
      "    When using this function, it helps a great deal to have an idea of what it\n",
      "    is doing. At its core, lambdify is nothing more than a namespace\n",
      "    translation, on top of a special printer that makes some corner cases work\n",
      "    properly.\n",
      "    \n",
      "    To understand lambdify, first we must properly understand how Python\n",
      "    namespaces work. Say we had two files. One called ``sin_cos_sympy.py``,\n",
      "    with\n",
      "    \n",
      "    .. code:: python\n",
      "    \n",
      "        # sin_cos_sympy.py\n",
      "    \n",
      "        from sympy import sin, cos\n",
      "    \n",
      "        def sin_cos(x):\n",
      "            return sin(x) + cos(x)\n",
      "    \n",
      "    \n",
      "    and one called ``sin_cos_numpy.py`` with\n",
      "    \n",
      "    .. code:: python\n",
      "    \n",
      "        # sin_cos_numpy.py\n",
      "    \n",
      "        from numpy import sin, cos\n",
      "    \n",
      "        def sin_cos(x):\n",
      "            return sin(x) + cos(x)\n",
      "    \n",
      "    The two files define an identical function ``sin_cos``. However, in the\n",
      "    first file, ``sin`` and ``cos`` are defined as the SymPy ``sin`` and\n",
      "    ``cos``. In the second, they are defined as the NumPy versions.\n",
      "    \n",
      "    If we were to import the first file and use the ``sin_cos`` function, we\n",
      "    would get something like\n",
      "    \n",
      "    >>> from sin_cos_sympy import sin_cos # doctest: +SKIP\n",
      "    >>> sin_cos(1) # doctest: +SKIP\n",
      "    cos(1) + sin(1)\n",
      "    \n",
      "    On the other hand, if we imported ``sin_cos`` from the second file, we\n",
      "    would get\n",
      "    \n",
      "    >>> from sin_cos_numpy import sin_cos # doctest: +SKIP\n",
      "    >>> sin_cos(1) # doctest: +SKIP\n",
      "    1.38177329068\n",
      "    \n",
      "    In the first case we got a symbolic output, because it used the symbolic\n",
      "    ``sin`` and ``cos`` functions from SymPy. In the second, we got a numeric\n",
      "    result, because ``sin_cos`` used the numeric ``sin`` and ``cos`` functions\n",
      "    from NumPy. But notice that the versions of ``sin`` and ``cos`` that were\n",
      "    used was not inherent to the ``sin_cos`` function definition. Both\n",
      "    ``sin_cos`` definitions are exactly the same. Rather, it was based on the\n",
      "    names defined at the module where the ``sin_cos`` function was defined.\n",
      "    \n",
      "    The key point here is that when function in Python references a name that\n",
      "    is not defined in the function, that name is looked up in the \"global\"\n",
      "    namespace of the module where that function is defined.\n",
      "    \n",
      "    Now, in Python, we can emulate this behavior without actually writing a\n",
      "    file to disk using the ``exec`` function. ``exec`` takes a string\n",
      "    containing a block of Python code, and a dictionary that should contain\n",
      "    the global variables of the module. It then executes the code \"in\" that\n",
      "    dictionary, as if it were the module globals. The following is equivalent\n",
      "    to the ``sin_cos`` defined in ``sin_cos_sympy.py``:\n",
      "    \n",
      "    >>> import sympy\n",
      "    >>> module_dictionary = {'sin': sympy.sin, 'cos': sympy.cos}\n",
      "    >>> exec('''\n",
      "    ... def sin_cos(x):\n",
      "    ...     return sin(x) + cos(x)\n",
      "    ... ''', module_dictionary)\n",
      "    >>> sin_cos = module_dictionary['sin_cos']\n",
      "    >>> sin_cos(1)\n",
      "    cos(1) + sin(1)\n",
      "    \n",
      "    and similarly with ``sin_cos_numpy``:\n",
      "    \n",
      "    >>> import numpy\n",
      "    >>> module_dictionary = {'sin': numpy.sin, 'cos': numpy.cos}\n",
      "    >>> exec('''\n",
      "    ... def sin_cos(x):\n",
      "    ...     return sin(x) + cos(x)\n",
      "    ... ''', module_dictionary)\n",
      "    >>> sin_cos = module_dictionary['sin_cos']\n",
      "    >>> sin_cos(1)\n",
      "    1.38177329068\n",
      "    \n",
      "    So now we can get an idea of how ``lambdify`` works. The name \"lambdify\"\n",
      "    comes from the fact that we can think of something like ``lambdify(x,\n",
      "    sin(x) + cos(x), 'numpy')`` as ``lambda x: sin(x) + cos(x)``, where\n",
      "    ``sin`` and ``cos`` come from the ``numpy`` namespace. This is also why\n",
      "    the symbols argument is first in ``lambdify``, as opposed to most SymPy\n",
      "    functions where it comes after the expression: to better mimic the\n",
      "    ``lambda`` keyword.\n",
      "    \n",
      "    ``lambdify`` takes the input expression (like ``sin(x) + cos(x)``) and\n",
      "    \n",
      "    1. Converts it to a string\n",
      "    2. Creates a module globals dictionary based on the modules that are\n",
      "       passed in (by default, it uses the NumPy module)\n",
      "    3. Creates the string ``\"def func({vars}): return {expr}\"``, where ``{vars}`` is the\n",
      "       list of variables separated by commas, and ``{expr}`` is the string\n",
      "       created in step 1., then ``exec``s that string with the module globals\n",
      "       namespace and returns ``func``.\n",
      "    \n",
      "    In fact, functions returned by ``lambdify`` support inspection. So you can\n",
      "    see exactly how they are defined by using ``inspect.getsource``, or ``??`` if you\n",
      "    are using IPython or the Jupyter notebook.\n",
      "    \n",
      "    >>> f = lambdify(x, sin(x) + cos(x))\n",
      "    >>> import inspect\n",
      "    >>> print(inspect.getsource(f))\n",
      "    def _lambdifygenerated(x):\n",
      "        return (sin(x) + cos(x))\n",
      "    \n",
      "    This shows us the source code of the function, but not the namespace it\n",
      "    was defined in. We can inspect that by looking at the ``__globals__``\n",
      "    attribute of ``f``:\n",
      "    \n",
      "    >>> f.__globals__['sin']\n",
      "    <ufunc 'sin'>\n",
      "    >>> f.__globals__['cos']\n",
      "    <ufunc 'cos'>\n",
      "    >>> f.__globals__['sin'] is numpy.sin\n",
      "    True\n",
      "    \n",
      "    This shows us that ``sin`` and ``cos`` in the namespace of ``f`` will be\n",
      "    ``numpy.sin`` and ``numpy.cos``.\n",
      "    \n",
      "    Note that there are some convenience layers in each of these steps, but at\n",
      "    the core, this is how ``lambdify`` works. Step 1 is done using the\n",
      "    ``LambdaPrinter`` printers defined in the printing module (see\n",
      "    :mod:`sympy.printing.lambdarepr`). This allows different SymPy expressions\n",
      "    to define how they should be converted to a string for different modules.\n",
      "    You can change which printer ``lambdify`` uses by passing a custom printer\n",
      "    in to the ``printer`` argument.\n",
      "    \n",
      "    Step 2 is augmented by certain translations. There are default\n",
      "    translations for each module, but you can provide your own by passing a\n",
      "    list to the ``modules`` argument. For instance,\n",
      "    \n",
      "    >>> def mysin(x):\n",
      "    ...     print('taking the sin of', x)\n",
      "    ...     return numpy.sin(x)\n",
      "    ...\n",
      "    >>> f = lambdify(x, sin(x), [{'sin': mysin}, 'numpy'])\n",
      "    >>> f(1)\n",
      "    taking the sin of 1\n",
      "    0.8414709848078965\n",
      "    \n",
      "    The globals dictionary is generated from the list by merging the\n",
      "    dictionary ``{'sin': mysin}`` and the module dictionary for NumPy. The\n",
      "    merging is done so that earlier items take precedence, which is why\n",
      "    ``mysin`` is used above instead of ``numpy.sin``.\n",
      "    \n",
      "    If you want to modify the way ``lambdify`` works for a given function, it\n",
      "    is usually easiest to do so by modifying the globals dictionary as such.\n",
      "    In more complicated cases, it may be necessary to create and pass in a\n",
      "    custom printer.\n",
      "    \n",
      "    Finally, step 3 is augmented with certain convenience operations, such as\n",
      "    the addition of a docstring.\n",
      "    \n",
      "    Understanding how ``lambdify`` works can make it easier to avoid certain\n",
      "    gotchas when using it. For instance, a common mistake is to create a\n",
      "    lambdified function for one module (say, NumPy), and pass it objects from\n",
      "    another (say, a SymPy expression).\n",
      "    \n",
      "    For instance, say we create\n",
      "    \n",
      "    >>> from sympy.abc import x\n",
      "    >>> f = lambdify(x, x + 1, 'numpy')\n",
      "    \n",
      "    Now if we pass in a NumPy array, we get that array plus 1\n",
      "    \n",
      "    >>> import numpy\n",
      "    >>> a = numpy.array([1, 2])\n",
      "    >>> f(a)\n",
      "    [2 3]\n",
      "    \n",
      "    But what happens if you make the mistake of passing in a SymPy expression\n",
      "    instead of a NumPy array:\n",
      "    \n",
      "    >>> f(x + 1)\n",
      "    x + 2\n",
      "    \n",
      "    This worked, but it was only by accident. Now take a different lambdified\n",
      "    function:\n",
      "    \n",
      "    >>> from sympy import sin\n",
      "    >>> g = lambdify(x, x + sin(x), 'numpy')\n",
      "    \n",
      "    This works as expected on NumPy arrays:\n",
      "    \n",
      "    >>> g(a)\n",
      "    [1.84147098 2.90929743]\n",
      "    \n",
      "    But if we try to pass in a SymPy expression, it fails\n",
      "    \n",
      "    >>> try:\n",
      "    ...     g(x + 1)\n",
      "    ... # NumPy release after 1.17 raises TypeError instead of\n",
      "    ... # AttributeError\n",
      "    ... except (AttributeError, TypeError):\n",
      "    ...     raise AttributeError() # doctest: +IGNORE_EXCEPTION_DETAIL\n",
      "    Traceback (most recent call last):\n",
      "    ...\n",
      "    AttributeError:\n",
      "    \n",
      "    Now, let's look at what happened. The reason this fails is that ``g``\n",
      "    calls ``numpy.sin`` on the input expression, and ``numpy.sin`` does not\n",
      "    know how to operate on a SymPy object. **As a general rule, NumPy\n",
      "    functions do not know how to operate on SymPy expressions, and SymPy\n",
      "    functions do not know how to operate on NumPy arrays. This is why lambdify\n",
      "    exists: to provide a bridge between SymPy and NumPy.**\n",
      "    \n",
      "    However, why is it that ``f`` did work? That's because ``f`` doesn't call\n",
      "    any functions, it only adds 1. So the resulting function that is created,\n",
      "    ``def _lambdifygenerated(x): return x + 1`` does not depend on the globals\n",
      "    namespace it is defined in. Thus it works, but only by accident. A future\n",
      "    version of ``lambdify`` may remove this behavior.\n",
      "    \n",
      "    Be aware that certain implementation details described here may change in\n",
      "    future versions of SymPy. The API of passing in custom modules and\n",
      "    printers will not change, but the details of how a lambda function is\n",
      "    created may change. However, the basic idea will remain the same, and\n",
      "    understanding it will be helpful to understanding the behavior of\n",
      "    lambdify.\n",
      "    \n",
      "    **In general: you should create lambdified functions for one module (say,\n",
      "    NumPy), and only pass it input types that are compatible with that module\n",
      "    (say, NumPy arrays).** Remember that by default, if the ``module``\n",
      "    argument is not provided, ``lambdify`` creates functions using the NumPy\n",
      "    and SciPy namespaces.\n",
      "    \n",
      "    Examples\n",
      "    ========\n",
      "    \n",
      "    >>> from sympy.utilities.lambdify import implemented_function\n",
      "    >>> from sympy import sqrt, sin, Matrix\n",
      "    >>> from sympy import Function\n",
      "    >>> from sympy.abc import w, x, y, z\n",
      "    \n",
      "    >>> f = lambdify(x, x**2)\n",
      "    >>> f(2)\n",
      "    4\n",
      "    >>> f = lambdify((x, y, z), [z, y, x])\n",
      "    >>> f(1,2,3)\n",
      "    [3, 2, 1]\n",
      "    >>> f = lambdify(x, sqrt(x))\n",
      "    >>> f(4)\n",
      "    2.0\n",
      "    >>> f = lambdify((x, y), sin(x*y)**2)\n",
      "    >>> f(0, 5)\n",
      "    0.0\n",
      "    >>> row = lambdify((x, y), Matrix((x, x + y)).T, modules='sympy')\n",
      "    >>> row(1, 2)\n",
      "    Matrix([[1, 3]])\n",
      "    \n",
      "    ``lambdify`` can be used to translate SymPy expressions into mpmath\n",
      "    functions. This may be preferable to using ``evalf`` (which uses mpmath on\n",
      "    the backend) in some cases.\n",
      "    \n",
      "    >>> import mpmath\n",
      "    >>> f = lambdify(x, sin(x), 'mpmath')\n",
      "    >>> f(1)\n",
      "    0.8414709848078965\n",
      "    \n",
      "    Tuple arguments are handled and the lambdified function should\n",
      "    be called with the same type of arguments as were used to create\n",
      "    the function:\n",
      "    \n",
      "    >>> f = lambdify((x, (y, z)), x + y)\n",
      "    >>> f(1, (2, 4))\n",
      "    3\n",
      "    \n",
      "    The ``flatten`` function can be used to always work with flattened\n",
      "    arguments:\n",
      "    \n",
      "    >>> from sympy.utilities.iterables import flatten\n",
      "    >>> args = w, (x, (y, z))\n",
      "    >>> vals = 1, (2, (3, 4))\n",
      "    >>> f = lambdify(flatten(args), w + x + y + z)\n",
      "    >>> f(*flatten(vals))\n",
      "    10\n",
      "    \n",
      "    Functions present in ``expr`` can also carry their own numerical\n",
      "    implementations, in a callable attached to the ``_imp_`` attribute. This\n",
      "    can be used with undefined functions using the ``implemented_function``\n",
      "    factory:\n",
      "    \n",
      "    >>> f = implemented_function(Function('f'), lambda x: x+1)\n",
      "    >>> func = lambdify(x, f(x))\n",
      "    >>> func(4)\n",
      "    5\n",
      "    \n",
      "    ``lambdify`` always prefers ``_imp_`` implementations to implementations\n",
      "    in other namespaces, unless the ``use_imps`` input parameter is False.\n",
      "    \n",
      "    Usage with Tensorflow:\n",
      "    \n",
      "    >>> import tensorflow as tf\n",
      "    >>> from sympy import Max, sin, lambdify\n",
      "    >>> from sympy.abc import x\n",
      "    \n",
      "    >>> f = Max(x, sin(x))\n",
      "    >>> func = lambdify(x, f, 'tensorflow')\n",
      "    \n",
      "    After tensorflow v2, eager execution is enabled by default.\n",
      "    If you want to get the compatible result across tensorflow v1 and v2\n",
      "    as same as this tutorial, run this line.\n",
      "    \n",
      "    >>> tf.compat.v1.enable_eager_execution()\n",
      "    \n",
      "    If you have eager execution enabled, you can get the result out\n",
      "    immediately as you can use numpy.\n",
      "    \n",
      "    If you pass tensorflow objects, you may get an ``EagerTensor``\n",
      "    object instead of value.\n",
      "    \n",
      "    >>> result = func(tf.constant(1.0))\n",
      "    >>> print(result)\n",
      "    tf.Tensor(1.0, shape=(), dtype=float32)\n",
      "    >>> print(result.__class__)\n",
      "    <class 'tensorflow.python.framework.ops.EagerTensor'>\n",
      "    \n",
      "    You can use ``.numpy()`` to get the numpy value of the tensor.\n",
      "    \n",
      "    >>> result.numpy()\n",
      "    1.0\n",
      "    \n",
      "    >>> var = tf.Variable(2.0)\n",
      "    >>> result = func(var) # also works for tf.Variable and tf.Placeholder\n",
      "    >>> result.numpy()\n",
      "    2.0\n",
      "    \n",
      "    And it works with any shape array.\n",
      "    \n",
      "    >>> tensor = tf.constant([[1.0, 2.0], [3.0, 4.0]])\n",
      "    >>> result = func(tensor)\n",
      "    >>> result.numpy()\n",
      "    [[1. 2.]\n",
      "     [3. 4.]]\n",
      "    \n",
      "    Notes\n",
      "    =====\n",
      "    \n",
      "    - For functions involving large array calculations, numexpr can provide a\n",
      "      significant speedup over numpy. Please note that the available functions\n",
      "      for numexpr are more limited than numpy but can be expanded with\n",
      "      ``implemented_function`` and user defined subclasses of Function. If\n",
      "      specified, numexpr may be the only option in modules. The official list\n",
      "      of numexpr functions can be found at:\n",
      "      https://numexpr.readthedocs.io/en/latest/user_guide.html#supported-functions\n",
      "    \n",
      "    - In previous versions of SymPy, ``lambdify`` replaced ``Matrix`` with\n",
      "      ``numpy.matrix`` by default. As of SymPy 1.0 ``numpy.array`` is the\n",
      "      default. To get the old default behavior you must pass in\n",
      "      ``[{'ImmutableDenseMatrix':  numpy.matrix}, 'numpy']`` to the\n",
      "      ``modules`` kwarg.\n",
      "    \n",
      "      >>> from sympy import lambdify, Matrix\n",
      "      >>> from sympy.abc import x, y\n",
      "      >>> import numpy\n",
      "      >>> array2mat = [{'ImmutableDenseMatrix': numpy.matrix}, 'numpy']\n",
      "      >>> f = lambdify((x, y), Matrix([x, y]), modules=array2mat)\n",
      "      >>> f(1, 2)\n",
      "      [[1]\n",
      "       [2]]\n",
      "    \n",
      "    - In the above examples, the generated functions can accept scalar\n",
      "      values or numpy arrays as arguments.  However, in some cases\n",
      "      the generated function relies on the input being a numpy array:\n",
      "    \n",
      "      >>> from sympy import Piecewise\n",
      "      >>> from sympy.utilities.pytest import ignore_warnings\n",
      "      >>> f = lambdify(x, Piecewise((x, x <= 1), (1/x, x > 1)), \"numpy\")\n",
      "    \n",
      "      >>> with ignore_warnings(RuntimeWarning):\n",
      "      ...     f(numpy.array([-1, 0, 1, 2]))\n",
      "      [-1.   0.   1.   0.5]\n",
      "    \n",
      "      >>> f(0)\n",
      "      Traceback (most recent call last):\n",
      "          ...\n",
      "      ZeroDivisionError: division by zero\n",
      "    \n",
      "      In such cases, the input should be wrapped in a numpy array:\n",
      "    \n",
      "      >>> with ignore_warnings(RuntimeWarning):\n",
      "      ...     float(f(numpy.array([0])))\n",
      "      0.0\n",
      "    \n",
      "      Or if numpy functionality is not required another module can be used:\n",
      "    \n",
      "      >>> f = lambdify(x, Piecewise((x, x <= 1), (1/x, x > 1)), \"math\")\n",
      "      >>> f(0)\n",
      "      0\n",
      "\n"
     ]
    }
   ],
   "source": [
    "help(sympy.lambdify)"
   ]
  },
  {
   "cell_type": "code",
   "execution_count": 18,
   "metadata": {},
   "outputs": [],
   "source": []
  },
  {
   "cell_type": "code",
   "execution_count": 19,
   "metadata": {},
   "outputs": [
    {
     "name": "stdout",
     "output_type": "stream",
     "text": [
      "Help on function solve_ivp in module scipy.integrate._ivp.ivp:\n",
      "\n",
      "solve_ivp(fun, t_span, y0, method='RK45', t_eval=None, dense_output=False, events=None, vectorized=False, args=None, **options)\n",
      "    Solve an initial value problem for a system of ODEs.\n",
      "    \n",
      "    This function numerically integrates a system of ordinary differential\n",
      "    equations given an initial value::\n",
      "    \n",
      "        dy / dt = f(t, y)\n",
      "        y(t0) = y0\n",
      "    \n",
      "    Here t is a one-dimensional independent variable (time), y(t) is an\n",
      "    n-dimensional vector-valued function (state), and an n-dimensional\n",
      "    vector-valued function f(t, y) determines the differential equations.\n",
      "    The goal is to find y(t) approximately satisfying the differential\n",
      "    equations, given an initial value y(t0)=y0.\n",
      "    \n",
      "    Some of the solvers support integration in the complex domain, but note\n",
      "    that for stiff ODE solvers, the right-hand side must be\n",
      "    complex-differentiable (satisfy Cauchy-Riemann equations [11]_).\n",
      "    To solve a problem in the complex domain, pass y0 with a complex data type.\n",
      "    Another option always available is to rewrite your problem for real and\n",
      "    imaginary parts separately.\n",
      "    \n",
      "    Parameters\n",
      "    ----------\n",
      "    fun : callable\n",
      "        Right-hand side of the system. The calling signature is ``fun(t, y)``.\n",
      "        Here `t` is a scalar, and there are two options for the ndarray `y`:\n",
      "        It can either have shape (n,); then `fun` must return array_like with\n",
      "        shape (n,). Alternatively it can have shape (n, k); then `fun`\n",
      "        must return an array_like with shape (n, k), i.e. each column\n",
      "        corresponds to a single column in `y`. The choice between the two\n",
      "        options is determined by `vectorized` argument (see below). The\n",
      "        vectorized implementation allows a faster approximation of the Jacobian\n",
      "        by finite differences (required for stiff solvers).\n",
      "    t_span : 2-tuple of floats\n",
      "        Interval of integration (t0, tf). The solver starts with t=t0 and\n",
      "        integrates until it reaches t=tf.\n",
      "    y0 : array_like, shape (n,)\n",
      "        Initial state. For problems in the complex domain, pass `y0` with a\n",
      "        complex data type (even if the initial value is purely real).\n",
      "    method : string or `OdeSolver`, optional\n",
      "        Integration method to use:\n",
      "    \n",
      "            * 'RK45' (default): Explicit Runge-Kutta method of order 5(4) [1]_.\n",
      "              The error is controlled assuming accuracy of the fourth-order\n",
      "              method, but steps are taken using the fifth-order accurate\n",
      "              formula (local extrapolation is done). A quartic interpolation\n",
      "              polynomial is used for the dense output [2]_. Can be applied in\n",
      "              the complex domain.\n",
      "            * 'RK23': Explicit Runge-Kutta method of order 3(2) [3]_. The error\n",
      "              is controlled assuming accuracy of the second-order method, but\n",
      "              steps are taken using the third-order accurate formula (local\n",
      "              extrapolation is done). A cubic Hermite polynomial is used for the\n",
      "              dense output. Can be applied in the complex domain.\n",
      "            * 'DOP853': Explicit Runge-Kutta method of order 8 [13]_.\n",
      "              Python implementation of the \"DOP853\" algorithm originally\n",
      "              written in Fortran [14]_. A 7-th order interpolation polynomial\n",
      "              accurate to 7-th order is used for the dense output.\n",
      "              Can be applied in the complex domain.\n",
      "            * 'Radau': Implicit Runge-Kutta method of the Radau IIA family of\n",
      "              order 5 [4]_. The error is controlled with a third-order accurate\n",
      "              embedded formula. A cubic polynomial which satisfies the\n",
      "              collocation conditions is used for the dense output.\n",
      "            * 'BDF': Implicit multi-step variable-order (1 to 5) method based\n",
      "              on a backward differentiation formula for the derivative\n",
      "              approximation [5]_. The implementation follows the one described\n",
      "              in [6]_. A quasi-constant step scheme is used and accuracy is\n",
      "              enhanced using the NDF modification. Can be applied in the\n",
      "              complex domain.\n",
      "            * 'LSODA': Adams/BDF method with automatic stiffness detection and\n",
      "              switching [7]_, [8]_. This is a wrapper of the Fortran solver\n",
      "              from ODEPACK.\n",
      "    \n",
      "        Explicit Runge-Kutta methods ('RK23', 'RK45', 'DOP853') should be used\n",
      "        for non-stiff problems and implicit methods ('Radau', 'BDF') for\n",
      "        stiff problems [9]_. Among Runge-Kutta methods, 'DOP853' is recommended\n",
      "        for solving with high precision (low values of `rtol` and `atol`).\n",
      "    \n",
      "        If not sure, first try to run 'RK45'. If it makes unusually many\n",
      "        iterations, diverges, or fails, your problem is likely to be stiff and\n",
      "        you should use 'Radau' or 'BDF'. 'LSODA' can also be a good universal\n",
      "        choice, but it might be somewhat less convenient to work with as it\n",
      "        wraps old Fortran code.\n",
      "    \n",
      "        You can also pass an arbitrary class derived from `OdeSolver` which\n",
      "        implements the solver.\n",
      "    t_eval : array_like or None, optional\n",
      "        Times at which to store the computed solution, must be sorted and lie\n",
      "        within `t_span`. If None (default), use points selected by the solver.\n",
      "    dense_output : bool, optional\n",
      "        Whether to compute a continuous solution. Default is False.\n",
      "    events : callable, or list of callables, optional\n",
      "        Events to track. If None (default), no events will be tracked.\n",
      "        Each event occurs at the zeros of a continuous function of time and\n",
      "        state. Each function must have the signature ``event(t, y)`` and return\n",
      "        a float. The solver will find an accurate value of `t` at which\n",
      "        ``event(t, y(t)) = 0`` using a root-finding algorithm. By default, all\n",
      "        zeros will be found. The solver looks for a sign change over each step,\n",
      "        so if multiple zero crossings occur within one step, events may be\n",
      "        missed. Additionally each `event` function might have the following\n",
      "        attributes:\n",
      "    \n",
      "            terminal: bool, optional\n",
      "                Whether to terminate integration if this event occurs.\n",
      "                Implicitly False if not assigned.\n",
      "            direction: float, optional\n",
      "                Direction of a zero crossing. If `direction` is positive,\n",
      "                `event` will only trigger when going from negative to positive,\n",
      "                and vice versa if `direction` is negative. If 0, then either\n",
      "                direction will trigger event. Implicitly 0 if not assigned.\n",
      "    \n",
      "        You can assign attributes like ``event.terminal = True`` to any\n",
      "        function in Python. \n",
      "    vectorized : bool, optional\n",
      "        Whether `fun` is implemented in a vectorized fashion. Default is False.\n",
      "    args : tuple, optional\n",
      "        Additional arguments to pass to the user-defined functions.  If given,\n",
      "        the additional arguments are passed to all user-defined functions.\n",
      "        So if, for example, `fun` has the signature ``fun(t, y, a, b, c)``,\n",
      "        then `jac` (if given) and any event functions must have the same\n",
      "        signature, and `args` must be a tuple of length 3.\n",
      "    options\n",
      "        Options passed to a chosen solver. All options available for already\n",
      "        implemented solvers are listed below.\n",
      "    first_step : float or None, optional\n",
      "        Initial step size. Default is `None` which means that the algorithm\n",
      "        should choose.\n",
      "    max_step : float, optional\n",
      "        Maximum allowed step size. Default is np.inf, i.e. the step size is not\n",
      "        bounded and determined solely by the solver.\n",
      "    rtol, atol : float or array_like, optional\n",
      "        Relative and absolute tolerances. The solver keeps the local error\n",
      "        estimates less than ``atol + rtol * abs(y)``. Here `rtol` controls a\n",
      "        relative accuracy (number of correct digits). But if a component of `y`\n",
      "        is approximately below `atol`, the error only needs to fall within\n",
      "        the same `atol` threshold, and the number of correct digits is not\n",
      "        guaranteed. If components of y have different scales, it might be\n",
      "        beneficial to set different `atol` values for different components by\n",
      "        passing array_like with shape (n,) for `atol`. Default values are\n",
      "        1e-3 for `rtol` and 1e-6 for `atol`.\n",
      "    jac : array_like, sparse_matrix, callable or None, optional\n",
      "        Jacobian matrix of the right-hand side of the system with respect\n",
      "        to y, required by the 'Radau', 'BDF' and 'LSODA' method. The\n",
      "        Jacobian matrix has shape (n, n) and its element (i, j) is equal to\n",
      "        ``d f_i / d y_j``.  There are three ways to define the Jacobian:\n",
      "    \n",
      "            * If array_like or sparse_matrix, the Jacobian is assumed to\n",
      "              be constant. Not supported by 'LSODA'.\n",
      "            * If callable, the Jacobian is assumed to depend on both\n",
      "              t and y; it will be called as ``jac(t, y)`` as necessary.\n",
      "              For 'Radau' and 'BDF' methods, the return value might be a\n",
      "              sparse matrix.\n",
      "            * If None (default), the Jacobian will be approximated by\n",
      "              finite differences.\n",
      "    \n",
      "        It is generally recommended to provide the Jacobian rather than\n",
      "        relying on a finite-difference approximation.\n",
      "    jac_sparsity : array_like, sparse matrix or None, optional\n",
      "        Defines a sparsity structure of the Jacobian matrix for a finite-\n",
      "        difference approximation. Its shape must be (n, n). This argument\n",
      "        is ignored if `jac` is not `None`. If the Jacobian has only few\n",
      "        non-zero elements in *each* row, providing the sparsity structure\n",
      "        will greatly speed up the computations [10]_. A zero entry means that\n",
      "        a corresponding element in the Jacobian is always zero. If None\n",
      "        (default), the Jacobian is assumed to be dense.\n",
      "        Not supported by 'LSODA', see `lband` and `uband` instead.\n",
      "    lband, uband : int or None, optional\n",
      "        Parameters defining the bandwidth of the Jacobian for the 'LSODA'\n",
      "        method, i.e., ``jac[i, j] != 0 only for i - lband <= j <= i + uband``.\n",
      "        Default is None. Setting these requires your jac routine to return the\n",
      "        Jacobian in the packed format: the returned array must have ``n``\n",
      "        columns and ``uband + lband + 1`` rows in which Jacobian diagonals are\n",
      "        written. Specifically ``jac_packed[uband + i - j , j] = jac[i, j]``.\n",
      "        The same format is used in `scipy.linalg.solve_banded` (check for an\n",
      "        illustration).  These parameters can be also used with ``jac=None`` to\n",
      "        reduce the number of Jacobian elements estimated by finite differences.\n",
      "    min_step : float, optional\n",
      "        The minimum allowed step size for 'LSODA' method. \n",
      "        By default `min_step` is zero.\n",
      "    \n",
      "    Returns\n",
      "    -------\n",
      "    Bunch object with the following fields defined:\n",
      "    t : ndarray, shape (n_points,)\n",
      "        Time points.\n",
      "    y : ndarray, shape (n, n_points)\n",
      "        Values of the solution at `t`.\n",
      "    sol : `OdeSolution` or None\n",
      "        Found solution as `OdeSolution` instance; None if `dense_output` was\n",
      "        set to False.\n",
      "    t_events : list of ndarray or None\n",
      "        Contains for each event type a list of arrays at which an event of\n",
      "        that type event was detected. None if `events` was None.\n",
      "    y_events : list of ndarray or None\n",
      "        For each value of `t_events`, the corresponding value of the solution.\n",
      "        None if `events` was None.\n",
      "    nfev : int\n",
      "        Number of evaluations of the right-hand side.\n",
      "    njev : int\n",
      "        Number of evaluations of the Jacobian.\n",
      "    nlu : int\n",
      "        Number of LU decompositions.\n",
      "    status : int\n",
      "        Reason for algorithm termination:\n",
      "    \n",
      "            * -1: Integration step failed.\n",
      "            *  0: The solver successfully reached the end of `tspan`.\n",
      "            *  1: A termination event occurred.\n",
      "    \n",
      "    message : string\n",
      "        Human-readable description of the termination reason.\n",
      "    success : bool\n",
      "        True if the solver reached the interval end or a termination event\n",
      "        occurred (``status >= 0``).\n",
      "    \n",
      "    References\n",
      "    ----------\n",
      "    .. [1] J. R. Dormand, P. J. Prince, \"A family of embedded Runge-Kutta\n",
      "           formulae\", Journal of Computational and Applied Mathematics, Vol. 6,\n",
      "           No. 1, pp. 19-26, 1980.\n",
      "    .. [2] L. W. Shampine, \"Some Practical Runge-Kutta Formulas\", Mathematics\n",
      "           of Computation,, Vol. 46, No. 173, pp. 135-150, 1986.\n",
      "    .. [3] P. Bogacki, L.F. Shampine, \"A 3(2) Pair of Runge-Kutta Formulas\",\n",
      "           Appl. Math. Lett. Vol. 2, No. 4. pp. 321-325, 1989.\n",
      "    .. [4] E. Hairer, G. Wanner, \"Solving Ordinary Differential Equations II:\n",
      "           Stiff and Differential-Algebraic Problems\", Sec. IV.8.\n",
      "    .. [5] `Backward Differentiation Formula\n",
      "            <https://en.wikipedia.org/wiki/Backward_differentiation_formula>`_\n",
      "            on Wikipedia.\n",
      "    .. [6] L. F. Shampine, M. W. Reichelt, \"THE MATLAB ODE SUITE\", SIAM J. SCI.\n",
      "           COMPUTE., Vol. 18, No. 1, pp. 1-22, January 1997.\n",
      "    .. [7] A. C. Hindmarsh, \"ODEPACK, A Systematized Collection of ODE\n",
      "           Solvers,\" IMACS Transactions on Scientific Computation, Vol 1.,\n",
      "           pp. 55-64, 1983.\n",
      "    .. [8] L. Petzold, \"Automatic selection of methods for solving stiff and\n",
      "           nonstiff systems of ordinary differential equations\", SIAM Journal\n",
      "           on Scientific and Statistical Computing, Vol. 4, No. 1, pp. 136-148,\n",
      "           1983.\n",
      "    .. [9] `Stiff equation <https://en.wikipedia.org/wiki/Stiff_equation>`_ on\n",
      "           Wikipedia.\n",
      "    .. [10] A. Curtis, M. J. D. Powell, and J. Reid, \"On the estimation of\n",
      "            sparse Jacobian matrices\", Journal of the Institute of Mathematics\n",
      "            and its Applications, 13, pp. 117-120, 1974.\n",
      "    .. [11] `Cauchy-Riemann equations\n",
      "             <https://en.wikipedia.org/wiki/Cauchy-Riemann_equations>`_ on\n",
      "             Wikipedia.\n",
      "    .. [12] `Lotka-Volterra equations\n",
      "            <https://en.wikipedia.org/wiki/Lotka%E2%80%93Volterra_equations>`_\n",
      "            on Wikipedia.\n",
      "    .. [13] E. Hairer, S. P. Norsett G. Wanner, \"Solving Ordinary Differential\n",
      "            Equations I: Nonstiff Problems\", Sec. II.\n",
      "    .. [14] `Page with original Fortran code of DOP853\n",
      "            <http://www.unige.ch/~hairer/software.html>`_.\n",
      "    \n",
      "    Examples\n",
      "    --------\n",
      "    Basic exponential decay showing automatically chosen time points.\n",
      "    \n",
      "    >>> from scipy.integrate import solve_ivp\n",
      "    >>> def exponential_decay(t, y): return -0.5 * y\n",
      "    >>> sol = solve_ivp(exponential_decay, [0, 10], [2, 4, 8])\n",
      "    >>> print(sol.t)\n",
      "    [ 0.          0.11487653  1.26364188  3.06061781  4.81611105  6.57445806\n",
      "      8.33328988 10.        ]\n",
      "    >>> print(sol.y)\n",
      "    [[2.         1.88836035 1.06327177 0.43319312 0.18017253 0.07483045\n",
      "      0.03107158 0.01350781]\n",
      "     [4.         3.7767207  2.12654355 0.86638624 0.36034507 0.14966091\n",
      "      0.06214316 0.02701561]\n",
      "     [8.         7.5534414  4.25308709 1.73277247 0.72069014 0.29932181\n",
      "      0.12428631 0.05403123]]\n",
      "    \n",
      "    Specifying points where the solution is desired.\n",
      "    \n",
      "    >>> sol = solve_ivp(exponential_decay, [0, 10], [2, 4, 8],\n",
      "    ...                 t_eval=[0, 1, 2, 4, 10])\n",
      "    >>> print(sol.t)\n",
      "    [ 0  1  2  4 10]\n",
      "    >>> print(sol.y)\n",
      "    [[2.         1.21305369 0.73534021 0.27066736 0.01350938]\n",
      "     [4.         2.42610739 1.47068043 0.54133472 0.02701876]\n",
      "     [8.         4.85221478 2.94136085 1.08266944 0.05403753]]\n",
      "    \n",
      "    Cannon fired upward with terminal event upon impact. The ``terminal`` and\n",
      "    ``direction`` fields of an event are applied by monkey patching a function.\n",
      "    Here ``y[0]`` is position and ``y[1]`` is velocity. The projectile starts\n",
      "    at position 0 with velocity +10. Note that the integration never reaches\n",
      "    t=100 because the event is terminal.\n",
      "    \n",
      "    >>> def upward_cannon(t, y): return [y[1], -0.5]\n",
      "    >>> def hit_ground(t, y): return y[0]\n",
      "    >>> hit_ground.terminal = True\n",
      "    >>> hit_ground.direction = -1\n",
      "    >>> sol = solve_ivp(upward_cannon, [0, 100], [0, 10], events=hit_ground)\n",
      "    >>> print(sol.t_events)\n",
      "    [array([40.])]\n",
      "    >>> print(sol.t)\n",
      "    [0.00000000e+00 9.99900010e-05 1.09989001e-03 1.10988901e-02\n",
      "     1.11088891e-01 1.11098890e+00 1.11099890e+01 4.00000000e+01]\n",
      "    \n",
      "    Use `dense_output` and `events` to find position, which is 100, at the apex\n",
      "    of the cannonball's trajectory. Apex is not defined as terminal, so both\n",
      "    apex and hit_ground are found. There is no information at t=20, so the sol\n",
      "    attribute is used to evaluate the solution. The sol attribute is returned\n",
      "    by setting ``dense_output=True``. Alternatively, the `y_events` attribute\n",
      "    can be used to access the solution at the time of the event.\n",
      "    \n",
      "    >>> def apex(t, y): return y[1]\n",
      "    >>> sol = solve_ivp(upward_cannon, [0, 100], [0, 10], \n",
      "    ...                 events=(hit_ground, apex), dense_output=True)\n",
      "    >>> print(sol.t_events)\n",
      "    [array([40.]), array([20.])]\n",
      "    >>> print(sol.t)\n",
      "    [0.00000000e+00 9.99900010e-05 1.09989001e-03 1.10988901e-02\n",
      "     1.11088891e-01 1.11098890e+00 1.11099890e+01 4.00000000e+01]\n",
      "    >>> print(sol.sol(sol.t_events[1][0]))\n",
      "    [100.   0.]\n",
      "    >>> print(sol.y_events)\n",
      "    [array([[-5.68434189e-14, -1.00000000e+01]]), array([[1.00000000e+02, 1.77635684e-15]])]\n",
      "    \n",
      "    As an example of a system with additional parameters, we'll implement\n",
      "    the Lotka-Volterra equations [12]_.\n",
      "    \n",
      "    >>> def lotkavolterra(t, z, a, b, c, d):\n",
      "    ...     x, y = z\n",
      "    ...     return [a*x - b*x*y, -c*y + d*x*y]\n",
      "    ...\n",
      "    \n",
      "    We pass in the parameter values a=1.5, b=1, c=3 and d=1 with the `args`\n",
      "    argument.\n",
      "    \n",
      "    >>> sol = solve_ivp(lotkavolterra, [0, 15], [10, 5], args=(1.5, 1, 3, 1),\n",
      "    ...                 dense_output=True)\n",
      "    \n",
      "    Compute a dense solution and plot it.\n",
      "    \n",
      "    >>> t = np.linspace(0, 15, 300)\n",
      "    >>> z = sol.sol(t)\n",
      "    >>> import matplotlib.pyplot as plt\n",
      "    >>> plt.plot(t, z.T)\n",
      "    >>> plt.xlabel('t')\n",
      "    >>> plt.legend(['x', 'y'], shadow=True)\n",
      "    >>> plt.title('Lotka-Volterra System')\n",
      "    >>> plt.show()\n",
      "\n"
     ]
    }
   ],
   "source": [
    "help(scipy.integrate.solve_ivp)"
   ]
  },
  {
   "cell_type": "code",
   "execution_count": 37,
   "metadata": {},
   "outputs": [
    {
     "name": "stdout",
     "output_type": "stream",
     "text": [
      "<class 'sympy.core.add.Add'>\n",
      "<class 'function'>\n"
     ]
    }
   ],
   "source": []
  },
  {
   "cell_type": "code",
   "execution_count": 46,
   "metadata": {},
   "outputs": [
    {
     "name": "stdout",
     "output_type": "stream",
     "text": [
      "<class 'function'>\n",
      "True\n"
     ]
    }
   ],
   "source": [
    "from sympy import symbols, lambdify\n",
    "from sympy.parsing.sympy_parser import parse_expr\n",
    "import numpy as np\n",
    "\n",
    "xs = symbols('x1 x2')\n",
    "ks = symbols('k1 k2')\n",
    "strs = ['-k1 * x1**2 + k2 * x2', 'k1 * x1**2 - k2 * x2']\n",
    "syms = [parse_expr(item) for item in strs]\n",
    "\n",
    "\n",
    "# Convert each expression in syms to a function with signature f(x1, x2, k1, k2):\n",
    "funcs = [lambdify(xs + ks, f) for f in syms]\n",
    "print(type(funcs[0]))\n",
    "\n",
    "# This is not exactly the same as the `my_odes` in the question.\n",
    "# `t` is included so this can be used with `scipy.integrate.odeint`.\n",
    "# The value returned by `sym.subs` is wrapped in a call to `float`\n",
    "# to ensure that the function returns python floats and not sympy Floats.\n",
    "def my_odes(x, t, k):\n",
    "    all_dict = dict(zip(xs, x))\n",
    "    all_dict.update(dict(zip(ks, k)))\n",
    "    return np.array([float(sym.subs(all_dict)) for sym in syms])\n",
    "\n",
    "def lambdified_odes(x, t, k):\n",
    "    x1, x2 = x\n",
    "    k1, k2 = k\n",
    "    xdot = [f(x1, x2, k1, k2) for f in funcs]\n",
    "    return xdot\n",
    "\n",
    "\n",
    "if __name__ == \"__main__\":\n",
    "    from scipy.integrate import odeint\n",
    "\n",
    "    k1 = 0.5\n",
    "    k2 = 1.0\n",
    "    init = [1.0, 0.0]\n",
    "    t = np.linspace(0, 1, 6)\n",
    "    sola = odeint(lambdified_odes, init, t, args=((k1, k2),))\n",
    "    solb = odeint(my_odes, init, t, args=((k1, k2),))\n",
    "    print(np.allclose(sola, solb))\n",
    "    "
   ]
  },
  {
   "cell_type": "code",
   "execution_count": 40,
   "metadata": {},
   "outputs": [
    {
     "name": "stdout",
     "output_type": "stream",
     "text": [
      "<class 'function'>\n",
      "<class 'function'>\n"
     ]
    }
   ],
   "source": [
    "funcs=[sympy.lambdify((tau,PK,QK,DerivPK,DerivQK),DerivPK),sympy.lambdify((tau,PK,QK,DerivPK,DerivQK),DerivQK),sympy.lambdify((tau,PK,QK,DerivPK,DerivQK),solucdiff2pp,\"numpy\"),sympy.lambdify((tau,PK,QK,DerivPK,DerivQK),solucdiff2qq,\"numpy\")]\n",
    "print(funcs[0](0,0,0))\n",
    "def fun(tau,z):\n",
    "    PK,QK,DerivPK,DerivQK=z\n",
    "    xdot=[f(tau,PK,QK,DerivPK,DerivQK) for f in funcs]\n",
    "    return xdot\n",
    "y0 = [0,0.0000001,0.0000001, 0]\n",
    "print(type(sympy.lambdify((PK,QK,DerivPK,DerivQK),DerivPK)))\n",
    "print(type(sympy.lambdify((PK,QK,DerivPK,DerivQK),solucdiff2pp)))"
   ]
  },
  {
   "cell_type": "code",
   "execution_count": 50,
   "metadata": {},
   "outputs": [],
   "source": []
  },
  {
   "cell_type": "code",
   "execution_count": 58,
   "metadata": {},
   "outputs": [],
   "source": [
    "funcs=[sympy.lambdify((tau,PK,QK,DerivPK,DerivQK),DerivPK),sympy.lambdify((tau,PK,QK,DerivPK,DerivQK),DerivQK),sympy.lambdify((tau,PK,QK,DerivPK,DerivQK),solucdiff2pp),sympy.lambdify((tau,PK,QK,DerivPK,DerivQK),solucdiff2qq)]\n",
    "\n",
    "def fun(tau,z):\n",
    "    PK,QK,DerivPK,DerivQK=z\n",
    "    xdot=[f(tau,PK,QK,DerivPK,DerivQK) for f in funcs]\n",
    "    return xdot\n",
    "y0 = [0.000000001,0.000000001,0, 0]  #initial conditions for pk, qk, Derivative(pk(tau),tau), Derivative(qk(tau),tau)\n",
    "#tau = numpy.linspace(0,10,101) #a solution 101 evenly spaced samples in the interval 0 <= t <= 10\n",
    "sol=scipy.integrate.solve_ivp(fun,[0,301],y0,dense_output=True)"
   ]
  },
  {
   "cell_type": "code",
   "execution_count": 59,
   "metadata": {},
   "outputs": [
    {
     "data": {
      "text/plain": [
       "  message: 'The solver successfully reached the end of the integration interval.'\n",
       "     nfev: 836\n",
       "     njev: 0\n",
       "      nlu: 0\n",
       "      sol: <scipy.integrate._ivp.common.OdeSolution object at 0x7ff69248b820>\n",
       "   status: 0\n",
       "  success: True\n",
       "        t: array([0.00000000e+00, 2.40667050e-01, 2.64733755e+00, 1.18285427e+01,\n",
       "       1.37178815e+01, 1.56072204e+01, 1.83486818e+01, 2.14666194e+01,\n",
       "       2.58768647e+01, 2.88500214e+01, 3.18231781e+01, 3.47177915e+01,\n",
       "       3.76124050e+01, 4.16465076e+01, 4.50830552e+01, 4.73443479e+01,\n",
       "       4.96056405e+01, 5.22464967e+01, 5.52475876e+01, 5.70306794e+01,\n",
       "       5.87007906e+01, 6.05756202e+01, 6.24504497e+01, 6.60932040e+01,\n",
       "       6.86279860e+01, 7.07841030e+01, 7.29402199e+01, 7.58436354e+01,\n",
       "       7.87166546e+01, 8.13515406e+01, 8.34092904e+01, 8.52712020e+01,\n",
       "       8.76816270e+01, 9.00920520e+01, 9.23502248e+01, 9.45280780e+01,\n",
       "       9.67059312e+01, 9.91073261e+01, 1.01508721e+02, 1.05219579e+02,\n",
       "       1.08930437e+02, 1.11372548e+02, 1.13655269e+02, 1.17932301e+02,\n",
       "       1.21627931e+02, 1.25323561e+02, 1.28827355e+02, 1.32291786e+02,\n",
       "       1.35830733e+02, 1.39384618e+02, 1.42949182e+02, 1.46515630e+02,\n",
       "       1.50082453e+02, 1.53649559e+02, 1.57216795e+02, 1.60685772e+02,\n",
       "       1.64083405e+02, 1.66879211e+02, 1.68822943e+02, 1.70583745e+02,\n",
       "       1.72898801e+02, 1.75213858e+02, 1.77155941e+02, 1.79098024e+02,\n",
       "       1.81800283e+02, 1.85680088e+02, 1.89559893e+02, 1.93189623e+02,\n",
       "       1.96535773e+02, 1.99869309e+02, 2.03308948e+02, 2.06893677e+02,\n",
       "       2.10656631e+02, 2.14413347e+02, 2.18037021e+02, 2.21571358e+02,\n",
       "       2.24847497e+02, 2.27822740e+02, 2.30505445e+02, 2.32714360e+02,\n",
       "       2.34923276e+02, 2.38314887e+02, 2.42670757e+02, 2.46282589e+02,\n",
       "       2.49430857e+02, 2.52409493e+02, 2.53332649e+02, 2.54255805e+02,\n",
       "       2.56585782e+02, 2.58809735e+02, 2.61033689e+02, 2.64230793e+02,\n",
       "       2.67311426e+02, 2.70226167e+02, 2.73161124e+02, 2.75939458e+02,\n",
       "       2.78970160e+02, 2.81846530e+02, 2.84722901e+02, 2.88555407e+02,\n",
       "       2.92248562e+02, 2.95033190e+02, 2.97817818e+02, 3.01000000e+02])\n",
       " t_events: None\n",
       "        y: array([[ 1.00000000e-09,  1.04096018e-09, -1.22777338e-09,\n",
       "        -5.11029737e-06, -2.63742949e-07,  3.16554088e-06,\n",
       "        -9.21368571e-07,  4.63128872e-07, -9.50553465e-08,\n",
       "         8.96085971e-07,  4.87860143e-08, -1.85863453e-06,\n",
       "         6.56529914e-07, -1.67118113e-06,  1.91605234e-06,\n",
       "         7.37575269e-07, -4.24633605e-07,  2.72823109e-06,\n",
       "        -1.01002871e-06,  3.17508155e-06,  4.08645595e-06,\n",
       "         4.92579108e-07,  1.62835520e-06,  4.54119432e-07,\n",
       "         5.32021459e-06, -6.57357309e-07, -3.03658745e-06,\n",
       "         1.59297838e-06,  5.85985594e-07, -3.71192531e-07,\n",
       "        -6.42778032e-06, -4.17475608e-07,  2.21233459e-06,\n",
       "        -5.18172997e-07, -4.05043308e-06,  3.37030673e-07,\n",
       "         2.25941827e-06, -3.89470209e-07, -1.11812732e-06,\n",
       "         5.89884432e-07, -4.16148115e-08,  1.41880392e-06,\n",
       "        -7.92808664e-07,  2.36365892e-06, -2.60129448e-06,\n",
       "         8.15902836e-07,  7.51267860e-07, -1.93720784e-07,\n",
       "        -3.32454055e-08,  1.85912183e-07,  7.92232410e-08,\n",
       "        -1.54486525e-07, -3.40167892e-07, -8.33460994e-07,\n",
       "        -2.91122343e-06,  1.98838648e-06, -9.27893835e-07,\n",
       "        -1.65561462e-06, -5.10334235e-06, -1.21296146e-05,\n",
       "         2.24266434e-06,  4.94899153e-06, -4.67389921e-07,\n",
       "        -1.60382439e-06,  5.77463730e-07, -1.85599666e-06,\n",
       "         2.74285175e-06, -3.54081703e-06,  2.53182330e-06,\n",
       "        -1.70874608e-06,  1.41199479e-06, -1.72875981e-06,\n",
       "         2.70290753e-06, -3.80862587e-06,  4.28353357e-06,\n",
       "        -4.07240988e-06, -6.00844564e-07,  1.70736629e-06,\n",
       "        -4.23236014e-08, -1.41768098e-06,  3.41747802e-07,\n",
       "         8.87443048e-07, -1.31627730e-06,  1.48178940e-06,\n",
       "        -7.95870166e-07, -1.66644205e-06, -1.19672928e-07,\n",
       "         1.28413048e-06,  1.63260065e-06, -3.66875640e-06,\n",
       "        -2.51246335e-06,  9.17568386e-06, -3.10365596e-06,\n",
       "        -2.86363505e-06,  5.00170327e-07, -1.81299818e-06,\n",
       "         4.02778934e-08, -1.61702505e-06, -7.80810169e-07,\n",
       "         1.17649076e-06, -9.32243103e-07,  3.16517782e-06,\n",
       "        -1.56052868e-06, -7.43158570e-07],\n",
       "       [ 1.00000000e-09,  8.49767795e-10, -8.87345911e-09,\n",
       "         8.47111035e-07, -1.86065803e-06, -7.14844980e-07,\n",
       "         7.81380097e-07, -3.04826280e-07,  7.14185143e-07,\n",
       "        -9.81967351e-08, -8.93659782e-08,  2.16843683e-07,\n",
       "        -4.48216015e-08,  2.44787979e-07, -2.61970136e-07,\n",
       "        -2.00100817e-06,  2.18195130e-08, -1.88383449e-06,\n",
       "        -3.97346532e-07, -6.95882911e-06, -3.55075545e-06,\n",
       "         2.03515670e-06,  1.00381211e-06, -2.09260263e-06,\n",
       "        -1.66836226e-06,  5.44596786e-07,  2.07823406e-06,\n",
       "        -2.41644158e-07,  2.23447279e-06, -6.74833560e-07,\n",
       "         3.45680494e-06,  2.18135617e-06, -1.12624208e-06,\n",
       "        -6.84970176e-07, -3.98188596e-06,  3.09064372e-07,\n",
       "         2.19046057e-06, -3.22484511e-07, -1.16319693e-06,\n",
       "         8.27913966e-07, -9.59650527e-07,  9.05647715e-07,\n",
       "        -1.64580689e-07, -9.08125455e-08,  2.28855498e-06,\n",
       "        -2.80462953e-06,  2.62899294e-06, -2.54297809e-06,\n",
       "         2.69729416e-06, -2.91865209e-06,  3.17182450e-06,\n",
       "        -3.42515973e-06,  3.65568987e-06, -3.83084743e-06,\n",
       "         3.91860743e-06, -8.39787446e-07, -2.22301736e-06,\n",
       "        -1.42335819e-07, -4.21624864e-06, -8.66493590e-06,\n",
       "        -1.17545566e-06,  1.50228731e-06,  1.60747833e-06,\n",
       "        -9.24557044e-07, -1.95249394e-07,  2.44685938e-06,\n",
       "        -4.89692281e-07, -1.49520085e-06,  1.49161007e-07,\n",
       "         6.90768869e-07,  3.23530254e-07,  1.21326676e-08,\n",
       "        -3.04606759e-07,  4.41630378e-08,  8.30872892e-07,\n",
       "         4.83739836e-06, -1.94397348e-06, -3.11606476e-06,\n",
       "         1.41884149e-06, -6.05751546e-08, -1.53810555e-06,\n",
       "         1.00948827e-06, -3.20501148e-06,  3.16239835e-06,\n",
       "        -1.25053795e-06, -2.13172506e-06,  1.09093996e-06,\n",
       "         3.21475619e-06,  1.00927611e-06, -4.06247841e-06,\n",
       "        -1.86008287e-06,  4.22297874e-06,  1.07702752e-06,\n",
       "        -1.22454650e-06, -1.60629582e-06, -1.69129376e-06,\n",
       "         1.69157013e-06,  8.59916036e-10,  4.48193820e-07,\n",
       "         2.63649453e-07, -1.53638289e-06, -1.66818562e-06,\n",
       "         3.66471103e-07, -1.66205476e-06],\n",
       "       [ 0.00000000e+00,  2.74158603e-10,  1.71933026e-09,\n",
       "         5.48628808e-07,  2.99812306e-06, -1.10950338e-07,\n",
       "         6.17206563e-07, -1.33307410e-07,  4.57522207e-07,\n",
       "         1.26429922e-06, -1.11511065e-06, -9.10723604e-07,\n",
       "         1.39173738e-06, -4.35580634e-07,  8.23569840e-07,\n",
       "        -8.42097581e-07,  2.47029067e-06, -6.05524893e-07,\n",
       "         2.27376474e-06,  2.14773534e-06, -1.28285423e-06,\n",
       "         1.24179044e-06, -3.26378062e-07,  5.73026938e-06,\n",
       "        -4.85785395e-07, -3.18127860e-06,  1.03066174e-06,\n",
       "        -5.99870639e-07,  3.80602002e-07, -5.86487005e-06,\n",
       "         1.55561014e-06,  3.34245900e-06, -4.03783081e-07,\n",
       "        -3.63816065e-06,  8.39683341e-07,  2.04888316e-06,\n",
       "        -4.29641831e-07, -1.05589395e-06,  4.26275237e-07,\n",
       "        -2.49908202e-06,  2.16981479e-06, -7.86888898e-07,\n",
       "        -8.40781446e-07,  4.63288550e-07,  1.90984936e-07,\n",
       "         6.21070553e-07, -4.13113541e-07, -5.32903554e-09,\n",
       "         8.49452005e-08,  4.92246698e-08, -5.16590134e-08,\n",
       "        -9.88047964e-08, -1.57760635e-07, -6.24305908e-07,\n",
       "        -3.35558643e-06,  4.10039013e-06, -3.78948065e-06,\n",
       "         2.82716035e-06, -1.04804477e-05,  2.67330739e-06,\n",
       "         5.83557985e-06, -1.59543931e-06, -1.92455951e-06,\n",
       "         6.77033181e-07,  4.82043162e-07, -2.44334526e-06,\n",
       "         3.42264042e-06, -3.29276005e-06,  3.03885548e-06,\n",
       "        -2.83827967e-06,  2.30217632e-06, -1.65101598e-06,\n",
       "         1.49086900e-06, -1.09937890e-06,  6.72586604e-07,\n",
       "        -3.76700924e-07,  1.55995714e-06,  1.06933260e-06,\n",
       "        -1.11765003e-06,  1.09275663e-07,  1.67460310e-06,\n",
       "        -6.52141140e-07, -6.46797756e-08,  1.77887147e-06,\n",
       "        -8.44293799e-07,  9.96161971e-07,  2.13748684e-06,\n",
       "         1.26441108e-06, -1.50594834e-06, -1.75173650e-06,\n",
       "         1.55980168e-06,  5.70849243e-06, -6.36025628e-06,\n",
       "         3.06971066e-06, -1.92868903e-06, -1.31427919e-07,\n",
       "        -8.69851733e-07, -2.83882685e-06,  1.94576490e-06,\n",
       "        -3.09524004e-06,  3.21637094e-06,  1.18099595e-06,\n",
       "        -3.07679080e-06,  1.57640866e-06],\n",
       "       [ 0.00000000e+00, -1.20147164e-09, -4.37329245e-09,\n",
       "        -1.80947985e-06, -5.38496733e-07,  9.21507728e-07,\n",
       "         3.06782529e-07, -2.05201923e-07,  1.56701557e-07,\n",
       "        -1.04682380e-08,  3.79307515e-08, -3.01415390e-07,\n",
       "         5.34468613e-07,  6.80832795e-07, -1.77274453e-06,\n",
       "         9.36873797e-07, -1.43146140e-06,  9.49418785e-07,\n",
       "        -6.01937202e-06, -9.27361812e-07,  3.71275018e-06,\n",
       "         5.30369976e-07, -1.03385742e-06, -1.04695305e-06,\n",
       "         8.94205685e-07,  1.31965185e-06, -1.56531756e-07,\n",
       "         3.21235526e-06, -8.65998497e-07,  2.46269400e-06,\n",
       "         8.41307959e-07, -2.00480902e-06, -4.74806236e-07,\n",
       "        -3.63016393e-06,  8.48600998e-07,  1.89224695e-06,\n",
       "        -3.57159501e-07, -1.05419084e-06,  4.07842259e-07,\n",
       "        -1.86508580e-06,  1.71246406e-06, -7.61117732e-08,\n",
       "        -7.26466272e-07,  2.62961825e-07,  2.25775855e-06,\n",
       "        -2.55550440e-06,  2.38255560e-06, -2.15619331e-06,\n",
       "         1.97212570e-06, -1.77889523e-06,  1.56174290e-06,\n",
       "        -1.31994308e-06,  1.05560265e-06, -7.52496160e-07,\n",
       "         5.58712494e-07, -1.96468382e-06,  7.17036604e-07,\n",
       "         7.93823401e-07, -5.00949467e-06, -1.41369283e-07,\n",
       "         2.22550061e-06,  9.35164280e-07, -1.75677873e-06,\n",
       "        -8.37663778e-07,  8.79793566e-07,  7.14740360e-07,\n",
       "        -1.22295461e-06,  3.68508578e-07,  4.61757795e-07,\n",
       "        -7.24636980e-08, -4.42537691e-07, -1.73442503e-07,\n",
       "        -2.62224576e-08,  1.37346958e-07,  6.75363380e-07,\n",
       "         6.17578475e-06, -6.04249913e-06,  2.24851633e-06,\n",
       "         7.96307165e-08, -1.08901541e-06, -4.09669673e-07,\n",
       "         7.06658899e-07, -6.03943212e-07,  2.39538594e-07,\n",
       "        -5.28015488e-06,  3.38431634e-06,  3.50845706e-06,\n",
       "         1.15474702e-06, -1.67745326e-06, -1.13529192e-06,\n",
       "         2.17634776e-06,  6.05431756e-07, -1.78997468e-06,\n",
       "        -5.13397171e-07, -3.31756090e-06,  1.47769741e-06,\n",
       "         2.77604347e-07,  9.16086937e-07, -7.30939934e-07,\n",
       "        -1.09001277e-06, -6.90739103e-07,  1.35133699e-06,\n",
       "        -1.59732919e-06, -3.18616271e-07]])\n",
       " y_events: None"
      ]
     },
     "execution_count": 59,
     "metadata": {},
     "output_type": "execute_result"
    }
   ],
   "source": [
    "sol"
   ]
  },
  {
   "cell_type": "code",
   "execution_count": 62,
   "metadata": {},
   "outputs": [
    {
     "data": {
      "image/png": "[encoded data removed]",
      "text/plain": [
       "<Figure size 432x288 with 1 Axes>"
      ]
     },
     "metadata": {
      "needs_background": "light"
     },
     "output_type": "display_data"
    }
   ],
   "source": [
    "taut = numpy.linspace(0,10,301) #a solution 101 evenly spaced samples in the interval 0 <= t <= 10\n",
    "#print(sol.y)\n",
    "#print(sol.t)\n",
    "#\n",
    "soly=sol.y\n",
    "plt.plot(sol.t,soly.T)\n",
    "plt.xlabel(\"tau\")\n",
    "plt.legend([\"Pk\",\"Qk\",\"derivPk\",\"derivQk\"],shadow=True)\n",
    "plt.title(\"Run-up\")\n",
    "plt.show()"
   ]
  },
  {
   "cell_type": "code",
   "execution_count": 63,
   "metadata": {},
   "outputs": [
    {
     "data": {
      "image/png": "[encoded data removed]",
      "text/plain": [
       "<Figure size 432x288 with 1 Axes>"
      ]
     },
     "metadata": {
      "needs_background": "light"
     },
     "output_type": "display_data"
    }
   ],
   "source": [
    "plt.plot(sol.t,soly[0:2].T)\n",
    "plt.xlabel(\"tau\")\n",
    "plt.legend([\"Pk\",\"Qk\"],shadow=True)\n",
    "plt.title(\"Run-up\")\n",
    "plt.show()"
   ]
  },
  {
   "cell_type": "code",
   "execution_count": 66,
   "metadata": {
    "collapsed": true
   },
   "outputs": [],
   "source": [
    "# T = tau/tauC, Pkk = PK/pkkC, Qkk = QK/qkkC\n",
    "# Derivative(qk(tau),tau) = Derivative(qk,T)*Derivative(T,tau) = Derivative(qk,T)*(1/tauC)\n",
    "# DerivPK = derivPK / tauC\n",
    "# derivPK = Derivative(pk(T),T)\n",
    "\n",
    "# dydt = [PK, QK, solucdiff2pp, solucdiff2qq]\n",
    "\n",
    "tau = symbols('tau') \n",
    "T, tauC, derivPK, derivQK, Pkk, Qkk = symbols('T, tauC, derivPK, derivQK, Pkk, Qkk')\n",
    "dydt = [PK.subs({DerivPK: derivPK/tauC, DerivQK: derivQK, tau: tauC*T}), \n",
    "        QK.subs({DerivPK: derivPK/tauC, DerivQK: derivQK, tau: tauC*T}),\n",
    "        solucdiff2pp.subs({DerivPK: derivPK/tauC, DerivQK: derivQK, tau: tauC*T, Pkk: PK/pkkC, Qkk: QK/qkkC}), \n",
    "        solucdiff2qq.subs({DerivPK: derivPK/tauC, DerivQK: derivQK, tau: tauC*T, Pkk: PK/pkkC, Qkk: QK/qkkC})]\n"
   ]
  },
  {
   "cell_type": "code",
   "execution_count": 67,
   "metadata": {},
   "outputs": [
    {
     "data": {
      "text/plain": [
       "[PK,\n",
       " QK,\n",
       " -4.40394214140636e-14*PK**7/(6.30886699014073e-14*PK**6 + 1.62331557071147e-13*PK**4*QK**2 + 1.62331557071147e-13*PK**2*QK**4 + 6.30886699014073e-14*QK**6) - 1.9745174838745e-14*PK**6*derivPK/(tauC*(6.30886699014073e-14*PK**6 + 1.62331557071147e-13*PK**4*QK**2 + 1.62331557071147e-13*PK**2*QK**4 + 6.30886699014073e-14*QK**6)) - 3.30285402329198e-22*PK**6*sin(T*tauC)/(6.30886699014073e-14*PK**6 + 1.62331557071147e-13*PK**4*QK**2 + 1.62331557071147e-13*PK**2*QK**4 + 6.30886699014073e-14*QK**6) - 1.00983851491227e-13*PK**5*QK**2/(6.30886699014073e-14*PK**6 + 1.62331557071147e-13*PK**4*QK**2 + 1.62331557071147e-13*PK**2*QK**4 + 6.30886699014073e-14*QK**6) + 1.25013666918239e-14*PK**5*QK*derivQK/(6.30886699014073e-14*PK**6 + 1.62331557071147e-13*PK**4*QK**2 + 1.62331557071147e-13*PK**2*QK**4 + 6.30886699014073e-14*QK**6) + 2.09115338871131e-22*PK**5*QK*cos(T*tauC)/(6.30886699014073e-14*PK**6 + 1.62331557071147e-13*PK**4*QK**2 + 1.62331557071147e-13*PK**2*QK**4 + 6.30886699014073e-14*QK**6) - 1.90493027691423e-14*PK**5*derivQK**2/(6.30886699014073e-14*PK**6 + 1.62331557071147e-13*PK**4*QK**2 + 1.62331557071147e-13*PK**2*QK**4 + 6.30886699014073e-14*QK**6) + 7.18634885569822e-23*PK**5*sqrt(PK**2 + QK**2)/(6.30886699014073e-14*PK**6 + 1.62331557071147e-13*PK**4*QK**2 + 1.62331557071147e-13*PK**2*QK**4 + 6.30886699014073e-14*QK**6) - 5.77777063793248e-14*PK**4*QK**2*derivPK/(tauC*(6.30886699014073e-14*PK**6 + 1.62331557071147e-13*PK**4*QK**2 + 1.62331557071147e-13*PK**2*QK**4 + 6.30886699014073e-14*QK**6)) - 9.66470702488165e-22*PK**4*QK**2*sin(T*tauC)/(6.30886699014073e-14*PK**6 + 1.62331557071147e-13*PK**4*QK**2 + 1.62331557071147e-13*PK**2*QK**4 + 6.30886699014073e-14*QK**6) + 2.92650315087886e-14*PK**4*QK*derivPK*derivQK/(tauC*(6.30886699014073e-14*PK**6 + 1.62331557071147e-13*PK**4*QK**2 + 1.62331557071147e-13*PK**2*QK**4 + 6.30886699014073e-14*QK**6)) + 1.22279542148577e-24*PK**4*QK*sqrt(PK**2 + QK**2)/(6.30886699014073e-14*PK**6 + 1.62331557071147e-13*PK**4*QK**2 + 1.62331557071147e-13*PK**2*QK**4 + 6.30886699014073e-14*QK**6) - 6.98494387402635e-14*PK**3*QK**4/(6.30886699014073e-14*PK**6 + 1.62331557071147e-13*PK**4*QK**2 + 1.62331557071147e-13*PK**2*QK**4 + 6.30886699014073e-14*QK**6) + 2.50027333836478e-14*PK**3*QK**3*derivQK/(6.30886699014073e-14*PK**6 + 1.62331557071147e-13*PK**4*QK**2 + 1.62331557071147e-13*PK**2*QK**4 + 6.30886699014073e-14*QK**6) + 4.18230677742262e-22*PK**3*QK**3*cos(T*tauC)/(6.30886699014073e-14*PK**6 + 1.62331557071147e-13*PK**4*QK**2 + 1.62331557071147e-13*PK**2*QK**4 + 6.30886699014073e-14*QK**6) - 1.02157287396463e-14*PK**3*QK**2*derivPK**2/(tauC**2*(6.30886699014073e-14*PK**6 + 1.62331557071147e-13*PK**4*QK**2 + 1.62331557071147e-13*PK**2*QK**4 + 6.30886699014073e-14*QK**6)) + 3.25149757689095e-15*PK**3*QK**2*derivQK**2/(6.30886699014073e-14*PK**6 + 1.62331557071147e-13*PK**4*QK**2 + 1.62331557071147e-13*PK**2*QK**4 + 6.30886699014073e-14*QK**6) + 9.29218701753267e-23*PK**3*QK**2*sqrt(PK**2 + QK**2)/(6.30886699014073e-14*PK**6 + 1.62331557071147e-13*PK**4*QK**2 + 1.62331557071147e-13*PK**2*QK**4 + 6.30886699014073e-14*QK**6) - 5.63198882424145e-14*PK**2*QK**4*derivPK/(tauC*(6.30886699014073e-14*PK**6 + 1.62331557071147e-13*PK**4*QK**2 + 1.62331557071147e-13*PK**2*QK**4 + 6.30886699014073e-14*QK**6)) - 9.42085197988737e-22*PK**2*QK**4*sin(T*tauC)/(6.30886699014073e-14*PK**6 + 1.62331557071147e-13*PK**4*QK**2 + 1.62331557071147e-13*PK**2*QK**4 + 6.30886699014073e-14*QK**6) - 1.99702214703192e-14*PK**2*QK**3*derivPK*derivQK/(tauC*(6.30886699014073e-14*PK**6 + 1.62331557071147e-13*PK**4*QK**2 + 1.62331557071147e-13*PK**2*QK**4 + 6.30886699014073e-14*QK**6)) + 4.30980374535823e-24*PK**2*QK**3*sqrt(PK**2 + QK**2)/(6.30886699014073e-14*PK**6 + 1.62331557071147e-13*PK**4*QK**2 + 1.62331557071147e-13*PK**2*QK**4 + 6.30886699014073e-14*QK**6) - 1.29050086631e-14*PK*QK**6/(6.30886699014073e-14*PK**6 + 1.62331557071147e-13*PK**4*QK**2 + 1.62331557071147e-13*PK**2*QK**4 + 6.30886699014073e-14*QK**6) + 1.25013666918239e-14*PK*QK**5*derivQK/(6.30886699014073e-14*PK**6 + 1.62331557071147e-13*PK**4*QK**2 + 1.62331557071147e-13*PK**2*QK**4 + 6.30886699014073e-14*QK**6) + 2.09115338871131e-22*PK*QK**5*cos(T*tauC)/(6.30886699014073e-14*PK**6 + 1.62331557071147e-13*PK**4*QK**2 + 1.62331557071147e-13*PK**2*QK**4 + 6.30886699014073e-14*QK**6) + 1.67187238934282e-14*PK*QK**4*derivPK**2/(tauC**2*(6.30886699014073e-14*PK**6 + 1.62331557071147e-13*PK**4*QK**2 + 1.62331557071147e-13*PK**2*QK**4 + 6.30886699014073e-14*QK**6)) + 2.23008003460333e-14*PK*QK**4*derivQK**2/(6.30886699014073e-14*PK**6 + 1.62331557071147e-13*PK**4*QK**2 + 1.62331557071147e-13*PK**2*QK**4 + 6.30886699014073e-14*QK**6) + 2.10583816183444e-23*PK*QK**4*sqrt(PK**2 + QK**2)/(6.30886699014073e-14*PK**6 + 1.62331557071147e-13*PK**4*QK**2 + 1.62331557071147e-13*PK**2*QK**4 + 6.30886699014073e-14*QK**6) - 1.82873567018347e-14*QK**6*derivPK/(tauC*(6.30886699014073e-14*PK**6 + 1.62331557071147e-13*PK**4*QK**2 + 1.62331557071147e-13*PK**2*QK**4 + 6.30886699014073e-14*QK**6)) - 3.05899897829769e-22*QK**6*sin(T*tauC)/(6.30886699014073e-14*PK**6 + 1.62331557071147e-13*PK**4*QK**2 + 1.62331557071147e-13*PK**2*QK**4 + 6.30886699014073e-14*QK**6) - 2.23008003460333e-14*QK**5*derivPK*derivQK/(tauC*(6.30886699014073e-14*PK**6 + 1.62331557071147e-13*PK**4*QK**2 + 1.62331557071147e-13*PK**2*QK**4 + 6.30886699014073e-14*QK**6)) + 3.08700832387246e-24*QK**5*sqrt(PK**2 + QK**2)/(6.30886699014073e-14*PK**6 + 1.62331557071147e-13*PK**4*QK**2 + 1.62331557071147e-13*PK**2*QK**4 + 6.30886699014073e-14*QK**6),\n",
       " -1.29050086631e-14*PK**6*QK/(6.30886699014073e-14*PK**6 + 1.62331557071147e-13*PK**4*QK**2 + 1.62331557071147e-13*PK**2*QK**4 + 6.30886699014073e-14*QK**6) - 1.82873567018347e-14*PK**6*derivQK/(6.30886699014073e-14*PK**6 + 1.62331557071147e-13*PK**4*QK**2 + 1.62331557071147e-13*PK**2*QK**4 + 6.30886699014073e-14*QK**6) - 3.05899897829769e-22*PK**6*cos(T*tauC)/(6.30886699014073e-14*PK**6 + 1.62331557071147e-13*PK**4*QK**2 + 1.62331557071147e-13*PK**2*QK**4 + 6.30886699014073e-14*QK**6) + 1.25013666918239e-14*PK**5*QK*derivPK/(tauC*(6.30886699014073e-14*PK**6 + 1.62331557071147e-13*PK**4*QK**2 + 1.62331557071147e-13*PK**2*QK**4 + 6.30886699014073e-14*QK**6)) + 2.09115338871131e-22*PK**5*QK*sin(T*tauC)/(6.30886699014073e-14*PK**6 + 1.62331557071147e-13*PK**4*QK**2 + 1.62331557071147e-13*PK**2*QK**4 + 6.30886699014073e-14*QK**6) - 2.23008003460333e-14*PK**5*derivPK*derivQK/(tauC*(6.30886699014073e-14*PK**6 + 1.62331557071147e-13*PK**4*QK**2 + 1.62331557071147e-13*PK**2*QK**4 + 6.30886699014073e-14*QK**6)) + 3.08700832387246e-24*PK**5*sqrt(PK**2 + QK**2)/(6.30886699014073e-14*PK**6 + 1.62331557071147e-13*PK**4*QK**2 + 1.62331557071147e-13*PK**2*QK**4 + 6.30886699014073e-14*QK**6) - 6.98494387402635e-14*PK**4*QK**3/(6.30886699014073e-14*PK**6 + 1.62331557071147e-13*PK**4*QK**2 + 1.62331557071147e-13*PK**2*QK**4 + 6.30886699014073e-14*QK**6) - 5.63198882424145e-14*PK**4*QK**2*derivQK/(6.30886699014073e-14*PK**6 + 1.62331557071147e-13*PK**4*QK**2 + 1.62331557071147e-13*PK**2*QK**4 + 6.30886699014073e-14*QK**6) - 9.42085197988737e-22*PK**4*QK**2*cos(T*tauC)/(6.30886699014073e-14*PK**6 + 1.62331557071147e-13*PK**4*QK**2 + 1.62331557071147e-13*PK**2*QK**4 + 6.30886699014073e-14*QK**6) + 2.23008003460333e-14*PK**4*QK*derivPK**2/(tauC**2*(6.30886699014073e-14*PK**6 + 1.62331557071147e-13*PK**4*QK**2 + 1.62331557071147e-13*PK**2*QK**4 + 6.30886699014073e-14*QK**6)) + 1.67187238934282e-14*PK**4*QK*derivQK**2/(6.30886699014073e-14*PK**6 + 1.62331557071147e-13*PK**4*QK**2 + 1.62331557071147e-13*PK**2*QK**4 + 6.30886699014073e-14*QK**6) + 2.10583816183444e-23*PK**4*QK*sqrt(PK**2 + QK**2)/(6.30886699014073e-14*PK**6 + 1.62331557071147e-13*PK**4*QK**2 + 1.62331557071147e-13*PK**2*QK**4 + 6.30886699014073e-14*QK**6) + 2.50027333836478e-14*PK**3*QK**3*derivPK/(tauC*(6.30886699014073e-14*PK**6 + 1.62331557071147e-13*PK**4*QK**2 + 1.62331557071147e-13*PK**2*QK**4 + 6.30886699014073e-14*QK**6)) + 4.18230677742262e-22*PK**3*QK**3*sin(T*tauC)/(6.30886699014073e-14*PK**6 + 1.62331557071147e-13*PK**4*QK**2 + 1.62331557071147e-13*PK**2*QK**4 + 6.30886699014073e-14*QK**6) - 1.99702214703192e-14*PK**3*QK**2*derivPK*derivQK/(tauC*(6.30886699014073e-14*PK**6 + 1.62331557071147e-13*PK**4*QK**2 + 1.62331557071147e-13*PK**2*QK**4 + 6.30886699014073e-14*QK**6)) + 4.30980374535823e-24*PK**3*QK**2*sqrt(PK**2 + QK**2)/(6.30886699014073e-14*PK**6 + 1.62331557071147e-13*PK**4*QK**2 + 1.62331557071147e-13*PK**2*QK**4 + 6.30886699014073e-14*QK**6) - 1.00983851491227e-13*PK**2*QK**5/(6.30886699014073e-14*PK**6 + 1.62331557071147e-13*PK**4*QK**2 + 1.62331557071147e-13*PK**2*QK**4 + 6.30886699014073e-14*QK**6) - 5.77777063793248e-14*PK**2*QK**4*derivQK/(6.30886699014073e-14*PK**6 + 1.62331557071147e-13*PK**4*QK**2 + 1.62331557071147e-13*PK**2*QK**4 + 6.30886699014073e-14*QK**6) - 9.66470702488165e-22*PK**2*QK**4*cos(T*tauC)/(6.30886699014073e-14*PK**6 + 1.62331557071147e-13*PK**4*QK**2 + 1.62331557071147e-13*PK**2*QK**4 + 6.30886699014073e-14*QK**6) + 3.25149757689095e-15*PK**2*QK**3*derivPK**2/(tauC**2*(6.30886699014073e-14*PK**6 + 1.62331557071147e-13*PK**4*QK**2 + 1.62331557071147e-13*PK**2*QK**4 + 6.30886699014073e-14*QK**6)) - 1.02157287396463e-14*PK**2*QK**3*derivQK**2/(6.30886699014073e-14*PK**6 + 1.62331557071147e-13*PK**4*QK**2 + 1.62331557071147e-13*PK**2*QK**4 + 6.30886699014073e-14*QK**6) + 9.29218701753267e-23*PK**2*QK**3*sqrt(PK**2 + QK**2)/(6.30886699014073e-14*PK**6 + 1.62331557071147e-13*PK**4*QK**2 + 1.62331557071147e-13*PK**2*QK**4 + 6.30886699014073e-14*QK**6) + 1.25013666918239e-14*PK*QK**5*derivPK/(tauC*(6.30886699014073e-14*PK**6 + 1.62331557071147e-13*PK**4*QK**2 + 1.62331557071147e-13*PK**2*QK**4 + 6.30886699014073e-14*QK**6)) + 2.09115338871131e-22*PK*QK**5*sin(T*tauC)/(6.30886699014073e-14*PK**6 + 1.62331557071147e-13*PK**4*QK**2 + 1.62331557071147e-13*PK**2*QK**4 + 6.30886699014073e-14*QK**6) + 2.92650315087886e-14*PK*QK**4*derivPK*derivQK/(tauC*(6.30886699014073e-14*PK**6 + 1.62331557071147e-13*PK**4*QK**2 + 1.62331557071147e-13*PK**2*QK**4 + 6.30886699014073e-14*QK**6)) + 1.22279542148577e-24*PK*QK**4*sqrt(PK**2 + QK**2)/(6.30886699014073e-14*PK**6 + 1.62331557071147e-13*PK**4*QK**2 + 1.62331557071147e-13*PK**2*QK**4 + 6.30886699014073e-14*QK**6) - 4.40394214140636e-14*QK**7/(6.30886699014073e-14*PK**6 + 1.62331557071147e-13*PK**4*QK**2 + 1.62331557071147e-13*PK**2*QK**4 + 6.30886699014073e-14*QK**6) - 1.9745174838745e-14*QK**6*derivQK/(6.30886699014073e-14*PK**6 + 1.62331557071147e-13*PK**4*QK**2 + 1.62331557071147e-13*PK**2*QK**4 + 6.30886699014073e-14*QK**6) - 3.30285402329198e-22*QK**6*cos(T*tauC)/(6.30886699014073e-14*PK**6 + 1.62331557071147e-13*PK**4*QK**2 + 1.62331557071147e-13*PK**2*QK**4 + 6.30886699014073e-14*QK**6) - 1.90493027691423e-14*QK**5*derivPK**2/(tauC**2*(6.30886699014073e-14*PK**6 + 1.62331557071147e-13*PK**4*QK**2 + 1.62331557071147e-13*PK**2*QK**4 + 6.30886699014073e-14*QK**6)) + 7.18634885569822e-23*QK**5*sqrt(PK**2 + QK**2)/(6.30886699014073e-14*PK**6 + 1.62331557071147e-13*PK**4*QK**2 + 1.62331557071147e-13*PK**2*QK**4 + 6.30886699014073e-14*QK**6)]"
      ]
     },
     "execution_count": 67,
     "metadata": {},
     "output_type": "execute_result"
    }
   ],
   "source": [
    "dydt"
   ]
  },
  {
   "cell_type": "markdown",
   "metadata": {
    "collapsed": true
   },
   "source": [
    "constantes\n",
    "n, k : nondimensional\n",
    "tau : [s]\n",
    "\n",
    "\n",
    "ms=0.0000261725 # []\n",
    "mT = 5.0750952130962986 *10**(-6) # []\n",
    "cs=1.94991*10**8\n",
    "Ds = 0.06###; (*0.005 Dämpfungsmaß des Stators*)\n",
    "#d = 2 *sqrt(msT* cs *Ds) = 38.2402923781611\n",
    "rhor = 2700  # [N/m²] ###(*Aluminum*)\n",
    "####(*viga mola*\n",
    "EE = 206000###; (*Nmm^2*)\n",
    "EE = EE*10**6\n",
    "B = 0.0025 ##;(*largura*)\n",
    "t = 0.0005  ###; (*espessura*)\n",
    "l = 0.02   ###; (*comprimento*)\n",
    "Ib = (B*t**3)/12\n",
    "#cr ####(*0;4000;*) (*elasticidade da viga mola*)\n",
    "rout = 0.003124764129949177\n",
    "rin = 0.002224764129949177\n",
    "Rr = rout\n",
    "Hr = 0.001 ###(*0.003*)\n",
    "\n",
    "r1 = 0.001\n",
    "mr = float(pi) * rhor *Rr**2 *Hr - float(pi) * rhor *r1**2 *Hr ### (*6.4 10 -4 ;*)\n",
    "Ha = 0.0005\n",
    "ma = float(pi) *rhor * Ha*(rout**2 - rin**2)\n",
    "\n",
    "\n",
    "solucdiff2pp =(soluDIFF2PP.subs({Ir: mr*(Rr**2 + r1**2)/2 + ma*(rout**2+ rin**2)/2, \n",
    "                                 Psi_theta_theta: 226.536, Uu: -0.377673, \n",
    "                  h: 0.0012, Rk: 0.0027, msT: ms + mT, hT: 0.0015,\n",
    "                  Vo: 100, cUo: 0.0174596, d: 38.2402923781611, ps: 0.5*10**(-3), mR: mr + ma, \n",
    "                  cr: (3 *EE *Ib)/l**3, omega: 2.72951*10**6, Texte: 0.1*10**(-3), n: 4, k: 2}) ).expand()\n",
    "\n",
    "Ir = [kg m²]\n",
    "Psi_theta_theta =\n",
    "Uu = \n",
    "h = [m]   #stator thickness\n",
    "Rk = [m] #contact point/radius (2,4)\n",
    "msT = [kg]\n",
    "hT = [m]\n",
    "Vo = [V]\n",
    "cUo = [\n",
    "d = \n",
    "ps = [m]\n",
    "mR = [kg]\n",
    "cr = [N/m²]*[m⁴]/[m³]=[N/m]\n",
    "omega = [1/s]\n",
    "Texte = [Nm]\n",
    "\n",
    "PI teorem\n"
   ]
  }
 ],
 "metadata": {
  "kernelspec": {
   "display_name": "Python 3",
   "language": "python",
   "name": "python3"
  },
  "language_info": {
   "codemirror_mode": {
    "name": "ipython",
    "version": 3
   },
   "file_extension": ".py",
   "mimetype": "text/x-python",
   "name": "python",
   "nbconvert_exporter": "python",
   "pygments_lexer": "ipython3",
   "version": "3.8.3"
  }
 },
 "nbformat": 4,
 "nbformat_minor": 2
}
