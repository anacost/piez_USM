{
 "cells": [
  {
   "cell_type": "code",
   "execution_count": 1,
   "metadata": {
    "collapsed": true
   },
   "outputs": [],
   "source": [
    "import sympy\n",
    "from sympy import *"
   ]
  },
  {
   "cell_type": "code",
   "execution_count": 49,
   "metadata": {
    "collapsed": true
   },
   "outputs": [],
   "source": [
    "n, k = symbols(\"n, k\", integer=True, positive=True)\n",
    "\n",
    "Uu, Psi_theta_theta = symbols('Uu, Psi_theta_theta', real=True, positive=True)\n",
    "\n",
    "h, hT, Rk = symbols('h, hT, Rk', real=True, positive=True)\n",
    "\n",
    "#s,t=var('s, t')\n",
    "#f = t^5*exp(t)*sin(t)\n",
    "cr,ps,mR,omega,dr,Ir,Texte,msT,d,cUo,Vo,Omega= symbols('cr, ps, mR, omega, dr, Ir, Texte, msT, d, cUo, Vo, Omega', \n",
    "                                                       real=True, positive=True)\n",
    "\n",
    "Omega = omega\n",
    "\n",
    "theta, tau = symbols('theta, tau')\n",
    "\n",
    "#qk = symbols('qk', cls=Function)\n",
    "qk = Function('qk')(tau)\n",
    "pk = Function('pk')(tau)\n",
    "\n",
    "#f = (x^2 + sin(a*w)).function(a,x,w); f\n",
    "\n",
    "u = (cos(n* theta) * qk + pk *sin(n *theta))* Uu\n",
    "#u = ((cos(n* theta) * qk + pk *sin(n *theta))* Uu).function(theta)\n",
    "ak = Function('ak')(tau)\n",
    "\n",
    "zr = u .subs(theta, ak) \n",
    "#zr = u(ak)\n",
    "du = diff(u,tau)    # D[u, τ];\n",
    "\n",
    "dzr = du.subs(theta, ak)   # /. {θ -> αk[τ]};\n",
    "#dzr = du(ak,qk,pk)\n",
    "ddzr = diff(dzr,tau)   #D[dzr, τ]\n",
    "\n",
    "v = - (h/2 + hT)* Psi_theta_theta * (cos(n*theta)*pk + sin(n*theta)*qk) \n",
    "dv = diff(v, tau)   ##dv = D[%, τ];\n",
    "\n",
    "#aft= dv.coefficient(diff(qk(tau),tau))\n",
    "\n",
    "#f.coefficient(sin(y))\n",
    "\n",
    "\n"
   ]
  },
  {
   "cell_type": "code",
   "execution_count": 51,
   "metadata": {},
   "outputs": [
    {
     "data": {
      "text/plain": [
       "sympy.core.symbol.Symbol"
      ]
     },
     "execution_count": 51,
     "metadata": {},
     "output_type": "execute_result"
    }
   ],
   "source": [
    "type(d)"
   ]
  },
  {
   "cell_type": "code",
   "execution_count": 4,
   "metadata": {},
   "outputs": [
    {
     "data": {
      "text/plain": [
       "0"
      ]
     },
     "execution_count": 4,
     "metadata": {},
     "output_type": "execute_result"
    }
   ],
   "source": [
    "dv.coeff(Derivative(qk,tau)) "
   ]
  },
  {
   "cell_type": "code",
   "execution_count": 5,
   "metadata": {},
   "outputs": [
    {
     "name": "stdout",
     "output_type": "stream",
     "text": [
      "Psi_theta_theta*(-h/2 - hT)*(sin(n*theta)*Derivative(qk(tau), tau) + cos(n*theta)*Derivative(pk(tau), tau))\n",
      "Psi_theta_theta*(-h/2 - hT)*sin(n*ak(tau))\n",
      "Psi_theta_theta*(-h/2 - hT)*cos(n*ak(tau))\n",
      "Uu*cos(n*ak(tau))\n",
      "Uu*sin(n*ak(tau))\n"
     ]
    }
   ],
   "source": [
    "#qk = symbols('qk', cls=Function)\n",
    "qk = Function('qk')(tau)\n",
    "pk = Function('pk')(tau)\n",
    "\n",
    "#f = (x^2 + sin(a*w)).function(a,x,w); f\n",
    "\n",
    "u = (cos(n* theta) * qk + pk *sin(n *theta))* Uu\n",
    "#u = ((cos(n* theta) * qk + pk *sin(n *theta))* Uu).function(theta)\n",
    "ak = Function('ak')(tau)\n",
    "\n",
    "zr = u .subs(theta, ak) \n",
    "#zr = u(ak)\n",
    "du = diff(u,tau)    # D[u, τ];\n",
    "\n",
    "dzr = du.subs(theta, ak)   # /. {θ -> αk[τ]};\n",
    "#dzr = du(ak,qk,pk)\n",
    "ddzr = diff(dzr,tau)   #D[dzr, τ]\n",
    "\n",
    "v = - (h/2 + hT)* Psi_theta_theta * (cos(n*theta)*pk + sin(n*theta)*qk) \n",
    "dv = diff(v, tau)   ##dv = D[%, τ];\n",
    "print(dv)\n",
    "\n",
    "dvqk = diff(dv, Derivative(Function('qk')(tau), tau)).subs(theta, ak)\n",
    "#dvqk = diff(dv, Derivative(Function('qk')(Symbol('tau')), Symbol('tau'))).subs(theta, ak)  #D[dv, qk '[τ]] /. {θ -> αk[τ]}\n",
    "print(dvqk)\n",
    "dvpk = diff(dv, Derivative(Function('pk')(tau), tau)).subs(theta, ak)   #D[dv, pk '[τ]] /. {θ -> αk[τ]}\n",
    "print(dvpk)\n",
    "duqk = diff(du, Derivative(Function('qk')(tau), tau)).subs(theta, ak)   #D[du, qk '[τ]] /. {θ -> αk[τ]}\n",
    "print(duqk)\n",
    "dupk = diff(du, Derivative(Function('pk')(tau), tau)).subs(theta, ak)   ###D[du, pk '[τ]] /. {θ -> αk[τ]}\n",
    "print(dupk)"
   ]
  },
  {
   "cell_type": "code",
   "execution_count": 6,
   "metadata": {
    "collapsed": true
   },
   "outputs": [],
   "source": [
    "dphir = (dv/Rk).subs(theta, ak)\n",
    "\n",
    "ddv = diff(dv, tau) ###D[dv, τ];\n",
    "\n",
    "ddphir = diff(dphir, tau)"
   ]
  },
  {
   "cell_type": "code",
   "execution_count": 7,
   "metadata": {},
   "outputs": [
    {
     "name": "stdout",
     "output_type": "stream",
     "text": [
      "Psi_theta_theta*(-h/2 - hT)*(-n*pk(tau)*Derivative(ak(tau), tau)*Derivative(pk(tau), tau)/sqrt(pk(tau)**2 + qk(tau)**2) + n*qk(tau)*Derivative(ak(tau), tau)*Derivative(qk(tau), tau)/sqrt(pk(tau)**2 + qk(tau)**2) + pk(tau)*Derivative(qk(tau), tau, tau)/sqrt(pk(tau)**2 + qk(tau)**2) + qk(tau)*Derivative(pk(tau), tau, tau)/sqrt(pk(tau)**2 + qk(tau)**2))/Rk\n"
     ]
    }
   ],
   "source": [
    "zr = zr.subs({sin(n*Function('ak')(tau)): Function('pk')(tau)/sqrt(Function('pk')(tau)**2 + Function('qk')(tau)**2),cos(n*Function('ak')(tau)): Function('qk')(tau)/sqrt(Function('pk')(tau)**2 + Function('qk')(tau)**2)})\n",
    "dzr=dzr.subs({sin(n*Function('ak')(tau)): Function('pk')(tau)/sqrt(Function('pk')(tau)**2 + Function('qk')(tau)**2),cos(n*Function('ak')(tau)): Function('qk')(tau)/sqrt(Function('pk')(tau)**2 + Function('qk')(tau)**2)})\n",
    "ddzr=ddzr.subs({sin(n*Function('ak')(tau)): Function('pk')(tau)/sqrt(Function('pk')(tau)**2 + Function('qk')(tau)**2),cos(n*Function('ak')(tau)): Function('qk')(tau)/sqrt(Function('pk')(tau)**2 + Function('qk')(tau)**2)})\n",
    "dvqk=dvqk.subs({sin(n*Function('ak')(tau)): Function('pk')(tau)/sqrt(Function('pk')(tau)**2 + Function('qk')(tau)**2),cos(n*Function('ak')(tau)): Function('qk')(tau)/sqrt(Function('pk')(tau)**2 + Function('qk')(tau)**2)})\n",
    "dvpk=dvpk.subs({sin(n*Function('ak')(tau)): Function('pk')(tau)/sqrt(Function('pk')(tau)**2 + Function('qk')(tau)**2),cos(n*Function('ak')(tau)): Function('qk')(tau)/sqrt(Function('pk')(tau)**2 + Function('qk')(tau)**2)})\n",
    "duqk=duqk.subs({sin(n*Function('ak')(tau)): Function('pk')(tau)/sqrt(Function('pk')(tau)**2 + Function('qk')(tau)**2),cos(n*Function('ak')(tau)): Function('qk')(tau)/sqrt(Function('pk')(tau)**2 + Function('qk')(tau)**2)})\n",
    "dupk=dupk.subs({sin(n*Function('ak')(tau)): Function('pk')(tau)/sqrt(Function('pk')(tau)**2 + Function('qk')(tau)**2),cos(n*Function('ak')(tau)): Function('qk')(tau)/sqrt(Function('pk')(tau)**2 + Function('qk')(tau)**2)})\n",
    "dphir=dphir.subs({sin(n*Function('ak')(tau)): Function('pk')(tau)/sqrt(Function('pk')(tau)**2 + Function('qk')(tau)**2),cos(n*Function('ak')(tau)): Function('qk')(tau)/sqrt(Function('pk')(tau)**2 + Function('qk')(tau)**2)})\n",
    "ddphir=ddphir.subs({sin(n*Function('ak')(tau)): Function('pk')(tau)/sqrt(Function('pk')(tau)**2 + Function('qk')(tau)**2),cos(n*Function('ak')(tau)): Function('qk')(tau)/sqrt(Function('pk')(tau)**2 + Function('qk')(tau)**2)})\n",
    "print(ddphir)"
   ]
  },
  {
   "cell_type": "code",
   "execution_count": 8,
   "metadata": {},
   "outputs": [
    {
     "name": "stdout",
     "output_type": "stream",
     "text": [
      "Uu*(pk(tau)**2/sqrt(pk(tau)**2 + qk(tau)**2) + qk(tau)**2/sqrt(pk(tau)**2 + qk(tau)**2))\n",
      "Psi_theta_theta*(-h/2 - hT)*(-n*pk(tau)*Derivative(ak(tau), tau)*Derivative(pk(tau), tau)/sqrt(pk(tau)**2 + qk(tau)**2) + n*qk(tau)*Derivative(ak(tau), tau)*Derivative(qk(tau), tau)/sqrt(pk(tau)**2 + qk(tau)**2) + pk(tau)*Derivative(qk(tau), tau, tau)/sqrt(pk(tau)**2 + qk(tau)**2) + qk(tau)*Derivative(pk(tau), tau, tau)/sqrt(pk(tau)**2 + qk(tau)**2))/Rk\n",
      "Psi_theta_theta*(h + 2*hT)*(n*pk(tau)*Derivative(ak(tau), tau)*Derivative(pk(tau), tau) - n*qk(tau)*Derivative(ak(tau), tau)*Derivative(qk(tau), tau) - pk(tau)*Derivative(qk(tau), tau, tau) - qk(tau)*Derivative(pk(tau), tau, tau))/(2*Rk*sqrt(pk(tau)**2 + qk(tau)**2))\n"
     ]
    }
   ],
   "source": [
    "print(zr)\n",
    "zr=zr.factor()\n",
    "dzr=dzr.factor()\n",
    "ddzr=ddzr.factor()\n",
    "dvqk=dvqk.factor()\n",
    "dvpk=dvpk.factor()\n",
    "duqk=duqk.factor()\n",
    "dupk=dupk.factor()\n",
    "dphir=dphir.factor()\n",
    "print(ddphir)\n",
    "ddphir=ddphir.factor()\n",
    "print(ddphir)"
   ]
  },
  {
   "cell_type": "code",
   "execution_count": 9,
   "metadata": {
    "collapsed": true
   },
   "outputs": [],
   "source": [
    "ddzr=ddzr.subs(Derivative(Function('ak')(tau),tau), (Function('qk')(tau)*Derivative(Function('pk')(tau),tau)-Function('pk')(tau)*Derivative(Function('qk')(tau),tau))/(n*(Function('pk')(tau)**2+Function('qk')(tau)**2  )) )\n",
    "\n",
    "ddphir=ddphir.subs(Derivative(Function('ak')(tau),tau), (Function('qk')(tau)*Derivative(Function('pk')(tau),tau)-Function('pk')(tau)*Derivative(Function('qk')(tau),tau))/(n*(Function('pk')(tau)**2+Function('qk')(tau)**2  )) )"
   ]
  },
  {
   "cell_type": "code",
   "execution_count": 10,
   "metadata": {},
   "outputs": [
    {
     "name": "stdout",
     "output_type": "stream",
     "text": [
      "Psi_theta_theta*(h + 2*hT)*((-pk(tau)*Derivative(qk(tau), tau) + qk(tau)*Derivative(pk(tau), tau))*pk(tau)*Derivative(pk(tau), tau)/(pk(tau)**2 + qk(tau)**2) - (-pk(tau)*Derivative(qk(tau), tau) + qk(tau)*Derivative(pk(tau), tau))*qk(tau)*Derivative(qk(tau), tau)/(pk(tau)**2 + qk(tau)**2) - pk(tau)*Derivative(qk(tau), tau, tau) - qk(tau)*Derivative(pk(tau), tau, tau))/(2*Rk*sqrt(pk(tau)**2 + qk(tau)**2))\n"
     ]
    }
   ],
   "source": [
    "print(ddphir)"
   ]
  },
  {
   "cell_type": "code",
   "execution_count": 11,
   "metadata": {},
   "outputs": [
    {
     "data": {
      "text/plain": [
       "Psi_theta_theta*(h + 2*hT)*(-pk(tau)**3*Derivative(qk(tau), tau, tau) - pk(tau)**2*qk(tau)*Derivative(pk(tau), tau, tau) - pk(tau)**2*Derivative(pk(tau), tau)*Derivative(qk(tau), tau) - pk(tau)*qk(tau)**2*Derivative(qk(tau), tau, tau) + pk(tau)*qk(tau)*Derivative(pk(tau), tau)**2 + pk(tau)*qk(tau)*Derivative(qk(tau), tau)**2 - qk(tau)**3*Derivative(pk(tau), tau, tau) - qk(tau)**2*Derivative(pk(tau), tau)*Derivative(qk(tau), tau))/(2*Rk*(pk(tau)**2 + qk(tau)**2)**(3/2))"
      ]
     },
     "execution_count": 11,
     "metadata": {},
     "output_type": "execute_result"
    }
   ],
   "source": [
    "ddphir.factor()"
   ]
  },
  {
   "cell_type": "code",
   "execution_count": 12,
   "metadata": {},
   "outputs": [
    {
     "data": {
      "text/plain": [
       "-Psi_theta_theta*(h + 2*hT)*(pk(tau)*Derivative(qk(tau), tau) + qk(tau)*Derivative(pk(tau), tau))/(2*Rk*sqrt(pk(tau)**2 + qk(tau)**2))"
      ]
     },
     "execution_count": 12,
     "metadata": {},
     "output_type": "execute_result"
    }
   ],
   "source": [
    "dphir"
   ]
  },
  {
   "cell_type": "code",
   "execution_count": 13,
   "metadata": {
    "collapsed": true
   },
   "outputs": [],
   "source": [
    "Fv = cr*ps\n",
    "#FN = (1/n)*(mR*omega**2*ddzr + omega*dr*dzr + cr*zr + Fv)\n",
    "FN = (1/n)*(mR*omega**2*ddzr + cr*zr + Fv)       #dr = 0\n",
    "#FC = (1/n)*(Ir*omega**2*ddphir + drot*omega*dphir  + Texte)/Rk\n",
    "FC = (1/n)*(Ir*omega**2*ddphir + Texte)/Rk\n",
    "eq1 = -diff(pk,tau,2)-(1/(msT*omega))*d*diff(pk,tau)-pk-(1/(msT*omega**2))*cUo*Vo*sin(Omega*tau/omega)+(n/(msT*omega**2))*(-FN*dupk-FC*dvpk)\n",
    "eq2 = -diff(qk,tau,2)-(1/(msT*omega))*d*diff(qk,tau)-qk-(1/(msT*omega**2))*cUo*Vo*cos(Omega*tau/omega)+(n/(msT*omega**2))*(-FN*duqk-FC*dvqk)"
   ]
  },
  {
   "cell_type": "code",
   "execution_count": 14,
   "metadata": {},
   "outputs": [
    {
     "name": "stdout",
     "output_type": "stream",
     "text": [
      "-Vo*cUo*sin(tau)/(msT*omega**2) - d*Derivative(pk(tau), tau)/(msT*omega) - pk(tau) - Derivative(pk(tau), tau, tau) + n*(Psi_theta_theta*(h + 2*hT)*(Ir*Psi_theta_theta*omega**2*(h + 2*hT)*((-pk(tau)*Derivative(qk(tau), tau) + qk(tau)*Derivative(pk(tau), tau))*pk(tau)*Derivative(pk(tau), tau)/(pk(tau)**2 + qk(tau)**2) - (-pk(tau)*Derivative(qk(tau), tau) + qk(tau)*Derivative(pk(tau), tau))*qk(tau)*Derivative(qk(tau), tau)/(pk(tau)**2 + qk(tau)**2) - pk(tau)*Derivative(qk(tau), tau, tau) - qk(tau)*Derivative(pk(tau), tau, tau))/(2*Rk*sqrt(pk(tau)**2 + qk(tau)**2)) + Texte)*qk(tau)/(2*Rk*n*sqrt(pk(tau)**2 + qk(tau)**2)) - Uu*(Uu*cr*sqrt(pk(tau)**2 + qk(tau)**2) + Uu*mR*omega**2*(-(-pk(tau)*Derivative(qk(tau), tau) + qk(tau)*Derivative(pk(tau), tau))*pk(tau)*Derivative(qk(tau), tau)/(pk(tau)**2 + qk(tau)**2) + (-pk(tau)*Derivative(qk(tau), tau) + qk(tau)*Derivative(pk(tau), tau))*qk(tau)*Derivative(pk(tau), tau)/(pk(tau)**2 + qk(tau)**2) + pk(tau)*Derivative(pk(tau), tau, tau) + qk(tau)*Derivative(qk(tau), tau, tau))/sqrt(pk(tau)**2 + qk(tau)**2) + cr*ps)*pk(tau)/(n*sqrt(pk(tau)**2 + qk(tau)**2)))/(msT*omega**2)\n"
     ]
    }
   ],
   "source": [
    "print(eq1)\n",
    "#print(eq1.factor())"
   ]
  },
  {
   "cell_type": "code",
   "execution_count": 15,
   "metadata": {},
   "outputs": [
    {
     "data": {
      "text/plain": [
       "-Vo*cUo*cos(tau)/(msT*omega**2) - d*Derivative(qk(tau), tau)/(msT*omega) - qk(tau) - Derivative(qk(tau), tau, tau) + n*(Psi_theta_theta*(h + 2*hT)*(Ir*Psi_theta_theta*omega**2*(h + 2*hT)*((-pk(tau)*Derivative(qk(tau), tau) + qk(tau)*Derivative(pk(tau), tau))*pk(tau)*Derivative(pk(tau), tau)/(pk(tau)**2 + qk(tau)**2) - (-pk(tau)*Derivative(qk(tau), tau) + qk(tau)*Derivative(pk(tau), tau))*qk(tau)*Derivative(qk(tau), tau)/(pk(tau)**2 + qk(tau)**2) - pk(tau)*Derivative(qk(tau), tau, tau) - qk(tau)*Derivative(pk(tau), tau, tau))/(2*Rk*sqrt(pk(tau)**2 + qk(tau)**2)) + Texte)*pk(tau)/(2*Rk*n*sqrt(pk(tau)**2 + qk(tau)**2)) - Uu*(Uu*cr*sqrt(pk(tau)**2 + qk(tau)**2) + Uu*mR*omega**2*(-(-pk(tau)*Derivative(qk(tau), tau) + qk(tau)*Derivative(pk(tau), tau))*pk(tau)*Derivative(qk(tau), tau)/(pk(tau)**2 + qk(tau)**2) + (-pk(tau)*Derivative(qk(tau), tau) + qk(tau)*Derivative(pk(tau), tau))*qk(tau)*Derivative(pk(tau), tau)/(pk(tau)**2 + qk(tau)**2) + pk(tau)*Derivative(pk(tau), tau, tau) + qk(tau)*Derivative(qk(tau), tau, tau))/sqrt(pk(tau)**2 + qk(tau)**2) + cr*ps)*qk(tau)/(n*sqrt(pk(tau)**2 + qk(tau)**2)))/(msT*omega**2)"
      ]
     },
     "execution_count": 15,
     "metadata": {},
     "output_type": "execute_result"
    }
   ],
   "source": [
    "eq2"
   ]
  },
  {
   "cell_type": "code",
   "execution_count": 16,
   "metadata": {
    "collapsed": true
   },
   "outputs": [],
   "source": [
    "DIFF2Q , DIFF2P= symbols('DIFF2Q, DIFF2P')\n",
    "eq1sss = eq1.subs({Derivative(qk,tau,tau) : DIFF2Q, Derivative(pk,tau,tau):DIFF2P})\n",
    "eq2sss = eq2.subs({Derivative(qk,tau,tau) : DIFF2Q, Derivative(pk,tau,tau):DIFF2P})"
   ]
  },
  {
   "cell_type": "code",
   "execution_count": 17,
   "metadata": {
    "collapsed": true
   },
   "outputs": [],
   "source": [
    "solution= solve([eq1sss , eq2sss],[DIFF2Q , DIFF2P])"
   ]
  },
  {
   "cell_type": "code",
   "execution_count": 18,
   "metadata": {},
   "outputs": [
    {
     "data": {
      "text/plain": [
       "{DIFF2Q: (Ir*Psi_theta_theta**2*Uu**2*cr*h**2*pk(tau)**6*qk(tau) + Ir*Psi_theta_theta**2*Uu**2*cr*h**2*pk(tau)**4*qk(tau)**3 - Ir*Psi_theta_theta**2*Uu**2*cr*h**2*pk(tau)**2*qk(tau)**5 - Ir*Psi_theta_theta**2*Uu**2*cr*h**2*qk(tau)**7 + 4*Ir*Psi_theta_theta**2*Uu**2*cr*h*hT*pk(tau)**6*qk(tau) + 4*Ir*Psi_theta_theta**2*Uu**2*cr*h*hT*pk(tau)**4*qk(tau)**3 - 4*Ir*Psi_theta_theta**2*Uu**2*cr*h*hT*pk(tau)**2*qk(tau)**5 - 4*Ir*Psi_theta_theta**2*Uu**2*cr*h*hT*qk(tau)**7 + 4*Ir*Psi_theta_theta**2*Uu**2*cr*hT**2*pk(tau)**6*qk(tau) + 4*Ir*Psi_theta_theta**2*Uu**2*cr*hT**2*pk(tau)**4*qk(tau)**3 - 4*Ir*Psi_theta_theta**2*Uu**2*cr*hT**2*pk(tau)**2*qk(tau)**5 - 4*Ir*Psi_theta_theta**2*Uu**2*cr*hT**2*qk(tau)**7 - Ir*Psi_theta_theta**2*Uu**2*h**2*mR*omega**2*pk(tau)**5*Derivative(pk(tau), tau)*Derivative(qk(tau), tau) + Ir*Psi_theta_theta**2*Uu**2*h**2*mR*omega**2*pk(tau)**4*qk(tau)*Derivative(pk(tau), tau)**2 + 2*Ir*Psi_theta_theta**2*Uu**2*h**2*mR*omega**2*pk(tau)**4*qk(tau)*Derivative(qk(tau), tau)**2 - 2*Ir*Psi_theta_theta**2*Uu**2*h**2*mR*omega**2*pk(tau)**3*qk(tau)**2*Derivative(pk(tau), tau)*Derivative(qk(tau), tau) - 2*Ir*Psi_theta_theta**2*Uu**2*h**2*mR*omega**2*pk(tau)**2*qk(tau)**3*Derivative(qk(tau), tau)**2 + 3*Ir*Psi_theta_theta**2*Uu**2*h**2*mR*omega**2*pk(tau)*qk(tau)**4*Derivative(pk(tau), tau)*Derivative(qk(tau), tau) - Ir*Psi_theta_theta**2*Uu**2*h**2*mR*omega**2*qk(tau)**5*Derivative(pk(tau), tau)**2 - 4*Ir*Psi_theta_theta**2*Uu**2*h*hT*mR*omega**2*pk(tau)**5*Derivative(pk(tau), tau)*Derivative(qk(tau), tau) + 4*Ir*Psi_theta_theta**2*Uu**2*h*hT*mR*omega**2*pk(tau)**4*qk(tau)*Derivative(pk(tau), tau)**2 + 8*Ir*Psi_theta_theta**2*Uu**2*h*hT*mR*omega**2*pk(tau)**4*qk(tau)*Derivative(qk(tau), tau)**2 - 8*Ir*Psi_theta_theta**2*Uu**2*h*hT*mR*omega**2*pk(tau)**3*qk(tau)**2*Derivative(pk(tau), tau)*Derivative(qk(tau), tau) - 8*Ir*Psi_theta_theta**2*Uu**2*h*hT*mR*omega**2*pk(tau)**2*qk(tau)**3*Derivative(qk(tau), tau)**2 + 12*Ir*Psi_theta_theta**2*Uu**2*h*hT*mR*omega**2*pk(tau)*qk(tau)**4*Derivative(pk(tau), tau)*Derivative(qk(tau), tau) - 4*Ir*Psi_theta_theta**2*Uu**2*h*hT*mR*omega**2*qk(tau)**5*Derivative(pk(tau), tau)**2 - 4*Ir*Psi_theta_theta**2*Uu**2*hT**2*mR*omega**2*pk(tau)**5*Derivative(pk(tau), tau)*Derivative(qk(tau), tau) + 4*Ir*Psi_theta_theta**2*Uu**2*hT**2*mR*omega**2*pk(tau)**4*qk(tau)*Derivative(pk(tau), tau)**2 + 8*Ir*Psi_theta_theta**2*Uu**2*hT**2*mR*omega**2*pk(tau)**4*qk(tau)*Derivative(qk(tau), tau)**2 - 8*Ir*Psi_theta_theta**2*Uu**2*hT**2*mR*omega**2*pk(tau)**3*qk(tau)**2*Derivative(pk(tau), tau)*Derivative(qk(tau), tau) - 8*Ir*Psi_theta_theta**2*Uu**2*hT**2*mR*omega**2*pk(tau)**2*qk(tau)**3*Derivative(qk(tau), tau)**2 + 12*Ir*Psi_theta_theta**2*Uu**2*hT**2*mR*omega**2*pk(tau)*qk(tau)**4*Derivative(pk(tau), tau)*Derivative(qk(tau), tau) - 4*Ir*Psi_theta_theta**2*Uu**2*hT**2*mR*omega**2*qk(tau)**5*Derivative(pk(tau), tau)**2 + Ir*Psi_theta_theta**2*Uu*cr*h**2*ps*sqrt(pk(tau)**2 + qk(tau)**2)*pk(tau)**4*qk(tau) - Ir*Psi_theta_theta**2*Uu*cr*h**2*ps*sqrt(pk(tau)**2 + qk(tau)**2)*qk(tau)**5 + 4*Ir*Psi_theta_theta**2*Uu*cr*h*hT*ps*sqrt(pk(tau)**2 + qk(tau)**2)*pk(tau)**4*qk(tau) - 4*Ir*Psi_theta_theta**2*Uu*cr*h*hT*ps*sqrt(pk(tau)**2 + qk(tau)**2)*qk(tau)**5 + 4*Ir*Psi_theta_theta**2*Uu*cr*hT**2*ps*sqrt(pk(tau)**2 + qk(tau)**2)*pk(tau)**4*qk(tau) - 4*Ir*Psi_theta_theta**2*Uu*cr*hT**2*ps*sqrt(pk(tau)**2 + qk(tau)**2)*qk(tau)**5 + Ir*Psi_theta_theta**2*Vo*cUo*h**2*pk(tau)**5*qk(tau)*sin(tau) - Ir*Psi_theta_theta**2*Vo*cUo*h**2*pk(tau)**4*qk(tau)**2*cos(tau) + 2*Ir*Psi_theta_theta**2*Vo*cUo*h**2*pk(tau)**3*qk(tau)**3*sin(tau) - 2*Ir*Psi_theta_theta**2*Vo*cUo*h**2*pk(tau)**2*qk(tau)**4*cos(tau) + Ir*Psi_theta_theta**2*Vo*cUo*h**2*pk(tau)*qk(tau)**5*sin(tau) - Ir*Psi_theta_theta**2*Vo*cUo*h**2*qk(tau)**6*cos(tau) + 4*Ir*Psi_theta_theta**2*Vo*cUo*h*hT*pk(tau)**5*qk(tau)*sin(tau) - 4*Ir*Psi_theta_theta**2*Vo*cUo*h*hT*pk(tau)**4*qk(tau)**2*cos(tau) + 8*Ir*Psi_theta_theta**2*Vo*cUo*h*hT*pk(tau)**3*qk(tau)**3*sin(tau) - 8*Ir*Psi_theta_theta**2*Vo*cUo*h*hT*pk(tau)**2*qk(tau)**4*cos(tau) + 4*Ir*Psi_theta_theta**2*Vo*cUo*h*hT*pk(tau)*qk(tau)**5*sin(tau) - 4*Ir*Psi_theta_theta**2*Vo*cUo*h*hT*qk(tau)**6*cos(tau) + 4*Ir*Psi_theta_theta**2*Vo*cUo*hT**2*pk(tau)**5*qk(tau)*sin(tau) - 4*Ir*Psi_theta_theta**2*Vo*cUo*hT**2*pk(tau)**4*qk(tau)**2*cos(tau) + 8*Ir*Psi_theta_theta**2*Vo*cUo*hT**2*pk(tau)**3*qk(tau)**3*sin(tau) - 8*Ir*Psi_theta_theta**2*Vo*cUo*hT**2*pk(tau)**2*qk(tau)**4*cos(tau) + 4*Ir*Psi_theta_theta**2*Vo*cUo*hT**2*pk(tau)*qk(tau)**5*sin(tau) - 4*Ir*Psi_theta_theta**2*Vo*cUo*hT**2*qk(tau)**6*cos(tau) + Ir*Psi_theta_theta**2*d*h**2*omega*pk(tau)**5*qk(tau)*Derivative(pk(tau), tau) - Ir*Psi_theta_theta**2*d*h**2*omega*pk(tau)**4*qk(tau)**2*Derivative(qk(tau), tau) + 2*Ir*Psi_theta_theta**2*d*h**2*omega*pk(tau)**3*qk(tau)**3*Derivative(pk(tau), tau) - 2*Ir*Psi_theta_theta**2*d*h**2*omega*pk(tau)**2*qk(tau)**4*Derivative(qk(tau), tau) + Ir*Psi_theta_theta**2*d*h**2*omega*pk(tau)*qk(tau)**5*Derivative(pk(tau), tau) - Ir*Psi_theta_theta**2*d*h**2*omega*qk(tau)**6*Derivative(qk(tau), tau) + 4*Ir*Psi_theta_theta**2*d*h*hT*omega*pk(tau)**5*qk(tau)*Derivative(pk(tau), tau) - 4*Ir*Psi_theta_theta**2*d*h*hT*omega*pk(tau)**4*qk(tau)**2*Derivative(qk(tau), tau) + 8*Ir*Psi_theta_theta**2*d*h*hT*omega*pk(tau)**3*qk(tau)**3*Derivative(pk(tau), tau) - 8*Ir*Psi_theta_theta**2*d*h*hT*omega*pk(tau)**2*qk(tau)**4*Derivative(qk(tau), tau) + 4*Ir*Psi_theta_theta**2*d*h*hT*omega*pk(tau)*qk(tau)**5*Derivative(pk(tau), tau) - 4*Ir*Psi_theta_theta**2*d*h*hT*omega*qk(tau)**6*Derivative(qk(tau), tau) + 4*Ir*Psi_theta_theta**2*d*hT**2*omega*pk(tau)**5*qk(tau)*Derivative(pk(tau), tau) - 4*Ir*Psi_theta_theta**2*d*hT**2*omega*pk(tau)**4*qk(tau)**2*Derivative(qk(tau), tau) + 8*Ir*Psi_theta_theta**2*d*hT**2*omega*pk(tau)**3*qk(tau)**3*Derivative(pk(tau), tau) - 8*Ir*Psi_theta_theta**2*d*hT**2*omega*pk(tau)**2*qk(tau)**4*Derivative(qk(tau), tau) + 4*Ir*Psi_theta_theta**2*d*hT**2*omega*pk(tau)*qk(tau)**5*Derivative(pk(tau), tau) - 4*Ir*Psi_theta_theta**2*d*hT**2*omega*qk(tau)**6*Derivative(qk(tau), tau) + Ir*Psi_theta_theta**2*h**2*msT*omega**2*pk(tau)**6*qk(tau) - Ir*Psi_theta_theta**2*h**2*msT*omega**2*pk(tau)**5*Derivative(pk(tau), tau)*Derivative(qk(tau), tau) + Ir*Psi_theta_theta**2*h**2*msT*omega**2*pk(tau)**4*qk(tau)**3 + Ir*Psi_theta_theta**2*h**2*msT*omega**2*pk(tau)**4*qk(tau)*Derivative(pk(tau), tau)**2 + Ir*Psi_theta_theta**2*h**2*msT*omega**2*pk(tau)**4*qk(tau)*Derivative(qk(tau), tau)**2 - 2*Ir*Psi_theta_theta**2*h**2*msT*omega**2*pk(tau)**3*qk(tau)**2*Derivative(pk(tau), tau)*Derivative(qk(tau), tau) - Ir*Psi_theta_theta**2*h**2*msT*omega**2*pk(tau)**2*qk(tau)**5 + Ir*Psi_theta_theta**2*h**2*msT*omega**2*pk(tau)**2*qk(tau)**3*Derivative(pk(tau), tau)**2 + Ir*Psi_theta_theta**2*h**2*msT*omega**2*pk(tau)**2*qk(tau)**3*Derivative(qk(tau), tau)**2 - Ir*Psi_theta_theta**2*h**2*msT*omega**2*pk(tau)*qk(tau)**4*Derivative(pk(tau), tau)*Derivative(qk(tau), tau) - Ir*Psi_theta_theta**2*h**2*msT*omega**2*qk(tau)**7 + 4*Ir*Psi_theta_theta**2*h*hT*msT*omega**2*pk(tau)**6*qk(tau) - 4*Ir*Psi_theta_theta**2*h*hT*msT*omega**2*pk(tau)**5*Derivative(pk(tau), tau)*Derivative(qk(tau), tau) + 4*Ir*Psi_theta_theta**2*h*hT*msT*omega**2*pk(tau)**4*qk(tau)**3 + 4*Ir*Psi_theta_theta**2*h*hT*msT*omega**2*pk(tau)**4*qk(tau)*Derivative(pk(tau), tau)**2 + 4*Ir*Psi_theta_theta**2*h*hT*msT*omega**2*pk(tau)**4*qk(tau)*Derivative(qk(tau), tau)**2 - 8*Ir*Psi_theta_theta**2*h*hT*msT*omega**2*pk(tau)**3*qk(tau)**2*Derivative(pk(tau), tau)*Derivative(qk(tau), tau) - 4*Ir*Psi_theta_theta**2*h*hT*msT*omega**2*pk(tau)**2*qk(tau)**5 + 4*Ir*Psi_theta_theta**2*h*hT*msT*omega**2*pk(tau)**2*qk(tau)**3*Derivative(pk(tau), tau)**2 + 4*Ir*Psi_theta_theta**2*h*hT*msT*omega**2*pk(tau)**2*qk(tau)**3*Derivative(qk(tau), tau)**2 - 4*Ir*Psi_theta_theta**2*h*hT*msT*omega**2*pk(tau)*qk(tau)**4*Derivative(pk(tau), tau)*Derivative(qk(tau), tau) - 4*Ir*Psi_theta_theta**2*h*hT*msT*omega**2*qk(tau)**7 + 4*Ir*Psi_theta_theta**2*hT**2*msT*omega**2*pk(tau)**6*qk(tau) - 4*Ir*Psi_theta_theta**2*hT**2*msT*omega**2*pk(tau)**5*Derivative(pk(tau), tau)*Derivative(qk(tau), tau) + 4*Ir*Psi_theta_theta**2*hT**2*msT*omega**2*pk(tau)**4*qk(tau)**3 + 4*Ir*Psi_theta_theta**2*hT**2*msT*omega**2*pk(tau)**4*qk(tau)*Derivative(pk(tau), tau)**2 + 4*Ir*Psi_theta_theta**2*hT**2*msT*omega**2*pk(tau)**4*qk(tau)*Derivative(qk(tau), tau)**2 - 8*Ir*Psi_theta_theta**2*hT**2*msT*omega**2*pk(tau)**3*qk(tau)**2*Derivative(pk(tau), tau)*Derivative(qk(tau), tau) - 4*Ir*Psi_theta_theta**2*hT**2*msT*omega**2*pk(tau)**2*qk(tau)**5 + 4*Ir*Psi_theta_theta**2*hT**2*msT*omega**2*pk(tau)**2*qk(tau)**3*Derivative(pk(tau), tau)**2 + 4*Ir*Psi_theta_theta**2*hT**2*msT*omega**2*pk(tau)**2*qk(tau)**3*Derivative(qk(tau), tau)**2 - 4*Ir*Psi_theta_theta**2*hT**2*msT*omega**2*pk(tau)*qk(tau)**4*Derivative(pk(tau), tau)*Derivative(qk(tau), tau) - 4*Ir*Psi_theta_theta**2*hT**2*msT*omega**2*qk(tau)**7 + 2*Psi_theta_theta*Rk*Texte*Uu**2*h*mR*sqrt(pk(tau)**2 + qk(tau)**2)*pk(tau)**5 - 2*Psi_theta_theta*Rk*Texte*Uu**2*h*mR*sqrt(pk(tau)**2 + qk(tau)**2)*pk(tau)*qk(tau)**4 + 4*Psi_theta_theta*Rk*Texte*Uu**2*hT*mR*sqrt(pk(tau)**2 + qk(tau)**2)*pk(tau)**5 - 4*Psi_theta_theta*Rk*Texte*Uu**2*hT*mR*sqrt(pk(tau)**2 + qk(tau)**2)*pk(tau)*qk(tau)**4 + 2*Psi_theta_theta*Rk*Texte*h*msT*sqrt(pk(tau)**2 + qk(tau)**2)*pk(tau)**5 + 4*Psi_theta_theta*Rk*Texte*h*msT*sqrt(pk(tau)**2 + qk(tau)**2)*pk(tau)**3*qk(tau)**2 + 2*Psi_theta_theta*Rk*Texte*h*msT*sqrt(pk(tau)**2 + qk(tau)**2)*pk(tau)*qk(tau)**4 + 4*Psi_theta_theta*Rk*Texte*hT*msT*sqrt(pk(tau)**2 + qk(tau)**2)*pk(tau)**5 + 8*Psi_theta_theta*Rk*Texte*hT*msT*sqrt(pk(tau)**2 + qk(tau)**2)*pk(tau)**3*qk(tau)**2 + 4*Psi_theta_theta*Rk*Texte*hT*msT*sqrt(pk(tau)**2 + qk(tau)**2)*pk(tau)*qk(tau)**4 - 4*Rk**2*Uu**2*Vo*cUo*mR*pk(tau)**6*cos(tau) + 4*Rk**2*Uu**2*Vo*cUo*mR*pk(tau)**5*qk(tau)*sin(tau) - 8*Rk**2*Uu**2*Vo*cUo*mR*pk(tau)**4*qk(tau)**2*cos(tau) + 8*Rk**2*Uu**2*Vo*cUo*mR*pk(tau)**3*qk(tau)**3*sin(tau) - 4*Rk**2*Uu**2*Vo*cUo*mR*pk(tau)**2*qk(tau)**4*cos(tau) + 4*Rk**2*Uu**2*Vo*cUo*mR*pk(tau)*qk(tau)**5*sin(tau) - 4*Rk**2*Uu**2*cr*msT*pk(tau)**6*qk(tau) - 12*Rk**2*Uu**2*cr*msT*pk(tau)**4*qk(tau)**3 - 12*Rk**2*Uu**2*cr*msT*pk(tau)**2*qk(tau)**5 - 4*Rk**2*Uu**2*cr*msT*qk(tau)**7 - 4*Rk**2*Uu**2*d*mR*omega*pk(tau)**6*Derivative(qk(tau), tau) + 4*Rk**2*Uu**2*d*mR*omega*pk(tau)**5*qk(tau)*Derivative(pk(tau), tau) - 8*Rk**2*Uu**2*d*mR*omega*pk(tau)**4*qk(tau)**2*Derivative(qk(tau), tau) + 8*Rk**2*Uu**2*d*mR*omega*pk(tau)**3*qk(tau)**3*Derivative(pk(tau), tau) - 4*Rk**2*Uu**2*d*mR*omega*pk(tau)**2*qk(tau)**4*Derivative(qk(tau), tau) + 4*Rk**2*Uu**2*d*mR*omega*pk(tau)*qk(tau)**5*Derivative(pk(tau), tau) - 4*Rk**2*Uu**2*mR*msT*omega**2*pk(tau)**4*qk(tau)*Derivative(qk(tau), tau)**2 + 8*Rk**2*Uu**2*mR*msT*omega**2*pk(tau)**3*qk(tau)**2*Derivative(pk(tau), tau)*Derivative(qk(tau), tau) - 4*Rk**2*Uu**2*mR*msT*omega**2*pk(tau)**2*qk(tau)**3*Derivative(pk(tau), tau)**2 - 4*Rk**2*Uu**2*mR*msT*omega**2*pk(tau)**2*qk(tau)**3*Derivative(qk(tau), tau)**2 + 8*Rk**2*Uu**2*mR*msT*omega**2*pk(tau)*qk(tau)**4*Derivative(pk(tau), tau)*Derivative(qk(tau), tau) - 4*Rk**2*Uu**2*mR*msT*omega**2*qk(tau)**5*Derivative(pk(tau), tau)**2 - 4*Rk**2*Uu*cr*msT*ps*sqrt(pk(tau)**2 + qk(tau)**2)*pk(tau)**4*qk(tau) - 8*Rk**2*Uu*cr*msT*ps*sqrt(pk(tau)**2 + qk(tau)**2)*pk(tau)**2*qk(tau)**3 - 4*Rk**2*Uu*cr*msT*ps*sqrt(pk(tau)**2 + qk(tau)**2)*qk(tau)**5 - 4*Rk**2*Vo*cUo*msT*pk(tau)**6*cos(tau) - 12*Rk**2*Vo*cUo*msT*pk(tau)**4*qk(tau)**2*cos(tau) - 12*Rk**2*Vo*cUo*msT*pk(tau)**2*qk(tau)**4*cos(tau) - 4*Rk**2*Vo*cUo*msT*qk(tau)**6*cos(tau) - 4*Rk**2*d*msT*omega*pk(tau)**6*Derivative(qk(tau), tau) - 12*Rk**2*d*msT*omega*pk(tau)**4*qk(tau)**2*Derivative(qk(tau), tau) - 12*Rk**2*d*msT*omega*pk(tau)**2*qk(tau)**4*Derivative(qk(tau), tau) - 4*Rk**2*d*msT*omega*qk(tau)**6*Derivative(qk(tau), tau) - 4*Rk**2*msT**2*omega**2*pk(tau)**6*qk(tau) - 12*Rk**2*msT**2*omega**2*pk(tau)**4*qk(tau)**3 - 12*Rk**2*msT**2*omega**2*pk(tau)**2*qk(tau)**5 - 4*Rk**2*msT**2*omega**2*qk(tau)**7)/(omega**2*(Ir*Psi_theta_theta**2*Uu**2*h**2*mR*pk(tau)**6 - Ir*Psi_theta_theta**2*Uu**2*h**2*mR*pk(tau)**4*qk(tau)**2 - Ir*Psi_theta_theta**2*Uu**2*h**2*mR*pk(tau)**2*qk(tau)**4 + Ir*Psi_theta_theta**2*Uu**2*h**2*mR*qk(tau)**6 + 4*Ir*Psi_theta_theta**2*Uu**2*h*hT*mR*pk(tau)**6 - 4*Ir*Psi_theta_theta**2*Uu**2*h*hT*mR*pk(tau)**4*qk(tau)**2 - 4*Ir*Psi_theta_theta**2*Uu**2*h*hT*mR*pk(tau)**2*qk(tau)**4 + 4*Ir*Psi_theta_theta**2*Uu**2*h*hT*mR*qk(tau)**6 + 4*Ir*Psi_theta_theta**2*Uu**2*hT**2*mR*pk(tau)**6 - 4*Ir*Psi_theta_theta**2*Uu**2*hT**2*mR*pk(tau)**4*qk(tau)**2 - 4*Ir*Psi_theta_theta**2*Uu**2*hT**2*mR*pk(tau)**2*qk(tau)**4 + 4*Ir*Psi_theta_theta**2*Uu**2*hT**2*mR*qk(tau)**6 + Ir*Psi_theta_theta**2*h**2*msT*pk(tau)**6 + 3*Ir*Psi_theta_theta**2*h**2*msT*pk(tau)**4*qk(tau)**2 + 3*Ir*Psi_theta_theta**2*h**2*msT*pk(tau)**2*qk(tau)**4 + Ir*Psi_theta_theta**2*h**2*msT*qk(tau)**6 + 4*Ir*Psi_theta_theta**2*h*hT*msT*pk(tau)**6 + 12*Ir*Psi_theta_theta**2*h*hT*msT*pk(tau)**4*qk(tau)**2 + 12*Ir*Psi_theta_theta**2*h*hT*msT*pk(tau)**2*qk(tau)**4 + 4*Ir*Psi_theta_theta**2*h*hT*msT*qk(tau)**6 + 4*Ir*Psi_theta_theta**2*hT**2*msT*pk(tau)**6 + 12*Ir*Psi_theta_theta**2*hT**2*msT*pk(tau)**4*qk(tau)**2 + 12*Ir*Psi_theta_theta**2*hT**2*msT*pk(tau)**2*qk(tau)**4 + 4*Ir*Psi_theta_theta**2*hT**2*msT*qk(tau)**6 + 4*Rk**2*Uu**2*mR*msT*pk(tau)**6 + 12*Rk**2*Uu**2*mR*msT*pk(tau)**4*qk(tau)**2 + 12*Rk**2*Uu**2*mR*msT*pk(tau)**2*qk(tau)**4 + 4*Rk**2*Uu**2*mR*msT*qk(tau)**6 + 4*Rk**2*msT**2*pk(tau)**6 + 12*Rk**2*msT**2*pk(tau)**4*qk(tau)**2 + 12*Rk**2*msT**2*pk(tau)**2*qk(tau)**4 + 4*Rk**2*msT**2*qk(tau)**6)),\n",
       " DIFF2P: (-Ir*Psi_theta_theta**2*Uu**2*cr*h**2*pk(tau)**7 - Ir*Psi_theta_theta**2*Uu**2*cr*h**2*pk(tau)**5*qk(tau)**2 + Ir*Psi_theta_theta**2*Uu**2*cr*h**2*pk(tau)**3*qk(tau)**4 + Ir*Psi_theta_theta**2*Uu**2*cr*h**2*pk(tau)*qk(tau)**6 - 4*Ir*Psi_theta_theta**2*Uu**2*cr*h*hT*pk(tau)**7 - 4*Ir*Psi_theta_theta**2*Uu**2*cr*h*hT*pk(tau)**5*qk(tau)**2 + 4*Ir*Psi_theta_theta**2*Uu**2*cr*h*hT*pk(tau)**3*qk(tau)**4 + 4*Ir*Psi_theta_theta**2*Uu**2*cr*h*hT*pk(tau)*qk(tau)**6 - 4*Ir*Psi_theta_theta**2*Uu**2*cr*hT**2*pk(tau)**7 - 4*Ir*Psi_theta_theta**2*Uu**2*cr*hT**2*pk(tau)**5*qk(tau)**2 + 4*Ir*Psi_theta_theta**2*Uu**2*cr*hT**2*pk(tau)**3*qk(tau)**4 + 4*Ir*Psi_theta_theta**2*Uu**2*cr*hT**2*pk(tau)*qk(tau)**6 - Ir*Psi_theta_theta**2*Uu**2*h**2*mR*omega**2*pk(tau)**5*Derivative(qk(tau), tau)**2 + 3*Ir*Psi_theta_theta**2*Uu**2*h**2*mR*omega**2*pk(tau)**4*qk(tau)*Derivative(pk(tau), tau)*Derivative(qk(tau), tau) - 2*Ir*Psi_theta_theta**2*Uu**2*h**2*mR*omega**2*pk(tau)**3*qk(tau)**2*Derivative(pk(tau), tau)**2 - 2*Ir*Psi_theta_theta**2*Uu**2*h**2*mR*omega**2*pk(tau)**2*qk(tau)**3*Derivative(pk(tau), tau)*Derivative(qk(tau), tau) + 2*Ir*Psi_theta_theta**2*Uu**2*h**2*mR*omega**2*pk(tau)*qk(tau)**4*Derivative(pk(tau), tau)**2 + Ir*Psi_theta_theta**2*Uu**2*h**2*mR*omega**2*pk(tau)*qk(tau)**4*Derivative(qk(tau), tau)**2 - Ir*Psi_theta_theta**2*Uu**2*h**2*mR*omega**2*qk(tau)**5*Derivative(pk(tau), tau)*Derivative(qk(tau), tau) - 4*Ir*Psi_theta_theta**2*Uu**2*h*hT*mR*omega**2*pk(tau)**5*Derivative(qk(tau), tau)**2 + 12*Ir*Psi_theta_theta**2*Uu**2*h*hT*mR*omega**2*pk(tau)**4*qk(tau)*Derivative(pk(tau), tau)*Derivative(qk(tau), tau) - 8*Ir*Psi_theta_theta**2*Uu**2*h*hT*mR*omega**2*pk(tau)**3*qk(tau)**2*Derivative(pk(tau), tau)**2 - 8*Ir*Psi_theta_theta**2*Uu**2*h*hT*mR*omega**2*pk(tau)**2*qk(tau)**3*Derivative(pk(tau), tau)*Derivative(qk(tau), tau) + 8*Ir*Psi_theta_theta**2*Uu**2*h*hT*mR*omega**2*pk(tau)*qk(tau)**4*Derivative(pk(tau), tau)**2 + 4*Ir*Psi_theta_theta**2*Uu**2*h*hT*mR*omega**2*pk(tau)*qk(tau)**4*Derivative(qk(tau), tau)**2 - 4*Ir*Psi_theta_theta**2*Uu**2*h*hT*mR*omega**2*qk(tau)**5*Derivative(pk(tau), tau)*Derivative(qk(tau), tau) - 4*Ir*Psi_theta_theta**2*Uu**2*hT**2*mR*omega**2*pk(tau)**5*Derivative(qk(tau), tau)**2 + 12*Ir*Psi_theta_theta**2*Uu**2*hT**2*mR*omega**2*pk(tau)**4*qk(tau)*Derivative(pk(tau), tau)*Derivative(qk(tau), tau) - 8*Ir*Psi_theta_theta**2*Uu**2*hT**2*mR*omega**2*pk(tau)**3*qk(tau)**2*Derivative(pk(tau), tau)**2 - 8*Ir*Psi_theta_theta**2*Uu**2*hT**2*mR*omega**2*pk(tau)**2*qk(tau)**3*Derivative(pk(tau), tau)*Derivative(qk(tau), tau) + 8*Ir*Psi_theta_theta**2*Uu**2*hT**2*mR*omega**2*pk(tau)*qk(tau)**4*Derivative(pk(tau), tau)**2 + 4*Ir*Psi_theta_theta**2*Uu**2*hT**2*mR*omega**2*pk(tau)*qk(tau)**4*Derivative(qk(tau), tau)**2 - 4*Ir*Psi_theta_theta**2*Uu**2*hT**2*mR*omega**2*qk(tau)**5*Derivative(pk(tau), tau)*Derivative(qk(tau), tau) - Ir*Psi_theta_theta**2*Uu*cr*h**2*ps*sqrt(pk(tau)**2 + qk(tau)**2)*pk(tau)**5 + Ir*Psi_theta_theta**2*Uu*cr*h**2*ps*sqrt(pk(tau)**2 + qk(tau)**2)*pk(tau)*qk(tau)**4 - 4*Ir*Psi_theta_theta**2*Uu*cr*h*hT*ps*sqrt(pk(tau)**2 + qk(tau)**2)*pk(tau)**5 + 4*Ir*Psi_theta_theta**2*Uu*cr*h*hT*ps*sqrt(pk(tau)**2 + qk(tau)**2)*pk(tau)*qk(tau)**4 - 4*Ir*Psi_theta_theta**2*Uu*cr*hT**2*ps*sqrt(pk(tau)**2 + qk(tau)**2)*pk(tau)**5 + 4*Ir*Psi_theta_theta**2*Uu*cr*hT**2*ps*sqrt(pk(tau)**2 + qk(tau)**2)*pk(tau)*qk(tau)**4 - Ir*Psi_theta_theta**2*Vo*cUo*h**2*pk(tau)**6*sin(tau) + Ir*Psi_theta_theta**2*Vo*cUo*h**2*pk(tau)**5*qk(tau)*cos(tau) - 2*Ir*Psi_theta_theta**2*Vo*cUo*h**2*pk(tau)**4*qk(tau)**2*sin(tau) + 2*Ir*Psi_theta_theta**2*Vo*cUo*h**2*pk(tau)**3*qk(tau)**3*cos(tau) - Ir*Psi_theta_theta**2*Vo*cUo*h**2*pk(tau)**2*qk(tau)**4*sin(tau) + Ir*Psi_theta_theta**2*Vo*cUo*h**2*pk(tau)*qk(tau)**5*cos(tau) - 4*Ir*Psi_theta_theta**2*Vo*cUo*h*hT*pk(tau)**6*sin(tau) + 4*Ir*Psi_theta_theta**2*Vo*cUo*h*hT*pk(tau)**5*qk(tau)*cos(tau) - 8*Ir*Psi_theta_theta**2*Vo*cUo*h*hT*pk(tau)**4*qk(tau)**2*sin(tau) + 8*Ir*Psi_theta_theta**2*Vo*cUo*h*hT*pk(tau)**3*qk(tau)**3*cos(tau) - 4*Ir*Psi_theta_theta**2*Vo*cUo*h*hT*pk(tau)**2*qk(tau)**4*sin(tau) + 4*Ir*Psi_theta_theta**2*Vo*cUo*h*hT*pk(tau)*qk(tau)**5*cos(tau) - 4*Ir*Psi_theta_theta**2*Vo*cUo*hT**2*pk(tau)**6*sin(tau) + 4*Ir*Psi_theta_theta**2*Vo*cUo*hT**2*pk(tau)**5*qk(tau)*cos(tau) - 8*Ir*Psi_theta_theta**2*Vo*cUo*hT**2*pk(tau)**4*qk(tau)**2*sin(tau) + 8*Ir*Psi_theta_theta**2*Vo*cUo*hT**2*pk(tau)**3*qk(tau)**3*cos(tau) - 4*Ir*Psi_theta_theta**2*Vo*cUo*hT**2*pk(tau)**2*qk(tau)**4*sin(tau) + 4*Ir*Psi_theta_theta**2*Vo*cUo*hT**2*pk(tau)*qk(tau)**5*cos(tau) - Ir*Psi_theta_theta**2*d*h**2*omega*pk(tau)**6*Derivative(pk(tau), tau) + Ir*Psi_theta_theta**2*d*h**2*omega*pk(tau)**5*qk(tau)*Derivative(qk(tau), tau) - 2*Ir*Psi_theta_theta**2*d*h**2*omega*pk(tau)**4*qk(tau)**2*Derivative(pk(tau), tau) + 2*Ir*Psi_theta_theta**2*d*h**2*omega*pk(tau)**3*qk(tau)**3*Derivative(qk(tau), tau) - Ir*Psi_theta_theta**2*d*h**2*omega*pk(tau)**2*qk(tau)**4*Derivative(pk(tau), tau) + Ir*Psi_theta_theta**2*d*h**2*omega*pk(tau)*qk(tau)**5*Derivative(qk(tau), tau) - 4*Ir*Psi_theta_theta**2*d*h*hT*omega*pk(tau)**6*Derivative(pk(tau), tau) + 4*Ir*Psi_theta_theta**2*d*h*hT*omega*pk(tau)**5*qk(tau)*Derivative(qk(tau), tau) - 8*Ir*Psi_theta_theta**2*d*h*hT*omega*pk(tau)**4*qk(tau)**2*Derivative(pk(tau), tau) + 8*Ir*Psi_theta_theta**2*d*h*hT*omega*pk(tau)**3*qk(tau)**3*Derivative(qk(tau), tau) - 4*Ir*Psi_theta_theta**2*d*h*hT*omega*pk(tau)**2*qk(tau)**4*Derivative(pk(tau), tau) + 4*Ir*Psi_theta_theta**2*d*h*hT*omega*pk(tau)*qk(tau)**5*Derivative(qk(tau), tau) - 4*Ir*Psi_theta_theta**2*d*hT**2*omega*pk(tau)**6*Derivative(pk(tau), tau) + 4*Ir*Psi_theta_theta**2*d*hT**2*omega*pk(tau)**5*qk(tau)*Derivative(qk(tau), tau) - 8*Ir*Psi_theta_theta**2*d*hT**2*omega*pk(tau)**4*qk(tau)**2*Derivative(pk(tau), tau) + 8*Ir*Psi_theta_theta**2*d*hT**2*omega*pk(tau)**3*qk(tau)**3*Derivative(qk(tau), tau) - 4*Ir*Psi_theta_theta**2*d*hT**2*omega*pk(tau)**2*qk(tau)**4*Derivative(pk(tau), tau) + 4*Ir*Psi_theta_theta**2*d*hT**2*omega*pk(tau)*qk(tau)**5*Derivative(qk(tau), tau) - Ir*Psi_theta_theta**2*h**2*msT*omega**2*pk(tau)**7 - Ir*Psi_theta_theta**2*h**2*msT*omega**2*pk(tau)**5*qk(tau)**2 - Ir*Psi_theta_theta**2*h**2*msT*omega**2*pk(tau)**4*qk(tau)*Derivative(pk(tau), tau)*Derivative(qk(tau), tau) + Ir*Psi_theta_theta**2*h**2*msT*omega**2*pk(tau)**3*qk(tau)**4 + Ir*Psi_theta_theta**2*h**2*msT*omega**2*pk(tau)**3*qk(tau)**2*Derivative(pk(tau), tau)**2 + Ir*Psi_theta_theta**2*h**2*msT*omega**2*pk(tau)**3*qk(tau)**2*Derivative(qk(tau), tau)**2 - 2*Ir*Psi_theta_theta**2*h**2*msT*omega**2*pk(tau)**2*qk(tau)**3*Derivative(pk(tau), tau)*Derivative(qk(tau), tau) + Ir*Psi_theta_theta**2*h**2*msT*omega**2*pk(tau)*qk(tau)**6 + Ir*Psi_theta_theta**2*h**2*msT*omega**2*pk(tau)*qk(tau)**4*Derivative(pk(tau), tau)**2 + Ir*Psi_theta_theta**2*h**2*msT*omega**2*pk(tau)*qk(tau)**4*Derivative(qk(tau), tau)**2 - Ir*Psi_theta_theta**2*h**2*msT*omega**2*qk(tau)**5*Derivative(pk(tau), tau)*Derivative(qk(tau), tau) - 4*Ir*Psi_theta_theta**2*h*hT*msT*omega**2*pk(tau)**7 - 4*Ir*Psi_theta_theta**2*h*hT*msT*omega**2*pk(tau)**5*qk(tau)**2 - 4*Ir*Psi_theta_theta**2*h*hT*msT*omega**2*pk(tau)**4*qk(tau)*Derivative(pk(tau), tau)*Derivative(qk(tau), tau) + 4*Ir*Psi_theta_theta**2*h*hT*msT*omega**2*pk(tau)**3*qk(tau)**4 + 4*Ir*Psi_theta_theta**2*h*hT*msT*omega**2*pk(tau)**3*qk(tau)**2*Derivative(pk(tau), tau)**2 + 4*Ir*Psi_theta_theta**2*h*hT*msT*omega**2*pk(tau)**3*qk(tau)**2*Derivative(qk(tau), tau)**2 - 8*Ir*Psi_theta_theta**2*h*hT*msT*omega**2*pk(tau)**2*qk(tau)**3*Derivative(pk(tau), tau)*Derivative(qk(tau), tau) + 4*Ir*Psi_theta_theta**2*h*hT*msT*omega**2*pk(tau)*qk(tau)**6 + 4*Ir*Psi_theta_theta**2*h*hT*msT*omega**2*pk(tau)*qk(tau)**4*Derivative(pk(tau), tau)**2 + 4*Ir*Psi_theta_theta**2*h*hT*msT*omega**2*pk(tau)*qk(tau)**4*Derivative(qk(tau), tau)**2 - 4*Ir*Psi_theta_theta**2*h*hT*msT*omega**2*qk(tau)**5*Derivative(pk(tau), tau)*Derivative(qk(tau), tau) - 4*Ir*Psi_theta_theta**2*hT**2*msT*omega**2*pk(tau)**7 - 4*Ir*Psi_theta_theta**2*hT**2*msT*omega**2*pk(tau)**5*qk(tau)**2 - 4*Ir*Psi_theta_theta**2*hT**2*msT*omega**2*pk(tau)**4*qk(tau)*Derivative(pk(tau), tau)*Derivative(qk(tau), tau) + 4*Ir*Psi_theta_theta**2*hT**2*msT*omega**2*pk(tau)**3*qk(tau)**4 + 4*Ir*Psi_theta_theta**2*hT**2*msT*omega**2*pk(tau)**3*qk(tau)**2*Derivative(pk(tau), tau)**2 + 4*Ir*Psi_theta_theta**2*hT**2*msT*omega**2*pk(tau)**3*qk(tau)**2*Derivative(qk(tau), tau)**2 - 8*Ir*Psi_theta_theta**2*hT**2*msT*omega**2*pk(tau)**2*qk(tau)**3*Derivative(pk(tau), tau)*Derivative(qk(tau), tau) + 4*Ir*Psi_theta_theta**2*hT**2*msT*omega**2*pk(tau)*qk(tau)**6 + 4*Ir*Psi_theta_theta**2*hT**2*msT*omega**2*pk(tau)*qk(tau)**4*Derivative(pk(tau), tau)**2 + 4*Ir*Psi_theta_theta**2*hT**2*msT*omega**2*pk(tau)*qk(tau)**4*Derivative(qk(tau), tau)**2 - 4*Ir*Psi_theta_theta**2*hT**2*msT*omega**2*qk(tau)**5*Derivative(pk(tau), tau)*Derivative(qk(tau), tau) - 2*Psi_theta_theta*Rk*Texte*Uu**2*h*mR*sqrt(pk(tau)**2 + qk(tau)**2)*pk(tau)**4*qk(tau) + 2*Psi_theta_theta*Rk*Texte*Uu**2*h*mR*sqrt(pk(tau)**2 + qk(tau)**2)*qk(tau)**5 - 4*Psi_theta_theta*Rk*Texte*Uu**2*hT*mR*sqrt(pk(tau)**2 + qk(tau)**2)*pk(tau)**4*qk(tau) + 4*Psi_theta_theta*Rk*Texte*Uu**2*hT*mR*sqrt(pk(tau)**2 + qk(tau)**2)*qk(tau)**5 + 2*Psi_theta_theta*Rk*Texte*h*msT*sqrt(pk(tau)**2 + qk(tau)**2)*pk(tau)**4*qk(tau) + 4*Psi_theta_theta*Rk*Texte*h*msT*sqrt(pk(tau)**2 + qk(tau)**2)*pk(tau)**2*qk(tau)**3 + 2*Psi_theta_theta*Rk*Texte*h*msT*sqrt(pk(tau)**2 + qk(tau)**2)*qk(tau)**5 + 4*Psi_theta_theta*Rk*Texte*hT*msT*sqrt(pk(tau)**2 + qk(tau)**2)*pk(tau)**4*qk(tau) + 8*Psi_theta_theta*Rk*Texte*hT*msT*sqrt(pk(tau)**2 + qk(tau)**2)*pk(tau)**2*qk(tau)**3 + 4*Psi_theta_theta*Rk*Texte*hT*msT*sqrt(pk(tau)**2 + qk(tau)**2)*qk(tau)**5 + 4*Rk**2*Uu**2*Vo*cUo*mR*pk(tau)**5*qk(tau)*cos(tau) - 4*Rk**2*Uu**2*Vo*cUo*mR*pk(tau)**4*qk(tau)**2*sin(tau) + 8*Rk**2*Uu**2*Vo*cUo*mR*pk(tau)**3*qk(tau)**3*cos(tau) - 8*Rk**2*Uu**2*Vo*cUo*mR*pk(tau)**2*qk(tau)**4*sin(tau) + 4*Rk**2*Uu**2*Vo*cUo*mR*pk(tau)*qk(tau)**5*cos(tau) - 4*Rk**2*Uu**2*Vo*cUo*mR*qk(tau)**6*sin(tau) - 4*Rk**2*Uu**2*cr*msT*pk(tau)**7 - 12*Rk**2*Uu**2*cr*msT*pk(tau)**5*qk(tau)**2 - 12*Rk**2*Uu**2*cr*msT*pk(tau)**3*qk(tau)**4 - 4*Rk**2*Uu**2*cr*msT*pk(tau)*qk(tau)**6 + 4*Rk**2*Uu**2*d*mR*omega*pk(tau)**5*qk(tau)*Derivative(qk(tau), tau) - 4*Rk**2*Uu**2*d*mR*omega*pk(tau)**4*qk(tau)**2*Derivative(pk(tau), tau) + 8*Rk**2*Uu**2*d*mR*omega*pk(tau)**3*qk(tau)**3*Derivative(qk(tau), tau) - 8*Rk**2*Uu**2*d*mR*omega*pk(tau)**2*qk(tau)**4*Derivative(pk(tau), tau) + 4*Rk**2*Uu**2*d*mR*omega*pk(tau)*qk(tau)**5*Derivative(qk(tau), tau) - 4*Rk**2*Uu**2*d*mR*omega*qk(tau)**6*Derivative(pk(tau), tau) - 4*Rk**2*Uu**2*mR*msT*omega**2*pk(tau)**5*Derivative(qk(tau), tau)**2 + 8*Rk**2*Uu**2*mR*msT*omega**2*pk(tau)**4*qk(tau)*Derivative(pk(tau), tau)*Derivative(qk(tau), tau) - 4*Rk**2*Uu**2*mR*msT*omega**2*pk(tau)**3*qk(tau)**2*Derivative(pk(tau), tau)**2 - 4*Rk**2*Uu**2*mR*msT*omega**2*pk(tau)**3*qk(tau)**2*Derivative(qk(tau), tau)**2 + 8*Rk**2*Uu**2*mR*msT*omega**2*pk(tau)**2*qk(tau)**3*Derivative(pk(tau), tau)*Derivative(qk(tau), tau) - 4*Rk**2*Uu**2*mR*msT*omega**2*pk(tau)*qk(tau)**4*Derivative(pk(tau), tau)**2 - 4*Rk**2*Uu*cr*msT*ps*sqrt(pk(tau)**2 + qk(tau)**2)*pk(tau)**5 - 8*Rk**2*Uu*cr*msT*ps*sqrt(pk(tau)**2 + qk(tau)**2)*pk(tau)**3*qk(tau)**2 - 4*Rk**2*Uu*cr*msT*ps*sqrt(pk(tau)**2 + qk(tau)**2)*pk(tau)*qk(tau)**4 - 4*Rk**2*Vo*cUo*msT*pk(tau)**6*sin(tau) - 12*Rk**2*Vo*cUo*msT*pk(tau)**4*qk(tau)**2*sin(tau) - 12*Rk**2*Vo*cUo*msT*pk(tau)**2*qk(tau)**4*sin(tau) - 4*Rk**2*Vo*cUo*msT*qk(tau)**6*sin(tau) - 4*Rk**2*d*msT*omega*pk(tau)**6*Derivative(pk(tau), tau) - 12*Rk**2*d*msT*omega*pk(tau)**4*qk(tau)**2*Derivative(pk(tau), tau) - 12*Rk**2*d*msT*omega*pk(tau)**2*qk(tau)**4*Derivative(pk(tau), tau) - 4*Rk**2*d*msT*omega*qk(tau)**6*Derivative(pk(tau), tau) - 4*Rk**2*msT**2*omega**2*pk(tau)**7 - 12*Rk**2*msT**2*omega**2*pk(tau)**5*qk(tau)**2 - 12*Rk**2*msT**2*omega**2*pk(tau)**3*qk(tau)**4 - 4*Rk**2*msT**2*omega**2*pk(tau)*qk(tau)**6)/(omega**2*(Ir*Psi_theta_theta**2*Uu**2*h**2*mR*pk(tau)**6 - Ir*Psi_theta_theta**2*Uu**2*h**2*mR*pk(tau)**4*qk(tau)**2 - Ir*Psi_theta_theta**2*Uu**2*h**2*mR*pk(tau)**2*qk(tau)**4 + Ir*Psi_theta_theta**2*Uu**2*h**2*mR*qk(tau)**6 + 4*Ir*Psi_theta_theta**2*Uu**2*h*hT*mR*pk(tau)**6 - 4*Ir*Psi_theta_theta**2*Uu**2*h*hT*mR*pk(tau)**4*qk(tau)**2 - 4*Ir*Psi_theta_theta**2*Uu**2*h*hT*mR*pk(tau)**2*qk(tau)**4 + 4*Ir*Psi_theta_theta**2*Uu**2*h*hT*mR*qk(tau)**6 + 4*Ir*Psi_theta_theta**2*Uu**2*hT**2*mR*pk(tau)**6 - 4*Ir*Psi_theta_theta**2*Uu**2*hT**2*mR*pk(tau)**4*qk(tau)**2 - 4*Ir*Psi_theta_theta**2*Uu**2*hT**2*mR*pk(tau)**2*qk(tau)**4 + 4*Ir*Psi_theta_theta**2*Uu**2*hT**2*mR*qk(tau)**6 + Ir*Psi_theta_theta**2*h**2*msT*pk(tau)**6 + 3*Ir*Psi_theta_theta**2*h**2*msT*pk(tau)**4*qk(tau)**2 + 3*Ir*Psi_theta_theta**2*h**2*msT*pk(tau)**2*qk(tau)**4 + Ir*Psi_theta_theta**2*h**2*msT*qk(tau)**6 + 4*Ir*Psi_theta_theta**2*h*hT*msT*pk(tau)**6 + 12*Ir*Psi_theta_theta**2*h*hT*msT*pk(tau)**4*qk(tau)**2 + 12*Ir*Psi_theta_theta**2*h*hT*msT*pk(tau)**2*qk(tau)**4 + 4*Ir*Psi_theta_theta**2*h*hT*msT*qk(tau)**6 + 4*Ir*Psi_theta_theta**2*hT**2*msT*pk(tau)**6 + 12*Ir*Psi_theta_theta**2*hT**2*msT*pk(tau)**4*qk(tau)**2 + 12*Ir*Psi_theta_theta**2*hT**2*msT*pk(tau)**2*qk(tau)**4 + 4*Ir*Psi_theta_theta**2*hT**2*msT*qk(tau)**6 + 4*Rk**2*Uu**2*mR*msT*pk(tau)**6 + 12*Rk**2*Uu**2*mR*msT*pk(tau)**4*qk(tau)**2 + 12*Rk**2*Uu**2*mR*msT*pk(tau)**2*qk(tau)**4 + 4*Rk**2*Uu**2*mR*msT*qk(tau)**6 + 4*Rk**2*msT**2*pk(tau)**6 + 12*Rk**2*msT**2*pk(tau)**4*qk(tau)**2 + 12*Rk**2*msT**2*pk(tau)**2*qk(tau)**4 + 4*Rk**2*msT**2*qk(tau)**6))}"
      ]
     },
     "execution_count": 18,
     "metadata": {},
     "output_type": "execute_result"
    }
   ],
   "source": [
    "solution"
   ]
  },
  {
   "cell_type": "code",
   "execution_count": 19,
   "metadata": {},
   "outputs": [
    {
     "data": {
      "text/plain": [
       "2"
      ]
     },
     "execution_count": 19,
     "metadata": {},
     "output_type": "execute_result"
    }
   ],
   "source": [
    "len(solution)"
   ]
  },
  {
   "cell_type": "code",
   "execution_count": 20,
   "metadata": {},
   "outputs": [
    {
     "data": {
      "text/plain": [
       "dict"
      ]
     },
     "execution_count": 20,
     "metadata": {},
     "output_type": "execute_result"
    }
   ],
   "source": [
    "type(solution)"
   ]
  },
  {
   "cell_type": "code",
   "execution_count": 20,
   "metadata": {},
   "outputs": [
    {
     "data": {
      "text/plain": [
       "(Ir*Psi_theta_theta**2*Uu**2*cr*h**2*pk(tau)**6*qk(tau) + Ir*Psi_theta_theta**2*Uu**2*cr*h**2*pk(tau)**4*qk(tau)**3 - Ir*Psi_theta_theta**2*Uu**2*cr*h**2*pk(tau)**2*qk(tau)**5 - Ir*Psi_theta_theta**2*Uu**2*cr*h**2*qk(tau)**7 + 4*Ir*Psi_theta_theta**2*Uu**2*cr*h*hT*pk(tau)**6*qk(tau) + 4*Ir*Psi_theta_theta**2*Uu**2*cr*h*hT*pk(tau)**4*qk(tau)**3 - 4*Ir*Psi_theta_theta**2*Uu**2*cr*h*hT*pk(tau)**2*qk(tau)**5 - 4*Ir*Psi_theta_theta**2*Uu**2*cr*h*hT*qk(tau)**7 + 4*Ir*Psi_theta_theta**2*Uu**2*cr*hT**2*pk(tau)**6*qk(tau) + 4*Ir*Psi_theta_theta**2*Uu**2*cr*hT**2*pk(tau)**4*qk(tau)**3 - 4*Ir*Psi_theta_theta**2*Uu**2*cr*hT**2*pk(tau)**2*qk(tau)**5 - 4*Ir*Psi_theta_theta**2*Uu**2*cr*hT**2*qk(tau)**7 - Ir*Psi_theta_theta**2*Uu**2*h**2*mR*omega**2*pk(tau)**5*Derivative(pk(tau), tau)*Derivative(qk(tau), tau) + Ir*Psi_theta_theta**2*Uu**2*h**2*mR*omega**2*pk(tau)**4*qk(tau)*Derivative(pk(tau), tau)**2 + 2*Ir*Psi_theta_theta**2*Uu**2*h**2*mR*omega**2*pk(tau)**4*qk(tau)*Derivative(qk(tau), tau)**2 - 2*Ir*Psi_theta_theta**2*Uu**2*h**2*mR*omega**2*pk(tau)**3*qk(tau)**2*Derivative(pk(tau), tau)*Derivative(qk(tau), tau) - 2*Ir*Psi_theta_theta**2*Uu**2*h**2*mR*omega**2*pk(tau)**2*qk(tau)**3*Derivative(qk(tau), tau)**2 + 3*Ir*Psi_theta_theta**2*Uu**2*h**2*mR*omega**2*pk(tau)*qk(tau)**4*Derivative(pk(tau), tau)*Derivative(qk(tau), tau) - Ir*Psi_theta_theta**2*Uu**2*h**2*mR*omega**2*qk(tau)**5*Derivative(pk(tau), tau)**2 - 4*Ir*Psi_theta_theta**2*Uu**2*h*hT*mR*omega**2*pk(tau)**5*Derivative(pk(tau), tau)*Derivative(qk(tau), tau) + 4*Ir*Psi_theta_theta**2*Uu**2*h*hT*mR*omega**2*pk(tau)**4*qk(tau)*Derivative(pk(tau), tau)**2 + 8*Ir*Psi_theta_theta**2*Uu**2*h*hT*mR*omega**2*pk(tau)**4*qk(tau)*Derivative(qk(tau), tau)**2 - 8*Ir*Psi_theta_theta**2*Uu**2*h*hT*mR*omega**2*pk(tau)**3*qk(tau)**2*Derivative(pk(tau), tau)*Derivative(qk(tau), tau) - 8*Ir*Psi_theta_theta**2*Uu**2*h*hT*mR*omega**2*pk(tau)**2*qk(tau)**3*Derivative(qk(tau), tau)**2 + 12*Ir*Psi_theta_theta**2*Uu**2*h*hT*mR*omega**2*pk(tau)*qk(tau)**4*Derivative(pk(tau), tau)*Derivative(qk(tau), tau) - 4*Ir*Psi_theta_theta**2*Uu**2*h*hT*mR*omega**2*qk(tau)**5*Derivative(pk(tau), tau)**2 - 4*Ir*Psi_theta_theta**2*Uu**2*hT**2*mR*omega**2*pk(tau)**5*Derivative(pk(tau), tau)*Derivative(qk(tau), tau) + 4*Ir*Psi_theta_theta**2*Uu**2*hT**2*mR*omega**2*pk(tau)**4*qk(tau)*Derivative(pk(tau), tau)**2 + 8*Ir*Psi_theta_theta**2*Uu**2*hT**2*mR*omega**2*pk(tau)**4*qk(tau)*Derivative(qk(tau), tau)**2 - 8*Ir*Psi_theta_theta**2*Uu**2*hT**2*mR*omega**2*pk(tau)**3*qk(tau)**2*Derivative(pk(tau), tau)*Derivative(qk(tau), tau) - 8*Ir*Psi_theta_theta**2*Uu**2*hT**2*mR*omega**2*pk(tau)**2*qk(tau)**3*Derivative(qk(tau), tau)**2 + 12*Ir*Psi_theta_theta**2*Uu**2*hT**2*mR*omega**2*pk(tau)*qk(tau)**4*Derivative(pk(tau), tau)*Derivative(qk(tau), tau) - 4*Ir*Psi_theta_theta**2*Uu**2*hT**2*mR*omega**2*qk(tau)**5*Derivative(pk(tau), tau)**2 + Ir*Psi_theta_theta**2*Uu*cr*h**2*ps*sqrt(pk(tau)**2 + qk(tau)**2)*pk(tau)**4*qk(tau) - Ir*Psi_theta_theta**2*Uu*cr*h**2*ps*sqrt(pk(tau)**2 + qk(tau)**2)*qk(tau)**5 + 4*Ir*Psi_theta_theta**2*Uu*cr*h*hT*ps*sqrt(pk(tau)**2 + qk(tau)**2)*pk(tau)**4*qk(tau) - 4*Ir*Psi_theta_theta**2*Uu*cr*h*hT*ps*sqrt(pk(tau)**2 + qk(tau)**2)*qk(tau)**5 + 4*Ir*Psi_theta_theta**2*Uu*cr*hT**2*ps*sqrt(pk(tau)**2 + qk(tau)**2)*pk(tau)**4*qk(tau) - 4*Ir*Psi_theta_theta**2*Uu*cr*hT**2*ps*sqrt(pk(tau)**2 + qk(tau)**2)*qk(tau)**5 + Ir*Psi_theta_theta**2*Vo*cUo*h**2*pk(tau)**5*qk(tau)*sin(tau) - Ir*Psi_theta_theta**2*Vo*cUo*h**2*pk(tau)**4*qk(tau)**2*cos(tau) + 2*Ir*Psi_theta_theta**2*Vo*cUo*h**2*pk(tau)**3*qk(tau)**3*sin(tau) - 2*Ir*Psi_theta_theta**2*Vo*cUo*h**2*pk(tau)**2*qk(tau)**4*cos(tau) + Ir*Psi_theta_theta**2*Vo*cUo*h**2*pk(tau)*qk(tau)**5*sin(tau) - Ir*Psi_theta_theta**2*Vo*cUo*h**2*qk(tau)**6*cos(tau) + 4*Ir*Psi_theta_theta**2*Vo*cUo*h*hT*pk(tau)**5*qk(tau)*sin(tau) - 4*Ir*Psi_theta_theta**2*Vo*cUo*h*hT*pk(tau)**4*qk(tau)**2*cos(tau) + 8*Ir*Psi_theta_theta**2*Vo*cUo*h*hT*pk(tau)**3*qk(tau)**3*sin(tau) - 8*Ir*Psi_theta_theta**2*Vo*cUo*h*hT*pk(tau)**2*qk(tau)**4*cos(tau) + 4*Ir*Psi_theta_theta**2*Vo*cUo*h*hT*pk(tau)*qk(tau)**5*sin(tau) - 4*Ir*Psi_theta_theta**2*Vo*cUo*h*hT*qk(tau)**6*cos(tau) + 4*Ir*Psi_theta_theta**2*Vo*cUo*hT**2*pk(tau)**5*qk(tau)*sin(tau) - 4*Ir*Psi_theta_theta**2*Vo*cUo*hT**2*pk(tau)**4*qk(tau)**2*cos(tau) + 8*Ir*Psi_theta_theta**2*Vo*cUo*hT**2*pk(tau)**3*qk(tau)**3*sin(tau) - 8*Ir*Psi_theta_theta**2*Vo*cUo*hT**2*pk(tau)**2*qk(tau)**4*cos(tau) + 4*Ir*Psi_theta_theta**2*Vo*cUo*hT**2*pk(tau)*qk(tau)**5*sin(tau) - 4*Ir*Psi_theta_theta**2*Vo*cUo*hT**2*qk(tau)**6*cos(tau) + Ir*Psi_theta_theta**2*d*h**2*omega*pk(tau)**5*qk(tau)*Derivative(pk(tau), tau) - Ir*Psi_theta_theta**2*d*h**2*omega*pk(tau)**4*qk(tau)**2*Derivative(qk(tau), tau) + 2*Ir*Psi_theta_theta**2*d*h**2*omega*pk(tau)**3*qk(tau)**3*Derivative(pk(tau), tau) - 2*Ir*Psi_theta_theta**2*d*h**2*omega*pk(tau)**2*qk(tau)**4*Derivative(qk(tau), tau) + Ir*Psi_theta_theta**2*d*h**2*omega*pk(tau)*qk(tau)**5*Derivative(pk(tau), tau) - Ir*Psi_theta_theta**2*d*h**2*omega*qk(tau)**6*Derivative(qk(tau), tau) + 4*Ir*Psi_theta_theta**2*d*h*hT*omega*pk(tau)**5*qk(tau)*Derivative(pk(tau), tau) - 4*Ir*Psi_theta_theta**2*d*h*hT*omega*pk(tau)**4*qk(tau)**2*Derivative(qk(tau), tau) + 8*Ir*Psi_theta_theta**2*d*h*hT*omega*pk(tau)**3*qk(tau)**3*Derivative(pk(tau), tau) - 8*Ir*Psi_theta_theta**2*d*h*hT*omega*pk(tau)**2*qk(tau)**4*Derivative(qk(tau), tau) + 4*Ir*Psi_theta_theta**2*d*h*hT*omega*pk(tau)*qk(tau)**5*Derivative(pk(tau), tau) - 4*Ir*Psi_theta_theta**2*d*h*hT*omega*qk(tau)**6*Derivative(qk(tau), tau) + 4*Ir*Psi_theta_theta**2*d*hT**2*omega*pk(tau)**5*qk(tau)*Derivative(pk(tau), tau) - 4*Ir*Psi_theta_theta**2*d*hT**2*omega*pk(tau)**4*qk(tau)**2*Derivative(qk(tau), tau) + 8*Ir*Psi_theta_theta**2*d*hT**2*omega*pk(tau)**3*qk(tau)**3*Derivative(pk(tau), tau) - 8*Ir*Psi_theta_theta**2*d*hT**2*omega*pk(tau)**2*qk(tau)**4*Derivative(qk(tau), tau) + 4*Ir*Psi_theta_theta**2*d*hT**2*omega*pk(tau)*qk(tau)**5*Derivative(pk(tau), tau) - 4*Ir*Psi_theta_theta**2*d*hT**2*omega*qk(tau)**6*Derivative(qk(tau), tau) + Ir*Psi_theta_theta**2*h**2*msT*omega**2*pk(tau)**6*qk(tau) - Ir*Psi_theta_theta**2*h**2*msT*omega**2*pk(tau)**5*Derivative(pk(tau), tau)*Derivative(qk(tau), tau) + Ir*Psi_theta_theta**2*h**2*msT*omega**2*pk(tau)**4*qk(tau)**3 + Ir*Psi_theta_theta**2*h**2*msT*omega**2*pk(tau)**4*qk(tau)*Derivative(pk(tau), tau)**2 + Ir*Psi_theta_theta**2*h**2*msT*omega**2*pk(tau)**4*qk(tau)*Derivative(qk(tau), tau)**2 - 2*Ir*Psi_theta_theta**2*h**2*msT*omega**2*pk(tau)**3*qk(tau)**2*Derivative(pk(tau), tau)*Derivative(qk(tau), tau) - Ir*Psi_theta_theta**2*h**2*msT*omega**2*pk(tau)**2*qk(tau)**5 + Ir*Psi_theta_theta**2*h**2*msT*omega**2*pk(tau)**2*qk(tau)**3*Derivative(pk(tau), tau)**2 + Ir*Psi_theta_theta**2*h**2*msT*omega**2*pk(tau)**2*qk(tau)**3*Derivative(qk(tau), tau)**2 - Ir*Psi_theta_theta**2*h**2*msT*omega**2*pk(tau)*qk(tau)**4*Derivative(pk(tau), tau)*Derivative(qk(tau), tau) - Ir*Psi_theta_theta**2*h**2*msT*omega**2*qk(tau)**7 + 4*Ir*Psi_theta_theta**2*h*hT*msT*omega**2*pk(tau)**6*qk(tau) - 4*Ir*Psi_theta_theta**2*h*hT*msT*omega**2*pk(tau)**5*Derivative(pk(tau), tau)*Derivative(qk(tau), tau) + 4*Ir*Psi_theta_theta**2*h*hT*msT*omega**2*pk(tau)**4*qk(tau)**3 + 4*Ir*Psi_theta_theta**2*h*hT*msT*omega**2*pk(tau)**4*qk(tau)*Derivative(pk(tau), tau)**2 + 4*Ir*Psi_theta_theta**2*h*hT*msT*omega**2*pk(tau)**4*qk(tau)*Derivative(qk(tau), tau)**2 - 8*Ir*Psi_theta_theta**2*h*hT*msT*omega**2*pk(tau)**3*qk(tau)**2*Derivative(pk(tau), tau)*Derivative(qk(tau), tau) - 4*Ir*Psi_theta_theta**2*h*hT*msT*omega**2*pk(tau)**2*qk(tau)**5 + 4*Ir*Psi_theta_theta**2*h*hT*msT*omega**2*pk(tau)**2*qk(tau)**3*Derivative(pk(tau), tau)**2 + 4*Ir*Psi_theta_theta**2*h*hT*msT*omega**2*pk(tau)**2*qk(tau)**3*Derivative(qk(tau), tau)**2 - 4*Ir*Psi_theta_theta**2*h*hT*msT*omega**2*pk(tau)*qk(tau)**4*Derivative(pk(tau), tau)*Derivative(qk(tau), tau) - 4*Ir*Psi_theta_theta**2*h*hT*msT*omega**2*qk(tau)**7 + 4*Ir*Psi_theta_theta**2*hT**2*msT*omega**2*pk(tau)**6*qk(tau) - 4*Ir*Psi_theta_theta**2*hT**2*msT*omega**2*pk(tau)**5*Derivative(pk(tau), tau)*Derivative(qk(tau), tau) + 4*Ir*Psi_theta_theta**2*hT**2*msT*omega**2*pk(tau)**4*qk(tau)**3 + 4*Ir*Psi_theta_theta**2*hT**2*msT*omega**2*pk(tau)**4*qk(tau)*Derivative(pk(tau), tau)**2 + 4*Ir*Psi_theta_theta**2*hT**2*msT*omega**2*pk(tau)**4*qk(tau)*Derivative(qk(tau), tau)**2 - 8*Ir*Psi_theta_theta**2*hT**2*msT*omega**2*pk(tau)**3*qk(tau)**2*Derivative(pk(tau), tau)*Derivative(qk(tau), tau) - 4*Ir*Psi_theta_theta**2*hT**2*msT*omega**2*pk(tau)**2*qk(tau)**5 + 4*Ir*Psi_theta_theta**2*hT**2*msT*omega**2*pk(tau)**2*qk(tau)**3*Derivative(pk(tau), tau)**2 + 4*Ir*Psi_theta_theta**2*hT**2*msT*omega**2*pk(tau)**2*qk(tau)**3*Derivative(qk(tau), tau)**2 - 4*Ir*Psi_theta_theta**2*hT**2*msT*omega**2*pk(tau)*qk(tau)**4*Derivative(pk(tau), tau)*Derivative(qk(tau), tau) - 4*Ir*Psi_theta_theta**2*hT**2*msT*omega**2*qk(tau)**7 + 2*Psi_theta_theta*Rk*Texte*Uu**2*h*mR*sqrt(pk(tau)**2 + qk(tau)**2)*pk(tau)**5 - 2*Psi_theta_theta*Rk*Texte*Uu**2*h*mR*sqrt(pk(tau)**2 + qk(tau)**2)*pk(tau)*qk(tau)**4 + 4*Psi_theta_theta*Rk*Texte*Uu**2*hT*mR*sqrt(pk(tau)**2 + qk(tau)**2)*pk(tau)**5 - 4*Psi_theta_theta*Rk*Texte*Uu**2*hT*mR*sqrt(pk(tau)**2 + qk(tau)**2)*pk(tau)*qk(tau)**4 + 2*Psi_theta_theta*Rk*Texte*h*msT*sqrt(pk(tau)**2 + qk(tau)**2)*pk(tau)**5 + 4*Psi_theta_theta*Rk*Texte*h*msT*sqrt(pk(tau)**2 + qk(tau)**2)*pk(tau)**3*qk(tau)**2 + 2*Psi_theta_theta*Rk*Texte*h*msT*sqrt(pk(tau)**2 + qk(tau)**2)*pk(tau)*qk(tau)**4 + 4*Psi_theta_theta*Rk*Texte*hT*msT*sqrt(pk(tau)**2 + qk(tau)**2)*pk(tau)**5 + 8*Psi_theta_theta*Rk*Texte*hT*msT*sqrt(pk(tau)**2 + qk(tau)**2)*pk(tau)**3*qk(tau)**2 + 4*Psi_theta_theta*Rk*Texte*hT*msT*sqrt(pk(tau)**2 + qk(tau)**2)*pk(tau)*qk(tau)**4 - 4*Rk**2*Uu**2*Vo*cUo*mR*pk(tau)**6*cos(tau) + 4*Rk**2*Uu**2*Vo*cUo*mR*pk(tau)**5*qk(tau)*sin(tau) - 8*Rk**2*Uu**2*Vo*cUo*mR*pk(tau)**4*qk(tau)**2*cos(tau) + 8*Rk**2*Uu**2*Vo*cUo*mR*pk(tau)**3*qk(tau)**3*sin(tau) - 4*Rk**2*Uu**2*Vo*cUo*mR*pk(tau)**2*qk(tau)**4*cos(tau) + 4*Rk**2*Uu**2*Vo*cUo*mR*pk(tau)*qk(tau)**5*sin(tau) - 4*Rk**2*Uu**2*cr*msT*pk(tau)**6*qk(tau) - 12*Rk**2*Uu**2*cr*msT*pk(tau)**4*qk(tau)**3 - 12*Rk**2*Uu**2*cr*msT*pk(tau)**2*qk(tau)**5 - 4*Rk**2*Uu**2*cr*msT*qk(tau)**7 - 4*Rk**2*Uu**2*d*mR*omega*pk(tau)**6*Derivative(qk(tau), tau) + 4*Rk**2*Uu**2*d*mR*omega*pk(tau)**5*qk(tau)*Derivative(pk(tau), tau) - 8*Rk**2*Uu**2*d*mR*omega*pk(tau)**4*qk(tau)**2*Derivative(qk(tau), tau) + 8*Rk**2*Uu**2*d*mR*omega*pk(tau)**3*qk(tau)**3*Derivative(pk(tau), tau) - 4*Rk**2*Uu**2*d*mR*omega*pk(tau)**2*qk(tau)**4*Derivative(qk(tau), tau) + 4*Rk**2*Uu**2*d*mR*omega*pk(tau)*qk(tau)**5*Derivative(pk(tau), tau) - 4*Rk**2*Uu**2*mR*msT*omega**2*pk(tau)**4*qk(tau)*Derivative(qk(tau), tau)**2 + 8*Rk**2*Uu**2*mR*msT*omega**2*pk(tau)**3*qk(tau)**2*Derivative(pk(tau), tau)*Derivative(qk(tau), tau) - 4*Rk**2*Uu**2*mR*msT*omega**2*pk(tau)**2*qk(tau)**3*Derivative(pk(tau), tau)**2 - 4*Rk**2*Uu**2*mR*msT*omega**2*pk(tau)**2*qk(tau)**3*Derivative(qk(tau), tau)**2 + 8*Rk**2*Uu**2*mR*msT*omega**2*pk(tau)*qk(tau)**4*Derivative(pk(tau), tau)*Derivative(qk(tau), tau) - 4*Rk**2*Uu**2*mR*msT*omega**2*qk(tau)**5*Derivative(pk(tau), tau)**2 - 4*Rk**2*Uu*cr*msT*ps*sqrt(pk(tau)**2 + qk(tau)**2)*pk(tau)**4*qk(tau) - 8*Rk**2*Uu*cr*msT*ps*sqrt(pk(tau)**2 + qk(tau)**2)*pk(tau)**2*qk(tau)**3 - 4*Rk**2*Uu*cr*msT*ps*sqrt(pk(tau)**2 + qk(tau)**2)*qk(tau)**5 - 4*Rk**2*Vo*cUo*msT*pk(tau)**6*cos(tau) - 12*Rk**2*Vo*cUo*msT*pk(tau)**4*qk(tau)**2*cos(tau) - 12*Rk**2*Vo*cUo*msT*pk(tau)**2*qk(tau)**4*cos(tau) - 4*Rk**2*Vo*cUo*msT*qk(tau)**6*cos(tau) - 4*Rk**2*d*msT*omega*pk(tau)**6*Derivative(qk(tau), tau) - 12*Rk**2*d*msT*omega*pk(tau)**4*qk(tau)**2*Derivative(qk(tau), tau) - 12*Rk**2*d*msT*omega*pk(tau)**2*qk(tau)**4*Derivative(qk(tau), tau) - 4*Rk**2*d*msT*omega*qk(tau)**6*Derivative(qk(tau), tau) - 4*Rk**2*msT**2*omega**2*pk(tau)**6*qk(tau) - 12*Rk**2*msT**2*omega**2*pk(tau)**4*qk(tau)**3 - 12*Rk**2*msT**2*omega**2*pk(tau)**2*qk(tau)**5 - 4*Rk**2*msT**2*omega**2*qk(tau)**7)/(omega**2*(Ir*Psi_theta_theta**2*Uu**2*h**2*mR*pk(tau)**6 - Ir*Psi_theta_theta**2*Uu**2*h**2*mR*pk(tau)**4*qk(tau)**2 - Ir*Psi_theta_theta**2*Uu**2*h**2*mR*pk(tau)**2*qk(tau)**4 + Ir*Psi_theta_theta**2*Uu**2*h**2*mR*qk(tau)**6 + 4*Ir*Psi_theta_theta**2*Uu**2*h*hT*mR*pk(tau)**6 - 4*Ir*Psi_theta_theta**2*Uu**2*h*hT*mR*pk(tau)**4*qk(tau)**2 - 4*Ir*Psi_theta_theta**2*Uu**2*h*hT*mR*pk(tau)**2*qk(tau)**4 + 4*Ir*Psi_theta_theta**2*Uu**2*h*hT*mR*qk(tau)**6 + 4*Ir*Psi_theta_theta**2*Uu**2*hT**2*mR*pk(tau)**6 - 4*Ir*Psi_theta_theta**2*Uu**2*hT**2*mR*pk(tau)**4*qk(tau)**2 - 4*Ir*Psi_theta_theta**2*Uu**2*hT**2*mR*pk(tau)**2*qk(tau)**4 + 4*Ir*Psi_theta_theta**2*Uu**2*hT**2*mR*qk(tau)**6 + Ir*Psi_theta_theta**2*h**2*msT*pk(tau)**6 + 3*Ir*Psi_theta_theta**2*h**2*msT*pk(tau)**4*qk(tau)**2 + 3*Ir*Psi_theta_theta**2*h**2*msT*pk(tau)**2*qk(tau)**4 + Ir*Psi_theta_theta**2*h**2*msT*qk(tau)**6 + 4*Ir*Psi_theta_theta**2*h*hT*msT*pk(tau)**6 + 12*Ir*Psi_theta_theta**2*h*hT*msT*pk(tau)**4*qk(tau)**2 + 12*Ir*Psi_theta_theta**2*h*hT*msT*pk(tau)**2*qk(tau)**4 + 4*Ir*Psi_theta_theta**2*h*hT*msT*qk(tau)**6 + 4*Ir*Psi_theta_theta**2*hT**2*msT*pk(tau)**6 + 12*Ir*Psi_theta_theta**2*hT**2*msT*pk(tau)**4*qk(tau)**2 + 12*Ir*Psi_theta_theta**2*hT**2*msT*pk(tau)**2*qk(tau)**4 + 4*Ir*Psi_theta_theta**2*hT**2*msT*qk(tau)**6 + 4*Rk**2*Uu**2*mR*msT*pk(tau)**6 + 12*Rk**2*Uu**2*mR*msT*pk(tau)**4*qk(tau)**2 + 12*Rk**2*Uu**2*mR*msT*pk(tau)**2*qk(tau)**4 + 4*Rk**2*Uu**2*mR*msT*qk(tau)**6 + 4*Rk**2*msT**2*pk(tau)**6 + 12*Rk**2*msT**2*pk(tau)**4*qk(tau)**2 + 12*Rk**2*msT**2*pk(tau)**2*qk(tau)**4 + 4*Rk**2*msT**2*qk(tau)**6))"
      ]
     },
     "execution_count": 20,
     "metadata": {},
     "output_type": "execute_result"
    }
   ],
   "source": [
    "solution[DIFF2Q]"
   ]
  },
  {
   "cell_type": "code",
   "execution_count": 21,
   "metadata": {},
   "outputs": [
    {
     "data": {
      "text/plain": [
       "(-Ir*Psi_theta_theta**2*Uu**2*cr*h**2*pk(tau)**7 - Ir*Psi_theta_theta**2*Uu**2*cr*h**2*pk(tau)**5*qk(tau)**2 + Ir*Psi_theta_theta**2*Uu**2*cr*h**2*pk(tau)**3*qk(tau)**4 + Ir*Psi_theta_theta**2*Uu**2*cr*h**2*pk(tau)*qk(tau)**6 - 4*Ir*Psi_theta_theta**2*Uu**2*cr*h*hT*pk(tau)**7 - 4*Ir*Psi_theta_theta**2*Uu**2*cr*h*hT*pk(tau)**5*qk(tau)**2 + 4*Ir*Psi_theta_theta**2*Uu**2*cr*h*hT*pk(tau)**3*qk(tau)**4 + 4*Ir*Psi_theta_theta**2*Uu**2*cr*h*hT*pk(tau)*qk(tau)**6 - 4*Ir*Psi_theta_theta**2*Uu**2*cr*hT**2*pk(tau)**7 - 4*Ir*Psi_theta_theta**2*Uu**2*cr*hT**2*pk(tau)**5*qk(tau)**2 + 4*Ir*Psi_theta_theta**2*Uu**2*cr*hT**2*pk(tau)**3*qk(tau)**4 + 4*Ir*Psi_theta_theta**2*Uu**2*cr*hT**2*pk(tau)*qk(tau)**6 - Ir*Psi_theta_theta**2*Uu**2*h**2*mR*omega**2*pk(tau)**5*Derivative(qk(tau), tau)**2 + 3*Ir*Psi_theta_theta**2*Uu**2*h**2*mR*omega**2*pk(tau)**4*qk(tau)*Derivative(pk(tau), tau)*Derivative(qk(tau), tau) - 2*Ir*Psi_theta_theta**2*Uu**2*h**2*mR*omega**2*pk(tau)**3*qk(tau)**2*Derivative(pk(tau), tau)**2 - 2*Ir*Psi_theta_theta**2*Uu**2*h**2*mR*omega**2*pk(tau)**2*qk(tau)**3*Derivative(pk(tau), tau)*Derivative(qk(tau), tau) + 2*Ir*Psi_theta_theta**2*Uu**2*h**2*mR*omega**2*pk(tau)*qk(tau)**4*Derivative(pk(tau), tau)**2 + Ir*Psi_theta_theta**2*Uu**2*h**2*mR*omega**2*pk(tau)*qk(tau)**4*Derivative(qk(tau), tau)**2 - Ir*Psi_theta_theta**2*Uu**2*h**2*mR*omega**2*qk(tau)**5*Derivative(pk(tau), tau)*Derivative(qk(tau), tau) - 4*Ir*Psi_theta_theta**2*Uu**2*h*hT*mR*omega**2*pk(tau)**5*Derivative(qk(tau), tau)**2 + 12*Ir*Psi_theta_theta**2*Uu**2*h*hT*mR*omega**2*pk(tau)**4*qk(tau)*Derivative(pk(tau), tau)*Derivative(qk(tau), tau) - 8*Ir*Psi_theta_theta**2*Uu**2*h*hT*mR*omega**2*pk(tau)**3*qk(tau)**2*Derivative(pk(tau), tau)**2 - 8*Ir*Psi_theta_theta**2*Uu**2*h*hT*mR*omega**2*pk(tau)**2*qk(tau)**3*Derivative(pk(tau), tau)*Derivative(qk(tau), tau) + 8*Ir*Psi_theta_theta**2*Uu**2*h*hT*mR*omega**2*pk(tau)*qk(tau)**4*Derivative(pk(tau), tau)**2 + 4*Ir*Psi_theta_theta**2*Uu**2*h*hT*mR*omega**2*pk(tau)*qk(tau)**4*Derivative(qk(tau), tau)**2 - 4*Ir*Psi_theta_theta**2*Uu**2*h*hT*mR*omega**2*qk(tau)**5*Derivative(pk(tau), tau)*Derivative(qk(tau), tau) - 4*Ir*Psi_theta_theta**2*Uu**2*hT**2*mR*omega**2*pk(tau)**5*Derivative(qk(tau), tau)**2 + 12*Ir*Psi_theta_theta**2*Uu**2*hT**2*mR*omega**2*pk(tau)**4*qk(tau)*Derivative(pk(tau), tau)*Derivative(qk(tau), tau) - 8*Ir*Psi_theta_theta**2*Uu**2*hT**2*mR*omega**2*pk(tau)**3*qk(tau)**2*Derivative(pk(tau), tau)**2 - 8*Ir*Psi_theta_theta**2*Uu**2*hT**2*mR*omega**2*pk(tau)**2*qk(tau)**3*Derivative(pk(tau), tau)*Derivative(qk(tau), tau) + 8*Ir*Psi_theta_theta**2*Uu**2*hT**2*mR*omega**2*pk(tau)*qk(tau)**4*Derivative(pk(tau), tau)**2 + 4*Ir*Psi_theta_theta**2*Uu**2*hT**2*mR*omega**2*pk(tau)*qk(tau)**4*Derivative(qk(tau), tau)**2 - 4*Ir*Psi_theta_theta**2*Uu**2*hT**2*mR*omega**2*qk(tau)**5*Derivative(pk(tau), tau)*Derivative(qk(tau), tau) - Ir*Psi_theta_theta**2*Uu*cr*h**2*ps*sqrt(pk(tau)**2 + qk(tau)**2)*pk(tau)**5 + Ir*Psi_theta_theta**2*Uu*cr*h**2*ps*sqrt(pk(tau)**2 + qk(tau)**2)*pk(tau)*qk(tau)**4 - 4*Ir*Psi_theta_theta**2*Uu*cr*h*hT*ps*sqrt(pk(tau)**2 + qk(tau)**2)*pk(tau)**5 + 4*Ir*Psi_theta_theta**2*Uu*cr*h*hT*ps*sqrt(pk(tau)**2 + qk(tau)**2)*pk(tau)*qk(tau)**4 - 4*Ir*Psi_theta_theta**2*Uu*cr*hT**2*ps*sqrt(pk(tau)**2 + qk(tau)**2)*pk(tau)**5 + 4*Ir*Psi_theta_theta**2*Uu*cr*hT**2*ps*sqrt(pk(tau)**2 + qk(tau)**2)*pk(tau)*qk(tau)**4 - Ir*Psi_theta_theta**2*Vo*cUo*h**2*pk(tau)**6*sin(tau) + Ir*Psi_theta_theta**2*Vo*cUo*h**2*pk(tau)**5*qk(tau)*cos(tau) - 2*Ir*Psi_theta_theta**2*Vo*cUo*h**2*pk(tau)**4*qk(tau)**2*sin(tau) + 2*Ir*Psi_theta_theta**2*Vo*cUo*h**2*pk(tau)**3*qk(tau)**3*cos(tau) - Ir*Psi_theta_theta**2*Vo*cUo*h**2*pk(tau)**2*qk(tau)**4*sin(tau) + Ir*Psi_theta_theta**2*Vo*cUo*h**2*pk(tau)*qk(tau)**5*cos(tau) - 4*Ir*Psi_theta_theta**2*Vo*cUo*h*hT*pk(tau)**6*sin(tau) + 4*Ir*Psi_theta_theta**2*Vo*cUo*h*hT*pk(tau)**5*qk(tau)*cos(tau) - 8*Ir*Psi_theta_theta**2*Vo*cUo*h*hT*pk(tau)**4*qk(tau)**2*sin(tau) + 8*Ir*Psi_theta_theta**2*Vo*cUo*h*hT*pk(tau)**3*qk(tau)**3*cos(tau) - 4*Ir*Psi_theta_theta**2*Vo*cUo*h*hT*pk(tau)**2*qk(tau)**4*sin(tau) + 4*Ir*Psi_theta_theta**2*Vo*cUo*h*hT*pk(tau)*qk(tau)**5*cos(tau) - 4*Ir*Psi_theta_theta**2*Vo*cUo*hT**2*pk(tau)**6*sin(tau) + 4*Ir*Psi_theta_theta**2*Vo*cUo*hT**2*pk(tau)**5*qk(tau)*cos(tau) - 8*Ir*Psi_theta_theta**2*Vo*cUo*hT**2*pk(tau)**4*qk(tau)**2*sin(tau) + 8*Ir*Psi_theta_theta**2*Vo*cUo*hT**2*pk(tau)**3*qk(tau)**3*cos(tau) - 4*Ir*Psi_theta_theta**2*Vo*cUo*hT**2*pk(tau)**2*qk(tau)**4*sin(tau) + 4*Ir*Psi_theta_theta**2*Vo*cUo*hT**2*pk(tau)*qk(tau)**5*cos(tau) - Ir*Psi_theta_theta**2*d*h**2*omega*pk(tau)**6*Derivative(pk(tau), tau) + Ir*Psi_theta_theta**2*d*h**2*omega*pk(tau)**5*qk(tau)*Derivative(qk(tau), tau) - 2*Ir*Psi_theta_theta**2*d*h**2*omega*pk(tau)**4*qk(tau)**2*Derivative(pk(tau), tau) + 2*Ir*Psi_theta_theta**2*d*h**2*omega*pk(tau)**3*qk(tau)**3*Derivative(qk(tau), tau) - Ir*Psi_theta_theta**2*d*h**2*omega*pk(tau)**2*qk(tau)**4*Derivative(pk(tau), tau) + Ir*Psi_theta_theta**2*d*h**2*omega*pk(tau)*qk(tau)**5*Derivative(qk(tau), tau) - 4*Ir*Psi_theta_theta**2*d*h*hT*omega*pk(tau)**6*Derivative(pk(tau), tau) + 4*Ir*Psi_theta_theta**2*d*h*hT*omega*pk(tau)**5*qk(tau)*Derivative(qk(tau), tau) - 8*Ir*Psi_theta_theta**2*d*h*hT*omega*pk(tau)**4*qk(tau)**2*Derivative(pk(tau), tau) + 8*Ir*Psi_theta_theta**2*d*h*hT*omega*pk(tau)**3*qk(tau)**3*Derivative(qk(tau), tau) - 4*Ir*Psi_theta_theta**2*d*h*hT*omega*pk(tau)**2*qk(tau)**4*Derivative(pk(tau), tau) + 4*Ir*Psi_theta_theta**2*d*h*hT*omega*pk(tau)*qk(tau)**5*Derivative(qk(tau), tau) - 4*Ir*Psi_theta_theta**2*d*hT**2*omega*pk(tau)**6*Derivative(pk(tau), tau) + 4*Ir*Psi_theta_theta**2*d*hT**2*omega*pk(tau)**5*qk(tau)*Derivative(qk(tau), tau) - 8*Ir*Psi_theta_theta**2*d*hT**2*omega*pk(tau)**4*qk(tau)**2*Derivative(pk(tau), tau) + 8*Ir*Psi_theta_theta**2*d*hT**2*omega*pk(tau)**3*qk(tau)**3*Derivative(qk(tau), tau) - 4*Ir*Psi_theta_theta**2*d*hT**2*omega*pk(tau)**2*qk(tau)**4*Derivative(pk(tau), tau) + 4*Ir*Psi_theta_theta**2*d*hT**2*omega*pk(tau)*qk(tau)**5*Derivative(qk(tau), tau) - Ir*Psi_theta_theta**2*h**2*msT*omega**2*pk(tau)**7 - Ir*Psi_theta_theta**2*h**2*msT*omega**2*pk(tau)**5*qk(tau)**2 - Ir*Psi_theta_theta**2*h**2*msT*omega**2*pk(tau)**4*qk(tau)*Derivative(pk(tau), tau)*Derivative(qk(tau), tau) + Ir*Psi_theta_theta**2*h**2*msT*omega**2*pk(tau)**3*qk(tau)**4 + Ir*Psi_theta_theta**2*h**2*msT*omega**2*pk(tau)**3*qk(tau)**2*Derivative(pk(tau), tau)**2 + Ir*Psi_theta_theta**2*h**2*msT*omega**2*pk(tau)**3*qk(tau)**2*Derivative(qk(tau), tau)**2 - 2*Ir*Psi_theta_theta**2*h**2*msT*omega**2*pk(tau)**2*qk(tau)**3*Derivative(pk(tau), tau)*Derivative(qk(tau), tau) + Ir*Psi_theta_theta**2*h**2*msT*omega**2*pk(tau)*qk(tau)**6 + Ir*Psi_theta_theta**2*h**2*msT*omega**2*pk(tau)*qk(tau)**4*Derivative(pk(tau), tau)**2 + Ir*Psi_theta_theta**2*h**2*msT*omega**2*pk(tau)*qk(tau)**4*Derivative(qk(tau), tau)**2 - Ir*Psi_theta_theta**2*h**2*msT*omega**2*qk(tau)**5*Derivative(pk(tau), tau)*Derivative(qk(tau), tau) - 4*Ir*Psi_theta_theta**2*h*hT*msT*omega**2*pk(tau)**7 - 4*Ir*Psi_theta_theta**2*h*hT*msT*omega**2*pk(tau)**5*qk(tau)**2 - 4*Ir*Psi_theta_theta**2*h*hT*msT*omega**2*pk(tau)**4*qk(tau)*Derivative(pk(tau), tau)*Derivative(qk(tau), tau) + 4*Ir*Psi_theta_theta**2*h*hT*msT*omega**2*pk(tau)**3*qk(tau)**4 + 4*Ir*Psi_theta_theta**2*h*hT*msT*omega**2*pk(tau)**3*qk(tau)**2*Derivative(pk(tau), tau)**2 + 4*Ir*Psi_theta_theta**2*h*hT*msT*omega**2*pk(tau)**3*qk(tau)**2*Derivative(qk(tau), tau)**2 - 8*Ir*Psi_theta_theta**2*h*hT*msT*omega**2*pk(tau)**2*qk(tau)**3*Derivative(pk(tau), tau)*Derivative(qk(tau), tau) + 4*Ir*Psi_theta_theta**2*h*hT*msT*omega**2*pk(tau)*qk(tau)**6 + 4*Ir*Psi_theta_theta**2*h*hT*msT*omega**2*pk(tau)*qk(tau)**4*Derivative(pk(tau), tau)**2 + 4*Ir*Psi_theta_theta**2*h*hT*msT*omega**2*pk(tau)*qk(tau)**4*Derivative(qk(tau), tau)**2 - 4*Ir*Psi_theta_theta**2*h*hT*msT*omega**2*qk(tau)**5*Derivative(pk(tau), tau)*Derivative(qk(tau), tau) - 4*Ir*Psi_theta_theta**2*hT**2*msT*omega**2*pk(tau)**7 - 4*Ir*Psi_theta_theta**2*hT**2*msT*omega**2*pk(tau)**5*qk(tau)**2 - 4*Ir*Psi_theta_theta**2*hT**2*msT*omega**2*pk(tau)**4*qk(tau)*Derivative(pk(tau), tau)*Derivative(qk(tau), tau) + 4*Ir*Psi_theta_theta**2*hT**2*msT*omega**2*pk(tau)**3*qk(tau)**4 + 4*Ir*Psi_theta_theta**2*hT**2*msT*omega**2*pk(tau)**3*qk(tau)**2*Derivative(pk(tau), tau)**2 + 4*Ir*Psi_theta_theta**2*hT**2*msT*omega**2*pk(tau)**3*qk(tau)**2*Derivative(qk(tau), tau)**2 - 8*Ir*Psi_theta_theta**2*hT**2*msT*omega**2*pk(tau)**2*qk(tau)**3*Derivative(pk(tau), tau)*Derivative(qk(tau), tau) + 4*Ir*Psi_theta_theta**2*hT**2*msT*omega**2*pk(tau)*qk(tau)**6 + 4*Ir*Psi_theta_theta**2*hT**2*msT*omega**2*pk(tau)*qk(tau)**4*Derivative(pk(tau), tau)**2 + 4*Ir*Psi_theta_theta**2*hT**2*msT*omega**2*pk(tau)*qk(tau)**4*Derivative(qk(tau), tau)**2 - 4*Ir*Psi_theta_theta**2*hT**2*msT*omega**2*qk(tau)**5*Derivative(pk(tau), tau)*Derivative(qk(tau), tau) - 2*Psi_theta_theta*Rk*Texte*Uu**2*h*mR*sqrt(pk(tau)**2 + qk(tau)**2)*pk(tau)**4*qk(tau) + 2*Psi_theta_theta*Rk*Texte*Uu**2*h*mR*sqrt(pk(tau)**2 + qk(tau)**2)*qk(tau)**5 - 4*Psi_theta_theta*Rk*Texte*Uu**2*hT*mR*sqrt(pk(tau)**2 + qk(tau)**2)*pk(tau)**4*qk(tau) + 4*Psi_theta_theta*Rk*Texte*Uu**2*hT*mR*sqrt(pk(tau)**2 + qk(tau)**2)*qk(tau)**5 + 2*Psi_theta_theta*Rk*Texte*h*msT*sqrt(pk(tau)**2 + qk(tau)**2)*pk(tau)**4*qk(tau) + 4*Psi_theta_theta*Rk*Texte*h*msT*sqrt(pk(tau)**2 + qk(tau)**2)*pk(tau)**2*qk(tau)**3 + 2*Psi_theta_theta*Rk*Texte*h*msT*sqrt(pk(tau)**2 + qk(tau)**2)*qk(tau)**5 + 4*Psi_theta_theta*Rk*Texte*hT*msT*sqrt(pk(tau)**2 + qk(tau)**2)*pk(tau)**4*qk(tau) + 8*Psi_theta_theta*Rk*Texte*hT*msT*sqrt(pk(tau)**2 + qk(tau)**2)*pk(tau)**2*qk(tau)**3 + 4*Psi_theta_theta*Rk*Texte*hT*msT*sqrt(pk(tau)**2 + qk(tau)**2)*qk(tau)**5 + 4*Rk**2*Uu**2*Vo*cUo*mR*pk(tau)**5*qk(tau)*cos(tau) - 4*Rk**2*Uu**2*Vo*cUo*mR*pk(tau)**4*qk(tau)**2*sin(tau) + 8*Rk**2*Uu**2*Vo*cUo*mR*pk(tau)**3*qk(tau)**3*cos(tau) - 8*Rk**2*Uu**2*Vo*cUo*mR*pk(tau)**2*qk(tau)**4*sin(tau) + 4*Rk**2*Uu**2*Vo*cUo*mR*pk(tau)*qk(tau)**5*cos(tau) - 4*Rk**2*Uu**2*Vo*cUo*mR*qk(tau)**6*sin(tau) - 4*Rk**2*Uu**2*cr*msT*pk(tau)**7 - 12*Rk**2*Uu**2*cr*msT*pk(tau)**5*qk(tau)**2 - 12*Rk**2*Uu**2*cr*msT*pk(tau)**3*qk(tau)**4 - 4*Rk**2*Uu**2*cr*msT*pk(tau)*qk(tau)**6 + 4*Rk**2*Uu**2*d*mR*omega*pk(tau)**5*qk(tau)*Derivative(qk(tau), tau) - 4*Rk**2*Uu**2*d*mR*omega*pk(tau)**4*qk(tau)**2*Derivative(pk(tau), tau) + 8*Rk**2*Uu**2*d*mR*omega*pk(tau)**3*qk(tau)**3*Derivative(qk(tau), tau) - 8*Rk**2*Uu**2*d*mR*omega*pk(tau)**2*qk(tau)**4*Derivative(pk(tau), tau) + 4*Rk**2*Uu**2*d*mR*omega*pk(tau)*qk(tau)**5*Derivative(qk(tau), tau) - 4*Rk**2*Uu**2*d*mR*omega*qk(tau)**6*Derivative(pk(tau), tau) - 4*Rk**2*Uu**2*mR*msT*omega**2*pk(tau)**5*Derivative(qk(tau), tau)**2 + 8*Rk**2*Uu**2*mR*msT*omega**2*pk(tau)**4*qk(tau)*Derivative(pk(tau), tau)*Derivative(qk(tau), tau) - 4*Rk**2*Uu**2*mR*msT*omega**2*pk(tau)**3*qk(tau)**2*Derivative(pk(tau), tau)**2 - 4*Rk**2*Uu**2*mR*msT*omega**2*pk(tau)**3*qk(tau)**2*Derivative(qk(tau), tau)**2 + 8*Rk**2*Uu**2*mR*msT*omega**2*pk(tau)**2*qk(tau)**3*Derivative(pk(tau), tau)*Derivative(qk(tau), tau) - 4*Rk**2*Uu**2*mR*msT*omega**2*pk(tau)*qk(tau)**4*Derivative(pk(tau), tau)**2 - 4*Rk**2*Uu*cr*msT*ps*sqrt(pk(tau)**2 + qk(tau)**2)*pk(tau)**5 - 8*Rk**2*Uu*cr*msT*ps*sqrt(pk(tau)**2 + qk(tau)**2)*pk(tau)**3*qk(tau)**2 - 4*Rk**2*Uu*cr*msT*ps*sqrt(pk(tau)**2 + qk(tau)**2)*pk(tau)*qk(tau)**4 - 4*Rk**2*Vo*cUo*msT*pk(tau)**6*sin(tau) - 12*Rk**2*Vo*cUo*msT*pk(tau)**4*qk(tau)**2*sin(tau) - 12*Rk**2*Vo*cUo*msT*pk(tau)**2*qk(tau)**4*sin(tau) - 4*Rk**2*Vo*cUo*msT*qk(tau)**6*sin(tau) - 4*Rk**2*d*msT*omega*pk(tau)**6*Derivative(pk(tau), tau) - 12*Rk**2*d*msT*omega*pk(tau)**4*qk(tau)**2*Derivative(pk(tau), tau) - 12*Rk**2*d*msT*omega*pk(tau)**2*qk(tau)**4*Derivative(pk(tau), tau) - 4*Rk**2*d*msT*omega*qk(tau)**6*Derivative(pk(tau), tau) - 4*Rk**2*msT**2*omega**2*pk(tau)**7 - 12*Rk**2*msT**2*omega**2*pk(tau)**5*qk(tau)**2 - 12*Rk**2*msT**2*omega**2*pk(tau)**3*qk(tau)**4 - 4*Rk**2*msT**2*omega**2*pk(tau)*qk(tau)**6)/(omega**2*(Ir*Psi_theta_theta**2*Uu**2*h**2*mR*pk(tau)**6 - Ir*Psi_theta_theta**2*Uu**2*h**2*mR*pk(tau)**4*qk(tau)**2 - Ir*Psi_theta_theta**2*Uu**2*h**2*mR*pk(tau)**2*qk(tau)**4 + Ir*Psi_theta_theta**2*Uu**2*h**2*mR*qk(tau)**6 + 4*Ir*Psi_theta_theta**2*Uu**2*h*hT*mR*pk(tau)**6 - 4*Ir*Psi_theta_theta**2*Uu**2*h*hT*mR*pk(tau)**4*qk(tau)**2 - 4*Ir*Psi_theta_theta**2*Uu**2*h*hT*mR*pk(tau)**2*qk(tau)**4 + 4*Ir*Psi_theta_theta**2*Uu**2*h*hT*mR*qk(tau)**6 + 4*Ir*Psi_theta_theta**2*Uu**2*hT**2*mR*pk(tau)**6 - 4*Ir*Psi_theta_theta**2*Uu**2*hT**2*mR*pk(tau)**4*qk(tau)**2 - 4*Ir*Psi_theta_theta**2*Uu**2*hT**2*mR*pk(tau)**2*qk(tau)**4 + 4*Ir*Psi_theta_theta**2*Uu**2*hT**2*mR*qk(tau)**6 + Ir*Psi_theta_theta**2*h**2*msT*pk(tau)**6 + 3*Ir*Psi_theta_theta**2*h**2*msT*pk(tau)**4*qk(tau)**2 + 3*Ir*Psi_theta_theta**2*h**2*msT*pk(tau)**2*qk(tau)**4 + Ir*Psi_theta_theta**2*h**2*msT*qk(tau)**6 + 4*Ir*Psi_theta_theta**2*h*hT*msT*pk(tau)**6 + 12*Ir*Psi_theta_theta**2*h*hT*msT*pk(tau)**4*qk(tau)**2 + 12*Ir*Psi_theta_theta**2*h*hT*msT*pk(tau)**2*qk(tau)**4 + 4*Ir*Psi_theta_theta**2*h*hT*msT*qk(tau)**6 + 4*Ir*Psi_theta_theta**2*hT**2*msT*pk(tau)**6 + 12*Ir*Psi_theta_theta**2*hT**2*msT*pk(tau)**4*qk(tau)**2 + 12*Ir*Psi_theta_theta**2*hT**2*msT*pk(tau)**2*qk(tau)**4 + 4*Ir*Psi_theta_theta**2*hT**2*msT*qk(tau)**6 + 4*Rk**2*Uu**2*mR*msT*pk(tau)**6 + 12*Rk**2*Uu**2*mR*msT*pk(tau)**4*qk(tau)**2 + 12*Rk**2*Uu**2*mR*msT*pk(tau)**2*qk(tau)**4 + 4*Rk**2*Uu**2*mR*msT*qk(tau)**6 + 4*Rk**2*msT**2*pk(tau)**6 + 12*Rk**2*msT**2*pk(tau)**4*qk(tau)**2 + 12*Rk**2*msT**2*pk(tau)**2*qk(tau)**4 + 4*Rk**2*msT**2*qk(tau)**6))"
      ]
     },
     "execution_count": 21,
     "metadata": {},
     "output_type": "execute_result"
    }
   ],
   "source": [
    "solution[DIFF2P]"
   ]
  },
  {
   "cell_type": "code",
   "execution_count": 22,
   "metadata": {
    "collapsed": true
   },
   "outputs": [],
   "source": [
    "soluEqP = solution[DIFF2P].subs({Derivative(qk,tau):0, Derivative(pk,tau):0})\n",
    "soluEqQ = solution[DIFF2Q].subs({Derivative(qk,tau):0, Derivative(pk,tau):0})"
   ]
  },
  {
   "cell_type": "code",
   "execution_count": 23,
   "metadata": {},
   "outputs": [
    {
     "data": {
      "text/plain": [
       "(-Ir*Psi_theta_theta**2*Uu**2*cr*h**2*pk(tau)**7 - Ir*Psi_theta_theta**2*Uu**2*cr*h**2*pk(tau)**5*qk(tau)**2 + Ir*Psi_theta_theta**2*Uu**2*cr*h**2*pk(tau)**3*qk(tau)**4 + Ir*Psi_theta_theta**2*Uu**2*cr*h**2*pk(tau)*qk(tau)**6 - 4*Ir*Psi_theta_theta**2*Uu**2*cr*h*hT*pk(tau)**7 - 4*Ir*Psi_theta_theta**2*Uu**2*cr*h*hT*pk(tau)**5*qk(tau)**2 + 4*Ir*Psi_theta_theta**2*Uu**2*cr*h*hT*pk(tau)**3*qk(tau)**4 + 4*Ir*Psi_theta_theta**2*Uu**2*cr*h*hT*pk(tau)*qk(tau)**6 - 4*Ir*Psi_theta_theta**2*Uu**2*cr*hT**2*pk(tau)**7 - 4*Ir*Psi_theta_theta**2*Uu**2*cr*hT**2*pk(tau)**5*qk(tau)**2 + 4*Ir*Psi_theta_theta**2*Uu**2*cr*hT**2*pk(tau)**3*qk(tau)**4 + 4*Ir*Psi_theta_theta**2*Uu**2*cr*hT**2*pk(tau)*qk(tau)**6 - Ir*Psi_theta_theta**2*Uu*cr*h**2*ps*sqrt(pk(tau)**2 + qk(tau)**2)*pk(tau)**5 + Ir*Psi_theta_theta**2*Uu*cr*h**2*ps*sqrt(pk(tau)**2 + qk(tau)**2)*pk(tau)*qk(tau)**4 - 4*Ir*Psi_theta_theta**2*Uu*cr*h*hT*ps*sqrt(pk(tau)**2 + qk(tau)**2)*pk(tau)**5 + 4*Ir*Psi_theta_theta**2*Uu*cr*h*hT*ps*sqrt(pk(tau)**2 + qk(tau)**2)*pk(tau)*qk(tau)**4 - 4*Ir*Psi_theta_theta**2*Uu*cr*hT**2*ps*sqrt(pk(tau)**2 + qk(tau)**2)*pk(tau)**5 + 4*Ir*Psi_theta_theta**2*Uu*cr*hT**2*ps*sqrt(pk(tau)**2 + qk(tau)**2)*pk(tau)*qk(tau)**4 - Ir*Psi_theta_theta**2*Vo*cUo*h**2*pk(tau)**6*sin(tau) + Ir*Psi_theta_theta**2*Vo*cUo*h**2*pk(tau)**5*qk(tau)*cos(tau) - 2*Ir*Psi_theta_theta**2*Vo*cUo*h**2*pk(tau)**4*qk(tau)**2*sin(tau) + 2*Ir*Psi_theta_theta**2*Vo*cUo*h**2*pk(tau)**3*qk(tau)**3*cos(tau) - Ir*Psi_theta_theta**2*Vo*cUo*h**2*pk(tau)**2*qk(tau)**4*sin(tau) + Ir*Psi_theta_theta**2*Vo*cUo*h**2*pk(tau)*qk(tau)**5*cos(tau) - 4*Ir*Psi_theta_theta**2*Vo*cUo*h*hT*pk(tau)**6*sin(tau) + 4*Ir*Psi_theta_theta**2*Vo*cUo*h*hT*pk(tau)**5*qk(tau)*cos(tau) - 8*Ir*Psi_theta_theta**2*Vo*cUo*h*hT*pk(tau)**4*qk(tau)**2*sin(tau) + 8*Ir*Psi_theta_theta**2*Vo*cUo*h*hT*pk(tau)**3*qk(tau)**3*cos(tau) - 4*Ir*Psi_theta_theta**2*Vo*cUo*h*hT*pk(tau)**2*qk(tau)**4*sin(tau) + 4*Ir*Psi_theta_theta**2*Vo*cUo*h*hT*pk(tau)*qk(tau)**5*cos(tau) - 4*Ir*Psi_theta_theta**2*Vo*cUo*hT**2*pk(tau)**6*sin(tau) + 4*Ir*Psi_theta_theta**2*Vo*cUo*hT**2*pk(tau)**5*qk(tau)*cos(tau) - 8*Ir*Psi_theta_theta**2*Vo*cUo*hT**2*pk(tau)**4*qk(tau)**2*sin(tau) + 8*Ir*Psi_theta_theta**2*Vo*cUo*hT**2*pk(tau)**3*qk(tau)**3*cos(tau) - 4*Ir*Psi_theta_theta**2*Vo*cUo*hT**2*pk(tau)**2*qk(tau)**4*sin(tau) + 4*Ir*Psi_theta_theta**2*Vo*cUo*hT**2*pk(tau)*qk(tau)**5*cos(tau) - Ir*Psi_theta_theta**2*h**2*msT*omega**2*pk(tau)**7 - Ir*Psi_theta_theta**2*h**2*msT*omega**2*pk(tau)**5*qk(tau)**2 + Ir*Psi_theta_theta**2*h**2*msT*omega**2*pk(tau)**3*qk(tau)**4 + Ir*Psi_theta_theta**2*h**2*msT*omega**2*pk(tau)*qk(tau)**6 - 4*Ir*Psi_theta_theta**2*h*hT*msT*omega**2*pk(tau)**7 - 4*Ir*Psi_theta_theta**2*h*hT*msT*omega**2*pk(tau)**5*qk(tau)**2 + 4*Ir*Psi_theta_theta**2*h*hT*msT*omega**2*pk(tau)**3*qk(tau)**4 + 4*Ir*Psi_theta_theta**2*h*hT*msT*omega**2*pk(tau)*qk(tau)**6 - 4*Ir*Psi_theta_theta**2*hT**2*msT*omega**2*pk(tau)**7 - 4*Ir*Psi_theta_theta**2*hT**2*msT*omega**2*pk(tau)**5*qk(tau)**2 + 4*Ir*Psi_theta_theta**2*hT**2*msT*omega**2*pk(tau)**3*qk(tau)**4 + 4*Ir*Psi_theta_theta**2*hT**2*msT*omega**2*pk(tau)*qk(tau)**6 - 2*Psi_theta_theta*Rk*Texte*Uu**2*h*mR*sqrt(pk(tau)**2 + qk(tau)**2)*pk(tau)**4*qk(tau) + 2*Psi_theta_theta*Rk*Texte*Uu**2*h*mR*sqrt(pk(tau)**2 + qk(tau)**2)*qk(tau)**5 - 4*Psi_theta_theta*Rk*Texte*Uu**2*hT*mR*sqrt(pk(tau)**2 + qk(tau)**2)*pk(tau)**4*qk(tau) + 4*Psi_theta_theta*Rk*Texte*Uu**2*hT*mR*sqrt(pk(tau)**2 + qk(tau)**2)*qk(tau)**5 + 2*Psi_theta_theta*Rk*Texte*h*msT*sqrt(pk(tau)**2 + qk(tau)**2)*pk(tau)**4*qk(tau) + 4*Psi_theta_theta*Rk*Texte*h*msT*sqrt(pk(tau)**2 + qk(tau)**2)*pk(tau)**2*qk(tau)**3 + 2*Psi_theta_theta*Rk*Texte*h*msT*sqrt(pk(tau)**2 + qk(tau)**2)*qk(tau)**5 + 4*Psi_theta_theta*Rk*Texte*hT*msT*sqrt(pk(tau)**2 + qk(tau)**2)*pk(tau)**4*qk(tau) + 8*Psi_theta_theta*Rk*Texte*hT*msT*sqrt(pk(tau)**2 + qk(tau)**2)*pk(tau)**2*qk(tau)**3 + 4*Psi_theta_theta*Rk*Texte*hT*msT*sqrt(pk(tau)**2 + qk(tau)**2)*qk(tau)**5 + 4*Rk**2*Uu**2*Vo*cUo*mR*pk(tau)**5*qk(tau)*cos(tau) - 4*Rk**2*Uu**2*Vo*cUo*mR*pk(tau)**4*qk(tau)**2*sin(tau) + 8*Rk**2*Uu**2*Vo*cUo*mR*pk(tau)**3*qk(tau)**3*cos(tau) - 8*Rk**2*Uu**2*Vo*cUo*mR*pk(tau)**2*qk(tau)**4*sin(tau) + 4*Rk**2*Uu**2*Vo*cUo*mR*pk(tau)*qk(tau)**5*cos(tau) - 4*Rk**2*Uu**2*Vo*cUo*mR*qk(tau)**6*sin(tau) - 4*Rk**2*Uu**2*cr*msT*pk(tau)**7 - 12*Rk**2*Uu**2*cr*msT*pk(tau)**5*qk(tau)**2 - 12*Rk**2*Uu**2*cr*msT*pk(tau)**3*qk(tau)**4 - 4*Rk**2*Uu**2*cr*msT*pk(tau)*qk(tau)**6 - 4*Rk**2*Uu*cr*msT*ps*sqrt(pk(tau)**2 + qk(tau)**2)*pk(tau)**5 - 8*Rk**2*Uu*cr*msT*ps*sqrt(pk(tau)**2 + qk(tau)**2)*pk(tau)**3*qk(tau)**2 - 4*Rk**2*Uu*cr*msT*ps*sqrt(pk(tau)**2 + qk(tau)**2)*pk(tau)*qk(tau)**4 - 4*Rk**2*Vo*cUo*msT*pk(tau)**6*sin(tau) - 12*Rk**2*Vo*cUo*msT*pk(tau)**4*qk(tau)**2*sin(tau) - 12*Rk**2*Vo*cUo*msT*pk(tau)**2*qk(tau)**4*sin(tau) - 4*Rk**2*Vo*cUo*msT*qk(tau)**6*sin(tau) - 4*Rk**2*msT**2*omega**2*pk(tau)**7 - 12*Rk**2*msT**2*omega**2*pk(tau)**5*qk(tau)**2 - 12*Rk**2*msT**2*omega**2*pk(tau)**3*qk(tau)**4 - 4*Rk**2*msT**2*omega**2*pk(tau)*qk(tau)**6)/(omega**2*(Ir*Psi_theta_theta**2*Uu**2*h**2*mR*pk(tau)**6 - Ir*Psi_theta_theta**2*Uu**2*h**2*mR*pk(tau)**4*qk(tau)**2 - Ir*Psi_theta_theta**2*Uu**2*h**2*mR*pk(tau)**2*qk(tau)**4 + Ir*Psi_theta_theta**2*Uu**2*h**2*mR*qk(tau)**6 + 4*Ir*Psi_theta_theta**2*Uu**2*h*hT*mR*pk(tau)**6 - 4*Ir*Psi_theta_theta**2*Uu**2*h*hT*mR*pk(tau)**4*qk(tau)**2 - 4*Ir*Psi_theta_theta**2*Uu**2*h*hT*mR*pk(tau)**2*qk(tau)**4 + 4*Ir*Psi_theta_theta**2*Uu**2*h*hT*mR*qk(tau)**6 + 4*Ir*Psi_theta_theta**2*Uu**2*hT**2*mR*pk(tau)**6 - 4*Ir*Psi_theta_theta**2*Uu**2*hT**2*mR*pk(tau)**4*qk(tau)**2 - 4*Ir*Psi_theta_theta**2*Uu**2*hT**2*mR*pk(tau)**2*qk(tau)**4 + 4*Ir*Psi_theta_theta**2*Uu**2*hT**2*mR*qk(tau)**6 + Ir*Psi_theta_theta**2*h**2*msT*pk(tau)**6 + 3*Ir*Psi_theta_theta**2*h**2*msT*pk(tau)**4*qk(tau)**2 + 3*Ir*Psi_theta_theta**2*h**2*msT*pk(tau)**2*qk(tau)**4 + Ir*Psi_theta_theta**2*h**2*msT*qk(tau)**6 + 4*Ir*Psi_theta_theta**2*h*hT*msT*pk(tau)**6 + 12*Ir*Psi_theta_theta**2*h*hT*msT*pk(tau)**4*qk(tau)**2 + 12*Ir*Psi_theta_theta**2*h*hT*msT*pk(tau)**2*qk(tau)**4 + 4*Ir*Psi_theta_theta**2*h*hT*msT*qk(tau)**6 + 4*Ir*Psi_theta_theta**2*hT**2*msT*pk(tau)**6 + 12*Ir*Psi_theta_theta**2*hT**2*msT*pk(tau)**4*qk(tau)**2 + 12*Ir*Psi_theta_theta**2*hT**2*msT*pk(tau)**2*qk(tau)**4 + 4*Ir*Psi_theta_theta**2*hT**2*msT*qk(tau)**6 + 4*Rk**2*Uu**2*mR*msT*pk(tau)**6 + 12*Rk**2*Uu**2*mR*msT*pk(tau)**4*qk(tau)**2 + 12*Rk**2*Uu**2*mR*msT*pk(tau)**2*qk(tau)**4 + 4*Rk**2*Uu**2*mR*msT*qk(tau)**6 + 4*Rk**2*msT**2*pk(tau)**6 + 12*Rk**2*msT**2*pk(tau)**4*qk(tau)**2 + 12*Rk**2*msT**2*pk(tau)**2*qk(tau)**4 + 4*Rk**2*msT**2*qk(tau)**6))"
      ]
     },
     "execution_count": 23,
     "metadata": {},
     "output_type": "execute_result"
    }
   ],
   "source": [
    "soluEqP"
   ]
  },
  {
   "cell_type": "code",
   "execution_count": 24,
   "metadata": {
    "collapsed": true
   },
   "outputs": [],
   "source": [
    "equilibrio= solve([soluEqP, soluEqQ], [pk, qk] )"
   ]
  },
  {
   "cell_type": "code",
   "execution_count": 27,
   "metadata": {},
   "outputs": [
    {
     "data": {
      "text/plain": [
       "[]"
      ]
     },
     "execution_count": 27,
     "metadata": {},
     "output_type": "execute_result"
    }
   ],
   "source": [
    "equilibrio"
   ]
  },
  {
   "cell_type": "code",
   "execution_count": 27,
   "metadata": {},
   "outputs": [
    {
     "data": {
      "text/plain": [
       "(-Ir*Psi_theta_theta**2*Uu**2*cr*h**2*pk(tau)**7 - Ir*Psi_theta_theta**2*Uu**2*cr*h**2*pk(tau)**5*qk(tau)**2 + Ir*Psi_theta_theta**2*Uu**2*cr*h**2*pk(tau)**3*qk(tau)**4 + Ir*Psi_theta_theta**2*Uu**2*cr*h**2*pk(tau)*qk(tau)**6 - 4*Ir*Psi_theta_theta**2*Uu**2*cr*h*hT*pk(tau)**7 - 4*Ir*Psi_theta_theta**2*Uu**2*cr*h*hT*pk(tau)**5*qk(tau)**2 + 4*Ir*Psi_theta_theta**2*Uu**2*cr*h*hT*pk(tau)**3*qk(tau)**4 + 4*Ir*Psi_theta_theta**2*Uu**2*cr*h*hT*pk(tau)*qk(tau)**6 - 4*Ir*Psi_theta_theta**2*Uu**2*cr*hT**2*pk(tau)**7 - 4*Ir*Psi_theta_theta**2*Uu**2*cr*hT**2*pk(tau)**5*qk(tau)**2 + 4*Ir*Psi_theta_theta**2*Uu**2*cr*hT**2*pk(tau)**3*qk(tau)**4 + 4*Ir*Psi_theta_theta**2*Uu**2*cr*hT**2*pk(tau)*qk(tau)**6 - Ir*Psi_theta_theta**2*Uu**2*h**2*mR*omega**2*pk(tau)**5*Derivative(qk(tau), tau)**2 + 3*Ir*Psi_theta_theta**2*Uu**2*h**2*mR*omega**2*pk(tau)**4*qk(tau)*Derivative(pk(tau), tau)*Derivative(qk(tau), tau) - 2*Ir*Psi_theta_theta**2*Uu**2*h**2*mR*omega**2*pk(tau)**3*qk(tau)**2*Derivative(pk(tau), tau)**2 - 2*Ir*Psi_theta_theta**2*Uu**2*h**2*mR*omega**2*pk(tau)**2*qk(tau)**3*Derivative(pk(tau), tau)*Derivative(qk(tau), tau) + 2*Ir*Psi_theta_theta**2*Uu**2*h**2*mR*omega**2*pk(tau)*qk(tau)**4*Derivative(pk(tau), tau)**2 + Ir*Psi_theta_theta**2*Uu**2*h**2*mR*omega**2*pk(tau)*qk(tau)**4*Derivative(qk(tau), tau)**2 - Ir*Psi_theta_theta**2*Uu**2*h**2*mR*omega**2*qk(tau)**5*Derivative(pk(tau), tau)*Derivative(qk(tau), tau) - 4*Ir*Psi_theta_theta**2*Uu**2*h*hT*mR*omega**2*pk(tau)**5*Derivative(qk(tau), tau)**2 + 12*Ir*Psi_theta_theta**2*Uu**2*h*hT*mR*omega**2*pk(tau)**4*qk(tau)*Derivative(pk(tau), tau)*Derivative(qk(tau), tau) - 8*Ir*Psi_theta_theta**2*Uu**2*h*hT*mR*omega**2*pk(tau)**3*qk(tau)**2*Derivative(pk(tau), tau)**2 - 8*Ir*Psi_theta_theta**2*Uu**2*h*hT*mR*omega**2*pk(tau)**2*qk(tau)**3*Derivative(pk(tau), tau)*Derivative(qk(tau), tau) + 8*Ir*Psi_theta_theta**2*Uu**2*h*hT*mR*omega**2*pk(tau)*qk(tau)**4*Derivative(pk(tau), tau)**2 + 4*Ir*Psi_theta_theta**2*Uu**2*h*hT*mR*omega**2*pk(tau)*qk(tau)**4*Derivative(qk(tau), tau)**2 - 4*Ir*Psi_theta_theta**2*Uu**2*h*hT*mR*omega**2*qk(tau)**5*Derivative(pk(tau), tau)*Derivative(qk(tau), tau) - 4*Ir*Psi_theta_theta**2*Uu**2*hT**2*mR*omega**2*pk(tau)**5*Derivative(qk(tau), tau)**2 + 12*Ir*Psi_theta_theta**2*Uu**2*hT**2*mR*omega**2*pk(tau)**4*qk(tau)*Derivative(pk(tau), tau)*Derivative(qk(tau), tau) - 8*Ir*Psi_theta_theta**2*Uu**2*hT**2*mR*omega**2*pk(tau)**3*qk(tau)**2*Derivative(pk(tau), tau)**2 - 8*Ir*Psi_theta_theta**2*Uu**2*hT**2*mR*omega**2*pk(tau)**2*qk(tau)**3*Derivative(pk(tau), tau)*Derivative(qk(tau), tau) + 8*Ir*Psi_theta_theta**2*Uu**2*hT**2*mR*omega**2*pk(tau)*qk(tau)**4*Derivative(pk(tau), tau)**2 + 4*Ir*Psi_theta_theta**2*Uu**2*hT**2*mR*omega**2*pk(tau)*qk(tau)**4*Derivative(qk(tau), tau)**2 - 4*Ir*Psi_theta_theta**2*Uu**2*hT**2*mR*omega**2*qk(tau)**5*Derivative(pk(tau), tau)*Derivative(qk(tau), tau) - Ir*Psi_theta_theta**2*Uu*cr*h**2*ps*sqrt(pk(tau)**2 + qk(tau)**2)*pk(tau)**5 + Ir*Psi_theta_theta**2*Uu*cr*h**2*ps*sqrt(pk(tau)**2 + qk(tau)**2)*pk(tau)*qk(tau)**4 - 4*Ir*Psi_theta_theta**2*Uu*cr*h*hT*ps*sqrt(pk(tau)**2 + qk(tau)**2)*pk(tau)**5 + 4*Ir*Psi_theta_theta**2*Uu*cr*h*hT*ps*sqrt(pk(tau)**2 + qk(tau)**2)*pk(tau)*qk(tau)**4 - 4*Ir*Psi_theta_theta**2*Uu*cr*hT**2*ps*sqrt(pk(tau)**2 + qk(tau)**2)*pk(tau)**5 + 4*Ir*Psi_theta_theta**2*Uu*cr*hT**2*ps*sqrt(pk(tau)**2 + qk(tau)**2)*pk(tau)*qk(tau)**4 - Ir*Psi_theta_theta**2*Vo*cUo*h**2*pk(tau)**6*sin(tau) + Ir*Psi_theta_theta**2*Vo*cUo*h**2*pk(tau)**5*qk(tau)*cos(tau) - 2*Ir*Psi_theta_theta**2*Vo*cUo*h**2*pk(tau)**4*qk(tau)**2*sin(tau) + 2*Ir*Psi_theta_theta**2*Vo*cUo*h**2*pk(tau)**3*qk(tau)**3*cos(tau) - Ir*Psi_theta_theta**2*Vo*cUo*h**2*pk(tau)**2*qk(tau)**4*sin(tau) + Ir*Psi_theta_theta**2*Vo*cUo*h**2*pk(tau)*qk(tau)**5*cos(tau) - 4*Ir*Psi_theta_theta**2*Vo*cUo*h*hT*pk(tau)**6*sin(tau) + 4*Ir*Psi_theta_theta**2*Vo*cUo*h*hT*pk(tau)**5*qk(tau)*cos(tau) - 8*Ir*Psi_theta_theta**2*Vo*cUo*h*hT*pk(tau)**4*qk(tau)**2*sin(tau) + 8*Ir*Psi_theta_theta**2*Vo*cUo*h*hT*pk(tau)**3*qk(tau)**3*cos(tau) - 4*Ir*Psi_theta_theta**2*Vo*cUo*h*hT*pk(tau)**2*qk(tau)**4*sin(tau) + 4*Ir*Psi_theta_theta**2*Vo*cUo*h*hT*pk(tau)*qk(tau)**5*cos(tau) - 4*Ir*Psi_theta_theta**2*Vo*cUo*hT**2*pk(tau)**6*sin(tau) + 4*Ir*Psi_theta_theta**2*Vo*cUo*hT**2*pk(tau)**5*qk(tau)*cos(tau) - 8*Ir*Psi_theta_theta**2*Vo*cUo*hT**2*pk(tau)**4*qk(tau)**2*sin(tau) + 8*Ir*Psi_theta_theta**2*Vo*cUo*hT**2*pk(tau)**3*qk(tau)**3*cos(tau) - 4*Ir*Psi_theta_theta**2*Vo*cUo*hT**2*pk(tau)**2*qk(tau)**4*sin(tau) + 4*Ir*Psi_theta_theta**2*Vo*cUo*hT**2*pk(tau)*qk(tau)**5*cos(tau) - Ir*Psi_theta_theta**2*d*h**2*omega*pk(tau)**6*Derivative(pk(tau), tau) + Ir*Psi_theta_theta**2*d*h**2*omega*pk(tau)**5*qk(tau)*Derivative(qk(tau), tau) - 2*Ir*Psi_theta_theta**2*d*h**2*omega*pk(tau)**4*qk(tau)**2*Derivative(pk(tau), tau) + 2*Ir*Psi_theta_theta**2*d*h**2*omega*pk(tau)**3*qk(tau)**3*Derivative(qk(tau), tau) - Ir*Psi_theta_theta**2*d*h**2*omega*pk(tau)**2*qk(tau)**4*Derivative(pk(tau), tau) + Ir*Psi_theta_theta**2*d*h**2*omega*pk(tau)*qk(tau)**5*Derivative(qk(tau), tau) - 4*Ir*Psi_theta_theta**2*d*h*hT*omega*pk(tau)**6*Derivative(pk(tau), tau) + 4*Ir*Psi_theta_theta**2*d*h*hT*omega*pk(tau)**5*qk(tau)*Derivative(qk(tau), tau) - 8*Ir*Psi_theta_theta**2*d*h*hT*omega*pk(tau)**4*qk(tau)**2*Derivative(pk(tau), tau) + 8*Ir*Psi_theta_theta**2*d*h*hT*omega*pk(tau)**3*qk(tau)**3*Derivative(qk(tau), tau) - 4*Ir*Psi_theta_theta**2*d*h*hT*omega*pk(tau)**2*qk(tau)**4*Derivative(pk(tau), tau) + 4*Ir*Psi_theta_theta**2*d*h*hT*omega*pk(tau)*qk(tau)**5*Derivative(qk(tau), tau) - 4*Ir*Psi_theta_theta**2*d*hT**2*omega*pk(tau)**6*Derivative(pk(tau), tau) + 4*Ir*Psi_theta_theta**2*d*hT**2*omega*pk(tau)**5*qk(tau)*Derivative(qk(tau), tau) - 8*Ir*Psi_theta_theta**2*d*hT**2*omega*pk(tau)**4*qk(tau)**2*Derivative(pk(tau), tau) + 8*Ir*Psi_theta_theta**2*d*hT**2*omega*pk(tau)**3*qk(tau)**3*Derivative(qk(tau), tau) - 4*Ir*Psi_theta_theta**2*d*hT**2*omega*pk(tau)**2*qk(tau)**4*Derivative(pk(tau), tau) + 4*Ir*Psi_theta_theta**2*d*hT**2*omega*pk(tau)*qk(tau)**5*Derivative(qk(tau), tau) - Ir*Psi_theta_theta**2*h**2*msT*omega**2*pk(tau)**7 - Ir*Psi_theta_theta**2*h**2*msT*omega**2*pk(tau)**5*qk(tau)**2 - Ir*Psi_theta_theta**2*h**2*msT*omega**2*pk(tau)**4*qk(tau)*Derivative(pk(tau), tau)*Derivative(qk(tau), tau) + Ir*Psi_theta_theta**2*h**2*msT*omega**2*pk(tau)**3*qk(tau)**4 + Ir*Psi_theta_theta**2*h**2*msT*omega**2*pk(tau)**3*qk(tau)**2*Derivative(pk(tau), tau)**2 + Ir*Psi_theta_theta**2*h**2*msT*omega**2*pk(tau)**3*qk(tau)**2*Derivative(qk(tau), tau)**2 - 2*Ir*Psi_theta_theta**2*h**2*msT*omega**2*pk(tau)**2*qk(tau)**3*Derivative(pk(tau), tau)*Derivative(qk(tau), tau) + Ir*Psi_theta_theta**2*h**2*msT*omega**2*pk(tau)*qk(tau)**6 + Ir*Psi_theta_theta**2*h**2*msT*omega**2*pk(tau)*qk(tau)**4*Derivative(pk(tau), tau)**2 + Ir*Psi_theta_theta**2*h**2*msT*omega**2*pk(tau)*qk(tau)**4*Derivative(qk(tau), tau)**2 - Ir*Psi_theta_theta**2*h**2*msT*omega**2*qk(tau)**5*Derivative(pk(tau), tau)*Derivative(qk(tau), tau) - 4*Ir*Psi_theta_theta**2*h*hT*msT*omega**2*pk(tau)**7 - 4*Ir*Psi_theta_theta**2*h*hT*msT*omega**2*pk(tau)**5*qk(tau)**2 - 4*Ir*Psi_theta_theta**2*h*hT*msT*omega**2*pk(tau)**4*qk(tau)*Derivative(pk(tau), tau)*Derivative(qk(tau), tau) + 4*Ir*Psi_theta_theta**2*h*hT*msT*omega**2*pk(tau)**3*qk(tau)**4 + 4*Ir*Psi_theta_theta**2*h*hT*msT*omega**2*pk(tau)**3*qk(tau)**2*Derivative(pk(tau), tau)**2 + 4*Ir*Psi_theta_theta**2*h*hT*msT*omega**2*pk(tau)**3*qk(tau)**2*Derivative(qk(tau), tau)**2 - 8*Ir*Psi_theta_theta**2*h*hT*msT*omega**2*pk(tau)**2*qk(tau)**3*Derivative(pk(tau), tau)*Derivative(qk(tau), tau) + 4*Ir*Psi_theta_theta**2*h*hT*msT*omega**2*pk(tau)*qk(tau)**6 + 4*Ir*Psi_theta_theta**2*h*hT*msT*omega**2*pk(tau)*qk(tau)**4*Derivative(pk(tau), tau)**2 + 4*Ir*Psi_theta_theta**2*h*hT*msT*omega**2*pk(tau)*qk(tau)**4*Derivative(qk(tau), tau)**2 - 4*Ir*Psi_theta_theta**2*h*hT*msT*omega**2*qk(tau)**5*Derivative(pk(tau), tau)*Derivative(qk(tau), tau) - 4*Ir*Psi_theta_theta**2*hT**2*msT*omega**2*pk(tau)**7 - 4*Ir*Psi_theta_theta**2*hT**2*msT*omega**2*pk(tau)**5*qk(tau)**2 - 4*Ir*Psi_theta_theta**2*hT**2*msT*omega**2*pk(tau)**4*qk(tau)*Derivative(pk(tau), tau)*Derivative(qk(tau), tau) + 4*Ir*Psi_theta_theta**2*hT**2*msT*omega**2*pk(tau)**3*qk(tau)**4 + 4*Ir*Psi_theta_theta**2*hT**2*msT*omega**2*pk(tau)**3*qk(tau)**2*Derivative(pk(tau), tau)**2 + 4*Ir*Psi_theta_theta**2*hT**2*msT*omega**2*pk(tau)**3*qk(tau)**2*Derivative(qk(tau), tau)**2 - 8*Ir*Psi_theta_theta**2*hT**2*msT*omega**2*pk(tau)**2*qk(tau)**3*Derivative(pk(tau), tau)*Derivative(qk(tau), tau) + 4*Ir*Psi_theta_theta**2*hT**2*msT*omega**2*pk(tau)*qk(tau)**6 + 4*Ir*Psi_theta_theta**2*hT**2*msT*omega**2*pk(tau)*qk(tau)**4*Derivative(pk(tau), tau)**2 + 4*Ir*Psi_theta_theta**2*hT**2*msT*omega**2*pk(tau)*qk(tau)**4*Derivative(qk(tau), tau)**2 - 4*Ir*Psi_theta_theta**2*hT**2*msT*omega**2*qk(tau)**5*Derivative(pk(tau), tau)*Derivative(qk(tau), tau) - 2*Psi_theta_theta*Rk*Texte*Uu**2*h*mR*sqrt(pk(tau)**2 + qk(tau)**2)*pk(tau)**4*qk(tau) + 2*Psi_theta_theta*Rk*Texte*Uu**2*h*mR*sqrt(pk(tau)**2 + qk(tau)**2)*qk(tau)**5 - 4*Psi_theta_theta*Rk*Texte*Uu**2*hT*mR*sqrt(pk(tau)**2 + qk(tau)**2)*pk(tau)**4*qk(tau) + 4*Psi_theta_theta*Rk*Texte*Uu**2*hT*mR*sqrt(pk(tau)**2 + qk(tau)**2)*qk(tau)**5 + 2*Psi_theta_theta*Rk*Texte*h*msT*sqrt(pk(tau)**2 + qk(tau)**2)*pk(tau)**4*qk(tau) + 4*Psi_theta_theta*Rk*Texte*h*msT*sqrt(pk(tau)**2 + qk(tau)**2)*pk(tau)**2*qk(tau)**3 + 2*Psi_theta_theta*Rk*Texte*h*msT*sqrt(pk(tau)**2 + qk(tau)**2)*qk(tau)**5 + 4*Psi_theta_theta*Rk*Texte*hT*msT*sqrt(pk(tau)**2 + qk(tau)**2)*pk(tau)**4*qk(tau) + 8*Psi_theta_theta*Rk*Texte*hT*msT*sqrt(pk(tau)**2 + qk(tau)**2)*pk(tau)**2*qk(tau)**3 + 4*Psi_theta_theta*Rk*Texte*hT*msT*sqrt(pk(tau)**2 + qk(tau)**2)*qk(tau)**5 + 4*Rk**2*Uu**2*Vo*cUo*mR*pk(tau)**5*qk(tau)*cos(tau) - 4*Rk**2*Uu**2*Vo*cUo*mR*pk(tau)**4*qk(tau)**2*sin(tau) + 8*Rk**2*Uu**2*Vo*cUo*mR*pk(tau)**3*qk(tau)**3*cos(tau) - 8*Rk**2*Uu**2*Vo*cUo*mR*pk(tau)**2*qk(tau)**4*sin(tau) + 4*Rk**2*Uu**2*Vo*cUo*mR*pk(tau)*qk(tau)**5*cos(tau) - 4*Rk**2*Uu**2*Vo*cUo*mR*qk(tau)**6*sin(tau) - 4*Rk**2*Uu**2*cr*msT*pk(tau)**7 - 12*Rk**2*Uu**2*cr*msT*pk(tau)**5*qk(tau)**2 - 12*Rk**2*Uu**2*cr*msT*pk(tau)**3*qk(tau)**4 - 4*Rk**2*Uu**2*cr*msT*pk(tau)*qk(tau)**6 + 4*Rk**2*Uu**2*d*mR*omega*pk(tau)**5*qk(tau)*Derivative(qk(tau), tau) - 4*Rk**2*Uu**2*d*mR*omega*pk(tau)**4*qk(tau)**2*Derivative(pk(tau), tau) + 8*Rk**2*Uu**2*d*mR*omega*pk(tau)**3*qk(tau)**3*Derivative(qk(tau), tau) - 8*Rk**2*Uu**2*d*mR*omega*pk(tau)**2*qk(tau)**4*Derivative(pk(tau), tau) + 4*Rk**2*Uu**2*d*mR*omega*pk(tau)*qk(tau)**5*Derivative(qk(tau), tau) - 4*Rk**2*Uu**2*d*mR*omega*qk(tau)**6*Derivative(pk(tau), tau) - 4*Rk**2*Uu**2*mR*msT*omega**2*pk(tau)**5*Derivative(qk(tau), tau)**2 + 8*Rk**2*Uu**2*mR*msT*omega**2*pk(tau)**4*qk(tau)*Derivative(pk(tau), tau)*Derivative(qk(tau), tau) - 4*Rk**2*Uu**2*mR*msT*omega**2*pk(tau)**3*qk(tau)**2*Derivative(pk(tau), tau)**2 - 4*Rk**2*Uu**2*mR*msT*omega**2*pk(tau)**3*qk(tau)**2*Derivative(qk(tau), tau)**2 + 8*Rk**2*Uu**2*mR*msT*omega**2*pk(tau)**2*qk(tau)**3*Derivative(pk(tau), tau)*Derivative(qk(tau), tau) - 4*Rk**2*Uu**2*mR*msT*omega**2*pk(tau)*qk(tau)**4*Derivative(pk(tau), tau)**2 - 4*Rk**2*Uu*cr*msT*ps*sqrt(pk(tau)**2 + qk(tau)**2)*pk(tau)**5 - 8*Rk**2*Uu*cr*msT*ps*sqrt(pk(tau)**2 + qk(tau)**2)*pk(tau)**3*qk(tau)**2 - 4*Rk**2*Uu*cr*msT*ps*sqrt(pk(tau)**2 + qk(tau)**2)*pk(tau)*qk(tau)**4 - 4*Rk**2*Vo*cUo*msT*pk(tau)**6*sin(tau) - 12*Rk**2*Vo*cUo*msT*pk(tau)**4*qk(tau)**2*sin(tau) - 12*Rk**2*Vo*cUo*msT*pk(tau)**2*qk(tau)**4*sin(tau) - 4*Rk**2*Vo*cUo*msT*qk(tau)**6*sin(tau) - 4*Rk**2*d*msT*omega*pk(tau)**6*Derivative(pk(tau), tau) - 12*Rk**2*d*msT*omega*pk(tau)**4*qk(tau)**2*Derivative(pk(tau), tau) - 12*Rk**2*d*msT*omega*pk(tau)**2*qk(tau)**4*Derivative(pk(tau), tau) - 4*Rk**2*d*msT*omega*qk(tau)**6*Derivative(pk(tau), tau) - 4*Rk**2*msT**2*omega**2*pk(tau)**7 - 12*Rk**2*msT**2*omega**2*pk(tau)**5*qk(tau)**2 - 12*Rk**2*msT**2*omega**2*pk(tau)**3*qk(tau)**4 - 4*Rk**2*msT**2*omega**2*pk(tau)*qk(tau)**6)/(omega**2*(Ir*Psi_theta_theta**2*Uu**2*h**2*mR*pk(tau)**6 - Ir*Psi_theta_theta**2*Uu**2*h**2*mR*pk(tau)**4*qk(tau)**2 - Ir*Psi_theta_theta**2*Uu**2*h**2*mR*pk(tau)**2*qk(tau)**4 + Ir*Psi_theta_theta**2*Uu**2*h**2*mR*qk(tau)**6 + 4*Ir*Psi_theta_theta**2*Uu**2*h*hT*mR*pk(tau)**6 - 4*Ir*Psi_theta_theta**2*Uu**2*h*hT*mR*pk(tau)**4*qk(tau)**2 - 4*Ir*Psi_theta_theta**2*Uu**2*h*hT*mR*pk(tau)**2*qk(tau)**4 + 4*Ir*Psi_theta_theta**2*Uu**2*h*hT*mR*qk(tau)**6 + 4*Ir*Psi_theta_theta**2*Uu**2*hT**2*mR*pk(tau)**6 - 4*Ir*Psi_theta_theta**2*Uu**2*hT**2*mR*pk(tau)**4*qk(tau)**2 - 4*Ir*Psi_theta_theta**2*Uu**2*hT**2*mR*pk(tau)**2*qk(tau)**4 + 4*Ir*Psi_theta_theta**2*Uu**2*hT**2*mR*qk(tau)**6 + Ir*Psi_theta_theta**2*h**2*msT*pk(tau)**6 + 3*Ir*Psi_theta_theta**2*h**2*msT*pk(tau)**4*qk(tau)**2 + 3*Ir*Psi_theta_theta**2*h**2*msT*pk(tau)**2*qk(tau)**4 + Ir*Psi_theta_theta**2*h**2*msT*qk(tau)**6 + 4*Ir*Psi_theta_theta**2*h*hT*msT*pk(tau)**6 + 12*Ir*Psi_theta_theta**2*h*hT*msT*pk(tau)**4*qk(tau)**2 + 12*Ir*Psi_theta_theta**2*h*hT*msT*pk(tau)**2*qk(tau)**4 + 4*Ir*Psi_theta_theta**2*h*hT*msT*qk(tau)**6 + 4*Ir*Psi_theta_theta**2*hT**2*msT*pk(tau)**6 + 12*Ir*Psi_theta_theta**2*hT**2*msT*pk(tau)**4*qk(tau)**2 + 12*Ir*Psi_theta_theta**2*hT**2*msT*pk(tau)**2*qk(tau)**4 + 4*Ir*Psi_theta_theta**2*hT**2*msT*qk(tau)**6 + 4*Rk**2*Uu**2*mR*msT*pk(tau)**6 + 12*Rk**2*Uu**2*mR*msT*pk(tau)**4*qk(tau)**2 + 12*Rk**2*Uu**2*mR*msT*pk(tau)**2*qk(tau)**4 + 4*Rk**2*Uu**2*mR*msT*qk(tau)**6 + 4*Rk**2*msT**2*pk(tau)**6 + 12*Rk**2*msT**2*pk(tau)**4*qk(tau)**2 + 12*Rk**2*msT**2*pk(tau)**2*qk(tau)**4 + 4*Rk**2*msT**2*qk(tau)**6))"
      ]
     },
     "execution_count": 27,
     "metadata": {},
     "output_type": "execute_result"
    }
   ],
   "source": [
    "solution[DIFF2P]"
   ]
  },
  {
   "cell_type": "code",
   "execution_count": 30,
   "metadata": {
    "collapsed": true
   },
   "outputs": [],
   "source": [
    "PP, QQ =symbols('PP, QQ')\n",
    "soluEQP = soluEqP.subs({pk:PP, qk:QQ})\n",
    "soluEQQ = soluEqQ.subs({pk:PP, qk:QQ})"
   ]
  },
  {
   "cell_type": "code",
   "execution_count": 32,
   "metadata": {
    "collapsed": true
   },
   "outputs": [],
   "source": [
    "equilibrio= solve([soluEQP, soluEQQ], [PP, QQ] )"
   ]
  },
  {
   "cell_type": "code",
   "execution_count": 33,
   "metadata": {},
   "outputs": [
    {
     "data": {
      "text/plain": [
       "[]"
      ]
     },
     "execution_count": 33,
     "metadata": {},
     "output_type": "execute_result"
    }
   ],
   "source": [
    "equilibrio"
   ]
  },
  {
   "cell_type": "code",
   "execution_count": 34,
   "metadata": {},
   "outputs": [
    {
     "data": {
      "text/plain": [
       "-Ir*Psi_theta_theta**2*h**2*pk(tau)**2*qk(tau)*Derivative(pk(tau), tau)*Derivative(qk(tau), tau)/(4*Rk**2*msT*pk(tau)**4 + 8*Rk**2*msT*pk(tau)**2*qk(tau)**2 + 4*Rk**2*msT*qk(tau)**4) + Ir*Psi_theta_theta**2*h**2*pk(tau)*qk(tau)**2*Derivative(pk(tau), tau)**2/(4*Rk**2*msT*pk(tau)**4 + 8*Rk**2*msT*pk(tau)**2*qk(tau)**2 + 4*Rk**2*msT*qk(tau)**4) + Ir*Psi_theta_theta**2*h**2*pk(tau)*qk(tau)**2*Derivative(qk(tau), tau)**2/(4*Rk**2*msT*pk(tau)**4 + 8*Rk**2*msT*pk(tau)**2*qk(tau)**2 + 4*Rk**2*msT*qk(tau)**4) - Ir*Psi_theta_theta**2*h**2*qk(tau)**3*Derivative(pk(tau), tau)*Derivative(qk(tau), tau)/(4*Rk**2*msT*pk(tau)**4 + 8*Rk**2*msT*pk(tau)**2*qk(tau)**2 + 4*Rk**2*msT*qk(tau)**4) - Ir*Psi_theta_theta**2*h**2*pk(tau)*qk(tau)*Derivative(qk(tau), tau, tau)/(4*Rk**2*msT*pk(tau)**2 + 4*Rk**2*msT*qk(tau)**2) - Ir*Psi_theta_theta**2*h**2*qk(tau)**2*Derivative(pk(tau), tau, tau)/(4*Rk**2*msT*pk(tau)**2 + 4*Rk**2*msT*qk(tau)**2) - Ir*Psi_theta_theta**2*h*hT*pk(tau)**2*qk(tau)*Derivative(pk(tau), tau)*Derivative(qk(tau), tau)/(Rk**2*msT*pk(tau)**4 + 2*Rk**2*msT*pk(tau)**2*qk(tau)**2 + Rk**2*msT*qk(tau)**4) + Ir*Psi_theta_theta**2*h*hT*pk(tau)*qk(tau)**2*Derivative(pk(tau), tau)**2/(Rk**2*msT*pk(tau)**4 + 2*Rk**2*msT*pk(tau)**2*qk(tau)**2 + Rk**2*msT*qk(tau)**4) + Ir*Psi_theta_theta**2*h*hT*pk(tau)*qk(tau)**2*Derivative(qk(tau), tau)**2/(Rk**2*msT*pk(tau)**4 + 2*Rk**2*msT*pk(tau)**2*qk(tau)**2 + Rk**2*msT*qk(tau)**4) - Ir*Psi_theta_theta**2*h*hT*qk(tau)**3*Derivative(pk(tau), tau)*Derivative(qk(tau), tau)/(Rk**2*msT*pk(tau)**4 + 2*Rk**2*msT*pk(tau)**2*qk(tau)**2 + Rk**2*msT*qk(tau)**4) - Ir*Psi_theta_theta**2*h*hT*pk(tau)*qk(tau)*Derivative(qk(tau), tau, tau)/(Rk**2*msT*pk(tau)**2 + Rk**2*msT*qk(tau)**2) - Ir*Psi_theta_theta**2*h*hT*qk(tau)**2*Derivative(pk(tau), tau, tau)/(Rk**2*msT*pk(tau)**2 + Rk**2*msT*qk(tau)**2) - Ir*Psi_theta_theta**2*hT**2*pk(tau)**2*qk(tau)*Derivative(pk(tau), tau)*Derivative(qk(tau), tau)/(Rk**2*msT*pk(tau)**4 + 2*Rk**2*msT*pk(tau)**2*qk(tau)**2 + Rk**2*msT*qk(tau)**4) + Ir*Psi_theta_theta**2*hT**2*pk(tau)*qk(tau)**2*Derivative(pk(tau), tau)**2/(Rk**2*msT*pk(tau)**4 + 2*Rk**2*msT*pk(tau)**2*qk(tau)**2 + Rk**2*msT*qk(tau)**4) + Ir*Psi_theta_theta**2*hT**2*pk(tau)*qk(tau)**2*Derivative(qk(tau), tau)**2/(Rk**2*msT*pk(tau)**4 + 2*Rk**2*msT*pk(tau)**2*qk(tau)**2 + Rk**2*msT*qk(tau)**4) - Ir*Psi_theta_theta**2*hT**2*qk(tau)**3*Derivative(pk(tau), tau)*Derivative(qk(tau), tau)/(Rk**2*msT*pk(tau)**4 + 2*Rk**2*msT*pk(tau)**2*qk(tau)**2 + Rk**2*msT*qk(tau)**4) - Ir*Psi_theta_theta**2*hT**2*pk(tau)*qk(tau)*Derivative(qk(tau), tau, tau)/(Rk**2*msT*pk(tau)**2 + Rk**2*msT*qk(tau)**2) - Ir*Psi_theta_theta**2*hT**2*qk(tau)**2*Derivative(pk(tau), tau, tau)/(Rk**2*msT*pk(tau)**2 + Rk**2*msT*qk(tau)**2) + Psi_theta_theta*Texte*h*qk(tau)/(2*Rk*msT*omega**2*sqrt(pk(tau)**2 + qk(tau)**2)) + Psi_theta_theta*Texte*hT*qk(tau)/(Rk*msT*omega**2*sqrt(pk(tau)**2 + qk(tau)**2)) - Uu**2*cr*pk(tau)/(msT*omega**2) - Uu**2*mR*pk(tau)**3*Derivative(qk(tau), tau)**2/(msT*pk(tau)**4 + 2*msT*pk(tau)**2*qk(tau)**2 + msT*qk(tau)**4) + 2*Uu**2*mR*pk(tau)**2*qk(tau)*Derivative(pk(tau), tau)*Derivative(qk(tau), tau)/(msT*pk(tau)**4 + 2*msT*pk(tau)**2*qk(tau)**2 + msT*qk(tau)**4) - Uu**2*mR*pk(tau)*qk(tau)**2*Derivative(pk(tau), tau)**2/(msT*pk(tau)**4 + 2*msT*pk(tau)**2*qk(tau)**2 + msT*qk(tau)**4) - Uu**2*mR*pk(tau)**2*Derivative(pk(tau), tau, tau)/(msT*pk(tau)**2 + msT*qk(tau)**2) - Uu**2*mR*pk(tau)*qk(tau)*Derivative(qk(tau), tau, tau)/(msT*pk(tau)**2 + msT*qk(tau)**2) - Uu*cr*ps*pk(tau)/(msT*omega**2*sqrt(pk(tau)**2 + qk(tau)**2)) - Vo*cUo*sin(tau)/(msT*omega**2) - d*Derivative(pk(tau), tau)/(msT*omega) - pk(tau) - Derivative(pk(tau), tau, tau)"
      ]
     },
     "execution_count": 34,
     "metadata": {},
     "output_type": "execute_result"
    }
   ],
   "source": [
    "eq1.expand()"
   ]
  },
  {
   "cell_type": "code",
   "execution_count": 26,
   "metadata": {
    "collapsed": true
   },
   "outputs": [],
   "source": [
    "DerivPK, DerivQK, PK, QK = symbols('DerivPK, DerivQK, PK, QK')\n",
    "\n",
    "soluDIFF2PP = solution[DIFF2P].subs({Derivative(pk,tau): DerivPK, Derivative(qk,tau): DerivQK, \n",
    "                       Function('pk')(tau): PK, Function('qk')(tau):QK})\n",
    "soluDIFF2QQ = solution[DIFF2Q].subs({Derivative(pk,tau): DerivPK, Derivative(qk,tau): DerivQK, \n",
    "                       Function('pk')(tau): PK, Function('qk')(tau):QK})"
   ]
  },
  {
   "cell_type": "code",
   "execution_count": 54,
   "metadata": {
    "collapsed": true
   },
   "outputs": [],
   "source": [
    "ms=0.0000261725\n",
    "mT = 5.0750952130962986 *10**(-6) \n",
    "cs=1.94991*10**8\n",
    "Ds = 0.06###; (*0.005 Dämpfungsmaß des Stators*)\n",
    "#d = 2 *sqrt(msT* cs *Ds) = 38.2402923781611\n",
    "rhor = 2700 ###(*Aluminum*)\n",
    "####(*viga mola*\n",
    "EE = 206000###; (*Nmm^2*)\n",
    "EE = EE*10**6\n",
    "B = 0.0025 ##;(*largura*)\n",
    "t = 0.0005  ###; (*espessura*)\n",
    "l = 0.02   ###; (*comprimento*)\n",
    "Ib = (B*t**3)/12\n",
    "#cr ####(*0;4000;*) (*elasticidade da viga mola*)\n",
    "rout = 0.003124764129949177\n",
    "rin = 0.002224764129949177\n",
    "Rr = rout\n",
    "Hr = 0.001 ###(*0.003*)\n",
    "\n",
    "r1 = 0.001\n",
    "mr = float(pi) * rhor *Rr**2 *Hr - float(pi) * rhor *r1**2 *Hr ### (*6.4 10 -4 ;*)\n",
    "Ha = 0.0005\n",
    "ma = float(pi) *rhor * Ha*(rout**2 - rin**2)\n",
    "\n",
    "\n",
    "solucdiff2pp =(soluDIFF2PP.subs({Ir: mr*(Rr**2 + r1**2)/2 + ma*(rout**2+ rin**2)/2, \n",
    "                                 Psi_theta_theta: 226.536, Uu: -0.377673, \n",
    "                  h: 0.0012, Rk: 0.0027, msT: ms + mT, hT: 0.0015,\n",
    "                  Vo: 100, cUo: 0.0174596, d: 38.2402923781611, ps: 0.5*10**(-3), mR: mr + ma, \n",
    "                  cr: (3 *EE *Ib)/l**3, omega: 2.72951*10**6, Texte: 0.1*10**(-3), n: 4, k: 2}) ).expand()\n",
    "\n",
    "solucdiff2qq = (soluDIFF2QQ.subs({Ir: mr*(Rr**2 + r1**2)/2 + ma*(rout**2+ rin**2)/2, \n",
    "                                  Psi_theta_theta: 226.536, Uu: -0.377673, \n",
    "                  h: 0.0012, Rk: 0.0027, msT: ms + mT, hT: 0.0015,\n",
    "                  Vo: 100, cUo: 0.0174596, d: 38.2402923781611, ps: 0.5*10**(-3), mR: mr + ma, \n",
    "                  cr: (3 *EE *Ib)/l**3, omega: 2.72951*10**6, Texte: 0.1*10**(-3), n: 4, k: 2}) ).expand()\n"
   ]
  },
  {
   "cell_type": "code",
   "execution_count": 55,
   "metadata": {},
   "outputs": [
    {
     "data": {
      "text/plain": [
       "2.23008003460333e-14*DerivPK**2*PK**4*QK/(6.30886699014073e-14*PK**6 + 1.62331557071147e-13*PK**4*QK**2 + 1.62331557071147e-13*PK**2*QK**4 + 6.30886699014073e-14*QK**6) + 3.25149757689095e-15*DerivPK**2*PK**2*QK**3/(6.30886699014073e-14*PK**6 + 1.62331557071147e-13*PK**4*QK**2 + 1.62331557071147e-13*PK**2*QK**4 + 6.30886699014073e-14*QK**6) - 1.90493027691423e-14*DerivPK**2*QK**5/(6.30886699014073e-14*PK**6 + 1.62331557071147e-13*PK**4*QK**2 + 1.62331557071147e-13*PK**2*QK**4 + 6.30886699014073e-14*QK**6) - 2.23008003460333e-14*DerivPK*DerivQK*PK**5/(6.30886699014073e-14*PK**6 + 1.62331557071147e-13*PK**4*QK**2 + 1.62331557071147e-13*PK**2*QK**4 + 6.30886699014073e-14*QK**6) - 1.99702214703192e-14*DerivPK*DerivQK*PK**3*QK**2/(6.30886699014073e-14*PK**6 + 1.62331557071147e-13*PK**4*QK**2 + 1.62331557071147e-13*PK**2*QK**4 + 6.30886699014073e-14*QK**6) + 2.92650315087886e-14*DerivPK*DerivQK*PK*QK**4/(6.30886699014073e-14*PK**6 + 1.62331557071147e-13*PK**4*QK**2 + 1.62331557071147e-13*PK**2*QK**4 + 6.30886699014073e-14*QK**6) + 1.25013666918239e-14*DerivPK*PK**5*QK/(6.30886699014073e-14*PK**6 + 1.62331557071147e-13*PK**4*QK**2 + 1.62331557071147e-13*PK**2*QK**4 + 6.30886699014073e-14*QK**6) + 2.50027333836478e-14*DerivPK*PK**3*QK**3/(6.30886699014073e-14*PK**6 + 1.62331557071147e-13*PK**4*QK**2 + 1.62331557071147e-13*PK**2*QK**4 + 6.30886699014073e-14*QK**6) + 1.25013666918239e-14*DerivPK*PK*QK**5/(6.30886699014073e-14*PK**6 + 1.62331557071147e-13*PK**4*QK**2 + 1.62331557071147e-13*PK**2*QK**4 + 6.30886699014073e-14*QK**6) + 1.67187238934282e-14*DerivQK**2*PK**4*QK/(6.30886699014073e-14*PK**6 + 1.62331557071147e-13*PK**4*QK**2 + 1.62331557071147e-13*PK**2*QK**4 + 6.30886699014073e-14*QK**6) - 1.02157287396463e-14*DerivQK**2*PK**2*QK**3/(6.30886699014073e-14*PK**6 + 1.62331557071147e-13*PK**4*QK**2 + 1.62331557071147e-13*PK**2*QK**4 + 6.30886699014073e-14*QK**6) - 1.82873567018347e-14*DerivQK*PK**6/(6.30886699014073e-14*PK**6 + 1.62331557071147e-13*PK**4*QK**2 + 1.62331557071147e-13*PK**2*QK**4 + 6.30886699014073e-14*QK**6) - 5.63198882424145e-14*DerivQK*PK**4*QK**2/(6.30886699014073e-14*PK**6 + 1.62331557071147e-13*PK**4*QK**2 + 1.62331557071147e-13*PK**2*QK**4 + 6.30886699014073e-14*QK**6) - 5.77777063793248e-14*DerivQK*PK**2*QK**4/(6.30886699014073e-14*PK**6 + 1.62331557071147e-13*PK**4*QK**2 + 1.62331557071147e-13*PK**2*QK**4 + 6.30886699014073e-14*QK**6) - 1.9745174838745e-14*DerivQK*QK**6/(6.30886699014073e-14*PK**6 + 1.62331557071147e-13*PK**4*QK**2 + 1.62331557071147e-13*PK**2*QK**4 + 6.30886699014073e-14*QK**6) - 1.29050086631e-14*PK**6*QK/(6.30886699014073e-14*PK**6 + 1.62331557071147e-13*PK**4*QK**2 + 1.62331557071147e-13*PK**2*QK**4 + 6.30886699014073e-14*QK**6) - 3.05899897829769e-22*PK**6*cos(tau)/(6.30886699014073e-14*PK**6 + 1.62331557071147e-13*PK**4*QK**2 + 1.62331557071147e-13*PK**2*QK**4 + 6.30886699014073e-14*QK**6) + 2.09115338871131e-22*PK**5*QK*sin(tau)/(6.30886699014073e-14*PK**6 + 1.62331557071147e-13*PK**4*QK**2 + 1.62331557071147e-13*PK**2*QK**4 + 6.30886699014073e-14*QK**6) + 3.08700832387246e-24*PK**5*sqrt(PK**2 + QK**2)/(6.30886699014073e-14*PK**6 + 1.62331557071147e-13*PK**4*QK**2 + 1.62331557071147e-13*PK**2*QK**4 + 6.30886699014073e-14*QK**6) - 6.98494387402635e-14*PK**4*QK**3/(6.30886699014073e-14*PK**6 + 1.62331557071147e-13*PK**4*QK**2 + 1.62331557071147e-13*PK**2*QK**4 + 6.30886699014073e-14*QK**6) - 9.42085197988737e-22*PK**4*QK**2*cos(tau)/(6.30886699014073e-14*PK**6 + 1.62331557071147e-13*PK**4*QK**2 + 1.62331557071147e-13*PK**2*QK**4 + 6.30886699014073e-14*QK**6) + 2.10583816183444e-23*PK**4*QK*sqrt(PK**2 + QK**2)/(6.30886699014073e-14*PK**6 + 1.62331557071147e-13*PK**4*QK**2 + 1.62331557071147e-13*PK**2*QK**4 + 6.30886699014073e-14*QK**6) + 4.18230677742262e-22*PK**3*QK**3*sin(tau)/(6.30886699014073e-14*PK**6 + 1.62331557071147e-13*PK**4*QK**2 + 1.62331557071147e-13*PK**2*QK**4 + 6.30886699014073e-14*QK**6) + 4.30980374535823e-24*PK**3*QK**2*sqrt(PK**2 + QK**2)/(6.30886699014073e-14*PK**6 + 1.62331557071147e-13*PK**4*QK**2 + 1.62331557071147e-13*PK**2*QK**4 + 6.30886699014073e-14*QK**6) - 1.00983851491227e-13*PK**2*QK**5/(6.30886699014073e-14*PK**6 + 1.62331557071147e-13*PK**4*QK**2 + 1.62331557071147e-13*PK**2*QK**4 + 6.30886699014073e-14*QK**6) - 9.66470702488165e-22*PK**2*QK**4*cos(tau)/(6.30886699014073e-14*PK**6 + 1.62331557071147e-13*PK**4*QK**2 + 1.62331557071147e-13*PK**2*QK**4 + 6.30886699014073e-14*QK**6) + 9.29218701753267e-23*PK**2*QK**3*sqrt(PK**2 + QK**2)/(6.30886699014073e-14*PK**6 + 1.62331557071147e-13*PK**4*QK**2 + 1.62331557071147e-13*PK**2*QK**4 + 6.30886699014073e-14*QK**6) + 2.09115338871131e-22*PK*QK**5*sin(tau)/(6.30886699014073e-14*PK**6 + 1.62331557071147e-13*PK**4*QK**2 + 1.62331557071147e-13*PK**2*QK**4 + 6.30886699014073e-14*QK**6) + 1.22279542148577e-24*PK*QK**4*sqrt(PK**2 + QK**2)/(6.30886699014073e-14*PK**6 + 1.62331557071147e-13*PK**4*QK**2 + 1.62331557071147e-13*PK**2*QK**4 + 6.30886699014073e-14*QK**6) - 4.40394214140636e-14*QK**7/(6.30886699014073e-14*PK**6 + 1.62331557071147e-13*PK**4*QK**2 + 1.62331557071147e-13*PK**2*QK**4 + 6.30886699014073e-14*QK**6) - 3.30285402329198e-22*QK**6*cos(tau)/(6.30886699014073e-14*PK**6 + 1.62331557071147e-13*PK**4*QK**2 + 1.62331557071147e-13*PK**2*QK**4 + 6.30886699014073e-14*QK**6) + 7.18634885569822e-23*QK**5*sqrt(PK**2 + QK**2)/(6.30886699014073e-14*PK**6 + 1.62331557071147e-13*PK**4*QK**2 + 1.62331557071147e-13*PK**2*QK**4 + 6.30886699014073e-14*QK**6)"
      ]
     },
     "execution_count": 55,
     "metadata": {},
     "output_type": "execute_result"
    }
   ],
   "source": [
    "solucdiff2qq"
   ]
  },
  {
   "cell_type": "code",
   "execution_count": 48,
   "metadata": {},
   "outputs": [
    {
     "data": {
      "text/plain": [
       "float"
      ]
     },
     "execution_count": 48,
     "metadata": {},
     "output_type": "execute_result"
    }
   ],
   "source": [
    "type(ms)"
   ]
  },
  {
   "cell_type": "code",
   "execution_count": 62,
   "metadata": {
    "collapsed": true
   },
   "outputs": [],
   "source": [
    "import scipy.integrate\n",
    "import numpy"
   ]
  },
  {
   "cell_type": "code",
   "execution_count": 58,
   "metadata": {
    "collapsed": true
   },
   "outputs": [],
   "source": [
    "dydt = [PK, QK, solucdiff2pp, solucdiff2qq]\n",
    "y0 = [0,0.00001,0.00001, 0]  #initial conditions for pk, qk, Derivative(pk(tau),tau), Derivative(qk(tau),tau)\n",
    "tau = numpy.linspace(0,10,101) #a solution 101 evenly spaced samples in the interval 0 <= t <= 10"
   ]
  },
  {
   "cell_type": "code",
   "execution_count": 63,
   "metadata": {},
   "outputs": [
    {
     "ename": "error",
     "evalue": "The function and its Jacobian must be callable functions.",
     "output_type": "error",
     "traceback": [
      "\u001b[0;31m---------------------------------------------------------------------------\u001b[0m",
      "\u001b[0;31merror\u001b[0m                                     Traceback (most recent call last)",
      "\u001b[0;32m<ipython-input-63-c3c8df551cf2>\u001b[0m in \u001b[0;36m<module>\u001b[0;34m()\u001b[0m\n\u001b[0;32m----> 1\u001b[0;31m \u001b[0mscipy\u001b[0m\u001b[0;34m.\u001b[0m\u001b[0mintegrate\u001b[0m\u001b[0;34m.\u001b[0m\u001b[0modeint\u001b[0m\u001b[0;34m(\u001b[0m\u001b[0mdydt\u001b[0m\u001b[0;34m,\u001b[0m \u001b[0my0\u001b[0m\u001b[0;34m,\u001b[0m \u001b[0mtau\u001b[0m\u001b[0;34m)\u001b[0m\u001b[0;34m\u001b[0m\u001b[0m\n\u001b[0m",
      "\u001b[0;32m~/anaconda3/lib/python3.6/site-packages/scipy/integrate/odepack.py\u001b[0m in \u001b[0;36modeint\u001b[0;34m(func, y0, t, args, Dfun, col_deriv, full_output, ml, mu, rtol, atol, tcrit, h0, hmax, hmin, ixpr, mxstep, mxhnil, mxordn, mxords, printmessg)\u001b[0m\n\u001b[1;32m    213\u001b[0m     output = _odepack.odeint(func, y0, t, args, Dfun, col_deriv, ml, mu,\n\u001b[1;32m    214\u001b[0m                              \u001b[0mfull_output\u001b[0m\u001b[0;34m,\u001b[0m \u001b[0mrtol\u001b[0m\u001b[0;34m,\u001b[0m \u001b[0matol\u001b[0m\u001b[0;34m,\u001b[0m \u001b[0mtcrit\u001b[0m\u001b[0;34m,\u001b[0m \u001b[0mh0\u001b[0m\u001b[0;34m,\u001b[0m \u001b[0mhmax\u001b[0m\u001b[0;34m,\u001b[0m \u001b[0mhmin\u001b[0m\u001b[0;34m,\u001b[0m\u001b[0;34m\u001b[0m\u001b[0m\n\u001b[0;32m--> 215\u001b[0;31m                              ixpr, mxstep, mxhnil, mxordn, mxords)\n\u001b[0m\u001b[1;32m    216\u001b[0m     \u001b[0;32mif\u001b[0m \u001b[0moutput\u001b[0m\u001b[0;34m[\u001b[0m\u001b[0;34m-\u001b[0m\u001b[0;36m1\u001b[0m\u001b[0;34m]\u001b[0m \u001b[0;34m<\u001b[0m \u001b[0;36m0\u001b[0m\u001b[0;34m:\u001b[0m\u001b[0;34m\u001b[0m\u001b[0m\n\u001b[1;32m    217\u001b[0m         \u001b[0mwarning_msg\u001b[0m \u001b[0;34m=\u001b[0m \u001b[0m_msgs\u001b[0m\u001b[0;34m[\u001b[0m\u001b[0moutput\u001b[0m\u001b[0;34m[\u001b[0m\u001b[0;34m-\u001b[0m\u001b[0;36m1\u001b[0m\u001b[0;34m]\u001b[0m\u001b[0;34m]\u001b[0m \u001b[0;34m+\u001b[0m \u001b[0;34m\" Run with full_output = 1 to get quantitative information.\"\u001b[0m\u001b[0;34m\u001b[0m\u001b[0m\n",
      "\u001b[0;31merror\u001b[0m: The function and its Jacobian must be callable functions."
     ]
    }
   ],
   "source": [
    "scipy.integrate.odeint(dydt, y0, tau)"
   ]
  },
  {
   "cell_type": "code",
   "execution_count": 66,
   "metadata": {
    "collapsed": true
   },
   "outputs": [],
   "source": [
    "#reescalar o problema: T = tau/tauC, Pkk = PK/pkkC, Qkk = QK/qkkC\n",
    "# Derivative(qk(tau),tau) = Derivative(qk,T)*Derivative(T,tau) = Derivative(qk,T)*(1/tauC)\n",
    "# DerivPK = derivPK / tauC\n",
    "# derivPK = Derivative(pk(T),T)\n",
    "\n",
    "# dydt = [PK, QK, solucdiff2pp, solucdiff2qq]\n",
    "\n",
    "#CONFERIR A TRANSFORMACAO DE COORDENADAS!!!!\n",
    "#PROCURAR PI TEOREMA\n",
    "\n",
    "tau = symbols('tau') # para apagar o numpy.linspace\n",
    "T, tauC, derivPK, derivQK, Pkk, Qkk = symbols('T, tauC, derivPK, derivQK, Pkk, Qkk')\n",
    "dydt = [PK.subs({DerivPK: derivPK/tauC, DerivQK: derivQK, tau: tauC*T}), \n",
    "        QK.subs({DerivPK: derivPK/tauC, DerivQK: derivQK, tau: tauC*T}),\n",
    "        solucdiff2pp.subs({DerivPK: derivPK/tauC, DerivQK: derivQK, tau: tauC*T, Pkk: PK/pkkC, Qkk: QK/qkkC}), \n",
    "        solucdiff2qq.subs({DerivPK: derivPK/tauC, DerivQK: derivQK, tau: tauC*T, Pkk: PK/pkkC, Qkk: QK/qkkC})]\n"
   ]
  },
  {
   "cell_type": "code",
   "execution_count": 67,
   "metadata": {},
   "outputs": [
    {
     "data": {
      "text/plain": [
       "[PK,\n",
       " QK,\n",
       " -4.40394214140636e-14*PK**7/(6.30886699014073e-14*PK**6 + 1.62331557071147e-13*PK**4*QK**2 + 1.62331557071147e-13*PK**2*QK**4 + 6.30886699014073e-14*QK**6) - 1.9745174838745e-14*PK**6*derivPK/(tauC*(6.30886699014073e-14*PK**6 + 1.62331557071147e-13*PK**4*QK**2 + 1.62331557071147e-13*PK**2*QK**4 + 6.30886699014073e-14*QK**6)) - 3.30285402329198e-22*PK**6*sin(T*tauC)/(6.30886699014073e-14*PK**6 + 1.62331557071147e-13*PK**4*QK**2 + 1.62331557071147e-13*PK**2*QK**4 + 6.30886699014073e-14*QK**6) - 1.00983851491227e-13*PK**5*QK**2/(6.30886699014073e-14*PK**6 + 1.62331557071147e-13*PK**4*QK**2 + 1.62331557071147e-13*PK**2*QK**4 + 6.30886699014073e-14*QK**6) + 1.25013666918239e-14*PK**5*QK*derivQK/(6.30886699014073e-14*PK**6 + 1.62331557071147e-13*PK**4*QK**2 + 1.62331557071147e-13*PK**2*QK**4 + 6.30886699014073e-14*QK**6) + 2.09115338871131e-22*PK**5*QK*cos(T*tauC)/(6.30886699014073e-14*PK**6 + 1.62331557071147e-13*PK**4*QK**2 + 1.62331557071147e-13*PK**2*QK**4 + 6.30886699014073e-14*QK**6) - 1.90493027691423e-14*PK**5*derivQK**2/(6.30886699014073e-14*PK**6 + 1.62331557071147e-13*PK**4*QK**2 + 1.62331557071147e-13*PK**2*QK**4 + 6.30886699014073e-14*QK**6) + 7.18634885569822e-23*PK**5*sqrt(PK**2 + QK**2)/(6.30886699014073e-14*PK**6 + 1.62331557071147e-13*PK**4*QK**2 + 1.62331557071147e-13*PK**2*QK**4 + 6.30886699014073e-14*QK**6) - 5.77777063793248e-14*PK**4*QK**2*derivPK/(tauC*(6.30886699014073e-14*PK**6 + 1.62331557071147e-13*PK**4*QK**2 + 1.62331557071147e-13*PK**2*QK**4 + 6.30886699014073e-14*QK**6)) - 9.66470702488165e-22*PK**4*QK**2*sin(T*tauC)/(6.30886699014073e-14*PK**6 + 1.62331557071147e-13*PK**4*QK**2 + 1.62331557071147e-13*PK**2*QK**4 + 6.30886699014073e-14*QK**6) + 2.92650315087886e-14*PK**4*QK*derivPK*derivQK/(tauC*(6.30886699014073e-14*PK**6 + 1.62331557071147e-13*PK**4*QK**2 + 1.62331557071147e-13*PK**2*QK**4 + 6.30886699014073e-14*QK**6)) + 1.22279542148577e-24*PK**4*QK*sqrt(PK**2 + QK**2)/(6.30886699014073e-14*PK**6 + 1.62331557071147e-13*PK**4*QK**2 + 1.62331557071147e-13*PK**2*QK**4 + 6.30886699014073e-14*QK**6) - 6.98494387402635e-14*PK**3*QK**4/(6.30886699014073e-14*PK**6 + 1.62331557071147e-13*PK**4*QK**2 + 1.62331557071147e-13*PK**2*QK**4 + 6.30886699014073e-14*QK**6) + 2.50027333836478e-14*PK**3*QK**3*derivQK/(6.30886699014073e-14*PK**6 + 1.62331557071147e-13*PK**4*QK**2 + 1.62331557071147e-13*PK**2*QK**4 + 6.30886699014073e-14*QK**6) + 4.18230677742262e-22*PK**3*QK**3*cos(T*tauC)/(6.30886699014073e-14*PK**6 + 1.62331557071147e-13*PK**4*QK**2 + 1.62331557071147e-13*PK**2*QK**4 + 6.30886699014073e-14*QK**6) - 1.02157287396463e-14*PK**3*QK**2*derivPK**2/(tauC**2*(6.30886699014073e-14*PK**6 + 1.62331557071147e-13*PK**4*QK**2 + 1.62331557071147e-13*PK**2*QK**4 + 6.30886699014073e-14*QK**6)) + 3.25149757689095e-15*PK**3*QK**2*derivQK**2/(6.30886699014073e-14*PK**6 + 1.62331557071147e-13*PK**4*QK**2 + 1.62331557071147e-13*PK**2*QK**4 + 6.30886699014073e-14*QK**6) + 9.29218701753267e-23*PK**3*QK**2*sqrt(PK**2 + QK**2)/(6.30886699014073e-14*PK**6 + 1.62331557071147e-13*PK**4*QK**2 + 1.62331557071147e-13*PK**2*QK**4 + 6.30886699014073e-14*QK**6) - 5.63198882424145e-14*PK**2*QK**4*derivPK/(tauC*(6.30886699014073e-14*PK**6 + 1.62331557071147e-13*PK**4*QK**2 + 1.62331557071147e-13*PK**2*QK**4 + 6.30886699014073e-14*QK**6)) - 9.42085197988737e-22*PK**2*QK**4*sin(T*tauC)/(6.30886699014073e-14*PK**6 + 1.62331557071147e-13*PK**4*QK**2 + 1.62331557071147e-13*PK**2*QK**4 + 6.30886699014073e-14*QK**6) - 1.99702214703192e-14*PK**2*QK**3*derivPK*derivQK/(tauC*(6.30886699014073e-14*PK**6 + 1.62331557071147e-13*PK**4*QK**2 + 1.62331557071147e-13*PK**2*QK**4 + 6.30886699014073e-14*QK**6)) + 4.30980374535823e-24*PK**2*QK**3*sqrt(PK**2 + QK**2)/(6.30886699014073e-14*PK**6 + 1.62331557071147e-13*PK**4*QK**2 + 1.62331557071147e-13*PK**2*QK**4 + 6.30886699014073e-14*QK**6) - 1.29050086631e-14*PK*QK**6/(6.30886699014073e-14*PK**6 + 1.62331557071147e-13*PK**4*QK**2 + 1.62331557071147e-13*PK**2*QK**4 + 6.30886699014073e-14*QK**6) + 1.25013666918239e-14*PK*QK**5*derivQK/(6.30886699014073e-14*PK**6 + 1.62331557071147e-13*PK**4*QK**2 + 1.62331557071147e-13*PK**2*QK**4 + 6.30886699014073e-14*QK**6) + 2.09115338871131e-22*PK*QK**5*cos(T*tauC)/(6.30886699014073e-14*PK**6 + 1.62331557071147e-13*PK**4*QK**2 + 1.62331557071147e-13*PK**2*QK**4 + 6.30886699014073e-14*QK**6) + 1.67187238934282e-14*PK*QK**4*derivPK**2/(tauC**2*(6.30886699014073e-14*PK**6 + 1.62331557071147e-13*PK**4*QK**2 + 1.62331557071147e-13*PK**2*QK**4 + 6.30886699014073e-14*QK**6)) + 2.23008003460333e-14*PK*QK**4*derivQK**2/(6.30886699014073e-14*PK**6 + 1.62331557071147e-13*PK**4*QK**2 + 1.62331557071147e-13*PK**2*QK**4 + 6.30886699014073e-14*QK**6) + 2.10583816183444e-23*PK*QK**4*sqrt(PK**2 + QK**2)/(6.30886699014073e-14*PK**6 + 1.62331557071147e-13*PK**4*QK**2 + 1.62331557071147e-13*PK**2*QK**4 + 6.30886699014073e-14*QK**6) - 1.82873567018347e-14*QK**6*derivPK/(tauC*(6.30886699014073e-14*PK**6 + 1.62331557071147e-13*PK**4*QK**2 + 1.62331557071147e-13*PK**2*QK**4 + 6.30886699014073e-14*QK**6)) - 3.05899897829769e-22*QK**6*sin(T*tauC)/(6.30886699014073e-14*PK**6 + 1.62331557071147e-13*PK**4*QK**2 + 1.62331557071147e-13*PK**2*QK**4 + 6.30886699014073e-14*QK**6) - 2.23008003460333e-14*QK**5*derivPK*derivQK/(tauC*(6.30886699014073e-14*PK**6 + 1.62331557071147e-13*PK**4*QK**2 + 1.62331557071147e-13*PK**2*QK**4 + 6.30886699014073e-14*QK**6)) + 3.08700832387246e-24*QK**5*sqrt(PK**2 + QK**2)/(6.30886699014073e-14*PK**6 + 1.62331557071147e-13*PK**4*QK**2 + 1.62331557071147e-13*PK**2*QK**4 + 6.30886699014073e-14*QK**6),\n",
       " -1.29050086631e-14*PK**6*QK/(6.30886699014073e-14*PK**6 + 1.62331557071147e-13*PK**4*QK**2 + 1.62331557071147e-13*PK**2*QK**4 + 6.30886699014073e-14*QK**6) - 1.82873567018347e-14*PK**6*derivQK/(6.30886699014073e-14*PK**6 + 1.62331557071147e-13*PK**4*QK**2 + 1.62331557071147e-13*PK**2*QK**4 + 6.30886699014073e-14*QK**6) - 3.05899897829769e-22*PK**6*cos(T*tauC)/(6.30886699014073e-14*PK**6 + 1.62331557071147e-13*PK**4*QK**2 + 1.62331557071147e-13*PK**2*QK**4 + 6.30886699014073e-14*QK**6) + 1.25013666918239e-14*PK**5*QK*derivPK/(tauC*(6.30886699014073e-14*PK**6 + 1.62331557071147e-13*PK**4*QK**2 + 1.62331557071147e-13*PK**2*QK**4 + 6.30886699014073e-14*QK**6)) + 2.09115338871131e-22*PK**5*QK*sin(T*tauC)/(6.30886699014073e-14*PK**6 + 1.62331557071147e-13*PK**4*QK**2 + 1.62331557071147e-13*PK**2*QK**4 + 6.30886699014073e-14*QK**6) - 2.23008003460333e-14*PK**5*derivPK*derivQK/(tauC*(6.30886699014073e-14*PK**6 + 1.62331557071147e-13*PK**4*QK**2 + 1.62331557071147e-13*PK**2*QK**4 + 6.30886699014073e-14*QK**6)) + 3.08700832387246e-24*PK**5*sqrt(PK**2 + QK**2)/(6.30886699014073e-14*PK**6 + 1.62331557071147e-13*PK**4*QK**2 + 1.62331557071147e-13*PK**2*QK**4 + 6.30886699014073e-14*QK**6) - 6.98494387402635e-14*PK**4*QK**3/(6.30886699014073e-14*PK**6 + 1.62331557071147e-13*PK**4*QK**2 + 1.62331557071147e-13*PK**2*QK**4 + 6.30886699014073e-14*QK**6) - 5.63198882424145e-14*PK**4*QK**2*derivQK/(6.30886699014073e-14*PK**6 + 1.62331557071147e-13*PK**4*QK**2 + 1.62331557071147e-13*PK**2*QK**4 + 6.30886699014073e-14*QK**6) - 9.42085197988737e-22*PK**4*QK**2*cos(T*tauC)/(6.30886699014073e-14*PK**6 + 1.62331557071147e-13*PK**4*QK**2 + 1.62331557071147e-13*PK**2*QK**4 + 6.30886699014073e-14*QK**6) + 2.23008003460333e-14*PK**4*QK*derivPK**2/(tauC**2*(6.30886699014073e-14*PK**6 + 1.62331557071147e-13*PK**4*QK**2 + 1.62331557071147e-13*PK**2*QK**4 + 6.30886699014073e-14*QK**6)) + 1.67187238934282e-14*PK**4*QK*derivQK**2/(6.30886699014073e-14*PK**6 + 1.62331557071147e-13*PK**4*QK**2 + 1.62331557071147e-13*PK**2*QK**4 + 6.30886699014073e-14*QK**6) + 2.10583816183444e-23*PK**4*QK*sqrt(PK**2 + QK**2)/(6.30886699014073e-14*PK**6 + 1.62331557071147e-13*PK**4*QK**2 + 1.62331557071147e-13*PK**2*QK**4 + 6.30886699014073e-14*QK**6) + 2.50027333836478e-14*PK**3*QK**3*derivPK/(tauC*(6.30886699014073e-14*PK**6 + 1.62331557071147e-13*PK**4*QK**2 + 1.62331557071147e-13*PK**2*QK**4 + 6.30886699014073e-14*QK**6)) + 4.18230677742262e-22*PK**3*QK**3*sin(T*tauC)/(6.30886699014073e-14*PK**6 + 1.62331557071147e-13*PK**4*QK**2 + 1.62331557071147e-13*PK**2*QK**4 + 6.30886699014073e-14*QK**6) - 1.99702214703192e-14*PK**3*QK**2*derivPK*derivQK/(tauC*(6.30886699014073e-14*PK**6 + 1.62331557071147e-13*PK**4*QK**2 + 1.62331557071147e-13*PK**2*QK**4 + 6.30886699014073e-14*QK**6)) + 4.30980374535823e-24*PK**3*QK**2*sqrt(PK**2 + QK**2)/(6.30886699014073e-14*PK**6 + 1.62331557071147e-13*PK**4*QK**2 + 1.62331557071147e-13*PK**2*QK**4 + 6.30886699014073e-14*QK**6) - 1.00983851491227e-13*PK**2*QK**5/(6.30886699014073e-14*PK**6 + 1.62331557071147e-13*PK**4*QK**2 + 1.62331557071147e-13*PK**2*QK**4 + 6.30886699014073e-14*QK**6) - 5.77777063793248e-14*PK**2*QK**4*derivQK/(6.30886699014073e-14*PK**6 + 1.62331557071147e-13*PK**4*QK**2 + 1.62331557071147e-13*PK**2*QK**4 + 6.30886699014073e-14*QK**6) - 9.66470702488165e-22*PK**2*QK**4*cos(T*tauC)/(6.30886699014073e-14*PK**6 + 1.62331557071147e-13*PK**4*QK**2 + 1.62331557071147e-13*PK**2*QK**4 + 6.30886699014073e-14*QK**6) + 3.25149757689095e-15*PK**2*QK**3*derivPK**2/(tauC**2*(6.30886699014073e-14*PK**6 + 1.62331557071147e-13*PK**4*QK**2 + 1.62331557071147e-13*PK**2*QK**4 + 6.30886699014073e-14*QK**6)) - 1.02157287396463e-14*PK**2*QK**3*derivQK**2/(6.30886699014073e-14*PK**6 + 1.62331557071147e-13*PK**4*QK**2 + 1.62331557071147e-13*PK**2*QK**4 + 6.30886699014073e-14*QK**6) + 9.29218701753267e-23*PK**2*QK**3*sqrt(PK**2 + QK**2)/(6.30886699014073e-14*PK**6 + 1.62331557071147e-13*PK**4*QK**2 + 1.62331557071147e-13*PK**2*QK**4 + 6.30886699014073e-14*QK**6) + 1.25013666918239e-14*PK*QK**5*derivPK/(tauC*(6.30886699014073e-14*PK**6 + 1.62331557071147e-13*PK**4*QK**2 + 1.62331557071147e-13*PK**2*QK**4 + 6.30886699014073e-14*QK**6)) + 2.09115338871131e-22*PK*QK**5*sin(T*tauC)/(6.30886699014073e-14*PK**6 + 1.62331557071147e-13*PK**4*QK**2 + 1.62331557071147e-13*PK**2*QK**4 + 6.30886699014073e-14*QK**6) + 2.92650315087886e-14*PK*QK**4*derivPK*derivQK/(tauC*(6.30886699014073e-14*PK**6 + 1.62331557071147e-13*PK**4*QK**2 + 1.62331557071147e-13*PK**2*QK**4 + 6.30886699014073e-14*QK**6)) + 1.22279542148577e-24*PK*QK**4*sqrt(PK**2 + QK**2)/(6.30886699014073e-14*PK**6 + 1.62331557071147e-13*PK**4*QK**2 + 1.62331557071147e-13*PK**2*QK**4 + 6.30886699014073e-14*QK**6) - 4.40394214140636e-14*QK**7/(6.30886699014073e-14*PK**6 + 1.62331557071147e-13*PK**4*QK**2 + 1.62331557071147e-13*PK**2*QK**4 + 6.30886699014073e-14*QK**6) - 1.9745174838745e-14*QK**6*derivQK/(6.30886699014073e-14*PK**6 + 1.62331557071147e-13*PK**4*QK**2 + 1.62331557071147e-13*PK**2*QK**4 + 6.30886699014073e-14*QK**6) - 3.30285402329198e-22*QK**6*cos(T*tauC)/(6.30886699014073e-14*PK**6 + 1.62331557071147e-13*PK**4*QK**2 + 1.62331557071147e-13*PK**2*QK**4 + 6.30886699014073e-14*QK**6) - 1.90493027691423e-14*QK**5*derivPK**2/(tauC**2*(6.30886699014073e-14*PK**6 + 1.62331557071147e-13*PK**4*QK**2 + 1.62331557071147e-13*PK**2*QK**4 + 6.30886699014073e-14*QK**6)) + 7.18634885569822e-23*QK**5*sqrt(PK**2 + QK**2)/(6.30886699014073e-14*PK**6 + 1.62331557071147e-13*PK**4*QK**2 + 1.62331557071147e-13*PK**2*QK**4 + 6.30886699014073e-14*QK**6)]"
      ]
     },
     "execution_count": 67,
     "metadata": {},
     "output_type": "execute_result"
    }
   ],
   "source": [
    "dydt"
   ]
  },
  {
   "cell_type": "markdown",
   "metadata": {
    "collapsed": true
   },
   "source": [
    "constantes\n",
    "n, k : nondimensional\n",
    "tau : [s]\n",
    "\n",
    "\n",
    "ms=0.0000261725 # []\n",
    "mT = 5.0750952130962986 *10**(-6) # []\n",
    "cs=1.94991*10**8\n",
    "Ds = 0.06###; (*0.005 Dämpfungsmaß des Stators*)\n",
    "#d = 2 *sqrt(msT* cs *Ds) = 38.2402923781611\n",
    "rhor = 2700  # [N/m²] ###(*Aluminum*)\n",
    "####(*viga mola*\n",
    "EE = 206000###; (*Nmm^2*)\n",
    "EE = EE*10**6\n",
    "B = 0.0025 ##;(*largura*)\n",
    "t = 0.0005  ###; (*espessura*)\n",
    "l = 0.02   ###; (*comprimento*)\n",
    "Ib = (B*t**3)/12\n",
    "#cr ####(*0;4000;*) (*elasticidade da viga mola*)\n",
    "rout = 0.003124764129949177\n",
    "rin = 0.002224764129949177\n",
    "Rr = rout\n",
    "Hr = 0.001 ###(*0.003*)\n",
    "\n",
    "r1 = 0.001\n",
    "mr = float(pi) * rhor *Rr**2 *Hr - float(pi) * rhor *r1**2 *Hr ### (*6.4 10 -4 ;*)\n",
    "Ha = 0.0005\n",
    "ma = float(pi) *rhor * Ha*(rout**2 - rin**2)\n",
    "\n",
    "\n",
    "solucdiff2pp =(soluDIFF2PP.subs({Ir: mr*(Rr**2 + r1**2)/2 + ma*(rout**2+ rin**2)/2, \n",
    "                                 Psi_theta_theta: 226.536, Uu: -0.377673, \n",
    "                  h: 0.0012, Rk: 0.0027, msT: ms + mT, hT: 0.0015,\n",
    "                  Vo: 100, cUo: 0.0174596, d: 38.2402923781611, ps: 0.5*10**(-3), mR: mr + ma, \n",
    "                  cr: (3 *EE *Ib)/l**3, omega: 2.72951*10**6, Texte: 0.1*10**(-3), n: 4, k: 2}) ).expand()\n",
    "\n",
    "Ir = [kg m²]\n",
    "Psi_theta_theta =\n",
    "Uu = \n",
    "h = [m]   #stator thickness\n",
    "Rk = [m] #contact point/radius (2,4)\n",
    "msT = [kg]\n",
    "hT = [m]\n",
    "Vo = [V]\n",
    "cUo = [\n",
    "d = \n",
    "ps = [m]\n",
    "mR = [kg]\n",
    "cr = [N/m²]*[m⁴]/[m³]=[N/m]\n",
    "omega = [1/s]\n",
    "Texte = [Nm]\n",
    "\n",
    "PI teorem\n"
   ]
  }
 ],
 "metadata": {
  "kernelspec": {
   "display_name": "Python 3",
   "language": "python",
   "name": "python3"
  },
  "language_info": {
   "codemirror_mode": {
    "name": "ipython",
    "version": 3
   },
   "file_extension": ".py",
   "mimetype": "text/x-python",
   "name": "python",
   "nbconvert_exporter": "python",
   "pygments_lexer": "ipython3",
   "version": "3.6.3"
  }
 },
 "nbformat": 4,
 "nbformat_minor": 2
}
